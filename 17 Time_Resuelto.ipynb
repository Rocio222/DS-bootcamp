{
 "cells": [
  {
   "cell_type": "markdown",
   "metadata": {},
   "source": [
    "# Manejos de fechas "
   ]
  },
  {
   "cell_type": "code",
   "execution_count": 109,
   "metadata": {},
   "outputs": [],
   "source": [
    "from datetime import datetime\n",
    "from datetime import date \n",
    "import time\n",
    "import datetime\n",
    "from datetime import date, timedelta"
   ]
  },
  {
   "cell_type": "markdown",
   "metadata": {},
   "source": [
    "### Ejercicio 1\n",
    "- Determina si el año actual es bisiesto, obteniendo la fecha con el modulo datetime e imprime si sí lo es, o no. \n"
   ]
  },
  {
   "cell_type": "code",
   "execution_count": 65,
   "metadata": {},
   "outputs": [
    {
     "name": "stdout",
     "output_type": "stream",
     "text": [
      "Año bisiesto\n"
     ]
    }
   ],
   "source": [
    "ta=datetime.datetime.now()\n",
    "if (ta.year % 400) == 0:\n",
    "    print('Año bisiesto')\n",
    "elif (ta.year % 100) == 0: \n",
    "    print('Año no bisiesto')\n",
    "elif (ta.year % 4) == 0:\n",
    "    print('Año bisiesto')\n",
    "else:\n",
    "    print('Año no bisiesto ')"
   ]
  },
  {
   "cell_type": "code",
   "execution_count": 67,
   "metadata": {},
   "outputs": [
    {
     "data": {
      "text/plain": [
       "2020"
      ]
     },
     "execution_count": 67,
     "metadata": {},
     "output_type": "execute_result"
    }
   ],
   "source": [
    "ta.year"
   ]
  },
  {
   "cell_type": "markdown",
   "metadata": {},
   "source": [
    "### Ejercicio 2\n",
    "- Instancia el año 2000 y el año 2100 en dos objetos de la clase date y verifica que tu algoritmo anterior funcione.  \n",
    "- **Nota:** el año 2000 fué bisiesto y el año 2100 no lo será. "
   ]
  },
  {
   "cell_type": "code",
   "execution_count": 71,
   "metadata": {},
   "outputs": [
    {
     "name": "stdout",
     "output_type": "stream",
     "text": [
      "El año : 2000 es bisiesto\n"
     ]
    }
   ],
   "source": [
    "a = datetime.datetime(2000,1,1)\n",
    "b = datetime.datetime(2100,1,1)\n",
    "\n",
    "\n",
    "año = a.year\n",
    "\n",
    "if ((año%4==0) & (año%100!=0)) | (año%400==0):\n",
    "    print(\"El año : \"+str(año)+\" es bisiesto\")\n",
    "else:\n",
    "    print(\"El año : \"+str(año)+\" no es bisiesto\")\n"
   ]
  },
  {
   "cell_type": "code",
   "execution_count": 72,
   "metadata": {},
   "outputs": [
    {
     "name": "stdout",
     "output_type": "stream",
     "text": [
      "Año no bisiesto\n"
     ]
    }
   ],
   "source": [
    "#Cambiamos la fecha 2100 por 2000\n",
    "\n",
    "ta=datetime.datetime(2100,1,1)\n",
    "if (ta.year % 400) == 0:\n",
    "    print('Año bisiesto')\n",
    "elif (ta.year % 100) == 0: \n",
    "    print('Año no bisiesto')\n",
    "elif (ta.year % 4) == 0:\n",
    "    print('Año bisiesto')\n",
    "else:\n",
    "    print('Año no bisiesto ')\n"
   ]
  },
  {
   "cell_type": "markdown",
   "metadata": {},
   "source": [
    "### Ejercicio 3\n",
    "Convierte la fecha  'Oct 16 2019 2:43PM' en un objecto de tipo datetime"
   ]
  },
  {
   "cell_type": "code",
   "execution_count": 4,
   "metadata": {},
   "outputs": [
    {
     "name": "stdout",
     "output_type": "stream",
     "text": [
      "2019-10-16 14:43:00\n"
     ]
    }
   ],
   "source": [
    "objeto = datetime.datetime.strptime('Oct 16 2019 2:43PM', '%b %d %Y %I:%M%p')\n",
    "print(objeto)"
   ]
  },
  {
   "cell_type": "markdown",
   "metadata": {},
   "source": [
    "### Ejercicio 4\n",
    "Imprime solamente la hora actual utilizando datetime class."
   ]
  },
  {
   "cell_type": "code",
   "execution_count": 73,
   "metadata": {},
   "outputs": [
    {
     "name": "stdout",
     "output_type": "stream",
     "text": [
      "17:12:49.079088\n"
     ]
    }
   ],
   "source": [
    "print(datetime.datetime.now().time())"
   ]
  },
  {
   "cell_type": "code",
   "execution_count": 75,
   "metadata": {},
   "outputs": [
    {
     "name": "stdout",
     "output_type": "stream",
     "text": [
      "14:44\n"
     ]
    }
   ],
   "source": [
    "now = datetime.datetime(2020, 7, 9, 14, 44, 20)\n",
    "print(now.strftime('%H:%M'))"
   ]
  },
  {
   "cell_type": "code",
   "execution_count": 77,
   "metadata": {},
   "outputs": [
    {
     "name": "stdout",
     "output_type": "stream",
     "text": [
      "17:14\n"
     ]
    }
   ],
   "source": [
    "año=datetime.datetime.now()\n",
    "x=año.hour\n",
    "y=año.minute\n",
    "print(str(x)+\":\"+str(y))"
   ]
  },
  {
   "cell_type": "code",
   "execution_count": 79,
   "metadata": {},
   "outputs": [
    {
     "name": "stdout",
     "output_type": "stream",
     "text": [
      "time is: 17:14:48\n"
     ]
    }
   ],
   "source": [
    "now = datetime.datetime.now()\n",
    "t = now.strftime(\"%H:%M:%S\")\n",
    "print(\"time is:\",t)"
   ]
  },
  {
   "cell_type": "markdown",
   "metadata": {},
   "source": [
    "### Ejercicio 5 \n",
    "Utilizando la fecha y hora actual imprime  en los siguientes formatos: \n",
    "\n",
    "a) Fecha y hora actual  \n",
    "b) Año actual  \n",
    "c) Mes del año  \n",
    "d) Numero de la semana del año  \n",
    "e) Numero del dia de la semana  \n",
    "f) Dia del año  \n",
    "g) Dia del mes  \n",
    "h) Dia de la semana  \n",
    "\n",
    "#### Puedes usar el metodo today() de la clase date y combinarla con strftime() para darle el formato que desees basandote en la tabla de formatos de la presentación. "
   ]
  },
  {
   "cell_type": "code",
   "execution_count": 80,
   "metadata": {},
   "outputs": [
    {
     "name": "stdout",
     "output_type": "stream",
     "text": [
      "Fecha y hora actual:  2020-07-09 17:15:43.514850\n",
      "Año actual:  2020\n",
      "Mes del año:  July\n",
      "Numero de la semana del añor:  27\n",
      "Numero del dia de la semana:  4\n",
      "Dia del año:  191\n",
      "Dia del mes :  09\n",
      "Dia de la semana:  Thursday\n"
     ]
    }
   ],
   "source": [
    "print(\"Fecha y hora actual: \" , datetime.datetime.now())\n",
    "print(\"Año actual: \", datetime.date.today().strftime(\"%Y\"))\n",
    "print(\"Mes del año: \", datetime.date.today().strftime(\"%B\"))\n",
    "print(\"Numero de la semana del añor: \", datetime.date.today().strftime(\"%W\"))\n",
    "print(\"Numero del dia de la semana: \", datetime.date.today().strftime(\"%w\"))\n",
    "print(\"Dia del año: \", datetime.date.today().strftime(\"%j\"))\n",
    "print(\"Dia del mes : \", datetime.date.today().strftime(\"%d\"))\n",
    "print(\"Dia de la semana: \", datetime.date.today().strftime(\"%A\"))"
   ]
  },
  {
   "cell_type": "markdown",
   "metadata": {},
   "source": [
    "### Ejercicio 6 \n",
    "- Escribe un programa que convierta timestamp unix \"1284105682\" a una forma leible"
   ]
  },
  {
   "cell_type": "code",
   "execution_count": 81,
   "metadata": {},
   "outputs": [
    {
     "name": "stdout",
     "output_type": "stream",
     "text": [
      "2010-09-10 10:01:22\n"
     ]
    }
   ],
   "source": [
    "print(datetime.datetime.fromtimestamp(int(\"1284105682\")).strftime('%Y-%m-%d %H:%M:%S'))"
   ]
  },
  {
   "cell_type": "markdown",
   "metadata": {},
   "source": [
    "### Ejercicio 7\n",
    "- Escribe un programa que imprima la fecha de 5 días atras\n"
   ]
  },
  {
   "cell_type": "code",
   "execution_count": 82,
   "metadata": {},
   "outputs": [
    {
     "name": "stdout",
     "output_type": "stream",
     "text": [
      "Fecha actual : 2020-07-09\n",
      "5 dias antes : 2020-07-04\n"
     ]
    }
   ],
   "source": [
    "dt = date.today() - timedelta(5)\n",
    "print('Fecha actual :',date.today())\n",
    "print('5 dias antes :',dt)"
   ]
  },
  {
   "cell_type": "markdown",
   "metadata": {},
   "source": [
    "### Ejercicio 8\n",
    "- Usa un ciclo for para imprimir los proximos 5 dias"
   ]
  },
  {
   "cell_type": "code",
   "execution_count": 83,
   "metadata": {},
   "outputs": [
    {
     "name": "stdout",
     "output_type": "stream",
     "text": [
      "2020-07-10 17:17:43.395537\n",
      "2020-07-11 17:17:43.395537\n",
      "2020-07-12 17:17:43.395537\n",
      "2020-07-13 17:17:43.395537\n",
      "2020-07-14 17:17:43.395537\n"
     ]
    }
   ],
   "source": [
    "base = datetime.datetime.today()\n",
    "for x in range(1, 6):\n",
    "      print(base + datetime.timedelta(days=x))"
   ]
  },
  {
   "cell_type": "code",
   "execution_count": 93,
   "metadata": {},
   "outputs": [
    {
     "name": "stdout",
     "output_type": "stream",
     "text": [
      "2020-07-10 17:20:28.823056\n",
      "2020-07-11 17:20:28.823056\n",
      "2020-07-12 17:20:28.823056\n",
      "2020-07-13 17:20:28.823056\n",
      "2020-07-14 17:20:28.823056\n"
     ]
    }
   ],
   "source": [
    "now=datetime.datetime.now()\n",
    "ts=datetime.datetime.timestamp(now)\n",
    "day=86400\n",
    "for i in range(5):\n",
    "    ts=ts+day\n",
    "    f=datetime.datetime.fromtimestamp(ts)\n",
    "    print(f)"
   ]
  },
  {
   "cell_type": "markdown",
   "metadata": {},
   "source": [
    "### Ejercicio 9\n",
    "- Escribe un programa que añada 5 segundos a la hora actual"
   ]
  },
  {
   "cell_type": "code",
   "execution_count": 95,
   "metadata": {},
   "outputs": [
    {
     "name": "stdout",
     "output_type": "stream",
     "text": [
      "17:21:14.873955\n",
      "17:21:19.873955\n"
     ]
    }
   ],
   "source": [
    "x= datetime.datetime.now()\n",
    "y = x + datetime.timedelta(0,5)\n",
    "print(x.time())\n",
    "print(y.time())"
   ]
  },
  {
   "cell_type": "code",
   "execution_count": 98,
   "metadata": {},
   "outputs": [
    {
     "name": "stdout",
     "output_type": "stream",
     "text": [
      "2020-07-09 17:22:11.352207\n",
      "1594308131.352207\n",
      "1594308136.352207\n",
      "2020-07-09 17:22:16.352207\n"
     ]
    }
   ],
   "source": [
    "from datetime import datetime\n",
    "\n",
    "now = datetime.now()\n",
    "print(now)\n",
    "\n",
    "timestamp = datetime.timestamp(now)\n",
    "print(timestamp)\n",
    "\n",
    "resta = timestamp+5\n",
    "print(resta)\n",
    "\n",
    "time = datetime.fromtimestamp(resta)\n",
    "print(time)\n"
   ]
  },
  {
   "cell_type": "code",
   "execution_count": 100,
   "metadata": {},
   "outputs": [
    {
     "name": "stdout",
     "output_type": "stream",
     "text": [
      "Local time:  Thu Jul  9 17:23:12 2020\n",
      "Local time:  Thu Jul  9 17:23:17 2020\n"
     ]
    }
   ],
   "source": [
    "import time\n",
    "aahora = time.ctime(time.time())\n",
    "print(\"Local time: \", aahora)\n",
    "time.sleep(5)\n",
    "aahora2 = time.ctime(time.time())\n",
    "print(\"Local time: \", aahora2)"
   ]
  },
  {
   "cell_type": "markdown",
   "metadata": {},
   "source": [
    "### Ejercicio 10\n",
    "- Escribe un programa que imprima la fecha de ayer, hoy y mañana\n"
   ]
  },
  {
   "cell_type": "code",
   "execution_count": 112,
   "metadata": {},
   "outputs": [
    {
     "name": "stdout",
     "output_type": "stream",
     "text": [
      "Ayer :  2020-07-08 17:26:37.597005\n",
      "Hoy :  2020-07-09 17:26:37.597005\n",
      "Mañana :  2020-07-10 17:26:37.597005\n"
     ]
    }
   ],
   "source": [
    "from datetime import datetime\n",
    "from datetime import date \n",
    "import time\n",
    "import datetime\n",
    "from datetime import date, timedelta\n",
    "\n",
    "hoy = datetime.datetime.now()\n",
    "ayer = hoy - datetime.timedelta(days = 1)\n",
    "mañana = hoy + datetime.timedelta(days = 1) \n",
    "print('Ayer : ', ayer)\n",
    "print('Hoy : ',hoy)\n",
    "print('Mañana : ', mañana)"
   ]
  },
  {
   "cell_type": "markdown",
   "metadata": {},
   "source": [
    "### Ejercicio 11\n",
    "- Escribe un programa que quite los microsegundos de la fecha y hora actuales."
   ]
  },
  {
   "cell_type": "code",
   "execution_count": 113,
   "metadata": {},
   "outputs": [
    {
     "name": "stdout",
     "output_type": "stream",
     "text": [
      "2020-07-09 17:27:28\n"
     ]
    }
   ],
   "source": [
    "dt = datetime.datetime.today().replace(microsecond=0)\n",
    "print(dt)"
   ]
  },
  {
   "cell_type": "code",
   "execution_count": 115,
   "metadata": {},
   "outputs": [
    {
     "name": "stdout",
     "output_type": "stream",
     "text": [
      "2020-07-09 17:27:47.856011\n",
      "07/09/2020, 17:27:47\n"
     ]
    }
   ],
   "source": [
    "u=datetime.datetime.today()\n",
    "print(u)\n",
    "\n",
    "a=u.strftime(\"%m/%d/%Y, %H:%M:%S\")\n",
    "print(a)"
   ]
  },
  {
   "cell_type": "code",
   "execution_count": 118,
   "metadata": {},
   "outputs": [
    {
     "data": {
      "text/plain": [
       "'2020-07-09 17:29:18'"
      ]
     },
     "execution_count": 118,
     "metadata": {},
     "output_type": "execute_result"
    }
   ],
   "source": [
    "datetime.datetime.now().isoformat(' ', 'seconds')"
   ]
  },
  {
   "cell_type": "markdown",
   "metadata": {},
   "source": [
    "### Ejercicio 12\n",
    "- Escribe un progama que escriba 5 cadenas de tiempo con un delay de 3 segundos \n"
   ]
  },
  {
   "cell_type": "code",
   "execution_count": 119,
   "metadata": {},
   "outputs": [
    {
     "name": "stdout",
     "output_type": "stream",
     "text": [
      "Imprime 5 cadenas cada 3 segundos\n",
      "Vuelta:  0\n",
      "Vuelta:  1\n",
      "Vuelta:  2\n",
      "Vuelta:  3\n",
      "Vuelta:  4\n"
     ]
    }
   ],
   "source": [
    "x=0\n",
    "print(\"Imprime 5 cadenas cada 3 segundos\")\n",
    "while x<5:\n",
    "    print(\"Vuelta: \", x)\n",
    "    time.sleep(3)\n",
    "    x=x+1"
   ]
  },
  {
   "cell_type": "markdown",
   "metadata": {},
   "source": [
    "### Ejercicio 13 \n",
    "Escribe un programa que convierta una fecha a unix timestamp"
   ]
  },
  {
   "cell_type": "code",
   "execution_count": 11,
   "metadata": {},
   "outputs": [
    {
     "name": "stdout",
     "output_type": "stream",
     "text": [
      "Unix Timestamp:  1456438980.0\n"
     ]
    }
   ],
   "source": [
    "dt = datetime.datetime(2016, 2, 25, 23, 23)\n",
    "print(\"Unix Timestamp: \",(time.mktime(dt.timetuple())))"
   ]
  },
  {
   "cell_type": "code",
   "execution_count": 120,
   "metadata": {},
   "outputs": [
    {
     "name": "stdout",
     "output_type": "stream",
     "text": [
      "1594308759.264388\n"
     ]
    }
   ],
   "source": [
    "from datetime import datetime\n",
    "fecha=datetime.now()\n",
    "a=datetime.timestamp(fecha)\n",
    "print(a)"
   ]
  },
  {
   "cell_type": "markdown",
   "metadata": {},
   "source": [
    "### Ejercicio 14\n",
    "- Escribe un programa que genere la fecha y hora actual de la clase datetime como string"
   ]
  },
  {
   "cell_type": "code",
   "execution_count": 122,
   "metadata": {},
   "outputs": [
    {
     "name": "stdout",
     "output_type": "stream",
     "text": [
      "Cadena de fecha y hora: 2020-07-09 17:33:19 PM\n"
     ]
    }
   ],
   "source": [
    "# Tiempo actual\n",
    "import datetime\n",
    "now = datetime.datetime.now()\n",
    "# \n",
    "# Fecha y hora  en string \n",
    "datestr = \"Cadena de fecha y hora: \" + now.strftime(\"%Y-%m-%d %H:%M:%S %p\")\n",
    "print(datestr)"
   ]
  },
  {
   "cell_type": "markdown",
   "metadata": {},
   "source": [
    "### Ejercicio 15\n",
    "- Determina el número de segundos que has vivido hasta el día de hoy"
   ]
  },
  {
   "cell_type": "code",
   "execution_count": 123,
   "metadata": {},
   "outputs": [
    {
     "name": "stdout",
     "output_type": "stream",
     "text": [
      "10517 days, 17:34:20.785765\n",
      "Segundos 908732060\n"
     ]
    }
   ],
   "source": [
    "from datetime import datetime, time\n",
    "dt2 = datetime.now()\n",
    "dt1 = datetime.strptime('1991-09-23 00:00:00', '%Y-%m-%d %H:%M:%S')\n",
    "timedelta = dt2 - dt1\n",
    "print(timedelta)\n",
    "print(\"Segundos\", timedelta.days * 24 * 3600 + timedelta.seconds)"
   ]
  },
  {
   "cell_type": "code",
   "execution_count": 12,
   "metadata": {},
   "outputs": [
    {
     "data": {
      "text/plain": [
       "900839823.2405081"
      ]
     },
     "execution_count": 12,
     "metadata": {},
     "output_type": "execute_result"
    }
   ],
   "source": [
    "nacimiento=datetime.datetime(1991,10,11)\n",
    "nacimiento_timestamp=datetime.datetime.timestamp(nacimiento)\n",
    "now_timestamp=datetime.datetime.timestamp(now)\n",
    "now_timestamp - nacimiento_timestamp"
   ]
  },
  {
   "cell_type": "code",
   "execution_count": 124,
   "metadata": {},
   "outputs": [
    {
     "name": "stdout",
     "output_type": "stream",
     "text": [
      "1285781733.209006\n"
     ]
    }
   ],
   "source": [
    "from datetime import datetime\n",
    "\n",
    "f2=datetime.timestamp(datetime.today())\n",
    "f1=datetime.timestamp(datetime(year=1979, month=10, day=12))\n",
    "\n",
    "f3=f2-f1\n",
    "print(f3)\n"
   ]
  },
  {
   "cell_type": "code",
   "execution_count": 126,
   "metadata": {},
   "outputs": [
    {
     "name": "stdout",
     "output_type": "stream",
     "text": [
      "9500 days, 0:00:00\n",
      "820800000 days, 0:00:00\n"
     ]
    }
   ],
   "source": [
    "from datetime import datetime, date\n",
    "\n",
    "t1=date(year=1994, month=7, day=6)\n",
    "t2=date(year=2020, month=7, day=9)\n",
    "\n",
    "t3=t2-t1\n",
    "print(t3)\n",
    "print(t3*86400)"
   ]
  },
  {
   "cell_type": "code",
   "execution_count": null,
   "metadata": {},
   "outputs": [],
   "source": []
  }
 ],
 "metadata": {
  "kernelspec": {
   "display_name": "Python 3",
   "language": "python",
   "name": "python3"
  },
  "language_info": {
   "codemirror_mode": {
    "name": "ipython",
    "version": 3
   },
   "file_extension": ".py",
   "mimetype": "text/x-python",
   "name": "python",
   "nbconvert_exporter": "python",
   "pygments_lexer": "ipython3",
   "version": "3.7.4"
  }
 },
 "nbformat": 4,
 "nbformat_minor": 2
}
