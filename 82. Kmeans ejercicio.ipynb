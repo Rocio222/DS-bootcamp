{
 "cells": [
  {
   "cell_type": "code",
   "execution_count": 1,
   "metadata": {},
   "outputs": [],
   "source": [
    "import pandas as pd\n",
    "import numpy as np \n",
    "import seaborn as sns\n",
    "import matplotlib.pyplot as plt \n",
    "from sklearn import datasets\n",
    "from sklearn.cluster import KMeans \n",
    "from scipy.spatial.distance import cdist"
   ]
  },
  {
   "cell_type": "code",
   "execution_count": 2,
   "metadata": {},
   "outputs": [],
   "source": [
    "df=pd.read_excel(\"/Users/rociocuestapedraz/Desktop/PYTHON bootcamp DS/datasets/TFMSofiaMachine.xlsx\")"
   ]
  },
  {
   "cell_type": "code",
   "execution_count": 3,
   "metadata": {},
   "outputs": [
    {
     "data": {
      "text/html": [
       "<div>\n",
       "<style scoped>\n",
       "    .dataframe tbody tr th:only-of-type {\n",
       "        vertical-align: middle;\n",
       "    }\n",
       "\n",
       "    .dataframe tbody tr th {\n",
       "        vertical-align: top;\n",
       "    }\n",
       "\n",
       "    .dataframe thead th {\n",
       "        text-align: right;\n",
       "    }\n",
       "</style>\n",
       "<table border=\"1\" class=\"dataframe\">\n",
       "  <thead>\n",
       "    <tr style=\"text-align: right;\">\n",
       "      <th></th>\n",
       "      <th>key</th>\n",
       "      <th>genus</th>\n",
       "      <th>species_code</th>\n",
       "      <th>decimalLon</th>\n",
       "      <th>decimalLat</th>\n",
       "      <th>HabitatOri</th>\n",
       "      <th>HabitatNUM</th>\n",
       "      <th>Habitat0</th>\n",
       "      <th>HabitOrigi</th>\n",
       "      <th>HabitNUM</th>\n",
       "      <th>Habit0</th>\n",
       "      <th>stolons</th>\n",
       "      <th>dimorphism</th>\n",
       "    </tr>\n",
       "  </thead>\n",
       "  <tbody>\n",
       "    <tr>\n",
       "      <th>0</th>\n",
       "      <td>388880859</td>\n",
       "      <td>Woodwardia</td>\n",
       "      <td>Woodwardia_orientalis</td>\n",
       "      <td>139.31</td>\n",
       "      <td>35.55</td>\n",
       "      <td>Terrestrial</td>\n",
       "      <td>3</td>\n",
       "      <td>Terrestrial</td>\n",
       "      <td>Short-creeping</td>\n",
       "      <td>2</td>\n",
       "      <td>Short creeping</td>\n",
       "      <td>No</td>\n",
       "      <td>Monomorphic</td>\n",
       "    </tr>\n",
       "    <tr>\n",
       "      <th>1</th>\n",
       "      <td>388880863</td>\n",
       "      <td>Woodwardia</td>\n",
       "      <td>Woodwardia_orientalis</td>\n",
       "      <td>139.21</td>\n",
       "      <td>35.59</td>\n",
       "      <td>Terrestrial</td>\n",
       "      <td>3</td>\n",
       "      <td>Terrestrial</td>\n",
       "      <td>Short-creeping</td>\n",
       "      <td>2</td>\n",
       "      <td>Short creeping</td>\n",
       "      <td>No</td>\n",
       "      <td>Monomorphic</td>\n",
       "    </tr>\n",
       "    <tr>\n",
       "      <th>2</th>\n",
       "      <td>388880897</td>\n",
       "      <td>Woodwardia</td>\n",
       "      <td>Woodwardia_orientalis</td>\n",
       "      <td>139.22</td>\n",
       "      <td>35.29</td>\n",
       "      <td>Terrestrial</td>\n",
       "      <td>3</td>\n",
       "      <td>Terrestrial</td>\n",
       "      <td>Short-creeping</td>\n",
       "      <td>2</td>\n",
       "      <td>Short creeping</td>\n",
       "      <td>No</td>\n",
       "      <td>Monomorphic</td>\n",
       "    </tr>\n",
       "    <tr>\n",
       "      <th>3</th>\n",
       "      <td>388880901</td>\n",
       "      <td>Woodwardia</td>\n",
       "      <td>Woodwardia_orientalis</td>\n",
       "      <td>139.14</td>\n",
       "      <td>35.36</td>\n",
       "      <td>Terrestrial</td>\n",
       "      <td>3</td>\n",
       "      <td>Terrestrial</td>\n",
       "      <td>Short-creeping</td>\n",
       "      <td>2</td>\n",
       "      <td>Short creeping</td>\n",
       "      <td>No</td>\n",
       "      <td>Monomorphic</td>\n",
       "    </tr>\n",
       "    <tr>\n",
       "      <th>4</th>\n",
       "      <td>388880902</td>\n",
       "      <td>Woodwardia</td>\n",
       "      <td>Woodwardia_orientalis</td>\n",
       "      <td>139.22</td>\n",
       "      <td>35.60</td>\n",
       "      <td>Terrestrial</td>\n",
       "      <td>3</td>\n",
       "      <td>Terrestrial</td>\n",
       "      <td>Short-creeping</td>\n",
       "      <td>2</td>\n",
       "      <td>Short creeping</td>\n",
       "      <td>No</td>\n",
       "      <td>Monomorphic</td>\n",
       "    </tr>\n",
       "  </tbody>\n",
       "</table>\n",
       "</div>"
      ],
      "text/plain": [
       "         key       genus           species_code  decimalLon  decimalLat  \\\n",
       "0  388880859  Woodwardia  Woodwardia_orientalis      139.31       35.55   \n",
       "1  388880863  Woodwardia  Woodwardia_orientalis      139.21       35.59   \n",
       "2  388880897  Woodwardia  Woodwardia_orientalis      139.22       35.29   \n",
       "3  388880901  Woodwardia  Woodwardia_orientalis      139.14       35.36   \n",
       "4  388880902  Woodwardia  Woodwardia_orientalis      139.22       35.60   \n",
       "\n",
       "    HabitatOri  HabitatNUM     Habitat0      HabitOrigi  HabitNUM  \\\n",
       "0  Terrestrial           3  Terrestrial  Short-creeping         2   \n",
       "1  Terrestrial           3  Terrestrial  Short-creeping         2   \n",
       "2  Terrestrial           3  Terrestrial  Short-creeping         2   \n",
       "3  Terrestrial           3  Terrestrial  Short-creeping         2   \n",
       "4  Terrestrial           3  Terrestrial  Short-creeping         2   \n",
       "\n",
       "           Habit0 stolons   dimorphism  \n",
       "0  Short creeping      No  Monomorphic  \n",
       "1  Short creeping      No  Monomorphic  \n",
       "2  Short creeping      No  Monomorphic  \n",
       "3  Short creeping      No  Monomorphic  \n",
       "4  Short creeping      No  Monomorphic  "
      ]
     },
     "execution_count": 3,
     "metadata": {},
     "output_type": "execute_result"
    }
   ],
   "source": [
    "df.head()"
   ]
  },
  {
   "cell_type": "code",
   "execution_count": 4,
   "metadata": {},
   "outputs": [],
   "source": [
    "df2=df[df[\"genus\"]==\"Woodwardia\"]"
   ]
  },
  {
   "cell_type": "code",
   "execution_count": 5,
   "metadata": {},
   "outputs": [
    {
     "data": {
      "image/png": "[encoded data removed]",
      "text/plain": [
       "<Figure size 432x288 with 1 Axes>"
      ]
     },
     "metadata": {
      "needs_background": "light"
     },
     "output_type": "display_data"
    }
   ],
   "source": [
    "plt.scatter(df2[\"decimalLon\"], df2[\"decimalLat\"], marker='o')\n",
    "plt.show()"
   ]
  },
  {
   "cell_type": "code",
   "execution_count": 6,
   "metadata": {},
   "outputs": [],
   "source": [
    "X=np.array(df2[[\"decimalLon\",\"decimalLat\"]])"
   ]
  },
  {
   "cell_type": "code",
   "execution_count": 7,
   "metadata": {},
   "outputs": [],
   "source": [
    "from sklearn.preprocessing import MinMaxScaler\n",
    "X = MinMaxScaler().fit_transform(X)"
   ]
  },
  {
   "cell_type": "code",
   "execution_count": 8,
   "metadata": {},
   "outputs": [
    {
     "data": {
      "text/plain": [
       "[1156.966200820855,\n",
       " 203.91882541619358,\n",
       " 73.36029823644654,\n",
       " 47.356940932374044,\n",
       " 27.131913783311333,\n",
       " 17.39449532625389,\n",
       " 12.944218017866215,\n",
       " 9.91790469796415,\n",
       " 7.790482830602402,\n",
       " 6.632983366217038]"
      ]
     },
     "execution_count": 8,
     "metadata": {},
     "output_type": "execute_result"
    }
   ],
   "source": [
    "inercias = [] \n",
    "  \n",
    "for k in range(1,11): \n",
    "    kmeans = KMeans(k)\n",
    "    kmeans.fit(X)     \n",
    "    inercias.append(kmeans.inertia_) \n",
    "inercias"
   ]
  },
  {
   "cell_type": "code",
   "execution_count": 9,
   "metadata": {},
   "outputs": [
    {
     "data": {
      "image/png": "[encoded data removed]",
      "text/plain": [
       "<Figure size 432x288 with 1 Axes>"
      ]
     },
     "metadata": {
      "needs_background": "light"
     },
     "output_type": "display_data"
    }
   ],
   "source": [
    "plt.plot(range(1,11), inercias, 'bx-') \n",
    "plt.xlabel('Ks') \n",
    "plt.ylabel('Inercia') \n",
    "plt.show()"
   ]
  },
  {
   "cell_type": "code",
   "execution_count": 10,
   "metadata": {},
   "outputs": [
    {
     "data": {
      "text/plain": [
       "KMeans(algorithm='auto', copy_x=True, init='k-means++', max_iter=300,\n",
       "       n_clusters=2, n_init=10, n_jobs=None, precompute_distances='auto',\n",
       "       random_state=None, tol=0.0001, verbose=0)"
      ]
     },
     "execution_count": 10,
     "metadata": {},
     "output_type": "execute_result"
    }
   ],
   "source": [
    "kmeans = KMeans(n_clusters=2)\n",
    "kmeans.fit(X)"
   ]
  },
  {
   "cell_type": "code",
   "execution_count": 11,
   "metadata": {},
   "outputs": [
    {
     "data": {
      "text/plain": [
       "array([1, 1, 1, ..., 1, 1, 1], dtype=int32)"
      ]
     },
     "execution_count": 11,
     "metadata": {},
     "output_type": "execute_result"
    }
   ],
   "source": [
    "kmeans.labels_"
   ]
  },
  {
   "cell_type": "code",
   "execution_count": 16,
   "metadata": {},
   "outputs": [
    {
     "name": "stderr",
     "output_type": "stream",
     "text": [
      "/Users/rociocuestapedraz/opt/anaconda3/lib/python3.7/site-packages/ipykernel_launcher.py:1: SettingWithCopyWarning: \n",
      "A value is trying to be set on a copy of a slice from a DataFrame.\n",
      "Try using .loc[row_indexer,col_indexer] = value instead\n",
      "\n",
      "See the caveats in the documentation: https://pandas.pydata.org/pandas-docs/stable/user_guide/indexing.html#returning-a-view-versus-a-copy\n",
      "  \"\"\"Entry point for launching an IPython kernel.\n"
     ]
    },
    {
     "data": {
      "text/html": [
       "<div>\n",
       "<style scoped>\n",
       "    .dataframe tbody tr th:only-of-type {\n",
       "        vertical-align: middle;\n",
       "    }\n",
       "\n",
       "    .dataframe tbody tr th {\n",
       "        vertical-align: top;\n",
       "    }\n",
       "\n",
       "    .dataframe thead th {\n",
       "        text-align: right;\n",
       "    }\n",
       "</style>\n",
       "<table border=\"1\" class=\"dataframe\">\n",
       "  <thead>\n",
       "    <tr style=\"text-align: right;\">\n",
       "      <th></th>\n",
       "      <th>key</th>\n",
       "      <th>genus</th>\n",
       "      <th>species_code</th>\n",
       "      <th>decimalLon</th>\n",
       "      <th>decimalLat</th>\n",
       "      <th>HabitatOri</th>\n",
       "      <th>HabitatNUM</th>\n",
       "      <th>Habitat0</th>\n",
       "      <th>HabitOrigi</th>\n",
       "      <th>HabitNUM</th>\n",
       "      <th>Habit0</th>\n",
       "      <th>stolons</th>\n",
       "      <th>dimorphism</th>\n",
       "      <th>clase</th>\n",
       "    </tr>\n",
       "  </thead>\n",
       "  <tbody>\n",
       "    <tr>\n",
       "      <th>0</th>\n",
       "      <td>388880859</td>\n",
       "      <td>Woodwardia</td>\n",
       "      <td>Woodwardia_orientalis</td>\n",
       "      <td>139.31</td>\n",
       "      <td>35.55</td>\n",
       "      <td>Terrestrial</td>\n",
       "      <td>3</td>\n",
       "      <td>Terrestrial</td>\n",
       "      <td>Short-creeping</td>\n",
       "      <td>2</td>\n",
       "      <td>Short creeping</td>\n",
       "      <td>No</td>\n",
       "      <td>Monomorphic</td>\n",
       "      <td>1</td>\n",
       "    </tr>\n",
       "    <tr>\n",
       "      <th>1</th>\n",
       "      <td>388880863</td>\n",
       "      <td>Woodwardia</td>\n",
       "      <td>Woodwardia_orientalis</td>\n",
       "      <td>139.21</td>\n",
       "      <td>35.59</td>\n",
       "      <td>Terrestrial</td>\n",
       "      <td>3</td>\n",
       "      <td>Terrestrial</td>\n",
       "      <td>Short-creeping</td>\n",
       "      <td>2</td>\n",
       "      <td>Short creeping</td>\n",
       "      <td>No</td>\n",
       "      <td>Monomorphic</td>\n",
       "      <td>1</td>\n",
       "    </tr>\n",
       "    <tr>\n",
       "      <th>2</th>\n",
       "      <td>388880897</td>\n",
       "      <td>Woodwardia</td>\n",
       "      <td>Woodwardia_orientalis</td>\n",
       "      <td>139.22</td>\n",
       "      <td>35.29</td>\n",
       "      <td>Terrestrial</td>\n",
       "      <td>3</td>\n",
       "      <td>Terrestrial</td>\n",
       "      <td>Short-creeping</td>\n",
       "      <td>2</td>\n",
       "      <td>Short creeping</td>\n",
       "      <td>No</td>\n",
       "      <td>Monomorphic</td>\n",
       "      <td>1</td>\n",
       "    </tr>\n",
       "    <tr>\n",
       "      <th>3</th>\n",
       "      <td>388880901</td>\n",
       "      <td>Woodwardia</td>\n",
       "      <td>Woodwardia_orientalis</td>\n",
       "      <td>139.14</td>\n",
       "      <td>35.36</td>\n",
       "      <td>Terrestrial</td>\n",
       "      <td>3</td>\n",
       "      <td>Terrestrial</td>\n",
       "      <td>Short-creeping</td>\n",
       "      <td>2</td>\n",
       "      <td>Short creeping</td>\n",
       "      <td>No</td>\n",
       "      <td>Monomorphic</td>\n",
       "      <td>1</td>\n",
       "    </tr>\n",
       "    <tr>\n",
       "      <th>4</th>\n",
       "      <td>388880902</td>\n",
       "      <td>Woodwardia</td>\n",
       "      <td>Woodwardia_orientalis</td>\n",
       "      <td>139.22</td>\n",
       "      <td>35.60</td>\n",
       "      <td>Terrestrial</td>\n",
       "      <td>3</td>\n",
       "      <td>Terrestrial</td>\n",
       "      <td>Short-creeping</td>\n",
       "      <td>2</td>\n",
       "      <td>Short creeping</td>\n",
       "      <td>No</td>\n",
       "      <td>Monomorphic</td>\n",
       "      <td>1</td>\n",
       "    </tr>\n",
       "  </tbody>\n",
       "</table>\n",
       "</div>"
      ],
      "text/plain": [
       "         key       genus           species_code  decimalLon  decimalLat  \\\n",
       "0  388880859  Woodwardia  Woodwardia_orientalis      139.31       35.55   \n",
       "1  388880863  Woodwardia  Woodwardia_orientalis      139.21       35.59   \n",
       "2  388880897  Woodwardia  Woodwardia_orientalis      139.22       35.29   \n",
       "3  388880901  Woodwardia  Woodwardia_orientalis      139.14       35.36   \n",
       "4  388880902  Woodwardia  Woodwardia_orientalis      139.22       35.60   \n",
       "\n",
       "    HabitatOri  HabitatNUM     Habitat0      HabitOrigi  HabitNUM  \\\n",
       "0  Terrestrial           3  Terrestrial  Short-creeping         2   \n",
       "1  Terrestrial           3  Terrestrial  Short-creeping         2   \n",
       "2  Terrestrial           3  Terrestrial  Short-creeping         2   \n",
       "3  Terrestrial           3  Terrestrial  Short-creeping         2   \n",
       "4  Terrestrial           3  Terrestrial  Short-creeping         2   \n",
       "\n",
       "           Habit0 stolons   dimorphism  clase  \n",
       "0  Short creeping      No  Monomorphic      1  \n",
       "1  Short creeping      No  Monomorphic      1  \n",
       "2  Short creeping      No  Monomorphic      1  \n",
       "3  Short creeping      No  Monomorphic      1  \n",
       "4  Short creeping      No  Monomorphic      1  "
      ]
     },
     "execution_count": 16,
     "metadata": {},
     "output_type": "execute_result"
    }
   ],
   "source": [
    "df2[\"clase\"]=kmeans.labels_\n",
    "df2.head()"
   ]
  },
  {
   "cell_type": "code",
   "execution_count": 18,
   "metadata": {},
   "outputs": [
    {
     "data": {
      "image/png": "[encoded data removed]",
      "text/plain": [
       "<Figure size 432x288 with 1 Axes>"
      ]
     },
     "metadata": {
      "needs_background": "light"
     },
     "output_type": "display_data"
    }
   ],
   "source": [
    "sns.scatterplot(df2[\"decimalLon\"], df2[\"decimalLat\"], hue = df2[\"clase\"], palette=\"Set2\")\n",
    "plt.show()"
   ]
  },
  {
   "cell_type": "code",
   "execution_count": 28,
   "metadata": {},
   "outputs": [],
   "source": [
    "df=pd.read_csv(\"/Users/rociocuestapedraz/Desktop/PYTHON bootcamp DS/datasets/Cust_Segmentation.csv\")"
   ]
  },
  {
   "cell_type": "code",
   "execution_count": 30,
   "metadata": {},
   "outputs": [
    {
     "data": {
      "text/html": [
       "<div>\n",
       "<style scoped>\n",
       "    .dataframe tbody tr th:only-of-type {\n",
       "        vertical-align: middle;\n",
       "    }\n",
       "\n",
       "    .dataframe tbody tr th {\n",
       "        vertical-align: top;\n",
       "    }\n",
       "\n",
       "    .dataframe thead th {\n",
       "        text-align: right;\n",
       "    }\n",
       "</style>\n",
       "<table border=\"1\" class=\"dataframe\">\n",
       "  <thead>\n",
       "    <tr style=\"text-align: right;\">\n",
       "      <th></th>\n",
       "      <th>Customer Id</th>\n",
       "      <th>Age</th>\n",
       "      <th>Edu</th>\n",
       "      <th>Years Employed</th>\n",
       "      <th>Income</th>\n",
       "      <th>Card Debt</th>\n",
       "      <th>Other Debt</th>\n",
       "      <th>Defaulted</th>\n",
       "      <th>Address</th>\n",
       "      <th>DebtIncomeRatio</th>\n",
       "    </tr>\n",
       "  </thead>\n",
       "  <tbody>\n",
       "    <tr>\n",
       "      <th>0</th>\n",
       "      <td>1</td>\n",
       "      <td>41</td>\n",
       "      <td>2</td>\n",
       "      <td>6</td>\n",
       "      <td>19</td>\n",
       "      <td>0.124</td>\n",
       "      <td>1.073</td>\n",
       "      <td>0.0</td>\n",
       "      <td>NBA001</td>\n",
       "      <td>6.3</td>\n",
       "    </tr>\n",
       "    <tr>\n",
       "      <th>1</th>\n",
       "      <td>2</td>\n",
       "      <td>47</td>\n",
       "      <td>1</td>\n",
       "      <td>26</td>\n",
       "      <td>100</td>\n",
       "      <td>4.582</td>\n",
       "      <td>8.218</td>\n",
       "      <td>0.0</td>\n",
       "      <td>NBA021</td>\n",
       "      <td>12.8</td>\n",
       "    </tr>\n",
       "    <tr>\n",
       "      <th>2</th>\n",
       "      <td>3</td>\n",
       "      <td>33</td>\n",
       "      <td>2</td>\n",
       "      <td>10</td>\n",
       "      <td>57</td>\n",
       "      <td>6.111</td>\n",
       "      <td>5.802</td>\n",
       "      <td>1.0</td>\n",
       "      <td>NBA013</td>\n",
       "      <td>20.9</td>\n",
       "    </tr>\n",
       "    <tr>\n",
       "      <th>3</th>\n",
       "      <td>4</td>\n",
       "      <td>29</td>\n",
       "      <td>2</td>\n",
       "      <td>4</td>\n",
       "      <td>19</td>\n",
       "      <td>0.681</td>\n",
       "      <td>0.516</td>\n",
       "      <td>0.0</td>\n",
       "      <td>NBA009</td>\n",
       "      <td>6.3</td>\n",
       "    </tr>\n",
       "    <tr>\n",
       "      <th>4</th>\n",
       "      <td>5</td>\n",
       "      <td>47</td>\n",
       "      <td>1</td>\n",
       "      <td>31</td>\n",
       "      <td>253</td>\n",
       "      <td>9.308</td>\n",
       "      <td>8.908</td>\n",
       "      <td>0.0</td>\n",
       "      <td>NBA008</td>\n",
       "      <td>7.2</td>\n",
       "    </tr>\n",
       "  </tbody>\n",
       "</table>\n",
       "</div>"
      ],
      "text/plain": [
       "   Customer Id  Age  Edu  Years Employed  Income  Card Debt  Other Debt  \\\n",
       "0            1   41    2               6      19      0.124       1.073   \n",
       "1            2   47    1              26     100      4.582       8.218   \n",
       "2            3   33    2              10      57      6.111       5.802   \n",
       "3            4   29    2               4      19      0.681       0.516   \n",
       "4            5   47    1              31     253      9.308       8.908   \n",
       "\n",
       "   Defaulted Address  DebtIncomeRatio  \n",
       "0        0.0  NBA001              6.3  \n",
       "1        0.0  NBA021             12.8  \n",
       "2        1.0  NBA013             20.9  \n",
       "3        0.0  NBA009              6.3  \n",
       "4        0.0  NBA008              7.2  "
      ]
     },
     "execution_count": 30,
     "metadata": {},
     "output_type": "execute_result"
    }
   ],
   "source": [
    "df.head()"
   ]
  },
  {
   "cell_type": "code",
   "execution_count": 33,
   "metadata": {},
   "outputs": [],
   "source": [
    "df_=df[[\"Age\",\"Edu\",\"Years Employed\",\"Income\",\"Card Debt\",\"Defaulted\"]]"
   ]
  },
  {
   "cell_type": "code",
   "execution_count": 34,
   "metadata": {},
   "outputs": [
    {
     "data": {
      "text/html": [
       "<div>\n",
       "<style scoped>\n",
       "    .dataframe tbody tr th:only-of-type {\n",
       "        vertical-align: middle;\n",
       "    }\n",
       "\n",
       "    .dataframe tbody tr th {\n",
       "        vertical-align: top;\n",
       "    }\n",
       "\n",
       "    .dataframe thead th {\n",
       "        text-align: right;\n",
       "    }\n",
       "</style>\n",
       "<table border=\"1\" class=\"dataframe\">\n",
       "  <thead>\n",
       "    <tr style=\"text-align: right;\">\n",
       "      <th></th>\n",
       "      <th>Age</th>\n",
       "      <th>Edu</th>\n",
       "      <th>Years Employed</th>\n",
       "      <th>Income</th>\n",
       "      <th>Card Debt</th>\n",
       "      <th>Defaulted</th>\n",
       "    </tr>\n",
       "  </thead>\n",
       "  <tbody>\n",
       "    <tr>\n",
       "      <th>0</th>\n",
       "      <td>0.583333</td>\n",
       "      <td>0.25</td>\n",
       "      <td>0.181818</td>\n",
       "      <td>0.013857</td>\n",
       "      <td>0.005450</td>\n",
       "      <td>0.0</td>\n",
       "    </tr>\n",
       "    <tr>\n",
       "      <th>1</th>\n",
       "      <td>0.750000</td>\n",
       "      <td>0.00</td>\n",
       "      <td>0.787879</td>\n",
       "      <td>0.200924</td>\n",
       "      <td>0.222395</td>\n",
       "      <td>0.0</td>\n",
       "    </tr>\n",
       "    <tr>\n",
       "      <th>2</th>\n",
       "      <td>0.361111</td>\n",
       "      <td>0.25</td>\n",
       "      <td>0.303030</td>\n",
       "      <td>0.101617</td>\n",
       "      <td>0.296803</td>\n",
       "      <td>1.0</td>\n",
       "    </tr>\n",
       "    <tr>\n",
       "      <th>3</th>\n",
       "      <td>0.250000</td>\n",
       "      <td>0.25</td>\n",
       "      <td>0.121212</td>\n",
       "      <td>0.013857</td>\n",
       "      <td>0.032556</td>\n",
       "      <td>0.0</td>\n",
       "    </tr>\n",
       "    <tr>\n",
       "      <th>4</th>\n",
       "      <td>0.750000</td>\n",
       "      <td>0.00</td>\n",
       "      <td>0.939394</td>\n",
       "      <td>0.554273</td>\n",
       "      <td>0.452382</td>\n",
       "      <td>0.0</td>\n",
       "    </tr>\n",
       "  </tbody>\n",
       "</table>\n",
       "</div>"
      ],
      "text/plain": [
       "        Age   Edu  Years Employed    Income  Card Debt  Defaulted\n",
       "0  0.583333  0.25        0.181818  0.013857   0.005450        0.0\n",
       "1  0.750000  0.00        0.787879  0.200924   0.222395        0.0\n",
       "2  0.361111  0.25        0.303030  0.101617   0.296803        1.0\n",
       "3  0.250000  0.25        0.121212  0.013857   0.032556        0.0\n",
       "4  0.750000  0.00        0.939394  0.554273   0.452382        0.0"
      ]
     },
     "execution_count": 34,
     "metadata": {},
     "output_type": "execute_result"
    }
   ],
   "source": [
    "#Normalizo los df_num\n",
    "from sklearn.preprocessing import MinMaxScaler\n",
    "df2 = MinMaxScaler().fit_transform(df_)\n",
    "df2 = pd.DataFrame(df2, columns = df_.columns)\n",
    "df2.head()"
   ]
  },
  {
   "cell_type": "code",
   "execution_count": 36,
   "metadata": {},
   "outputs": [
    {
     "name": "stdout",
     "output_type": "stream",
     "text": [
      "Customer Id = 0.0 %\n",
      "Age = 0.0 %\n",
      "Edu = 0.0 %\n",
      "Years Employed = 0.0 %\n",
      "Income = 0.0 %\n",
      "Card Debt = 0.0 %\n",
      "Other Debt = 0.0 %\n",
      "Defaulted = 17.647058823529413 %\n",
      "Address = 0.0 %\n",
      "DebtIncomeRatio = 0.0 %\n"
     ]
    }
   ],
   "source": [
    "for col in df.columns:\n",
    "    suma_nans=pd.isnull(df[col]).values.ravel().sum()\n",
    "    print(col,\"=\",(suma_nans/df.shape[0])*100,\"%\")"
   ]
  },
  {
   "cell_type": "code",
   "execution_count": 38,
   "metadata": {},
   "outputs": [
    {
     "data": {
      "text/plain": [
       "False"
      ]
     },
     "execution_count": 38,
     "metadata": {},
     "output_type": "execute_result"
    }
   ],
   "source": [
    "#Imputacion del df categorico:\n",
    "from sklearn.impute import SimpleImputer\n",
    "imputer = SimpleImputer(missing_values=np.nan, strategy='mean')\n",
    "df2[[\"Defaulted\"]] = imputer.fit_transform(df2[[\"Defaulted\"]])\n",
    "#df_cat = pd.DataFrame(df_cat_imp, columns = df_cat.columns)\n",
    "df2.isnull().values.any()"
   ]
  },
  {
   "cell_type": "markdown",
   "metadata": {},
   "source": [
    "### Age vs Income"
   ]
  },
  {
   "cell_type": "code",
   "execution_count": 39,
   "metadata": {},
   "outputs": [],
   "source": [
    "X=np.array(df2[[\"Age\",\"Income\"]])"
   ]
  },
  {
   "cell_type": "code",
   "execution_count": 40,
   "metadata": {},
   "outputs": [
    {
     "data": {
      "text/plain": [
       "[49.08835737888344,\n",
       " 18.283597954529696,\n",
       " 11.180984796340159,\n",
       " 8.689081959844067,\n",
       " 6.436496166272554,\n",
       " 5.1866391318175635,\n",
       " 4.501227786716546,\n",
       " 3.821978793613456,\n",
       " 3.3260991414562007,\n",
       " 2.9365177498585218]"
      ]
     },
     "execution_count": 40,
     "metadata": {},
     "output_type": "execute_result"
    }
   ],
   "source": [
    "inercias = [] \n",
    "  \n",
    "for k in range(1,11): \n",
    "    kmeans = KMeans(k)\n",
    "    kmeans.fit(X)     \n",
    "    inercias.append(kmeans.inertia_) \n",
    "inercias"
   ]
  },
  {
   "cell_type": "code",
   "execution_count": 41,
   "metadata": {},
   "outputs": [
    {
     "data": {
      "image/png": "[encoded data removed]",
      "text/plain": [
       "<Figure size 432x288 with 1 Axes>"
      ]
     },
     "metadata": {
      "needs_background": "light"
     },
     "output_type": "display_data"
    }
   ],
   "source": [
    "plt.plot(range(1,11), inercias, 'bx-') \n",
    "plt.xlabel('Ks') \n",
    "plt.ylabel('Inercia') \n",
    "plt.show()"
   ]
  },
  {
   "cell_type": "code",
   "execution_count": 42,
   "metadata": {},
   "outputs": [
    {
     "name": "stderr",
     "output_type": "stream",
     "text": [
      "/Users/rociocuestapedraz/opt/anaconda3/lib/python3.7/site-packages/ipykernel_launcher.py:4: SettingWithCopyWarning: \n",
      "A value is trying to be set on a copy of a slice from a DataFrame.\n",
      "Try using .loc[row_indexer,col_indexer] = value instead\n",
      "\n",
      "See the caveats in the documentation: https://pandas.pydata.org/pandas-docs/stable/user_guide/indexing.html#returning-a-view-versus-a-copy\n",
      "  after removing the cwd from sys.path.\n"
     ]
    }
   ],
   "source": [
    "kmeans = KMeans(n_clusters=2)\n",
    "kmeans.fit(X)\n",
    "df4=df2[[\"Age\",\"Income\"]]\n",
    "df4[\"clase\"]=kmeans.labels_"
   ]
  },
  {
   "cell_type": "code",
   "execution_count": 43,
   "metadata": {},
   "outputs": [
    {
     "data": {
      "image/png": "[encoded data removed]",
      "text/plain": [
       "<Figure size 432x288 with 1 Axes>"
      ]
     },
     "metadata": {
      "needs_background": "light"
     },
     "output_type": "display_data"
    }
   ],
   "source": [
    "sns.scatterplot(df4[\"Age\"], df4[\"Income\"], hue = df4[\"clase\"], palette=\"Set2\")\n",
    "plt.show()"
   ]
  },
  {
   "cell_type": "code",
   "execution_count": 45,
   "metadata": {},
   "outputs": [
    {
     "data": {
      "text/plain": [
       "Index(['Age', 'Edu', 'Years Employed', 'Income', 'Card Debt', 'Defaulted'], dtype='object')"
      ]
     },
     "execution_count": 45,
     "metadata": {},
     "output_type": "execute_result"
    }
   ],
   "source": [
    "df2.columns"
   ]
  },
  {
   "cell_type": "markdown",
   "metadata": {},
   "source": [
    "### Edu vs Card debit"
   ]
  },
  {
   "cell_type": "code",
   "execution_count": 46,
   "metadata": {},
   "outputs": [
    {
     "data": {
      "image/png": "[encoded data removed]",
      "text/plain": [
       "<Figure size 432x288 with 1 Axes>"
      ]
     },
     "metadata": {
      "needs_background": "light"
     },
     "output_type": "display_data"
    }
   ],
   "source": [
    "X=np.array(df2[[\"Edu\",'Card Debt']])\n",
    "inercias = [] \n",
    "  \n",
    "for k in range(1,11): \n",
    "    kmeans = KMeans(k)\n",
    "    kmeans.fit(X)     \n",
    "    inercias.append(kmeans.inertia_)\n",
    "\n",
    "plt.plot(range(1,11), inercias, 'bx-') \n",
    "plt.xlabel('Ks') \n",
    "plt.ylabel('Inercia') \n",
    "plt.show()"
   ]
  },
  {
   "cell_type": "code",
   "execution_count": 47,
   "metadata": {},
   "outputs": [
    {
     "name": "stderr",
     "output_type": "stream",
     "text": [
      "/Users/rociocuestapedraz/opt/anaconda3/lib/python3.7/site-packages/ipykernel_launcher.py:4: SettingWithCopyWarning: \n",
      "A value is trying to be set on a copy of a slice from a DataFrame.\n",
      "Try using .loc[row_indexer,col_indexer] = value instead\n",
      "\n",
      "See the caveats in the documentation: https://pandas.pydata.org/pandas-docs/stable/user_guide/indexing.html#returning-a-view-versus-a-copy\n",
      "  after removing the cwd from sys.path.\n"
     ]
    },
    {
     "data": {
      "image/png": "[encoded data removed]",
      "text/plain": [
       "<Figure size 432x288 with 1 Axes>"
      ]
     },
     "metadata": {
      "needs_background": "light"
     },
     "output_type": "display_data"
    }
   ],
   "source": [
    "kmeans = KMeans(n_clusters=3)\n",
    "kmeans.fit(X)\n",
    "df5=df2[[\"Edu\",'Card Debt']]\n",
    "df5[\"clase\"]=kmeans.labels_\n",
    "sns.scatterplot(df5[\"Edu\"], df5['Card Debt'], hue = df5[\"clase\"], palette=\"Set2\")\n",
    "plt.show()"
   ]
  },
  {
   "cell_type": "markdown",
   "metadata": {},
   "source": [
    "### Year Income vs 'Years Employed'"
   ]
  },
  {
   "cell_type": "code",
   "execution_count": 49,
   "metadata": {},
   "outputs": [
    {
     "data": {
      "text/plain": [
       "Index(['Age', 'Edu', 'Years Employed', 'Income', 'Card Debt', 'Defaulted'], dtype='object')"
      ]
     },
     "execution_count": 49,
     "metadata": {},
     "output_type": "execute_result"
    }
   ],
   "source": [
    "df2.columns"
   ]
  },
  {
   "cell_type": "code",
   "execution_count": 50,
   "metadata": {},
   "outputs": [
    {
     "data": {
      "image/png": "[encoded data removed]",
      "text/plain": [
       "<Figure size 432x288 with 1 Axes>"
      ]
     },
     "metadata": {
      "needs_background": "light"
     },
     "output_type": "display_data"
    }
   ],
   "source": [
    "X=np.array(df2[['Years Employed','Income']])\n",
    "inercias = [] \n",
    "  \n",
    "for k in range(1,11): \n",
    "    kmeans = KMeans(k)\n",
    "    kmeans.fit(X)     \n",
    "    inercias.append(kmeans.inertia_)\n",
    "\n",
    "plt.plot(range(1,11), inercias, 'bx-') \n",
    "plt.xlabel('Ks') \n",
    "plt.ylabel('Inercia') \n",
    "plt.show()"
   ]
  },
  {
   "cell_type": "code",
   "execution_count": 51,
   "metadata": {},
   "outputs": [
    {
     "name": "stderr",
     "output_type": "stream",
     "text": [
      "/Users/rociocuestapedraz/opt/anaconda3/lib/python3.7/site-packages/ipykernel_launcher.py:4: SettingWithCopyWarning: \n",
      "A value is trying to be set on a copy of a slice from a DataFrame.\n",
      "Try using .loc[row_indexer,col_indexer] = value instead\n",
      "\n",
      "See the caveats in the documentation: https://pandas.pydata.org/pandas-docs/stable/user_guide/indexing.html#returning-a-view-versus-a-copy\n",
      "  after removing the cwd from sys.path.\n"
     ]
    },
    {
     "data": {
      "text/plain": [
       "<matplotlib.axes._subplots.AxesSubplot at 0x1a23af46d0>"
      ]
     },
     "execution_count": 51,
     "metadata": {},
     "output_type": "execute_result"
    },
    {
     "data": {
      "image/png": "[encoded data removed]",
      "text/plain": [
       "<Figure size 432x288 with 1 Axes>"
      ]
     },
     "metadata": {
      "needs_background": "light"
     },
     "output_type": "display_data"
    }
   ],
   "source": [
    "kmeans = KMeans(n_clusters=3)\n",
    "kmeans.fit(X)\n",
    "df5=df2[['Years Employed','Income']]\n",
    "df5[\"clase\"]=kmeans.labels_\n",
    "sns.scatterplot(df5['Years Employed'], df5['Income'], hue = df5[\"clase\"], palette=\"Set2\")"
   ]
  },
  {
   "cell_type": "code",
   "execution_count": 52,
   "metadata": {},
   "outputs": [
    {
     "data": {
      "text/html": [
       "<div>\n",
       "<style scoped>\n",
       "    .dataframe tbody tr th:only-of-type {\n",
       "        vertical-align: middle;\n",
       "    }\n",
       "\n",
       "    .dataframe tbody tr th {\n",
       "        vertical-align: top;\n",
       "    }\n",
       "\n",
       "    .dataframe thead th {\n",
       "        text-align: right;\n",
       "    }\n",
       "</style>\n",
       "<table border=\"1\" class=\"dataframe\">\n",
       "  <thead>\n",
       "    <tr style=\"text-align: right;\">\n",
       "      <th></th>\n",
       "      <th>Age</th>\n",
       "      <th>Edu</th>\n",
       "      <th>Years Employed</th>\n",
       "      <th>Income</th>\n",
       "      <th>Card Debt</th>\n",
       "      <th>Defaulted</th>\n",
       "    </tr>\n",
       "  </thead>\n",
       "  <tbody>\n",
       "    <tr>\n",
       "      <th>0</th>\n",
       "      <td>0.583333</td>\n",
       "      <td>0.25</td>\n",
       "      <td>0.181818</td>\n",
       "      <td>0.013857</td>\n",
       "      <td>0.005450</td>\n",
       "      <td>0.000000</td>\n",
       "    </tr>\n",
       "    <tr>\n",
       "      <th>1</th>\n",
       "      <td>0.750000</td>\n",
       "      <td>0.00</td>\n",
       "      <td>0.787879</td>\n",
       "      <td>0.200924</td>\n",
       "      <td>0.222395</td>\n",
       "      <td>0.000000</td>\n",
       "    </tr>\n",
       "    <tr>\n",
       "      <th>2</th>\n",
       "      <td>0.361111</td>\n",
       "      <td>0.25</td>\n",
       "      <td>0.303030</td>\n",
       "      <td>0.101617</td>\n",
       "      <td>0.296803</td>\n",
       "      <td>1.000000</td>\n",
       "    </tr>\n",
       "    <tr>\n",
       "      <th>3</th>\n",
       "      <td>0.250000</td>\n",
       "      <td>0.25</td>\n",
       "      <td>0.121212</td>\n",
       "      <td>0.013857</td>\n",
       "      <td>0.032556</td>\n",
       "      <td>0.000000</td>\n",
       "    </tr>\n",
       "    <tr>\n",
       "      <th>4</th>\n",
       "      <td>0.750000</td>\n",
       "      <td>0.00</td>\n",
       "      <td>0.939394</td>\n",
       "      <td>0.554273</td>\n",
       "      <td>0.452382</td>\n",
       "      <td>0.000000</td>\n",
       "    </tr>\n",
       "    <tr>\n",
       "      <th>...</th>\n",
       "      <td>...</td>\n",
       "      <td>...</td>\n",
       "      <td>...</td>\n",
       "      <td>...</td>\n",
       "      <td>...</td>\n",
       "      <td>...</td>\n",
       "    </tr>\n",
       "    <tr>\n",
       "      <th>845</th>\n",
       "      <td>0.194444</td>\n",
       "      <td>0.00</td>\n",
       "      <td>0.151515</td>\n",
       "      <td>0.030023</td>\n",
       "      <td>0.026084</td>\n",
       "      <td>0.261429</td>\n",
       "    </tr>\n",
       "    <tr>\n",
       "      <th>846</th>\n",
       "      <td>0.222222</td>\n",
       "      <td>0.25</td>\n",
       "      <td>0.212121</td>\n",
       "      <td>0.048499</td>\n",
       "      <td>0.016886</td>\n",
       "      <td>0.000000</td>\n",
       "    </tr>\n",
       "    <tr>\n",
       "      <th>847</th>\n",
       "      <td>0.138889</td>\n",
       "      <td>0.75</td>\n",
       "      <td>0.000000</td>\n",
       "      <td>0.011547</td>\n",
       "      <td>0.135773</td>\n",
       "      <td>1.000000</td>\n",
       "    </tr>\n",
       "    <tr>\n",
       "      <th>848</th>\n",
       "      <td>0.333333</td>\n",
       "      <td>0.00</td>\n",
       "      <td>0.363636</td>\n",
       "      <td>0.034642</td>\n",
       "      <td>0.005061</td>\n",
       "      <td>0.000000</td>\n",
       "    </tr>\n",
       "    <tr>\n",
       "      <th>849</th>\n",
       "      <td>0.888889</td>\n",
       "      <td>0.00</td>\n",
       "      <td>0.484848</td>\n",
       "      <td>0.117783</td>\n",
       "      <td>0.090223</td>\n",
       "      <td>0.000000</td>\n",
       "    </tr>\n",
       "  </tbody>\n",
       "</table>\n",
       "<p>850 rows × 6 columns</p>\n",
       "</div>"
      ],
      "text/plain": [
       "          Age   Edu  Years Employed    Income  Card Debt  Defaulted\n",
       "0    0.583333  0.25        0.181818  0.013857   0.005450   0.000000\n",
       "1    0.750000  0.00        0.787879  0.200924   0.222395   0.000000\n",
       "2    0.361111  0.25        0.303030  0.101617   0.296803   1.000000\n",
       "3    0.250000  0.25        0.121212  0.013857   0.032556   0.000000\n",
       "4    0.750000  0.00        0.939394  0.554273   0.452382   0.000000\n",
       "..        ...   ...             ...       ...        ...        ...\n",
       "845  0.194444  0.00        0.151515  0.030023   0.026084   0.261429\n",
       "846  0.222222  0.25        0.212121  0.048499   0.016886   0.000000\n",
       "847  0.138889  0.75        0.000000  0.011547   0.135773   1.000000\n",
       "848  0.333333  0.00        0.363636  0.034642   0.005061   0.000000\n",
       "849  0.888889  0.00        0.484848  0.117783   0.090223   0.000000\n",
       "\n",
       "[850 rows x 6 columns]"
      ]
     },
     "execution_count": 52,
     "metadata": {},
     "output_type": "execute_result"
    }
   ],
   "source": [
    "df2"
   ]
  },
  {
   "cell_type": "code",
   "execution_count": 53,
   "metadata": {},
   "outputs": [
    {
     "data": {
      "image/png": "[encoded data removed]",
      "text/plain": [
       "<Figure size 432x288 with 1 Axes>"
      ]
     },
     "metadata": {
      "needs_background": "light"
     },
     "output_type": "display_data"
    }
   ],
   "source": [
    "X=np.array(df2)\n",
    "inercias = [] \n",
    "  \n",
    "for k in range(1,11): \n",
    "    kmeans = KMeans(k)\n",
    "    kmeans.fit(X)     \n",
    "    inercias.append(kmeans.inertia_)\n",
    "\n",
    "plt.plot(range(1,11), inercias, 'bx-') \n",
    "plt.xlabel('Ks') \n",
    "plt.ylabel('Inercia') \n",
    "plt.show()"
   ]
  },
  {
   "cell_type": "code",
   "execution_count": 54,
   "metadata": {},
   "outputs": [],
   "source": [
    "kmeans = KMeans(n_clusters=3)\n",
    "kmeans.fit(X)\n",
    "df2[\"clase\"]=kmeans.labels_"
   ]
  },
  {
   "cell_type": "code",
   "execution_count": 55,
   "metadata": {},
   "outputs": [
    {
     "data": {
      "text/html": [
       "<div>\n",
       "<style scoped>\n",
       "    .dataframe tbody tr th:only-of-type {\n",
       "        vertical-align: middle;\n",
       "    }\n",
       "\n",
       "    .dataframe tbody tr th {\n",
       "        vertical-align: top;\n",
       "    }\n",
       "\n",
       "    .dataframe thead th {\n",
       "        text-align: right;\n",
       "    }\n",
       "</style>\n",
       "<table border=\"1\" class=\"dataframe\">\n",
       "  <thead>\n",
       "    <tr style=\"text-align: right;\">\n",
       "      <th></th>\n",
       "      <th>Age</th>\n",
       "      <th>Edu</th>\n",
       "      <th>Years Employed</th>\n",
       "      <th>Income</th>\n",
       "      <th>Card Debt</th>\n",
       "      <th>Defaulted</th>\n",
       "      <th>clase</th>\n",
       "    </tr>\n",
       "  </thead>\n",
       "  <tbody>\n",
       "    <tr>\n",
       "      <th>0</th>\n",
       "      <td>0.583333</td>\n",
       "      <td>0.25</td>\n",
       "      <td>0.181818</td>\n",
       "      <td>0.013857</td>\n",
       "      <td>0.005450</td>\n",
       "      <td>0.000000</td>\n",
       "      <td>0</td>\n",
       "    </tr>\n",
       "    <tr>\n",
       "      <th>1</th>\n",
       "      <td>0.750000</td>\n",
       "      <td>0.00</td>\n",
       "      <td>0.787879</td>\n",
       "      <td>0.200924</td>\n",
       "      <td>0.222395</td>\n",
       "      <td>0.000000</td>\n",
       "      <td>1</td>\n",
       "    </tr>\n",
       "    <tr>\n",
       "      <th>2</th>\n",
       "      <td>0.361111</td>\n",
       "      <td>0.25</td>\n",
       "      <td>0.303030</td>\n",
       "      <td>0.101617</td>\n",
       "      <td>0.296803</td>\n",
       "      <td>1.000000</td>\n",
       "      <td>2</td>\n",
       "    </tr>\n",
       "    <tr>\n",
       "      <th>3</th>\n",
       "      <td>0.250000</td>\n",
       "      <td>0.25</td>\n",
       "      <td>0.121212</td>\n",
       "      <td>0.013857</td>\n",
       "      <td>0.032556</td>\n",
       "      <td>0.000000</td>\n",
       "      <td>0</td>\n",
       "    </tr>\n",
       "    <tr>\n",
       "      <th>4</th>\n",
       "      <td>0.750000</td>\n",
       "      <td>0.00</td>\n",
       "      <td>0.939394</td>\n",
       "      <td>0.554273</td>\n",
       "      <td>0.452382</td>\n",
       "      <td>0.000000</td>\n",
       "      <td>1</td>\n",
       "    </tr>\n",
       "    <tr>\n",
       "      <th>...</th>\n",
       "      <td>...</td>\n",
       "      <td>...</td>\n",
       "      <td>...</td>\n",
       "      <td>...</td>\n",
       "      <td>...</td>\n",
       "      <td>...</td>\n",
       "      <td>...</td>\n",
       "    </tr>\n",
       "    <tr>\n",
       "      <th>845</th>\n",
       "      <td>0.194444</td>\n",
       "      <td>0.00</td>\n",
       "      <td>0.151515</td>\n",
       "      <td>0.030023</td>\n",
       "      <td>0.026084</td>\n",
       "      <td>0.261429</td>\n",
       "      <td>0</td>\n",
       "    </tr>\n",
       "    <tr>\n",
       "      <th>846</th>\n",
       "      <td>0.222222</td>\n",
       "      <td>0.25</td>\n",
       "      <td>0.212121</td>\n",
       "      <td>0.048499</td>\n",
       "      <td>0.016886</td>\n",
       "      <td>0.000000</td>\n",
       "      <td>0</td>\n",
       "    </tr>\n",
       "    <tr>\n",
       "      <th>847</th>\n",
       "      <td>0.138889</td>\n",
       "      <td>0.75</td>\n",
       "      <td>0.000000</td>\n",
       "      <td>0.011547</td>\n",
       "      <td>0.135773</td>\n",
       "      <td>1.000000</td>\n",
       "      <td>2</td>\n",
       "    </tr>\n",
       "    <tr>\n",
       "      <th>848</th>\n",
       "      <td>0.333333</td>\n",
       "      <td>0.00</td>\n",
       "      <td>0.363636</td>\n",
       "      <td>0.034642</td>\n",
       "      <td>0.005061</td>\n",
       "      <td>0.000000</td>\n",
       "      <td>0</td>\n",
       "    </tr>\n",
       "    <tr>\n",
       "      <th>849</th>\n",
       "      <td>0.888889</td>\n",
       "      <td>0.00</td>\n",
       "      <td>0.484848</td>\n",
       "      <td>0.117783</td>\n",
       "      <td>0.090223</td>\n",
       "      <td>0.000000</td>\n",
       "      <td>1</td>\n",
       "    </tr>\n",
       "  </tbody>\n",
       "</table>\n",
       "<p>850 rows × 7 columns</p>\n",
       "</div>"
      ],
      "text/plain": [
       "          Age   Edu  Years Employed    Income  Card Debt  Defaulted  clase\n",
       "0    0.583333  0.25        0.181818  0.013857   0.005450   0.000000      0\n",
       "1    0.750000  0.00        0.787879  0.200924   0.222395   0.000000      1\n",
       "2    0.361111  0.25        0.303030  0.101617   0.296803   1.000000      2\n",
       "3    0.250000  0.25        0.121212  0.013857   0.032556   0.000000      0\n",
       "4    0.750000  0.00        0.939394  0.554273   0.452382   0.000000      1\n",
       "..        ...   ...             ...       ...        ...        ...    ...\n",
       "845  0.194444  0.00        0.151515  0.030023   0.026084   0.261429      0\n",
       "846  0.222222  0.25        0.212121  0.048499   0.016886   0.000000      0\n",
       "847  0.138889  0.75        0.000000  0.011547   0.135773   1.000000      2\n",
       "848  0.333333  0.00        0.363636  0.034642   0.005061   0.000000      0\n",
       "849  0.888889  0.00        0.484848  0.117783   0.090223   0.000000      1\n",
       "\n",
       "[850 rows x 7 columns]"
      ]
     },
     "execution_count": 55,
     "metadata": {},
     "output_type": "execute_result"
    }
   ],
   "source": [
    "df2"
   ]
  },
  {
   "cell_type": "code",
   "execution_count": 56,
   "metadata": {},
   "outputs": [
    {
     "data": {
      "text/plain": [
       "<matplotlib.axes._subplots.AxesSubplot at 0x1a22e70490>"
      ]
     },
     "execution_count": 56,
     "metadata": {},
     "output_type": "execute_result"
    },
    {
     "data": {
      "image/png": "[encoded data removed]",
      "text/plain": [
       "<Figure size 432x288 with 1 Axes>"
      ]
     },
     "metadata": {
      "needs_background": "light"
     },
     "output_type": "display_data"
    }
   ],
   "source": [
    "sns.scatterplot(df2['Years Employed'], df2['Income'], hue = df2[\"clase\"], palette=\"Set2\")"
   ]
  },
  {
   "cell_type": "code",
   "execution_count": 58,
   "metadata": {},
   "outputs": [
    {
     "data": {
      "text/plain": [
       "<matplotlib.axes._subplots.AxesSubplot at 0x1a2238f610>"
      ]
     },
     "execution_count": 58,
     "metadata": {},
     "output_type": "execute_result"
    },
    {
     "data": {
      "image/png": "[encoded data removed]",
      "text/plain": [
       "<Figure size 432x288 with 1 Axes>"
      ]
     },
     "metadata": {
      "needs_background": "light"
     },
     "output_type": "display_data"
    }
   ],
   "source": [
    "sns.scatterplot(df2['Age'], df2['Income'], hue = df2[\"clase\"], palette=\"Set2\")"
   ]
  },
  {
   "cell_type": "code",
   "execution_count": 57,
   "metadata": {},
   "outputs": [
    {
     "data": {
      "text/plain": [
       "Index(['Age', 'Edu', 'Years Employed', 'Income', 'Card Debt', 'Defaulted',\n",
       "       'clase'],\n",
       "      dtype='object')"
      ]
     },
     "execution_count": 57,
     "metadata": {},
     "output_type": "execute_result"
    }
   ],
   "source": [
    "df2.columns"
   ]
  },
  {
   "cell_type": "code",
   "execution_count": null,
   "metadata": {},
   "outputs": [],
   "source": []
  }
 ],
 "metadata": {
  "kernelspec": {
   "display_name": "Python 3",
   "language": "python",
   "name": "python3"
  },
  "language_info": {
   "codemirror_mode": {
    "name": "ipython",
    "version": 3
   },
   "file_extension": ".py",
   "mimetype": "text/x-python",
   "name": "python",
   "nbconvert_exporter": "python",
   "pygments_lexer": "ipython3",
   "version": "3.7.4"
  }
 },
 "nbformat": 4,
 "nbformat_minor": 4
}
