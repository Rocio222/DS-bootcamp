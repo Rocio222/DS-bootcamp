{
 "cells": [
  {
   "cell_type": "code",
   "execution_count": 1,
   "metadata": {},
   "outputs": [],
   "source": [
    "import pandas as pd\n",
    "import numpy as np\n",
    "from sklearn import datasets\n",
    "from sklearn.neighbors import NearestCentroid\n",
    "from sklearn.model_selection import train_test_split"
   ]
  },
  {
   "cell_type": "code",
   "execution_count": 2,
   "metadata": {},
   "outputs": [],
   "source": [
    "iris = datasets.load_iris()\n",
    "X = iris.data\n",
    "y = iris.target"
   ]
  },
  {
   "cell_type": "code",
   "execution_count": 18,
   "metadata": {},
   "outputs": [
    {
     "data": {
      "text/plain": [
       "array(['setosa', 'versicolor', 'virginica'], dtype='<U10')"
      ]
     },
     "execution_count": 18,
     "metadata": {},
     "output_type": "execute_result"
    }
   ],
   "source": [
    "iris.target_names"
   ]
  },
  {
   "cell_type": "code",
   "execution_count": 3,
   "metadata": {},
   "outputs": [
    {
     "name": "stdout",
     "output_type": "stream",
     "text": [
      "Train set: (105, 4) (105,)\n",
      "Test set: (45, 4) (45,)\n"
     ]
    }
   ],
   "source": [
    "#División del dataset \n",
    "\n",
    "X_train, X_test, y_train, y_test = train_test_split( X, y, test_size=0.30)\n",
    "print ('Train set:', X_train.shape,  y_train.shape)\n",
    "print ('Test set:', X_test.shape,  y_test.shape)"
   ]
  },
  {
   "cell_type": "code",
   "execution_count": 4,
   "metadata": {},
   "outputs": [
    {
     "data": {
      "text/plain": [
       "0.9333333333333333"
      ]
     },
     "execution_count": 4,
     "metadata": {},
     "output_type": "execute_result"
    }
   ],
   "source": [
    "clasificador = NearestCentroid()\n",
    "clasificador.fit(X_train,y_train)\n",
    "y_pred = clasificador.predict(X_test)\n",
    "clasificador.score(X_test,y_test)"
   ]
  },
  {
   "cell_type": "code",
   "execution_count": 5,
   "metadata": {},
   "outputs": [
    {
     "data": {
      "text/plain": [
       "0.9333333333333333"
      ]
     },
     "execution_count": 5,
     "metadata": {},
     "output_type": "execute_result"
    }
   ],
   "source": [
    "#EVALUACION DEL RENDIMIENTO\n",
    "from sklearn.metrics import accuracy_score\n",
    "accuracy_score(y_test, y_pred, normalize=True)"
   ]
  },
  {
   "cell_type": "code",
   "execution_count": 10,
   "metadata": {},
   "outputs": [
    {
     "data": {
      "text/plain": [
       "array([5.5, 2.5, 4. , 1.3])"
      ]
     },
     "execution_count": 10,
     "metadata": {},
     "output_type": "execute_result"
    }
   ],
   "source": [
    "X_test[0]"
   ]
  },
  {
   "cell_type": "code",
   "execution_count": 14,
   "metadata": {},
   "outputs": [
    {
     "data": {
      "text/plain": [
       "array([0])"
      ]
     },
     "execution_count": 14,
     "metadata": {},
     "output_type": "execute_result"
    }
   ],
   "source": [
    "clasificador.predict([np.array([5.4, 1.5, 2. , 1.3])])"
   ]
  },
  {
   "cell_type": "code",
   "execution_count": 13,
   "metadata": {},
   "outputs": [
    {
     "data": {
      "text/plain": [
       "1"
      ]
     },
     "execution_count": 13,
     "metadata": {},
     "output_type": "execute_result"
    }
   ],
   "source": [
    "y_test[0]"
   ]
  },
  {
   "cell_type": "code",
   "execution_count": 15,
   "metadata": {},
   "outputs": [
    {
     "data": {
      "text/plain": [
       "array([1, 2, 2, 2, 2, 1, 1, 1, 0, 2, 2, 0, 2, 1, 1, 1, 1, 0, 0, 0, 2, 2,\n",
       "       0, 0, 1, 0, 2, 1, 1, 0, 0, 0, 2, 0, 1, 0, 2, 2, 0, 0, 0, 0, 1, 1,\n",
       "       0])"
      ]
     },
     "execution_count": 15,
     "metadata": {},
     "output_type": "execute_result"
    }
   ],
   "source": [
    "y_test"
   ]
  },
  {
   "cell_type": "code",
   "execution_count": 16,
   "metadata": {},
   "outputs": [
    {
     "data": {
      "text/plain": [
       "array([[5.5, 2.5, 4. , 1.3],\n",
       "       [5.8, 2.7, 5.1, 1.9],\n",
       "       [6.9, 3.1, 5.4, 2.1],\n",
       "       [6.7, 3.1, 5.6, 2.4],\n",
       "       [6.1, 3. , 4.9, 1.8],\n",
       "       [6.6, 2.9, 4.6, 1.3],\n",
       "       [6.4, 3.2, 4.5, 1.5],\n",
       "       [6. , 2.7, 5.1, 1.6],\n",
       "       [5.1, 3.8, 1.6, 0.2],\n",
       "       [6.5, 3.2, 5.1, 2. ],\n",
       "       [6.2, 2.8, 4.8, 1.8],\n",
       "       [5.8, 4. , 1.2, 0.2],\n",
       "       [6.4, 2.8, 5.6, 2.2],\n",
       "       [6.1, 2.9, 4.7, 1.4],\n",
       "       [7. , 3.2, 4.7, 1.4],\n",
       "       [6.3, 2.5, 4.9, 1.5],\n",
       "       [5.8, 2.7, 3.9, 1.2],\n",
       "       [5. , 3.4, 1.6, 0.4],\n",
       "       [5.1, 3.5, 1.4, 0.2],\n",
       "       [5. , 3.6, 1.4, 0.2],\n",
       "       [7.2, 3.6, 6.1, 2.5],\n",
       "       [6.3, 2.5, 5. , 1.9],\n",
       "       [5.4, 3.4, 1.7, 0.2],\n",
       "       [4.6, 3.6, 1. , 0.2],\n",
       "       [5.9, 3.2, 4.8, 1.8],\n",
       "       [5.1, 3.4, 1.5, 0.2],\n",
       "       [7.4, 2.8, 6.1, 1.9],\n",
       "       [5.5, 2.6, 4.4, 1.2],\n",
       "       [6.1, 2.8, 4.7, 1.2],\n",
       "       [5. , 3.5, 1.3, 0.3],\n",
       "       [5. , 3. , 1.6, 0.2],\n",
       "       [5.1, 3.5, 1.4, 0.3],\n",
       "       [5.9, 3. , 5.1, 1.8],\n",
       "       [5.5, 4.2, 1.4, 0.2],\n",
       "       [6.1, 3. , 4.6, 1.4],\n",
       "       [5.1, 3.8, 1.9, 0.4],\n",
       "       [6.4, 3.2, 5.3, 2.3],\n",
       "       [7.3, 2.9, 6.3, 1.8],\n",
       "       [4.3, 3. , 1.1, 0.1],\n",
       "       [4.6, 3.4, 1.4, 0.3],\n",
       "       [5.7, 4.4, 1.5, 0.4],\n",
       "       [5.7, 3.8, 1.7, 0.3],\n",
       "       [5.7, 2.9, 4.2, 1.3],\n",
       "       [5.7, 2.8, 4.5, 1.3],\n",
       "       [4.9, 3. , 1.4, 0.2]])"
      ]
     },
     "execution_count": 16,
     "metadata": {},
     "output_type": "execute_result"
    }
   ],
   "source": [
    "X_test"
   ]
  },
  {
   "cell_type": "code",
   "execution_count": null,
   "metadata": {},
   "outputs": [],
   "source": []
  }
 ],
 "metadata": {
  "kernelspec": {
   "display_name": "Python 3",
   "language": "python",
   "name": "python3"
  },
  "language_info": {
   "codemirror_mode": {
    "name": "ipython",
    "version": 3
   },
   "file_extension": ".py",
   "mimetype": "text/x-python",
   "name": "python",
   "nbconvert_exporter": "python",
   "pygments_lexer": "ipython3",
   "version": "3.7.4"
  }
 },
 "nbformat": 4,
 "nbformat_minor": 4
}
