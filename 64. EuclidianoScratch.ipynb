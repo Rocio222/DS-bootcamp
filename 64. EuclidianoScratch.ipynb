{
 "cells": [
  {
   "cell_type": "code",
   "execution_count": 1,
   "metadata": {},
   "outputs": [],
   "source": [
    "import pandas as pd\n",
    "import numpy as np\n",
    "import seaborn as sns\n",
    "from sklearn import datasets\n",
    "import matplotlib.pyplot as plt\n",
    "from sklearn.neighbors import NearestCentroid"
   ]
  },
  {
   "cell_type": "code",
   "execution_count": 2,
   "metadata": {},
   "outputs": [],
   "source": [
    "iris = datasets.load_iris()\n",
    "X = iris.data\n",
    "y = iris.target"
   ]
  },
  {
   "cell_type": "code",
   "execution_count": 5,
   "metadata": {},
   "outputs": [],
   "source": [
    "#Definimos la fución de la distancia euclidiana\n",
    "def dist_euclidiana(a,b):\n",
    "    dist_eu = np.sqrt(np.sum((a-b)**2))\n",
    "    return dist_eu"
   ]
  },
  {
   "cell_type": "code",
   "execution_count": 9,
   "metadata": {},
   "outputs": [
    {
     "data": {
      "text/plain": [
       "5.477225575051661"
      ]
     },
     "execution_count": 9,
     "metadata": {},
     "output_type": "execute_result"
    }
   ],
   "source": [
    "m1 = np.array([2,3,4,5])\n",
    "patron =np.array([1,1,1,1])\n",
    "dist_euclidiana(m1,patron)"
   ]
  },
  {
   "cell_type": "code",
   "execution_count": 34,
   "metadata": {},
   "outputs": [
    {
     "data": {
      "text/plain": [
       "array([0, 1, 2, 2, 2, 1, 1, 0, 0, 0, 2, 2, 1, 0, 0, 1, 2, 0, 2, 1, 2, 2,\n",
       "       0, 1, 2, 1, 2, 1, 2, 0, 1, 1, 2, 1, 1, 1, 1, 1, 1, 2, 1, 2, 0, 0,\n",
       "       0, 0, 2, 0, 2, 2, 0, 1, 2, 0, 0, 1, 1, 2, 0, 2, 2, 0, 2, 1, 1, 0,\n",
       "       1, 1, 0, 1, 0, 1, 1, 2, 0, 1, 2, 2, 0, 0, 1, 2, 2, 1, 0, 1, 1, 0,\n",
       "       0, 1, 2, 0, 1, 0, 0, 2, 0, 1, 0, 2, 1, 0, 1, 0, 2])"
      ]
     },
     "execution_count": 34,
     "metadata": {},
     "output_type": "execute_result"
    }
   ],
   "source": [
    "y_train"
   ]
  },
  {
   "cell_type": "code",
   "execution_count": 36,
   "metadata": {
    "collapsed": true,
    "jupyter": {
     "outputs_hidden": true
    }
   },
   "outputs": [
    {
     "name": "stdout",
     "output_type": "stream",
     "text": [
      "0 [5.8 4.  1.2 0.2]\n",
      "1 [6.9 3.1 4.9 1.5]\n",
      "2 [6.8 3.  5.5 2.1]\n",
      "3 [7.3 2.9 6.3 1.8]\n",
      "4 [5.8 2.8 5.1 2.4]\n",
      "5 [7.  3.2 4.7 1.4]\n",
      "6 [5.5 2.3 4.  1.3]\n",
      "7 [5.4 3.4 1.5 0.4]\n",
      "8 [4.5 2.3 1.3 0.3]\n",
      "9 [5.2 3.5 1.5 0.2]\n",
      "10 [6.1 2.6 5.6 1.4]\n",
      "11 [7.2 3.6 6.1 2.5]\n",
      "12 [5.6 3.  4.5 1.5]\n",
      "13 [4.9 3.6 1.4 0.1]\n",
      "14 [5.1 3.3 1.7 0.5]\n",
      "15 [6.  2.2 4.  1. ]\n",
      "16 [5.7 2.5 5.  2. ]\n",
      "17 [4.8 3.  1.4 0.1]\n",
      "18 [6.1 3.  4.9 1.8]\n",
      "19 [6.2 2.2 4.5 1.5]\n",
      "20 [4.9 2.5 4.5 1.7]\n",
      "21 [7.1 3.  5.9 2.1]\n",
      "22 [5.  3.6 1.4 0.2]\n",
      "23 [5.6 2.5 3.9 1.1]\n",
      "24 [7.4 2.8 6.1 1.9]\n",
      "25 [5.5 2.5 4.  1.3]\n",
      "26 [6.7 3.1 5.6 2.4]\n",
      "27 [5.7 2.9 4.2 1.3]\n",
      "28 [6.8 3.2 5.9 2.3]\n",
      "29 [5.2 4.1 1.5 0.1]\n",
      "30 [5.1 2.5 3.  1.1]\n",
      "31 [5.5 2.6 4.4 1.2]\n",
      "32 [6.3 2.7 4.9 1.8]\n",
      "33 [5.5 2.4 3.8 1.1]\n",
      "34 [6.1 2.8 4.7 1.2]\n",
      "35 [6.  2.9 4.5 1.5]\n",
      "36 [6.7 3.1 4.7 1.5]\n",
      "37 [6.6 2.9 4.6 1.3]\n",
      "38 [5.8 2.7 3.9 1.2]\n",
      "39 [6.4 3.2 5.3 2.3]\n",
      "40 [5.9 3.2 4.8 1.8]\n",
      "41 [6.4 2.8 5.6 2.2]\n",
      "42 [4.8 3.1 1.6 0.2]\n",
      "43 [4.9 3.1 1.5 0.2]\n",
      "44 [4.6 3.1 1.5 0.2]\n",
      "45 [4.8 3.  1.4 0.3]\n",
      "46 [6.3 2.5 5.  1.9]\n",
      "47 [4.7 3.2 1.3 0.2]\n",
      "48 [7.7 2.8 6.7 2. ]\n",
      "49 [6.4 3.1 5.5 1.8]\n",
      "50 [5.2 3.4 1.4 0.2]\n",
      "51 [4.9 2.4 3.3 1. ]\n",
      "52 [6.  3.  4.8 1.8]\n",
      "53 [4.4 3.  1.3 0.2]\n",
      "54 [4.6 3.2 1.4 0.2]\n",
      "55 [5.5 2.4 3.7 1. ]\n",
      "56 [6.4 2.9 4.3 1.3]\n",
      "57 [5.9 3.  5.1 1.8]\n",
      "58 [5.4 3.9 1.7 0.4]\n",
      "59 [6.2 2.8 4.8 1.8]\n",
      "60 [6.9 3.1 5.4 2.1]\n",
      "61 [5.4 3.4 1.7 0.2]\n",
      "62 [5.6 2.8 4.9 2. ]\n",
      "63 [6.3 3.3 4.7 1.6]\n",
      "64 [5.6 3.  4.1 1.3]\n",
      "65 [4.9 3.  1.4 0.2]\n",
      "66 [6.  3.4 4.5 1.6]\n",
      "67 [5.7 2.8 4.5 1.3]\n",
      "68 [5.7 4.4 1.5 0.4]\n",
      "69 [5.  2.  3.5 1. ]\n",
      "70 [5.  3.5 1.3 0.3]\n",
      "71 [5.9 3.  4.2 1.5]\n",
      "72 [6.6 3.  4.4 1.4]\n",
      "73 [7.7 3.8 6.7 2.2]\n",
      "74 [5.  3.4 1.5 0.2]\n",
      "75 [6.1 2.9 4.7 1.4]\n",
      "76 [7.9 3.8 6.4 2. ]\n",
      "77 [7.6 3.  6.6 2.1]\n",
      "78 [5.4 3.9 1.3 0.4]\n",
      "79 [5.1 3.5 1.4 0.3]\n",
      "80 [5.8 2.6 4.  1.2]\n",
      "81 [6.3 3.3 6.  2.5]\n",
      "82 [7.7 2.6 6.9 2.3]\n",
      "83 [5.8 2.7 4.1 1. ]\n",
      "84 [4.7 3.2 1.6 0.2]\n",
      "85 [6.1 3.  4.6 1.4]\n",
      "86 [6.4 3.2 4.5 1.5]\n",
      "87 [5.  3.3 1.4 0.2]\n",
      "88 [5.5 4.2 1.4 0.2]\n",
      "89 [6.7 3.1 4.4 1.4]\n",
      "90 [6.7 3.3 5.7 2.1]\n",
      "91 [5.3 3.7 1.5 0.2]\n",
      "92 [5.7 2.6 3.5 1. ]\n",
      "93 [4.9 3.1 1.5 0.1]\n",
      "94 [5.4 3.7 1.5 0.2]\n",
      "95 [6.3 2.8 5.1 1.5]\n",
      "96 [5.1 3.5 1.4 0.2]\n",
      "97 [6.  2.7 5.1 1.6]\n",
      "98 [4.4 3.2 1.3 0.2]\n",
      "99 [6.3 3.4 5.6 2.4]\n",
      "100 [5.6 2.9 3.6 1.3]\n",
      "101 [4.8 3.4 1.9 0.2]\n",
      "102 [5.7 3.  4.2 1.2]\n",
      "103 [5.7 3.8 1.7 0.3]\n",
      "104 [6.3 2.9 5.6 1.8]\n"
     ]
    }
   ],
   "source": [
    "# Esto es un contador y hace el mismo trabajo que el enumerate \n",
    "k=0\n",
    "for i in X_train:\n",
    "    print(k,i)\n",
    "    k+=1"
   ]
  },
  {
   "cell_type": "code",
   "execution_count": 33,
   "metadata": {
    "collapsed": true,
    "jupyter": {
     "outputs_hidden": true
    }
   },
   "outputs": [
    {
     "name": "stdout",
     "output_type": "stream",
     "text": [
      "[5.8 4.  1.2 0.2]\n",
      "0\n",
      "[6.9 3.1 4.9 1.5]\n",
      "1\n",
      "[6.8 3.  5.5 2.1]\n",
      "2\n",
      "[7.3 2.9 6.3 1.8]\n",
      "2\n",
      "[5.8 2.8 5.1 2.4]\n",
      "2\n",
      "[7.  3.2 4.7 1.4]\n",
      "1\n",
      "[5.5 2.3 4.  1.3]\n",
      "1\n",
      "[5.4 3.4 1.5 0.4]\n",
      "0\n",
      "[4.5 2.3 1.3 0.3]\n",
      "0\n",
      "[5.2 3.5 1.5 0.2]\n",
      "0\n",
      "[6.1 2.6 5.6 1.4]\n",
      "2\n",
      "[7.2 3.6 6.1 2.5]\n",
      "2\n",
      "[5.6 3.  4.5 1.5]\n",
      "1\n",
      "[4.9 3.6 1.4 0.1]\n",
      "0\n",
      "[5.1 3.3 1.7 0.5]\n",
      "0\n",
      "[6.  2.2 4.  1. ]\n",
      "1\n",
      "[5.7 2.5 5.  2. ]\n",
      "2\n",
      "[4.8 3.  1.4 0.1]\n",
      "0\n",
      "[6.1 3.  4.9 1.8]\n",
      "2\n",
      "[6.2 2.2 4.5 1.5]\n",
      "1\n",
      "[4.9 2.5 4.5 1.7]\n",
      "2\n",
      "[7.1 3.  5.9 2.1]\n",
      "2\n",
      "[5.  3.6 1.4 0.2]\n",
      "0\n",
      "[5.6 2.5 3.9 1.1]\n",
      "1\n",
      "[7.4 2.8 6.1 1.9]\n",
      "2\n",
      "[5.5 2.5 4.  1.3]\n",
      "1\n",
      "[6.7 3.1 5.6 2.4]\n",
      "2\n",
      "[5.7 2.9 4.2 1.3]\n",
      "1\n",
      "[6.8 3.2 5.9 2.3]\n",
      "2\n",
      "[5.2 4.1 1.5 0.1]\n",
      "0\n",
      "[5.1 2.5 3.  1.1]\n",
      "1\n",
      "[5.5 2.6 4.4 1.2]\n",
      "1\n",
      "[6.3 2.7 4.9 1.8]\n",
      "2\n",
      "[5.5 2.4 3.8 1.1]\n",
      "1\n",
      "[6.1 2.8 4.7 1.2]\n",
      "1\n",
      "[6.  2.9 4.5 1.5]\n",
      "1\n",
      "[6.7 3.1 4.7 1.5]\n",
      "1\n",
      "[6.6 2.9 4.6 1.3]\n",
      "1\n",
      "[5.8 2.7 3.9 1.2]\n",
      "1\n",
      "[6.4 3.2 5.3 2.3]\n",
      "2\n",
      "[5.9 3.2 4.8 1.8]\n",
      "1\n",
      "[6.4 2.8 5.6 2.2]\n",
      "2\n",
      "[4.8 3.1 1.6 0.2]\n",
      "0\n",
      "[4.9 3.1 1.5 0.2]\n",
      "0\n",
      "[4.6 3.1 1.5 0.2]\n",
      "0\n",
      "[4.8 3.  1.4 0.3]\n",
      "0\n",
      "[6.3 2.5 5.  1.9]\n",
      "2\n",
      "[4.7 3.2 1.3 0.2]\n",
      "0\n",
      "[7.7 2.8 6.7 2. ]\n",
      "2\n",
      "[6.4 3.1 5.5 1.8]\n",
      "2\n",
      "[5.2 3.4 1.4 0.2]\n",
      "0\n",
      "[4.9 2.4 3.3 1. ]\n",
      "1\n",
      "[6.  3.  4.8 1.8]\n",
      "2\n",
      "[4.4 3.  1.3 0.2]\n",
      "0\n",
      "[4.6 3.2 1.4 0.2]\n",
      "0\n",
      "[5.5 2.4 3.7 1. ]\n",
      "1\n",
      "[6.4 2.9 4.3 1.3]\n",
      "1\n",
      "[5.9 3.  5.1 1.8]\n",
      "2\n",
      "[5.4 3.9 1.7 0.4]\n",
      "0\n",
      "[6.2 2.8 4.8 1.8]\n",
      "2\n",
      "[6.9 3.1 5.4 2.1]\n",
      "2\n",
      "[5.4 3.4 1.7 0.2]\n",
      "0\n",
      "[5.6 2.8 4.9 2. ]\n",
      "2\n",
      "[6.3 3.3 4.7 1.6]\n",
      "1\n",
      "[5.6 3.  4.1 1.3]\n",
      "1\n",
      "[4.9 3.  1.4 0.2]\n",
      "0\n",
      "[6.  3.4 4.5 1.6]\n",
      "1\n",
      "[5.7 2.8 4.5 1.3]\n",
      "1\n",
      "[5.7 4.4 1.5 0.4]\n",
      "0\n",
      "[5.  2.  3.5 1. ]\n",
      "1\n",
      "[5.  3.5 1.3 0.3]\n",
      "0\n",
      "[5.9 3.  4.2 1.5]\n",
      "1\n",
      "[6.6 3.  4.4 1.4]\n",
      "1\n",
      "[7.7 3.8 6.7 2.2]\n",
      "2\n",
      "[5.  3.4 1.5 0.2]\n",
      "0\n",
      "[6.1 2.9 4.7 1.4]\n",
      "1\n",
      "[7.9 3.8 6.4 2. ]\n",
      "2\n",
      "[7.6 3.  6.6 2.1]\n",
      "2\n",
      "[5.4 3.9 1.3 0.4]\n",
      "0\n",
      "[5.1 3.5 1.4 0.3]\n",
      "0\n",
      "[5.8 2.6 4.  1.2]\n",
      "1\n",
      "[6.3 3.3 6.  2.5]\n",
      "2\n",
      "[7.7 2.6 6.9 2.3]\n",
      "2\n",
      "[5.8 2.7 4.1 1. ]\n",
      "1\n",
      "[4.7 3.2 1.6 0.2]\n",
      "0\n",
      "[6.1 3.  4.6 1.4]\n",
      "1\n",
      "[6.4 3.2 4.5 1.5]\n",
      "1\n",
      "[5.  3.3 1.4 0.2]\n",
      "0\n",
      "[5.5 4.2 1.4 0.2]\n",
      "0\n",
      "[6.7 3.1 4.4 1.4]\n",
      "1\n",
      "[6.7 3.3 5.7 2.1]\n",
      "2\n",
      "[5.3 3.7 1.5 0.2]\n",
      "0\n",
      "[5.7 2.6 3.5 1. ]\n",
      "1\n",
      "[4.9 3.1 1.5 0.1]\n",
      "0\n",
      "[5.4 3.7 1.5 0.2]\n",
      "0\n",
      "[6.3 2.8 5.1 1.5]\n",
      "2\n",
      "[5.1 3.5 1.4 0.2]\n",
      "0\n",
      "[6.  2.7 5.1 1.6]\n",
      "1\n",
      "[4.4 3.2 1.3 0.2]\n",
      "0\n",
      "[6.3 3.4 5.6 2.4]\n",
      "2\n",
      "[5.6 2.9 3.6 1.3]\n",
      "1\n",
      "[4.8 3.4 1.9 0.2]\n",
      "0\n",
      "[5.7 3.  4.2 1.2]\n",
      "1\n",
      "[5.7 3.8 1.7 0.3]\n",
      "0\n",
      "[6.3 2.9 5.6 1.8]\n",
      "2\n"
     ]
    }
   ],
   "source": [
    "# Ejemplo del enumerate \n",
    "for x,i in enumerate(X_train):\n",
    "    print(i)\n",
    "    print(y_train[x])"
   ]
  },
  {
   "cell_type": "code",
   "execution_count": 14,
   "metadata": {},
   "outputs": [],
   "source": [
    "def clasif_euclidiano(X,y,X_test):\n",
    "    m1=np.zeros(4,)\n",
    "    m2=np.zeros(4,)\n",
    "    m3=np.zeros(4,)\n",
    "    for x,i in enumerate(X):\n",
    "        if y[x]==0:\n",
    "            m1 = np.vstack([m1, i])\n",
    "        elif y[x]==1:\n",
    "            m2 = np.vstack([m2, i])\n",
    "        elif y[x]==2:\n",
    "            m3 = np.vstack([m3, i])\n",
    "    m1 = m1.mean()\n",
    "    m2 = m2.mean()\n",
    "    m3 = m3.mean()\n",
    "    yhat_=[]\n",
    "    for patron in X_test:\n",
    "        yhat_.append(np.argmin([dist_euclidiana(patron,m1),dist_euclidiana(patron,m2),dist_euclidiana(patron,m3)]))\n",
    "    return yhat_"
   ]
  },
  {
   "cell_type": "code",
   "execution_count": 15,
   "metadata": {},
   "outputs": [],
   "source": [
    "#División del dataset\n",
    "from sklearn.model_selection import train_test_split\n",
    "X_train, X_test, y_train, y_test = train_test_split(X, y, test_size=0.30)"
   ]
  },
  {
   "cell_type": "code",
   "execution_count": 16,
   "metadata": {},
   "outputs": [],
   "source": [
    "y_pred = clasif_euclidiano(X_train,y_train,X_test)"
   ]
  },
  {
   "cell_type": "code",
   "execution_count": 22,
   "metadata": {},
   "outputs": [
    {
     "name": "stdout",
     "output_type": "stream",
     "text": [
      "[2, 0, 0, 1, 2, 1, 2, 2, 2, 0, 2, 1, 2, 0, 2, 0, 2, 2, 2, 1, 2, 2, 0, 0, 2, 2, 2, 0, 0, 0, 2, 0, 2, 1, 0, 1, 0, 0, 2, 1, 0, 0, 2, 1, 1]\n"
     ]
    }
   ],
   "source": [
    "print(y_pred)"
   ]
  },
  {
   "cell_type": "code",
   "execution_count": 23,
   "metadata": {},
   "outputs": [
    {
     "data": {
      "text/plain": [
       "0.8888888888888888"
      ]
     },
     "execution_count": 23,
     "metadata": {},
     "output_type": "execute_result"
    }
   ],
   "source": [
    "#EVALUACION DEL RENDIMIENTO\n",
    "from sklearn.metrics import accuracy_score\n",
    "accuracy_score(y_test, y_pred)"
   ]
  },
  {
   "cell_type": "code",
   "execution_count": 29,
   "metadata": {},
   "outputs": [
    {
     "data": {
      "text/plain": [
       "[2]"
      ]
     },
     "execution_count": 29,
     "metadata": {},
     "output_type": "execute_result"
    }
   ],
   "source": [
    "clasif_euclidiano(X_train,y_train,np.array([[6.9, 3.2, 5.7, 2.3]]))"
   ]
  },
  {
   "cell_type": "code",
   "execution_count": 28,
   "metadata": {},
   "outputs": [
    {
     "data": {
      "text/plain": [
       "array([6.9, 3.2, 5.7, 2.3])"
      ]
     },
     "execution_count": 28,
     "metadata": {},
     "output_type": "execute_result"
    }
   ],
   "source": [
    "X_test[10]"
   ]
  },
  {
   "cell_type": "code",
   "execution_count": 30,
   "metadata": {},
   "outputs": [
    {
     "data": {
      "text/plain": [
       "2"
      ]
     },
     "execution_count": 30,
     "metadata": {},
     "output_type": "execute_result"
    }
   ],
   "source": [
    "y_test[10]"
   ]
  },
  {
   "cell_type": "code",
   "execution_count": null,
   "metadata": {},
   "outputs": [],
   "source": []
  }
 ],
 "metadata": {
  "kernelspec": {
   "display_name": "Python 3",
   "language": "python",
   "name": "python3"
  },
  "language_info": {
   "codemirror_mode": {
    "name": "ipython",
    "version": 3
   },
   "file_extension": ".py",
   "mimetype": "text/x-python",
   "name": "python",
   "nbconvert_exporter": "python",
   "pygments_lexer": "ipython3",
   "version": "3.7.6"
  }
 },
 "nbformat": 4,
 "nbformat_minor": 4
}
