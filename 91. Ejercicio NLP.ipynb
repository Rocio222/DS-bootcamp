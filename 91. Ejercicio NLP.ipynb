{
 "cells": [
  {
   "cell_type": "code",
   "execution_count": 114,
   "metadata": {},
   "outputs": [],
   "source": [
    "import nltk\n",
    "import requests\n",
    "from bs4 import BeautifulSoup"
   ]
  },
  {
   "cell_type": "code",
   "execution_count": 115,
   "metadata": {},
   "outputs": [],
   "source": [
    "from googletrans import Translator\n",
    "translator = Translator()"
   ]
  },
  {
   "cell_type": "markdown",
   "metadata": {},
   "source": [
    "Hacer Web Scraping sobre los siguientes links para obtener los diálogos de cada capítulo de la serie:\n",
    "- https://bigbangtrans.wordpress.com/series-1-episode-1-pilot-episode/\n",
    "- https://bigbangtrans.wordpress.com/series-1-episode-2-the-big-bran-hypothesis/\n",
    "- https://bigbangtrans.wordpress.com/series-1-episode-3-the-fuzzy-boots-corollary/\n",
    "- https://bigbangtrans.wordpress.com/series-1-episode-4-the-luminous-fish-effect/\n",
    "- https://bigbangtrans.wordpress.com/series-1-episode-5-the-hamburger-postulate/\n"
   ]
  },
  {
   "cell_type": "code",
   "execution_count": 116,
   "metadata": {},
   "outputs": [
    {
     "name": "stdout",
     "output_type": "stream",
     "text": [
      "True\n"
     ]
    }
   ],
   "source": [
    "url = \"https://bigbangtrans.wordpress.com/series-1-episode-1-pilot-episode/\"\n",
    "\n",
    "response = requests.get(url)\n",
    "print(bool(response))\n",
    "soup = BeautifulSoup(response.text, \"html.parser\")"
   ]
  },
  {
   "cell_type": "code",
   "execution_count": 117,
   "metadata": {},
   "outputs": [
    {
     "data": {
      "text/plain": [
       "['Scene: A corridor at a sperm bank.',\n",
       " 'Sheldon: So if a photon is directed through a plane with two slits in it and either slit is observed it will not go through both slits. If it’s unobserved it will, however, if it’s observed after it’s left the plane but before it hits its target, it will not have gone through both slits.',\n",
       " 'Leonard: Agreed, what’s your point?',\n",
       " 'Sheldon: There’s no point, I just think it’s a good idea for a tee-shirt.',\n",
       " 'Leonard: Excuse me?',\n",
       " 'Receptionist: Hang on.',\n",
       " 'Leonard: One across is Aegean, eight down is Nabakov, twenty-six across is MCM, fourteen down is… move your finger… phylum, which makes fourteen across Port-au-Prince. See, Papa Doc’s capital idea, that’s Port-au-Prince. Haiti.',\n",
       " 'Receptionist: Can I help you?',\n",
       " 'Leonard: Yes. Um, is this the High IQ sperm bank?',\n",
       " 'Receptionist: If you have to ask, maybe you shouldn’t be here.',\n",
       " 'Sheldon: I think this is the place.',\n",
       " 'Receptionist: Fill these out.',\n",
       " 'Leonard: Thank-you. We’ll be right back.',\n",
       " 'Receptionist: Oh, take your time. I’ll just finish my crossword puzzle. Oh wait.',\n",
       " '(They sit and begin to fill in forms).',\n",
       " 'Sheldon: Leonard, I don’t think I can do this.',\n",
       " 'Leonard: What, are you kidding? You’re a semi-pro.',\n",
       " 'Sheldon: No. We are committing genetic fraud. There’s no guarantee that our sperm is going to generate high IQ offspring, think about that. I have a sister with the same basic DNA mix who hostesses at Fuddruckers.',\n",
       " 'Leonard: Sheldon, this was your idea. A little extra money to get fractional T1 bandwidth in the apartment.',\n",
       " 'Sheldon: I know, and I do yearn for faster downloads, but there’s some poor woman is going to pin her hopes on my sperm, what if she winds up with a toddler who doesn’t know if he should use an integral or a differential to solve the area under a curve.',\n",
       " 'Leonard: I’m sure she’ll still love him.',\n",
       " 'Sheldon: I wouldn’t.',\n",
       " 'Leonard: Well, what do you want to do?',\n",
       " 'Sheldon: I want to leave.',\n",
       " 'Leonard: Okay.',\n",
       " 'Sheldon: What’s the protocol for leaving?',\n",
       " 'Leonard: I don’t know, I’ve never reneged on a proffer of sperm before.',\n",
       " 'Sheldon: Let’s try just walking out.',\n",
       " 'Leonard: Okay.\\n\\nReceptionist: Bye.',\n",
       " 'Sheldon: Bye-bye',\n",
       " 'Leonard: See you.',\n",
       " 'Scene: The stairs of the apartment building.',\n",
       " 'Sheldon: Are you still mad about the sperm bank?',\n",
       " 'Leonard: No.',\n",
       " 'Sheldon: You want to hear an interesting thing about stairs?',\n",
       " 'Leonard: Not really.',\n",
       " 'Sheldon: If the height of a single step is off by as little as two millimetres, most people will trip.',\n",
       " 'Leonard: I don’t care. Two millimetres? That doesn’t seem right.',\n",
       " 'Sheldon: No, it’s true, I did a series of experiments when I was twelve, my father broke his clavicle.',\n",
       " 'Leonard: Is that why they sent you to boarding school?',\n",
       " 'Sheldon: No, that was the result of my work with lasers.',\n",
       " 'Leonard: New neighbour?',\n",
       " 'Sheldon: Evidently.',\n",
       " 'Leonard: Significant improvement over the old neighbour.',\n",
       " 'Sheldon: Two hundred pound transvestite with a skin condition, yes she is.',\n",
       " 'Penny: Oh, hi!',\n",
       " 'Leonard: Hi.',\n",
       " 'Sheldon: Hi.',\n",
       " 'Leonard: Hi.',\n",
       " 'Sheldon: Hi.',\n",
       " 'Penny: Hi?',\n",
       " 'Leonard: We don’t mean to interrupt, we live across the hall.',\n",
       " 'Penny: Oh, that’s nice.',\n",
       " 'Leonard: Oh… uh… no… we don’t live together… um… we live together but in separate, heterosexual bedrooms.',\n",
       " 'Penny: Oh, okay, well, guess I’m your new neighbour, Penny.',\n",
       " 'Leonard: Leonard, Sheldon.',\n",
       " 'Penny: Hi.',\n",
       " 'Leonard: Hi.',\n",
       " 'Sheldon: Hi.',\n",
       " 'Penny: Hi.',\n",
       " 'Leonard: Hi. Well, uh, oh, welcome to the building.',\n",
       " 'Penny: Thankyou, maybe we can have coffee sometime.',\n",
       " 'Leonard: Oh, great.',\n",
       " 'Penny: Great.',\n",
       " 'Sheldon: Great.',\n",
       " 'Leonard: Great. Well, bye.',\n",
       " 'Penny: Bye.',\n",
       " 'Sheldon: Bye.',\n",
       " 'Leonard: Bye.',\n",
       " 'Leonard: Should we have invited her for lunch?',\n",
       " 'Sheldon: No. We’re going to start Season Two of Battlestar Galactica.',\n",
       " 'Leonard: We already watched the Season Two DVDs.',\n",
       " 'Sheldon: Not with commentary.',\n",
       " 'Leonard: I think we should be good neighbours, invite her over, make her feel welcome.',\n",
       " 'Sheldon: We never invited Louis-slash-Louise over.',\n",
       " 'Leonard: Well, then that was wrong of us. We need to widen our circle.',\n",
       " 'Sheldon: I have a very wide circle. I have 212 friends on myspace.',\n",
       " 'Leonard: Yes, and you’ve never met one of them.',\n",
       " 'Sheldon: That’s the beauty of it.',\n",
       " 'Leonard: I’m going to invite her over. We’ll have a nice meal and chat.',\n",
       " 'Sheldon: Chat? We don’t chat. At least not offline.',\n",
       " 'Leonard: Well it’s not difficult, you just listen to what she says and then you say something appropriate in response.',\n",
       " 'Sheldon: To what end?',\n",
       " 'Leonard: Hi. Again.',\n",
       " 'Penny: Hi.',\n",
       " 'Sheldon: Hi.',\n",
       " 'Leonard: Hi.',\n",
       " 'Penny: Hi.',\n",
       " 'Leonard: Anyway, um. We brought home Indian food. And, um. I know that moving can be stressful, and I find that when I’m undergoing stress, that good food and company can have a comforting effect. Also, curry is a natural laxative, and I don’t have to tell you that, uh, a clean colon is just one less thing to worry about.',\n",
       " 'Sheldon: Leonard, I’m not expert here but I believe in the context of a luncheon invitation, you might want to skip the reference to bowel movements.',\n",
       " 'Penny: Oh, you’re inviting me over to eat?',\n",
       " 'Leonard: Uh, yes.',\n",
       " 'Penny: Oh, that’s so nice, I’d love to.',\n",
       " 'Leonard: Great.',\n",
       " 'Penny: So, what do you guys do for fun around here?',\n",
       " 'Sheldon: Well, today we tried masturbating for money.',\n",
       " 'Credits sequence.',\n",
       " 'Scene: Sheldon and Leonard’s apartment.',\n",
       " 'Leonard: Okay, well, make yourself at home.',\n",
       " 'Penny: Okay, thankyou.',\n",
       " 'Leonard: You’re very welcome.',\n",
       " 'Penny: This looks like some serious stuff, Leonard, did you do this?',\n",
       " 'Sheldon: Actually that’s my work.',\n",
       " 'Penny: Wow.',\n",
       " 'Sheldon: Yeah, well, it’s just some quantum mechanics, with a little string theory doodling around the edges. That part there, that’s just a joke, it’s a spoof of the Bourne-Oppenheimer approximation.',\n",
       " 'Penny: So you’re like, one of those, beautiful mind genius guys.',\n",
       " 'Sheldon: Yeah.',\n",
       " 'Penny: This is really impressive.',\n",
       " 'Leonard: I have a board. If you like boards, this is my board.',\n",
       " 'Penny: Holy smokes.',\n",
       " 'Sheldon: If by holy smokes you mean a derivative restatement of the kind of stuff you can find scribbled on the wall of any men’s room at MIT, sure.',\n",
       " 'Leonard: What?',\n",
       " 'Sheldon: Oh, come on. Who hasn’t seen this differential below “here I sit broken hearted?”',\n",
       " 'Leonard: At least I didn’t have to invent twenty-six dimensions just to make the math come out.',\n",
       " 'Sheldon: I didn’t invent them, they’re there.',\n",
       " 'Leonard: In what universe?',\n",
       " 'Sheldon: In all of them, that is the point.',\n",
       " 'Penny: Uh, do you guys mind if I start?',\n",
       " 'Sheldon: Um, Penny, that’s where I sit.',\n",
       " 'Penny: So, sit next to me.',\n",
       " 'Sheldon: No, I sit there.',\n",
       " 'Penny: What’s the difference?',\n",
       " 'Sheldon: What’s the difference?',\n",
       " 'Leonard: Here we go.',\n",
       " 'Sheldon: In the winter that seat is close enough to the radiator to remain warm, and yet not so close as to cause perspiration. In the summer it’s directly in the path of a cross breeze created by open windows there, and there. It faces the television at an angle that is neither direct, thus discouraging conversation, nor so far wide to create a parallax distortion, I could go on, but I think I’ve made my point.',\n",
       " 'Penny: Do you want me to move?',\n",
       " 'Sheldon: Well.',\n",
       " 'Leonard: Just sit somewhere else.',\n",
       " 'Sheldon: Fine. (Wanders in circles, looking lost.)',\n",
       " 'Leonard: Sheldon, sit!',\n",
       " 'Sheldon: Aaah!',\n",
       " 'Leonard: Well this is nice. We don’t have a lot of company over.',\n",
       " 'Sheldon: That’s not true. Koothrapali and Wolowitz come over all the time.',\n",
       " 'Leonard: Yes I now, but…',\n",
       " 'Sheldon: Tuesday night we played Klingon boggle until one in the morning.',\n",
       " 'Leonard: Yes, I remember.',\n",
       " 'Sheldon: I resent you saying we don’t have company.',\n",
       " 'Leonard: I’m sorry.',\n",
       " 'Sheldon: That is an antisocial implication.',\n",
       " 'Leonard: I said I’m sorry.',\n",
       " 'Penny: So, Klingon boggle?',\n",
       " 'Leonard: Yeah, it’s like regular boggle but, in Klingon. That’s probably enough about us, tell us about you.',\n",
       " 'Penny: Um, me, okay, I’m Sagittarius, which probably tells you way more than you need to know.',\n",
       " 'Sheldon: Yes, it tells us that you participate in the mass cultural delusion that the Sun’s apparent position relative to arbitrarily defined constellations and the time of your birth somehow effects your personality.',\n",
       " 'Penny: Participate in the what?',\n",
       " 'Leonard: I think what Sheldon’s trying to say, is that Sagittarius wouldn’t have been our first guess.',\n",
       " 'Penny: Oh, yeah, a lot of people think I’m a water sign. Okay, let’s see, what else, oh, I’m a vegetarian, oh, except for fish, and the occasional steak, I love steak.',\n",
       " 'Sheldon: That’s interesting. Leonard can’t process corn.',\n",
       " 'Leonard: Wu-uh, do you have some sort of a job?',\n",
       " 'Penny: Oh, yeah, I’m a waitress at the Cheesecake Factory.',\n",
       " 'Leonard: Oh, okay. I love cheesecake.',\n",
       " 'Sheldon: You’re lactose intolerant.',\n",
       " 'Leonard: I don’t eat it, I just think it’s a good idea.',\n",
       " 'Penny: Oh, anyways, I’m also writing a screenplay. It’s about this sensitive girl who comes to L.A. from Lincoln Nebraska to be an actress, and winds up a waitress at the Cheesecake Factory.',\n",
       " 'Leonard: So it’s based on your life?',\n",
       " 'Penny: No, I’m from Omaha.',\n",
       " 'Leonard: Well, if that was a movie I would go see it.',\n",
       " 'Penny: I know, right? Okay, let’s see, what else? Um, that’s about it. That’s the story of Penny.',\n",
       " 'Leonard: Well it sounds wonderful.',\n",
       " 'Penny: It was. Until I fell in love with a jerk.',\n",
       " 'Sheldon (mouths): What’s happening.',\n",
       " 'Leonard (mouths back): I don’t know.',\n",
       " 'Penny: Oh God, you know, four years I lived with him, four years, that’s like as long as High School.',\n",
       " 'Sheldon: It took you four years to get through High School?',\n",
       " 'Leonard: Don’t.',\n",
       " 'Penny: I just, I can’t believe I trusted him.',\n",
       " 'Leonard: Should I say something? I feel like I should say something.',\n",
       " 'Sheldon: You? No, you’ll only make it worse.',\n",
       " 'Penny: You want to know the most pathetic part? Even though I hate his lying, cheating guts, I still love him. Is that crazy?',\n",
       " 'Sheldon: Yes.',\n",
       " 'Leonard: No, it’s not crazy it’s, uh, uh, it’s a paradox. And paradoxes are part of nature, think about light. Now if you look at Huygens, light is a wave, as confirmed by the double slit experiments, but then, along comes Albert Einstein and discovers that light behaves like particles too. Well, I didn’t make it worse.',\n",
       " 'Penny: Oh, I’m so sorry, I’m such a mess, and on top of everything else I’m all gross from moving and my stupid shower doesn’t even work.',\n",
       " 'Leonard: Our shower works.',\n",
       " 'Penny: Really? Would it be totally weird if I used it?',\n",
       " 'Sheldon: Yes.',\n",
       " 'Leonard: No.',\n",
       " 'Sheldon: No?',\n",
       " 'Leonard: No.',\n",
       " 'Sheldon: No.',\n",
       " 'Leonard: It’s right down the hall.',\n",
       " 'Penny: Thanks. You guys are really sweet.',\n",
       " 'Sheldon: Well this is an interesting development.',\n",
       " 'Leonard: How so?',\n",
       " 'Sheldon: It has been some time since we’ve had a woman take her clothes off in our apartment.',\n",
       " 'Leonard: That’s not true, remember at Thanksgiving my grandmother with Alzheimer’s had that episode.',\n",
       " 'Sheldon: Point taken. It has been some time since we’ve had a woman take her clothes off after which we didn’t want to rip our eyes out.',\n",
       " 'Leonard: The worst part was watching her carve that turkey.',\n",
       " 'Sheldon: So, what exactly are you trying to accomplish here?',\n",
       " 'Leonard: Excuse me?',\n",
       " 'Sheldon: That woman in there’s not going to have sex with you.',\n",
       " 'Leonard: Well I’m not trying to have sex with her.',\n",
       " 'Sheldon: Oh, good. Then you won’t be disappointed.',\n",
       " 'Leonard: What makes you think she wouldn’t have sex with me, I’m a male and she’s a female?',\n",
       " 'Sheldon: Yes, but not of the same species.',\n",
       " 'Leonard: I’m not going to engage in hypotheticals here, I’m just trying to be a good neighbour.',\n",
       " 'Sheldon: Oh, of course.',\n",
       " 'Leonard: That’s not to say that if a carnal relationship were to develop that I wouldn’t participate. However briefly.',\n",
       " 'Sheldon: Do you think this possibility will be helped or hindered when she discovers your Luke Skywalker no-more-tears shampoo?',\n",
       " 'Leonard: It’s Darth Vader shampoo. (There is a knock on the door.) Luke Skywalker’s the conditioner.',\n",
       " 'Howard: Wait till you see this.',\n",
       " 'Raj: It’s fantastic. Unbelievable.',\n",
       " 'Leonard: See what?',\n",
       " 'Howard: It’s a Stephen Hawking lecture from MIT in 1974.',\n",
       " 'Leonard: This is not a good time.',\n",
       " 'Howard: It’s before he became a creepy computer voice:.',\n",
       " 'Leonard: That’s great, you guys have to go.',\n",
       " 'Raj: Why?',\n",
       " 'Leonard: It’s just not a good time.',\n",
       " 'Sheldon: Leonard has a lady over.',\n",
       " 'Howard: Yeah, right, your grandmother back in town?',\n",
       " 'Leonard: No. And she’s not a lady, she’s just a new neighbour.',\n",
       " 'Howard: Hang on, there really is a lady here?',\n",
       " 'Leonard: Uh-huh.',\n",
       " 'Howard: And you want us out because you’re anticipating coitus?',\n",
       " 'Leonard: I’m not anticipating coitus.',\n",
       " 'Howard: So she’s available for coitus?',\n",
       " 'Leonard: Can we please stop saying coitus?',\n",
       " 'Sheldon: Technically that would be coitus interruptus.',\n",
       " 'Penny: Hey, is there a trick to getting it to switch from tub to shower. Oh. Hi, sorry. Hello!',\n",
       " 'Howard: Enchante Madamoiselle. Howard Wolowitz, Cal-Tech department of Applied Physics. You may be familiar with some of my work, it’s currently orbiting Jupiter’s largest moon taking high-resolution digital photographs.',\n",
       " 'Penny: Penny. I work at the Cheesecake Factory.',\n",
       " 'Leonard: Come on, I’ll show you the trick with the shower.',\n",
       " 'Howard: Bon douche.',\n",
       " 'Penny: I’m sorry?',\n",
       " 'Howard: It’s French for good shower. It’s a sentiment I can express in six languages.',\n",
       " 'Leonard: Save it for your blog, Howard.',\n",
       " 'Howard: See-ka-tong-guay-jow.',\n",
       " 'Scene: In the bathroom.',\n",
       " 'Leonard: Uh, there it goes, it sticks, I’m sorry.',\n",
       " 'Penny: Okay. Thanks.',\n",
       " 'Leonard: You’re welcome, oh, you’re going to step right, okay, I’ll….',\n",
       " 'Penny: Hey, Leonard?',\n",
       " 'Leonard: The hair products are Sheldon’s.',\n",
       " 'Penny: Um, okay. Can I ask you a favour.',\n",
       " 'Leonard: A favour? Sure, you can ask me a favour, I would do you a favour for you.',\n",
       " 'Penny: It’s okay if you say no.',\n",
       " 'Leonard: Oh, I’ll probably say yes.',\n",
       " 'Penny: It’s just not the kind of thing you ask a guy you’ve just met.',\n",
       " 'Leonard: Wow.',\n",
       " 'Scene: Leonard and Sheldon, Inside Leonard’s car',\n",
       " 'Sheldon: I really think we should examine the chain of causality here.',\n",
       " 'Leonard: Must we?',\n",
       " 'Sheldon: Event A. A beautiful woman stands naked in our shower. Event B. We drive half way across town to retrieve a television set from the aforementioned woman’s ex-boyfriend. Query, on what plane of existence is there even a semi-rational link between these events?',\n",
       " 'Leonard: She asked me to do her a favour, Sheldon.',\n",
       " 'Sheldon: Ah, yes, well that may be the proximal cause of our journey, but we both know it only exists in contradistinction to the higher level distal cause.',\n",
       " 'Leonard: Which is?',\n",
       " 'Sheldon: You think with your penis.',\n",
       " 'Leonard: That’s a biological impossibility and you didn’t have to come.',\n",
       " 'Sheldon: Oh, right, yes, I could have stayed behind and watched Wolowitz try to hit on Penny in Russian, Arabic and Farsi. Why can’t she get her own TV.',\n",
       " 'Leonard: Come on, you know how it is with break-ups.',\n",
       " 'Sheldon: No I don’t. And neither do you.',\n",
       " 'Leonard: Wuh, I, I broke up with Joyce Kim.',\n",
       " 'Sheldon: You did not break up with Joyce Kim, she defected to North Korea.',\n",
       " 'Leonard: To mend her broken heart. This situation is much less complicated. There’s some kind of dispute between Penny and her ex-boyfriend as to who gets custody of the TV. She just wanted to avoid having a scene with him.',\n",
       " 'Sheldon: So we get to have a scene with him?',\n",
       " 'Leonard: No, Sheldon, there’s not going to be a scene. There’s two of us and one of him.',\n",
       " 'Sheldon: Leonard, the two of us can’t even carry a TV.',\n",
       " 'Scene: Back at the apartment.',\n",
       " 'Penny (to Raj): So, you guys work with Leonard and Sheldon at the University?',\n",
       " '(Raj looks at her, looks back at his food, takes a mouthful).',\n",
       " 'Penny: Uh, I’m sorry, do you speak English?',\n",
       " 'Howard: Oh, he speaks English, he just can’t speak to women.',\n",
       " 'Penny: Really, why?',\n",
       " 'Howard: He’s kind of a nerd. Juice box?',\n",
       " 'Scene: Outside Penny’s old apartment building.',\n",
       " 'Leonard (pushes buzzer): I’ll do the talking.',\n",
       " 'Voice from buzzer: Yeah.',\n",
       " 'Leonard: Hi, I’m Leonard, this is Sheldon.',\n",
       " 'Sheldon: Hello.',\n",
       " 'Leonard: What did I just…. Uh, we’re here to pick up Penny’s TV.',\n",
       " 'Voice: Get lost.',\n",
       " 'Sheldon: Okay, thanks for your time.',\n",
       " 'Leonard: We’re not going to give up just like that.',\n",
       " 'Sheldon: Leonard, the TV is in the building, we’ve been denied access to the building, ergo we are done.',\n",
       " 'Leonard: Excuse me, if I were to give up at the first little hitch I never would have been able to identify the fingerprints of string theory in the aftermath of the big bang.',\n",
       " 'Sheldon: My apologies. What’s your plan.',\n",
       " '(Leonard starts rattling the doors violently.)',\n",
       " 'Sheldon: It’s just a privilege to watch your mind at work.',\n",
       " 'Leonard: Come on, we have a combined IQ of 360, we should be able to figure out how to get into a stupid building.',\n",
       " '(Two girl scouts arrive carrying bags of cookies. One runs her hand down the intercom, pushing all the buttons. The door is buzzed open.)',\n",
       " 'Sheldon: What do you think their combined IQ is?',\n",
       " 'Leonard: Just grab the door.',\n",
       " 'Scene: Outside Penny’s ex-boyfriend’s apartment.',\n",
       " 'Leonard: This is it. (Knocks.) I’ll do the talking.',\n",
       " 'Sheldon: Good thinking, I’ll just be the muscle.',\n",
       " 'Enormous man: Yeah?',\n",
       " 'Leonard: I’m Leonard, this is Sheldon.',\n",
       " 'Sheldon: From the intercom.',\n",
       " 'Man: How the hell did you get in the building?',\n",
       " 'Leonard: Oh. We’re scientists.',\n",
       " 'Sheldon: Tell him about our IQ.',\n",
       " 'Scene: Outside the apartment building. Leonard and Sheldon exit. They are not wearing trousers.',\n",
       " 'Sheldon: Leonard.',\n",
       " 'Leonard: What?',\n",
       " 'Sheldon: My mom bought me those pants.',\n",
       " 'Leonard: I’m sorry.',\n",
       " 'Sheldon: You’re going to have to call her.',\n",
       " 'Scene: On the stairs of Sheldon and Leonard’s building.',\n",
       " 'Leonard: Sheldon, I’m so sorry I dragged you through this.',\n",
       " 'Sheldon: It’s okay. It wasn’t my first pantsing, and it won’t be my last.',\n",
       " 'Leonard: And you were right about my motives, I was hoping to establish a relationship with Penny that might have some day led to sex.',\n",
       " 'Sheldon: Well you got me out of my pants.',\n",
       " 'Leonard: Anyway, I’ve learned my lesson. She’s out of my league, I’m done with her, I’ve got my work, one day I’ll win the Nobel Prize and then I’ll die alone.',\n",
       " 'Sheldon: Don’t think like that, you’re not going to die alone.',\n",
       " 'Leonard: Thank you Sheldon, you’re a good friend.',\n",
       " 'Sheldon: And you’re certainly not going to win a Nobel Prize.',\n",
       " 'Scene: Inside Sheldon and Leonard’s apartment.',\n",
       " 'Howard: This is one of my favourite places to kick back after a quest, they have a great house ale.',\n",
       " 'Penny: Wow, cool tiger.',\n",
       " 'Howard: Yeah, I’ve had him since level ten. His name is Buttons. Anyway, if you had your own game character we could hang out, maybe go on a quest.',\n",
       " 'Penny: Uh, sounds interesting.',\n",
       " 'Howard: So you’ll think about it?',\n",
       " 'Penny: Oh, I don’t think I’ll be able to stop thinking about it.',\n",
       " 'Raj: Smooth.',\n",
       " 'Leonard: We’re home.',\n",
       " 'Penny: Oh, my God, what happened?',\n",
       " 'Leonard: Well, your ex-boyfriend sends his regards and I think the rest is fairly self-explanatory.',\n",
       " 'Penny: I’m so sorry, I really thought if you guys went instead of me he wouldn’t be such an ass.',\n",
       " 'Leonard: No, it was a valid hypothesis.',\n",
       " 'Sheldon: That was a valid hypothesis? What is happening to you?',\n",
       " 'Penny: Really, thank you so much for going and trying you’re, uh, you’re so terrific. Why don’t you put some clothes on, I’ll get my purse and dinner is on me, okay?',\n",
       " 'Leonard: Really? Great.',\n",
       " 'Sheldon: Thank you. You’re not done with her, are you?',\n",
       " 'Leonard: Our babies will be smart and beautiful.',\n",
       " 'Sheldon: Not to mention imaginary.',\n",
       " 'Scene: All five in Leonard’s car.',\n",
       " 'Leonard: Is Thai food okay with you Penny?',\n",
       " 'Penny: Sure.',\n",
       " 'Sheldon: We can’t have Thai food, we had Indian for lunch.',\n",
       " 'Penny: So?',\n",
       " 'Sheldon: They’re both curry based cuisines.',\n",
       " 'Penny: So?',\n",
       " 'Sheldon: They would be gastronomically redundant. I can see we’re going to have to spell out everything for this girl.',\n",
       " 'Penny: Any ideas Raj? (He just looks at her with a worried expression.)',\n",
       " 'Howard: Turn left on Lake Street and head up to Colorado. I know a wonderful little sushi bar that has karaoke.',\n",
       " 'Penny: That sounds like fun.',\n",
       " 'Howard (sings): Baby, baby don’t get hooked on me. Uh, baby, baby don’t get hooked on me.']"
      ]
     },
     "execution_count": 117,
     "metadata": {},
     "output_type": "execute_result"
    }
   ],
   "source": [
    "di=soup.find_all(\"p\",class_=\"MsoNormal\")\n",
    "diag=[i.text.strip() for i in di]\n",
    "diag"
   ]
  },
  {
   "cell_type": "code",
   "execution_count": 118,
   "metadata": {},
   "outputs": [],
   "source": [
    "dialogos=[]\n",
    "for i in range (1,6):\n",
    "    url=f\"https://bigbangtrans.wordpress.com/series-1-episode-{i}-pilot-episode/\"\n",
    "    response = requests.get(url)\n",
    "    soup = BeautifulSoup(response.text, \"html.parser\")\n",
    "    di=soup.find_all(\"p\",class_=\"MsoNormal\")\n",
    "    diag=[i.text.strip() for i in di]\n",
    "    dialogos.append(diag)"
   ]
  },
  {
   "cell_type": "code",
   "execution_count": 119,
   "metadata": {},
   "outputs": [
    {
     "data": {
      "text/plain": [
       "['Scene: A corridor at a sperm bank.',\n",
       " 'Sheldon: So if a photon is directed through a plane with two slits in it and either slit is observed it will not go through both slits. If it’s unobserved it will, however, if it’s observed after it’s left the plane but before it hits its target, it will not have gone through both slits.',\n",
       " 'Leonard: Agreed, what’s your point?',\n",
       " 'Sheldon: There’s no point, I just think it’s a good idea for a tee-shirt.',\n",
       " 'Leonard: Excuse me?',\n",
       " 'Receptionist: Hang on.',\n",
       " 'Leonard: One across is Aegean, eight down is Nabakov, twenty-six across is MCM, fourteen down is… move your finger… phylum, which makes fourteen across Port-au-Prince. See, Papa Doc’s capital idea, that’s Port-au-Prince. Haiti.',\n",
       " 'Receptionist: Can I help you?',\n",
       " 'Leonard: Yes. Um, is this the High IQ sperm bank?',\n",
       " 'Receptionist: If you have to ask, maybe you shouldn’t be here.',\n",
       " 'Sheldon: I think this is the place.',\n",
       " 'Receptionist: Fill these out.',\n",
       " 'Leonard: Thank-you. We’ll be right back.',\n",
       " 'Receptionist: Oh, take your time. I’ll just finish my crossword puzzle. Oh wait.',\n",
       " '(They sit and begin to fill in forms).',\n",
       " 'Sheldon: Leonard, I don’t think I can do this.',\n",
       " 'Leonard: What, are you kidding? You’re a semi-pro.',\n",
       " 'Sheldon: No. We are committing genetic fraud. There’s no guarantee that our sperm is going to generate high IQ offspring, think about that. I have a sister with the same basic DNA mix who hostesses at Fuddruckers.',\n",
       " 'Leonard: Sheldon, this was your idea. A little extra money to get fractional T1 bandwidth in the apartment.',\n",
       " 'Sheldon: I know, and I do yearn for faster downloads, but there’s some poor woman is going to pin her hopes on my sperm, what if she winds up with a toddler who doesn’t know if he should use an integral or a differential to solve the area under a curve.',\n",
       " 'Leonard: I’m sure she’ll still love him.',\n",
       " 'Sheldon: I wouldn’t.',\n",
       " 'Leonard: Well, what do you want to do?',\n",
       " 'Sheldon: I want to leave.',\n",
       " 'Leonard: Okay.',\n",
       " 'Sheldon: What’s the protocol for leaving?',\n",
       " 'Leonard: I don’t know, I’ve never reneged on a proffer of sperm before.',\n",
       " 'Sheldon: Let’s try just walking out.',\n",
       " 'Leonard: Okay.\\n\\nReceptionist: Bye.',\n",
       " 'Sheldon: Bye-bye',\n",
       " 'Leonard: See you.',\n",
       " 'Scene: The stairs of the apartment building.',\n",
       " 'Sheldon: Are you still mad about the sperm bank?',\n",
       " 'Leonard: No.',\n",
       " 'Sheldon: You want to hear an interesting thing about stairs?',\n",
       " 'Leonard: Not really.',\n",
       " 'Sheldon: If the height of a single step is off by as little as two millimetres, most people will trip.',\n",
       " 'Leonard: I don’t care. Two millimetres? That doesn’t seem right.',\n",
       " 'Sheldon: No, it’s true, I did a series of experiments when I was twelve, my father broke his clavicle.',\n",
       " 'Leonard: Is that why they sent you to boarding school?',\n",
       " 'Sheldon: No, that was the result of my work with lasers.',\n",
       " 'Leonard: New neighbour?',\n",
       " 'Sheldon: Evidently.',\n",
       " 'Leonard: Significant improvement over the old neighbour.',\n",
       " 'Sheldon: Two hundred pound transvestite with a skin condition, yes she is.',\n",
       " 'Penny: Oh, hi!',\n",
       " 'Leonard: Hi.',\n",
       " 'Sheldon: Hi.',\n",
       " 'Leonard: Hi.',\n",
       " 'Sheldon: Hi.',\n",
       " 'Penny: Hi?',\n",
       " 'Leonard: We don’t mean to interrupt, we live across the hall.',\n",
       " 'Penny: Oh, that’s nice.',\n",
       " 'Leonard: Oh… uh… no… we don’t live together… um… we live together but in separate, heterosexual bedrooms.',\n",
       " 'Penny: Oh, okay, well, guess I’m your new neighbour, Penny.',\n",
       " 'Leonard: Leonard, Sheldon.',\n",
       " 'Penny: Hi.',\n",
       " 'Leonard: Hi.',\n",
       " 'Sheldon: Hi.',\n",
       " 'Penny: Hi.',\n",
       " 'Leonard: Hi. Well, uh, oh, welcome to the building.',\n",
       " 'Penny: Thankyou, maybe we can have coffee sometime.',\n",
       " 'Leonard: Oh, great.',\n",
       " 'Penny: Great.',\n",
       " 'Sheldon: Great.',\n",
       " 'Leonard: Great. Well, bye.',\n",
       " 'Penny: Bye.',\n",
       " 'Sheldon: Bye.',\n",
       " 'Leonard: Bye.',\n",
       " 'Leonard: Should we have invited her for lunch?',\n",
       " 'Sheldon: No. We’re going to start Season Two of Battlestar Galactica.',\n",
       " 'Leonard: We already watched the Season Two DVDs.',\n",
       " 'Sheldon: Not with commentary.',\n",
       " 'Leonard: I think we should be good neighbours, invite her over, make her feel welcome.',\n",
       " 'Sheldon: We never invited Louis-slash-Louise over.',\n",
       " 'Leonard: Well, then that was wrong of us. We need to widen our circle.',\n",
       " 'Sheldon: I have a very wide circle. I have 212 friends on myspace.',\n",
       " 'Leonard: Yes, and you’ve never met one of them.',\n",
       " 'Sheldon: That’s the beauty of it.',\n",
       " 'Leonard: I’m going to invite her over. We’ll have a nice meal and chat.',\n",
       " 'Sheldon: Chat? We don’t chat. At least not offline.',\n",
       " 'Leonard: Well it’s not difficult, you just listen to what she says and then you say something appropriate in response.',\n",
       " 'Sheldon: To what end?',\n",
       " 'Leonard: Hi. Again.',\n",
       " 'Penny: Hi.',\n",
       " 'Sheldon: Hi.',\n",
       " 'Leonard: Hi.',\n",
       " 'Penny: Hi.',\n",
       " 'Leonard: Anyway, um. We brought home Indian food. And, um. I know that moving can be stressful, and I find that when I’m undergoing stress, that good food and company can have a comforting effect. Also, curry is a natural laxative, and I don’t have to tell you that, uh, a clean colon is just one less thing to worry about.',\n",
       " 'Sheldon: Leonard, I’m not expert here but I believe in the context of a luncheon invitation, you might want to skip the reference to bowel movements.',\n",
       " 'Penny: Oh, you’re inviting me over to eat?',\n",
       " 'Leonard: Uh, yes.',\n",
       " 'Penny: Oh, that’s so nice, I’d love to.',\n",
       " 'Leonard: Great.',\n",
       " 'Penny: So, what do you guys do for fun around here?',\n",
       " 'Sheldon: Well, today we tried masturbating for money.',\n",
       " 'Credits sequence.',\n",
       " 'Scene: Sheldon and Leonard’s apartment.',\n",
       " 'Leonard: Okay, well, make yourself at home.',\n",
       " 'Penny: Okay, thankyou.',\n",
       " 'Leonard: You’re very welcome.',\n",
       " 'Penny: This looks like some serious stuff, Leonard, did you do this?',\n",
       " 'Sheldon: Actually that’s my work.',\n",
       " 'Penny: Wow.',\n",
       " 'Sheldon: Yeah, well, it’s just some quantum mechanics, with a little string theory doodling around the edges. That part there, that’s just a joke, it’s a spoof of the Bourne-Oppenheimer approximation.',\n",
       " 'Penny: So you’re like, one of those, beautiful mind genius guys.',\n",
       " 'Sheldon: Yeah.',\n",
       " 'Penny: This is really impressive.',\n",
       " 'Leonard: I have a board. If you like boards, this is my board.',\n",
       " 'Penny: Holy smokes.',\n",
       " 'Sheldon: If by holy smokes you mean a derivative restatement of the kind of stuff you can find scribbled on the wall of any men’s room at MIT, sure.',\n",
       " 'Leonard: What?',\n",
       " 'Sheldon: Oh, come on. Who hasn’t seen this differential below “here I sit broken hearted?”',\n",
       " 'Leonard: At least I didn’t have to invent twenty-six dimensions just to make the math come out.',\n",
       " 'Sheldon: I didn’t invent them, they’re there.',\n",
       " 'Leonard: In what universe?',\n",
       " 'Sheldon: In all of them, that is the point.',\n",
       " 'Penny: Uh, do you guys mind if I start?',\n",
       " 'Sheldon: Um, Penny, that’s where I sit.',\n",
       " 'Penny: So, sit next to me.',\n",
       " 'Sheldon: No, I sit there.',\n",
       " 'Penny: What’s the difference?',\n",
       " 'Sheldon: What’s the difference?',\n",
       " 'Leonard: Here we go.',\n",
       " 'Sheldon: In the winter that seat is close enough to the radiator to remain warm, and yet not so close as to cause perspiration. In the summer it’s directly in the path of a cross breeze created by open windows there, and there. It faces the television at an angle that is neither direct, thus discouraging conversation, nor so far wide to create a parallax distortion, I could go on, but I think I’ve made my point.',\n",
       " 'Penny: Do you want me to move?',\n",
       " 'Sheldon: Well.',\n",
       " 'Leonard: Just sit somewhere else.',\n",
       " 'Sheldon: Fine. (Wanders in circles, looking lost.)',\n",
       " 'Leonard: Sheldon, sit!',\n",
       " 'Sheldon: Aaah!',\n",
       " 'Leonard: Well this is nice. We don’t have a lot of company over.',\n",
       " 'Sheldon: That’s not true. Koothrapali and Wolowitz come over all the time.',\n",
       " 'Leonard: Yes I now, but…',\n",
       " 'Sheldon: Tuesday night we played Klingon boggle until one in the morning.',\n",
       " 'Leonard: Yes, I remember.',\n",
       " 'Sheldon: I resent you saying we don’t have company.',\n",
       " 'Leonard: I’m sorry.',\n",
       " 'Sheldon: That is an antisocial implication.',\n",
       " 'Leonard: I said I’m sorry.',\n",
       " 'Penny: So, Klingon boggle?',\n",
       " 'Leonard: Yeah, it’s like regular boggle but, in Klingon. That’s probably enough about us, tell us about you.',\n",
       " 'Penny: Um, me, okay, I’m Sagittarius, which probably tells you way more than you need to know.',\n",
       " 'Sheldon: Yes, it tells us that you participate in the mass cultural delusion that the Sun’s apparent position relative to arbitrarily defined constellations and the time of your birth somehow effects your personality.',\n",
       " 'Penny: Participate in the what?',\n",
       " 'Leonard: I think what Sheldon’s trying to say, is that Sagittarius wouldn’t have been our first guess.',\n",
       " 'Penny: Oh, yeah, a lot of people think I’m a water sign. Okay, let’s see, what else, oh, I’m a vegetarian, oh, except for fish, and the occasional steak, I love steak.',\n",
       " 'Sheldon: That’s interesting. Leonard can’t process corn.',\n",
       " 'Leonard: Wu-uh, do you have some sort of a job?',\n",
       " 'Penny: Oh, yeah, I’m a waitress at the Cheesecake Factory.',\n",
       " 'Leonard: Oh, okay. I love cheesecake.',\n",
       " 'Sheldon: You’re lactose intolerant.',\n",
       " 'Leonard: I don’t eat it, I just think it’s a good idea.',\n",
       " 'Penny: Oh, anyways, I’m also writing a screenplay. It’s about this sensitive girl who comes to L.A. from Lincoln Nebraska to be an actress, and winds up a waitress at the Cheesecake Factory.',\n",
       " 'Leonard: So it’s based on your life?',\n",
       " 'Penny: No, I’m from Omaha.',\n",
       " 'Leonard: Well, if that was a movie I would go see it.',\n",
       " 'Penny: I know, right? Okay, let’s see, what else? Um, that’s about it. That’s the story of Penny.',\n",
       " 'Leonard: Well it sounds wonderful.',\n",
       " 'Penny: It was. Until I fell in love with a jerk.',\n",
       " 'Sheldon (mouths): What’s happening.',\n",
       " 'Leonard (mouths back): I don’t know.',\n",
       " 'Penny: Oh God, you know, four years I lived with him, four years, that’s like as long as High School.',\n",
       " 'Sheldon: It took you four years to get through High School?',\n",
       " 'Leonard: Don’t.',\n",
       " 'Penny: I just, I can’t believe I trusted him.',\n",
       " 'Leonard: Should I say something? I feel like I should say something.',\n",
       " 'Sheldon: You? No, you’ll only make it worse.',\n",
       " 'Penny: You want to know the most pathetic part? Even though I hate his lying, cheating guts, I still love him. Is that crazy?',\n",
       " 'Sheldon: Yes.',\n",
       " 'Leonard: No, it’s not crazy it’s, uh, uh, it’s a paradox. And paradoxes are part of nature, think about light. Now if you look at Huygens, light is a wave, as confirmed by the double slit experiments, but then, along comes Albert Einstein and discovers that light behaves like particles too. Well, I didn’t make it worse.',\n",
       " 'Penny: Oh, I’m so sorry, I’m such a mess, and on top of everything else I’m all gross from moving and my stupid shower doesn’t even work.',\n",
       " 'Leonard: Our shower works.',\n",
       " 'Penny: Really? Would it be totally weird if I used it?',\n",
       " 'Sheldon: Yes.',\n",
       " 'Leonard: No.',\n",
       " 'Sheldon: No?',\n",
       " 'Leonard: No.',\n",
       " 'Sheldon: No.',\n",
       " 'Leonard: It’s right down the hall.',\n",
       " 'Penny: Thanks. You guys are really sweet.',\n",
       " 'Sheldon: Well this is an interesting development.',\n",
       " 'Leonard: How so?',\n",
       " 'Sheldon: It has been some time since we’ve had a woman take her clothes off in our apartment.',\n",
       " 'Leonard: That’s not true, remember at Thanksgiving my grandmother with Alzheimer’s had that episode.',\n",
       " 'Sheldon: Point taken. It has been some time since we’ve had a woman take her clothes off after which we didn’t want to rip our eyes out.',\n",
       " 'Leonard: The worst part was watching her carve that turkey.',\n",
       " 'Sheldon: So, what exactly are you trying to accomplish here?',\n",
       " 'Leonard: Excuse me?',\n",
       " 'Sheldon: That woman in there’s not going to have sex with you.',\n",
       " 'Leonard: Well I’m not trying to have sex with her.',\n",
       " 'Sheldon: Oh, good. Then you won’t be disappointed.',\n",
       " 'Leonard: What makes you think she wouldn’t have sex with me, I’m a male and she’s a female?',\n",
       " 'Sheldon: Yes, but not of the same species.',\n",
       " 'Leonard: I’m not going to engage in hypotheticals here, I’m just trying to be a good neighbour.',\n",
       " 'Sheldon: Oh, of course.',\n",
       " 'Leonard: That’s not to say that if a carnal relationship were to develop that I wouldn’t participate. However briefly.',\n",
       " 'Sheldon: Do you think this possibility will be helped or hindered when she discovers your Luke Skywalker no-more-tears shampoo?',\n",
       " 'Leonard: It’s Darth Vader shampoo. (There is a knock on the door.) Luke Skywalker’s the conditioner.',\n",
       " 'Howard: Wait till you see this.',\n",
       " 'Raj: It’s fantastic. Unbelievable.',\n",
       " 'Leonard: See what?',\n",
       " 'Howard: It’s a Stephen Hawking lecture from MIT in 1974.',\n",
       " 'Leonard: This is not a good time.',\n",
       " 'Howard: It’s before he became a creepy computer voice:.',\n",
       " 'Leonard: That’s great, you guys have to go.',\n",
       " 'Raj: Why?',\n",
       " 'Leonard: It’s just not a good time.',\n",
       " 'Sheldon: Leonard has a lady over.',\n",
       " 'Howard: Yeah, right, your grandmother back in town?',\n",
       " 'Leonard: No. And she’s not a lady, she’s just a new neighbour.',\n",
       " 'Howard: Hang on, there really is a lady here?',\n",
       " 'Leonard: Uh-huh.',\n",
       " 'Howard: And you want us out because you’re anticipating coitus?',\n",
       " 'Leonard: I’m not anticipating coitus.',\n",
       " 'Howard: So she’s available for coitus?',\n",
       " 'Leonard: Can we please stop saying coitus?',\n",
       " 'Sheldon: Technically that would be coitus interruptus.',\n",
       " 'Penny: Hey, is there a trick to getting it to switch from tub to shower. Oh. Hi, sorry. Hello!',\n",
       " 'Howard: Enchante Madamoiselle. Howard Wolowitz, Cal-Tech department of Applied Physics. You may be familiar with some of my work, it’s currently orbiting Jupiter’s largest moon taking high-resolution digital photographs.',\n",
       " 'Penny: Penny. I work at the Cheesecake Factory.',\n",
       " 'Leonard: Come on, I’ll show you the trick with the shower.',\n",
       " 'Howard: Bon douche.',\n",
       " 'Penny: I’m sorry?',\n",
       " 'Howard: It’s French for good shower. It’s a sentiment I can express in six languages.',\n",
       " 'Leonard: Save it for your blog, Howard.',\n",
       " 'Howard: See-ka-tong-guay-jow.',\n",
       " 'Scene: In the bathroom.',\n",
       " 'Leonard: Uh, there it goes, it sticks, I’m sorry.',\n",
       " 'Penny: Okay. Thanks.',\n",
       " 'Leonard: You’re welcome, oh, you’re going to step right, okay, I’ll….',\n",
       " 'Penny: Hey, Leonard?',\n",
       " 'Leonard: The hair products are Sheldon’s.',\n",
       " 'Penny: Um, okay. Can I ask you a favour.',\n",
       " 'Leonard: A favour? Sure, you can ask me a favour, I would do you a favour for you.',\n",
       " 'Penny: It’s okay if you say no.',\n",
       " 'Leonard: Oh, I’ll probably say yes.',\n",
       " 'Penny: It’s just not the kind of thing you ask a guy you’ve just met.',\n",
       " 'Leonard: Wow.',\n",
       " 'Scene: Leonard and Sheldon, Inside Leonard’s car',\n",
       " 'Sheldon: I really think we should examine the chain of causality here.',\n",
       " 'Leonard: Must we?',\n",
       " 'Sheldon: Event A. A beautiful woman stands naked in our shower. Event B. We drive half way across town to retrieve a television set from the aforementioned woman’s ex-boyfriend. Query, on what plane of existence is there even a semi-rational link between these events?',\n",
       " 'Leonard: She asked me to do her a favour, Sheldon.',\n",
       " 'Sheldon: Ah, yes, well that may be the proximal cause of our journey, but we both know it only exists in contradistinction to the higher level distal cause.',\n",
       " 'Leonard: Which is?',\n",
       " 'Sheldon: You think with your penis.',\n",
       " 'Leonard: That’s a biological impossibility and you didn’t have to come.',\n",
       " 'Sheldon: Oh, right, yes, I could have stayed behind and watched Wolowitz try to hit on Penny in Russian, Arabic and Farsi. Why can’t she get her own TV.',\n",
       " 'Leonard: Come on, you know how it is with break-ups.',\n",
       " 'Sheldon: No I don’t. And neither do you.',\n",
       " 'Leonard: Wuh, I, I broke up with Joyce Kim.',\n",
       " 'Sheldon: You did not break up with Joyce Kim, she defected to North Korea.',\n",
       " 'Leonard: To mend her broken heart. This situation is much less complicated. There’s some kind of dispute between Penny and her ex-boyfriend as to who gets custody of the TV. She just wanted to avoid having a scene with him.',\n",
       " 'Sheldon: So we get to have a scene with him?',\n",
       " 'Leonard: No, Sheldon, there’s not going to be a scene. There’s two of us and one of him.',\n",
       " 'Sheldon: Leonard, the two of us can’t even carry a TV.',\n",
       " 'Scene: Back at the apartment.',\n",
       " 'Penny (to Raj): So, you guys work with Leonard and Sheldon at the University?',\n",
       " '(Raj looks at her, looks back at his food, takes a mouthful).',\n",
       " 'Penny: Uh, I’m sorry, do you speak English?',\n",
       " 'Howard: Oh, he speaks English, he just can’t speak to women.',\n",
       " 'Penny: Really, why?',\n",
       " 'Howard: He’s kind of a nerd. Juice box?',\n",
       " 'Scene: Outside Penny’s old apartment building.',\n",
       " 'Leonard (pushes buzzer): I’ll do the talking.',\n",
       " 'Voice from buzzer: Yeah.',\n",
       " 'Leonard: Hi, I’m Leonard, this is Sheldon.',\n",
       " 'Sheldon: Hello.',\n",
       " 'Leonard: What did I just…. Uh, we’re here to pick up Penny’s TV.',\n",
       " 'Voice: Get lost.',\n",
       " 'Sheldon: Okay, thanks for your time.',\n",
       " 'Leonard: We’re not going to give up just like that.',\n",
       " 'Sheldon: Leonard, the TV is in the building, we’ve been denied access to the building, ergo we are done.',\n",
       " 'Leonard: Excuse me, if I were to give up at the first little hitch I never would have been able to identify the fingerprints of string theory in the aftermath of the big bang.',\n",
       " 'Sheldon: My apologies. What’s your plan.',\n",
       " '(Leonard starts rattling the doors violently.)',\n",
       " 'Sheldon: It’s just a privilege to watch your mind at work.',\n",
       " 'Leonard: Come on, we have a combined IQ of 360, we should be able to figure out how to get into a stupid building.',\n",
       " '(Two girl scouts arrive carrying bags of cookies. One runs her hand down the intercom, pushing all the buttons. The door is buzzed open.)',\n",
       " 'Sheldon: What do you think their combined IQ is?',\n",
       " 'Leonard: Just grab the door.',\n",
       " 'Scene: Outside Penny’s ex-boyfriend’s apartment.',\n",
       " 'Leonard: This is it. (Knocks.) I’ll do the talking.',\n",
       " 'Sheldon: Good thinking, I’ll just be the muscle.',\n",
       " 'Enormous man: Yeah?',\n",
       " 'Leonard: I’m Leonard, this is Sheldon.',\n",
       " 'Sheldon: From the intercom.',\n",
       " 'Man: How the hell did you get in the building?',\n",
       " 'Leonard: Oh. We’re scientists.',\n",
       " 'Sheldon: Tell him about our IQ.',\n",
       " 'Scene: Outside the apartment building. Leonard and Sheldon exit. They are not wearing trousers.',\n",
       " 'Sheldon: Leonard.',\n",
       " 'Leonard: What?',\n",
       " 'Sheldon: My mom bought me those pants.',\n",
       " 'Leonard: I’m sorry.',\n",
       " 'Sheldon: You’re going to have to call her.',\n",
       " 'Scene: On the stairs of Sheldon and Leonard’s building.',\n",
       " 'Leonard: Sheldon, I’m so sorry I dragged you through this.',\n",
       " 'Sheldon: It’s okay. It wasn’t my first pantsing, and it won’t be my last.',\n",
       " 'Leonard: And you were right about my motives, I was hoping to establish a relationship with Penny that might have some day led to sex.',\n",
       " 'Sheldon: Well you got me out of my pants.',\n",
       " 'Leonard: Anyway, I’ve learned my lesson. She’s out of my league, I’m done with her, I’ve got my work, one day I’ll win the Nobel Prize and then I’ll die alone.',\n",
       " 'Sheldon: Don’t think like that, you’re not going to die alone.',\n",
       " 'Leonard: Thank you Sheldon, you’re a good friend.',\n",
       " 'Sheldon: And you’re certainly not going to win a Nobel Prize.',\n",
       " 'Scene: Inside Sheldon and Leonard’s apartment.',\n",
       " 'Howard: This is one of my favourite places to kick back after a quest, they have a great house ale.',\n",
       " 'Penny: Wow, cool tiger.',\n",
       " 'Howard: Yeah, I’ve had him since level ten. His name is Buttons. Anyway, if you had your own game character we could hang out, maybe go on a quest.',\n",
       " 'Penny: Uh, sounds interesting.',\n",
       " 'Howard: So you’ll think about it?',\n",
       " 'Penny: Oh, I don’t think I’ll be able to stop thinking about it.',\n",
       " 'Raj: Smooth.',\n",
       " 'Leonard: We’re home.',\n",
       " 'Penny: Oh, my God, what happened?',\n",
       " 'Leonard: Well, your ex-boyfriend sends his regards and I think the rest is fairly self-explanatory.',\n",
       " 'Penny: I’m so sorry, I really thought if you guys went instead of me he wouldn’t be such an ass.',\n",
       " 'Leonard: No, it was a valid hypothesis.',\n",
       " 'Sheldon: That was a valid hypothesis? What is happening to you?',\n",
       " 'Penny: Really, thank you so much for going and trying you’re, uh, you’re so terrific. Why don’t you put some clothes on, I’ll get my purse and dinner is on me, okay?',\n",
       " 'Leonard: Really? Great.',\n",
       " 'Sheldon: Thank you. You’re not done with her, are you?',\n",
       " 'Leonard: Our babies will be smart and beautiful.',\n",
       " 'Sheldon: Not to mention imaginary.',\n",
       " 'Scene: All five in Leonard’s car.',\n",
       " 'Leonard: Is Thai food okay with you Penny?',\n",
       " 'Penny: Sure.',\n",
       " 'Sheldon: We can’t have Thai food, we had Indian for lunch.',\n",
       " 'Penny: So?',\n",
       " 'Sheldon: They’re both curry based cuisines.',\n",
       " 'Penny: So?',\n",
       " 'Sheldon: They would be gastronomically redundant. I can see we’re going to have to spell out everything for this girl.',\n",
       " 'Penny: Any ideas Raj? (He just looks at her with a worried expression.)',\n",
       " 'Howard: Turn left on Lake Street and head up to Colorado. I know a wonderful little sushi bar that has karaoke.',\n",
       " 'Penny: That sounds like fun.',\n",
       " 'Howard (sings): Baby, baby don’t get hooked on me. Uh, baby, baby don’t get hooked on me.']"
      ]
     },
     "execution_count": 119,
     "metadata": {},
     "output_type": "execute_result"
    }
   ],
   "source": [
    "dialogos[0]"
   ]
  },
  {
   "cell_type": "markdown",
   "metadata": {},
   "source": [
    "Una vez que se obtuvieron los diálogos de cada capítulo, nos enfocaremos solamente en el primer capítulo."
   ]
  },
  {
   "cell_type": "code",
   "execution_count": 120,
   "metadata": {},
   "outputs": [],
   "source": [
    "dialogo1=dialogos[0]"
   ]
  },
  {
   "cell_type": "markdown",
   "metadata": {},
   "source": [
    "El primer paso es separar los diálogos por personaje (Sheldon, Leonard, Penny, Raj, Howard). "
   ]
  },
  {
   "cell_type": "code",
   "execution_count": 121,
   "metadata": {},
   "outputs": [
    {
     "data": {
      "text/plain": [
       "'Sheldon: So if a photon is directed through a plane with two slits in it and either slit is observed it will not go through both slits. If it’s unobserved it will, however, if it’s observed after it’s left the plane but before it hits its target, it will not have gone through both slits.'"
      ]
     },
     "execution_count": 121,
     "metadata": {},
     "output_type": "execute_result"
    }
   ],
   "source": [
    "dialogo1[1]"
   ]
  },
  {
   "cell_type": "code",
   "execution_count": 122,
   "metadata": {},
   "outputs": [],
   "source": [
    "sheldon=[]\n",
    "leonard=[]\n",
    "penny=[]\n",
    "raj=[]\n",
    "howard=[]\n",
    "for i in range(len(dialogo1)):\n",
    "    palabras=dialogo1[i].split(\" \")\n",
    "    \n",
    "    if palabras[0]==\"Sheldon:\":\n",
    "        sheldon.append(dialogo1[i])\n",
    "    elif palabras[0]==\"Leonard:\":\n",
    "        leonard.append(dialogo1[i])\n",
    "    elif palabras[0]==\"Penny:\":\n",
    "        penny.append(dialogo1[i])\n",
    "    elif palabras[0]==\"Howard:\":\n",
    "        howard.append(dialogo1[i])\n",
    "    elif palabras[0]==\"Raj:\":\n",
    "        raj.append(dialogo1[i])\n",
    "        \n",
    "        "
   ]
  },
  {
   "cell_type": "code",
   "execution_count": 123,
   "metadata": {},
   "outputs": [
    {
     "data": {
      "text/plain": [
       "['Sheldon: So if a photon is directed through a plane with two slits in it and either slit is observed it will not go through both slits. If it’s unobserved it will, however, if it’s observed after it’s left the plane but before it hits its target, it will not have gone through both slits.',\n",
       " 'Sheldon: There’s no point, I just think it’s a good idea for a tee-shirt.',\n",
       " 'Sheldon: I think this is the place.',\n",
       " 'Sheldon: Leonard, I don’t think I can do this.',\n",
       " 'Sheldon: No. We are committing genetic fraud. There’s no guarantee that our sperm is going to generate high IQ offspring, think about that. I have a sister with the same basic DNA mix who hostesses at Fuddruckers.',\n",
       " 'Sheldon: I know, and I do yearn for faster downloads, but there’s some poor woman is going to pin her hopes on my sperm, what if she winds up with a toddler who doesn’t know if he should use an integral or a differential to solve the area under a curve.',\n",
       " 'Sheldon: I wouldn’t.',\n",
       " 'Sheldon: I want to leave.',\n",
       " 'Sheldon: What’s the protocol for leaving?',\n",
       " 'Sheldon: Let’s try just walking out.',\n",
       " 'Sheldon: Bye-bye',\n",
       " 'Sheldon: Are you still mad about the sperm bank?',\n",
       " 'Sheldon: You want to hear an interesting thing about stairs?',\n",
       " 'Sheldon: If the height of a single step is off by as little as two millimetres, most people will trip.',\n",
       " 'Sheldon: No, it’s true, I did a series of experiments when I was twelve, my father broke his clavicle.',\n",
       " 'Sheldon: No, that was the result of my work with lasers.',\n",
       " 'Sheldon: Evidently.',\n",
       " 'Sheldon: Two hundred pound transvestite with a skin condition, yes she is.',\n",
       " 'Sheldon: Hi.',\n",
       " 'Sheldon: Hi.',\n",
       " 'Sheldon: Hi.',\n",
       " 'Sheldon: Great.',\n",
       " 'Sheldon: Bye.',\n",
       " 'Sheldon: No. We’re going to start Season Two of Battlestar Galactica.',\n",
       " 'Sheldon: Not with commentary.',\n",
       " 'Sheldon: We never invited Louis-slash-Louise over.',\n",
       " 'Sheldon: I have a very wide circle. I have 212 friends on myspace.',\n",
       " 'Sheldon: That’s the beauty of it.',\n",
       " 'Sheldon: Chat? We don’t chat. At least not offline.',\n",
       " 'Sheldon: To what end?',\n",
       " 'Sheldon: Hi.',\n",
       " 'Sheldon: Leonard, I’m not expert here but I believe in the context of a luncheon invitation, you might want to skip the reference to bowel movements.',\n",
       " 'Sheldon: Well, today we tried masturbating for money.',\n",
       " 'Sheldon: Actually that’s my work.',\n",
       " 'Sheldon: Yeah, well, it’s just some quantum mechanics, with a little string theory doodling around the edges. That part there, that’s just a joke, it’s a spoof of the Bourne-Oppenheimer approximation.',\n",
       " 'Sheldon: Yeah.',\n",
       " 'Sheldon: If by holy smokes you mean a derivative restatement of the kind of stuff you can find scribbled on the wall of any men’s room at MIT, sure.',\n",
       " 'Sheldon: Oh, come on. Who hasn’t seen this differential below “here I sit broken hearted?”',\n",
       " 'Sheldon: I didn’t invent them, they’re there.',\n",
       " 'Sheldon: In all of them, that is the point.',\n",
       " 'Sheldon: Um, Penny, that’s where I sit.',\n",
       " 'Sheldon: No, I sit there.',\n",
       " 'Sheldon: What’s the difference?',\n",
       " 'Sheldon: In the winter that seat is close enough to the radiator to remain warm, and yet not so close as to cause perspiration. In the summer it’s directly in the path of a cross breeze created by open windows there, and there. It faces the television at an angle that is neither direct, thus discouraging conversation, nor so far wide to create a parallax distortion, I could go on, but I think I’ve made my point.',\n",
       " 'Sheldon: Well.',\n",
       " 'Sheldon: Fine. (Wanders in circles, looking lost.)',\n",
       " 'Sheldon: Aaah!',\n",
       " 'Sheldon: That’s not true. Koothrapali and Wolowitz come over all the time.',\n",
       " 'Sheldon: Tuesday night we played Klingon boggle until one in the morning.',\n",
       " 'Sheldon: I resent you saying we don’t have company.',\n",
       " 'Sheldon: That is an antisocial implication.',\n",
       " 'Sheldon: Yes, it tells us that you participate in the mass cultural delusion that the Sun’s apparent position relative to arbitrarily defined constellations and the time of your birth somehow effects your personality.',\n",
       " 'Sheldon: That’s interesting. Leonard can’t process corn.',\n",
       " 'Sheldon: You’re lactose intolerant.',\n",
       " 'Sheldon: It took you four years to get through High School?',\n",
       " 'Sheldon: You? No, you’ll only make it worse.',\n",
       " 'Sheldon: Yes.',\n",
       " 'Sheldon: Yes.',\n",
       " 'Sheldon: No?',\n",
       " 'Sheldon: No.',\n",
       " 'Sheldon: Well this is an interesting development.',\n",
       " 'Sheldon: It has been some time since we’ve had a woman take her clothes off in our apartment.',\n",
       " 'Sheldon: Point taken. It has been some time since we’ve had a woman take her clothes off after which we didn’t want to rip our eyes out.',\n",
       " 'Sheldon: So, what exactly are you trying to accomplish here?',\n",
       " 'Sheldon: That woman in there’s not going to have sex with you.',\n",
       " 'Sheldon: Oh, good. Then you won’t be disappointed.',\n",
       " 'Sheldon: Yes, but not of the same species.',\n",
       " 'Sheldon: Oh, of course.',\n",
       " 'Sheldon: Do you think this possibility will be helped or hindered when she discovers your Luke Skywalker no-more-tears shampoo?',\n",
       " 'Sheldon: Leonard has a lady over.',\n",
       " 'Sheldon: Technically that would be coitus interruptus.',\n",
       " 'Sheldon: I really think we should examine the chain of causality here.',\n",
       " 'Sheldon: Event A. A beautiful woman stands naked in our shower. Event B. We drive half way across town to retrieve a television set from the aforementioned woman’s ex-boyfriend. Query, on what plane of existence is there even a semi-rational link between these events?',\n",
       " 'Sheldon: Ah, yes, well that may be the proximal cause of our journey, but we both know it only exists in contradistinction to the higher level distal cause.',\n",
       " 'Sheldon: You think with your penis.',\n",
       " 'Sheldon: Oh, right, yes, I could have stayed behind and watched Wolowitz try to hit on Penny in Russian, Arabic and Farsi. Why can’t she get her own TV.',\n",
       " 'Sheldon: No I don’t. And neither do you.',\n",
       " 'Sheldon: You did not break up with Joyce Kim, she defected to North Korea.',\n",
       " 'Sheldon: So we get to have a scene with him?',\n",
       " 'Sheldon: Leonard, the two of us can’t even carry a TV.',\n",
       " 'Sheldon: Hello.',\n",
       " 'Sheldon: Okay, thanks for your time.',\n",
       " 'Sheldon: Leonard, the TV is in the building, we’ve been denied access to the building, ergo we are done.',\n",
       " 'Sheldon: My apologies. What’s your plan.',\n",
       " 'Sheldon: It’s just a privilege to watch your mind at work.',\n",
       " 'Sheldon: What do you think their combined IQ is?',\n",
       " 'Sheldon: Good thinking, I’ll just be the muscle.',\n",
       " 'Sheldon: From the intercom.',\n",
       " 'Sheldon: Tell him about our IQ.',\n",
       " 'Sheldon: Leonard.',\n",
       " 'Sheldon: My mom bought me those pants.',\n",
       " 'Sheldon: You’re going to have to call her.',\n",
       " 'Sheldon: It’s okay. It wasn’t my first pantsing, and it won’t be my last.',\n",
       " 'Sheldon: Well you got me out of my pants.',\n",
       " 'Sheldon: Don’t think like that, you’re not going to die alone.',\n",
       " 'Sheldon: And you’re certainly not going to win a Nobel Prize.',\n",
       " 'Sheldon: That was a valid hypothesis? What is happening to you?',\n",
       " 'Sheldon: Thank you. You’re not done with her, are you?',\n",
       " 'Sheldon: Not to mention imaginary.',\n",
       " 'Sheldon: We can’t have Thai food, we had Indian for lunch.',\n",
       " 'Sheldon: They’re both curry based cuisines.',\n",
       " 'Sheldon: They would be gastronomically redundant. I can see we’re going to have to spell out everything for this girl.']"
      ]
     },
     "execution_count": 123,
     "metadata": {},
     "output_type": "execute_result"
    }
   ],
   "source": [
    "sheldon"
   ]
  },
  {
   "cell_type": "code",
   "execution_count": null,
   "metadata": {},
   "outputs": [],
   "source": []
  },
  {
   "cell_type": "markdown",
   "metadata": {},
   "source": [
    "Tokenizar cada dialogo por personaje"
   ]
  },
  {
   "cell_type": "code",
   "execution_count": 124,
   "metadata": {},
   "outputs": [],
   "source": [
    "tokens=[]\n",
    "lista=[sheldon,leonard,penny,raj,howard]\n",
    "for i in lista:\n",
    "    lista_temp=[]\n",
    "    tokens.append(lista_temp)\n",
    "    for j in range(len(i)):\n",
    "        tok=nltk.word_tokenize(i[j],\"english\")\n",
    "        lista_temp.append(tok)"
   ]
  },
  {
   "cell_type": "markdown",
   "metadata": {},
   "source": [
    " Eliminar stopwords y signos de puntuación (. , : ; ¡ ¿ ? …) de las listas de tokens"
   ]
  },
  {
   "cell_type": "code",
   "execution_count": 126,
   "metadata": {},
   "outputs": [],
   "source": [
    "sheldon=tokens[0]\n",
    "leonard=tokens[1]\n",
    "penny=tokens[2]\n",
    "raj=tokens[3]\n",
    "howard=tokens[4]"
   ]
  },
  {
   "cell_type": "code",
   "execution_count": 136,
   "metadata": {},
   "outputs": [],
   "source": [
    "sheldon_min=[]\n",
    "for i in sheldon:\n",
    "    for j in i:\n",
    "        j=j.lower()\n",
    "        sheldon_min.append(j)\n",
    "\n",
    "leonard_min=[]\n",
    "for i in leonard:\n",
    "    for j in i:\n",
    "        j=j.lower()\n",
    "        leonard_min.append(j)\n",
    "\n",
    "penny_min=[]\n",
    "for i in penny:\n",
    "    for j in i:\n",
    "        j=j.lower()\n",
    "        penny_min.append(j)\n",
    "\n",
    "raj_min=[]\n",
    "for i in raj:\n",
    "    for j in i:\n",
    "        j=j.lower()\n",
    "        raj_min.append(j)\n",
    "\n",
    "howard_min=[]\n",
    "for i in howard:\n",
    "    for j in i:\n",
    "        j=j.lower()\n",
    "        howard_min.append(j)\n"
   ]
  },
  {
   "cell_type": "code",
   "execution_count": 141,
   "metadata": {},
   "outputs": [],
   "source": []
  },
  {
   "cell_type": "code",
   "execution_count": 154,
   "metadata": {},
   "outputs": [],
   "source": [
    "import nltk\n",
    "palabras_funcionales=nltk.corpus.stopwords.words(\"english\")\n",
    "simbolos=[\".\",\",\",\":\",\";\",\"¡\",\"¿\",\"?\",\"...\",'’']\n",
    "for i in simbolos:\n",
    "    palabras_funcionales.append(i)\n",
    "\n",
    "sheldon_limp=[]\n",
    "for i in sheldon_min:\n",
    "    if i not in palabras_funcionales:\n",
    "        sheldon_limp.append(i)\n",
    "\n",
    "leonard_limp=[]\n",
    "for i in leonard_min:\n",
    "    if i not in palabras_funcionales:\n",
    "        leonard_limp.append(i)\n",
    "penny_limp=[]\n",
    "for i in penny_min:\n",
    "    if i not in palabras_funcionales:\n",
    "        penny_limp.append(i)\n",
    "raj_limp=[]\n",
    "for i in raj_min:\n",
    "    if i not in palabras_funcionales:\n",
    "        raj_limp.append(i)\n",
    "howard_limp=[]\n",
    "for i in howard_min:\n",
    "    if i not in palabras_funcionales:\n",
    "        howard_limp.append(i)"
   ]
  },
  {
   "cell_type": "markdown",
   "metadata": {},
   "source": [
    "Encontrar la riqueza léxica de cada personaje"
   ]
  },
  {
   "cell_type": "code",
   "execution_count": 155,
   "metadata": {},
   "outputs": [],
   "source": [
    "def riqueza_lexica(tokens): \n",
    "    tokens_conjunto=set(tokens)\n",
    "    palabras_totales=len(tokens) \n",
    "    palabras_diferentes=len(tokens_conjunto)\n",
    "    riqueza_lexica=palabras_diferentes/palabras_totales\n",
    "    return riqueza_lexica"
   ]
  },
  {
   "cell_type": "code",
   "execution_count": 156,
   "metadata": {},
   "outputs": [
    {
     "name": "stdout",
     "output_type": "stream",
     "text": [
      "Sheldon:  0.6465661641541038\n",
      "Leonard:  0.5139318885448917\n",
      "Penny:  0.5271565495207667\n",
      "Raj:  0.6666666666666666\n",
      "Howard:  0.8135593220338984\n"
     ]
    }
   ],
   "source": [
    "print(\"Sheldon: \",riqueza_lexica(sheldon_limp))\n",
    "print(\"Leonard: \",riqueza_lexica(leonard_limp))\n",
    "print(\"Penny: \",riqueza_lexica(penny_limp))\n",
    "print(\"Raj: \",riqueza_lexica(raj_limp))\n",
    "print(\"Howard: \",riqueza_lexica(howard_limp))    "
   ]
  },
  {
   "cell_type": "markdown",
   "metadata": {},
   "source": [
    "Encontrar las 5 palabras más utilizadas por cada personaje (hacer el lexical plot)"
   ]
  },
  {
   "cell_type": "code",
   "execution_count": 157,
   "metadata": {},
   "outputs": [],
   "source": [
    "def mayoresPalabras(numMaximo, tokens):\n",
    "    setTokens = set(tokens)\n",
    "    dic = dict()\n",
    "    for tok in setTokens:\n",
    "        dic[tok] = tokens.count(tok)\n",
    "    k={k: v for k, v in sorted(dic.items(), key=lambda item: item[1],reverse=True)}\n",
    "    return list(k)[0:numMaximo]"
   ]
  },
  {
   "cell_type": "code",
   "execution_count": 159,
   "metadata": {},
   "outputs": [
    {
     "name": "stdout",
     "output_type": "stream",
     "text": [
      "Sheldon:  ['sheldon', 'think', 'going', 'yes', 'leonard']\n",
      "Leonard:  ['leonard', 'well', 'sheldon', 'good', 'uh']\n",
      "Penny:  ['penny', 'oh', 'okay', 'hi', 'really']\n",
      "Raj:  ['raj', 'smooth', 'fantastic', 'unbelievable']\n",
      "Howard:  ['howard', 'back', 'quest', 'coitus', 'hang']\n"
     ]
    }
   ],
   "source": [
    "print(\"Sheldon: \",mayoresPalabras(5,sheldon_limp))\n",
    "print(\"Leonard: \",mayoresPalabras(5,leonard_limp))\n",
    "print(\"Penny: \",mayoresPalabras(5,penny_limp))\n",
    "print(\"Raj: \",mayoresPalabras(5,raj_limp))\n",
    "print(\"Howard: \",mayoresPalabras(5,howard_limp))"
   ]
  },
  {
   "cell_type": "code",
   "execution_count": 163,
   "metadata": {},
   "outputs": [
    {
     "data": {
      "image/png": "[encoded data removed]",
      "text/plain": [
       "<Figure size 432x288 with 1 Axes>"
      ]
     },
     "metadata": {
      "needs_background": "light"
     },
     "output_type": "display_data"
    }
   ],
   "source": [
    "texto_nltk=nltk.Text(sheldon_limp) \n",
    "texto_nltk.dispersion_plot(['sheldon', 'think', 'going', 'yes', 'leonard'])"
   ]
  },
  {
   "cell_type": "code",
   "execution_count": 164,
   "metadata": {},
   "outputs": [
    {
     "data": {
      "image/png": "[encoded data removed]",
      "text/plain": [
       "<Figure size 432x288 with 1 Axes>"
      ]
     },
     "metadata": {
      "needs_background": "light"
     },
     "output_type": "display_data"
    }
   ],
   "source": [
    "texto_nltk=nltk.Text(leonard_limp)\n",
    "texto_nltk.dispersion_plot(['leonard', 'well', 'sheldon', 'good', 'uh'])"
   ]
  },
  {
   "cell_type": "code",
   "execution_count": 165,
   "metadata": {},
   "outputs": [
    {
     "data": {
      "image/png": "[encoded data removed]",
      "text/plain": [
       "<Figure size 432x288 with 1 Axes>"
      ]
     },
     "metadata": {
      "needs_background": "light"
     },
     "output_type": "display_data"
    }
   ],
   "source": [
    "texto_nltk=nltk.Text(penny_limp)\n",
    "texto_nltk.dispersion_plot(['penny', 'oh', 'okay', 'hi', 'really'])"
   ]
  },
  {
   "cell_type": "code",
   "execution_count": 166,
   "metadata": {},
   "outputs": [
    {
     "data": {
      "image/png": "[encoded data removed]",
      "text/plain": [
       "<Figure size 432x288 with 1 Axes>"
      ]
     },
     "metadata": {
      "needs_background": "light"
     },
     "output_type": "display_data"
    }
   ],
   "source": [
    "texto_nltk=nltk.Text(raj_limp)\n",
    "texto_nltk.dispersion_plot(['raj', 'smooth', 'fantastic', 'unbelievable'])"
   ]
  },
  {
   "cell_type": "code",
   "execution_count": 167,
   "metadata": {},
   "outputs": [
    {
     "data": {
      "image/png": "[encoded data removed]",
      "text/plain": [
       "<Figure size 432x288 with 1 Axes>"
      ]
     },
     "metadata": {
      "needs_background": "light"
     },
     "output_type": "display_data"
    }
   ],
   "source": [
    "texto_nltk=nltk.Text(howard_limp)\n",
    "texto_nltk.dispersion_plot(['howard', 'back', 'quest', 'coitus', 'hang'])"
   ]
  },
  {
   "cell_type": "code",
   "execution_count": 179,
   "metadata": {},
   "outputs": [
    {
     "data": {
      "text/plain": [
       "<Text: howard wait till see howard stephen hawking lecture...>"
      ]
     },
     "execution_count": 179,
     "metadata": {},
     "output_type": "execute_result"
    }
   ],
   "source": [
    "texto_nltk"
   ]
  },
  {
   "cell_type": "code",
   "execution_count": null,
   "metadata": {},
   "outputs": [],
   "source": []
  },
  {
   "cell_type": "markdown",
   "metadata": {},
   "source": [
    "Encontrar palabras similares para la palabra más utilizada de cada personaje"
   ]
  },
  {
   "cell_type": "code",
   "execution_count": 184,
   "metadata": {},
   "outputs": [
    {
     "data": {
      "text/plain": [
       "list"
      ]
     },
     "execution_count": 184,
     "metadata": {},
     "output_type": "execute_result"
    }
   ],
   "source": [
    "type(sheldon_limp)"
   ]
  },
  {
   "cell_type": "code",
   "execution_count": 185,
   "metadata": {},
   "outputs": [
    {
     "data": {
      "text/plain": [
       "[['lady']]"
      ]
     },
     "execution_count": 185,
     "metadata": {},
     "output_type": "execute_result"
    }
   ],
   "source": [
    "save = [ ]\n",
    "for word in nltk.word_tokenize(\"think\"):\n",
    "    save.append(nltk.text.ContextIndex(sheldon_limp).similar_words(word))\n",
    "save"
   ]
  },
  {
   "cell_type": "code",
   "execution_count": 194,
   "metadata": {},
   "outputs": [
    {
     "data": {
      "text/plain": [
       "[[]]"
      ]
     },
     "execution_count": 194,
     "metadata": {},
     "output_type": "execute_result"
    }
   ],
   "source": [
    "save = [ ]\n",
    "for word in nltk.word_tokenize(\"well\"):\n",
    "    save.append(nltk.text.ContextIndex(leonard_limp).similar_words(word))\n",
    "save"
   ]
  },
  {
   "cell_type": "code",
   "execution_count": 192,
   "metadata": {},
   "outputs": [],
   "source": [
    "palabras=[\"think\",\"well\",\"okay\",\"fantastic\",\"back\"]\n",
    "tokens=[sheldon_limp,leonard_limp,penny_limp,raj_limp,howard_limp]\n",
    "save=[ ]\n",
    "for palabra in palabras:\n",
    "    for token in tokens:\n",
    "        save_temp =[ ]\n",
    "        save.append(save_temp)\n",
    "        for word in nltk.word_tokenize(i):\n",
    "            save.append(nltk.text.ContextIndex(token).similar_words(word))"
   ]
  },
  {
   "cell_type": "code",
   "execution_count": 193,
   "metadata": {},
   "outputs": [
    {
     "data": {
      "text/plain": [
       "[[],\n",
       " ['lady'],\n",
       " [],\n",
       " ['leonard', 'thank'],\n",
       " [],\n",
       " [],\n",
       " [],\n",
       " [],\n",
       " [],\n",
       " ['see-ka-tong-guay-jow'],\n",
       " [],\n",
       " ['lady'],\n",
       " [],\n",
       " ['leonard', 'thank'],\n",
       " [],\n",
       " [],\n",
       " [],\n",
       " [],\n",
       " [],\n",
       " ['see-ka-tong-guay-jow'],\n",
       " [],\n",
       " ['lady'],\n",
       " [],\n",
       " ['leonard', 'thank'],\n",
       " [],\n",
       " [],\n",
       " [],\n",
       " [],\n",
       " [],\n",
       " ['see-ka-tong-guay-jow'],\n",
       " [],\n",
       " ['lady'],\n",
       " [],\n",
       " ['leonard', 'thank'],\n",
       " [],\n",
       " [],\n",
       " [],\n",
       " [],\n",
       " [],\n",
       " ['see-ka-tong-guay-jow'],\n",
       " [],\n",
       " ['lady'],\n",
       " [],\n",
       " ['leonard', 'thank'],\n",
       " [],\n",
       " [],\n",
       " [],\n",
       " [],\n",
       " [],\n",
       " ['see-ka-tong-guay-jow']]"
      ]
     },
     "execution_count": 193,
     "metadata": {},
     "output_type": "execute_result"
    }
   ],
   "source": [
    "save"
   ]
  },
  {
   "cell_type": "markdown",
   "metadata": {},
   "source": [
    "Encontrar hápax de cada personaje"
   ]
  },
  {
   "cell_type": "code",
   "execution_count": 200,
   "metadata": {},
   "outputs": [
    {
     "name": "stdout",
     "output_type": "stream",
     "text": [
      "photon\n",
      "*******************************\n",
      "directed\n",
      "*******************************\n",
      "either\n",
      "*******************************\n",
      "agreed\n",
      "*******************************\n",
      "point\n",
      "*******************************\n",
      "aegean\n",
      "*******************************\n",
      "well\n",
      "*******************************\n",
      "guess\n",
      "*******************************\n",
      "new\n",
      "*******************************\n",
      "fantastic\n",
      "*******************************\n",
      "unbelievable\n",
      "*******************************\n",
      "smooth\n",
      "*******************************\n",
      "wait\n",
      "*******************************\n",
      "till\n",
      "*******************************\n",
      "see\n",
      "*******************************\n"
     ]
    }
   ],
   "source": [
    "for j in tokens:\n",
    "    texto_nltk=nltk.Text(j) \n",
    "    distribucion=nltk.FreqDist(texto_nltk)\n",
    "    hapaxes=distribucion.hapaxes() \n",
    "    for i in range (3):\n",
    "        print(hapaxes[i])\n",
    "        print('*******************************')"
   ]
  },
  {
   "cell_type": "markdown",
   "metadata": {},
   "source": [
    "Utilizar la función nltk.FreqDist() para mostrar en una gráfica las 20 palabras que más se utilizan"
   ]
  },
  {
   "cell_type": "code",
   "execution_count": 198,
   "metadata": {},
   "outputs": [
    {
     "data": {
      "image/png": "[encoded data removed]",
      "text/plain": [
       "<Figure size 432x288 with 1 Axes>"
      ]
     },
     "metadata": {
      "needs_background": "light"
     },
     "output_type": "display_data"
    },
    {
     "data": {
      "text/plain": [
       "<matplotlib.axes._subplots.AxesSubplot at 0x1a1e4a1090>"
      ]
     },
     "execution_count": 198,
     "metadata": {},
     "output_type": "execute_result"
    }
   ],
   "source": [
    "nltk.FreqDist(nltk.Text(sheldon_limp)).plot(20)"
   ]
  },
  {
   "cell_type": "markdown",
   "metadata": {},
   "source": [
    "Mostrar en un Dataframe la siguiente información"
   ]
  },
  {
   "cell_type": "code",
   "execution_count": 208,
   "metadata": {},
   "outputs": [
    {
     "data": {
      "text/html": [
       "<div>\n",
       "<style scoped>\n",
       "    .dataframe tbody tr th:only-of-type {\n",
       "        vertical-align: middle;\n",
       "    }\n",
       "\n",
       "    .dataframe tbody tr th {\n",
       "        vertical-align: top;\n",
       "    }\n",
       "\n",
       "    .dataframe thead th {\n",
       "        text-align: right;\n",
       "    }\n",
       "</style>\n",
       "<table border=\"1\" class=\"dataframe\">\n",
       "  <thead>\n",
       "    <tr style=\"text-align: right;\">\n",
       "      <th></th>\n",
       "      <th>Sheldon</th>\n",
       "      <th>Leonard</th>\n",
       "      <th>Penny</th>\n",
       "      <th>Raj</th>\n",
       "      <th>Howard</th>\n",
       "    </tr>\n",
       "  </thead>\n",
       "  <tbody>\n",
       "    <tr>\n",
       "      <th>riquezas</th>\n",
       "      <td>0.646</td>\n",
       "      <td>0.513</td>\n",
       "      <td>0.527</td>\n",
       "      <td>0.666</td>\n",
       "      <td>0.813</td>\n",
       "    </tr>\n",
       "    <tr>\n",
       "      <th>palabras</th>\n",
       "      <td>think</td>\n",
       "      <td>well</td>\n",
       "      <td>okay</td>\n",
       "      <td>fantastic</td>\n",
       "      <td>back</td>\n",
       "    </tr>\n",
       "    <tr>\n",
       "      <th>hapax</th>\n",
       "      <td>[photon, directed, eight]</td>\n",
       "      <td>[agreed, point, aegean]</td>\n",
       "      <td>[well, guess, nex]</td>\n",
       "      <td>[unbelievable, fantastic, smooth]</td>\n",
       "      <td>[wait, till, see]</td>\n",
       "    </tr>\n",
       "  </tbody>\n",
       "</table>\n",
       "</div>"
      ],
      "text/plain": [
       "                            Sheldon                  Leonard  \\\n",
       "riquezas                      0.646                    0.513   \n",
       "palabras                      think                     well   \n",
       "hapax     [photon, directed, eight]  [agreed, point, aegean]   \n",
       "\n",
       "                       Penny                                Raj  \\\n",
       "riquezas               0.527                              0.666   \n",
       "palabras                okay                          fantastic   \n",
       "hapax     [well, guess, nex]  [unbelievable, fantastic, smooth]   \n",
       "\n",
       "                     Howard  \n",
       "riquezas              0.813  \n",
       "palabras               back  \n",
       "hapax     [wait, till, see]  "
      ]
     },
     "execution_count": 208,
     "metadata": {},
     "output_type": "execute_result"
    }
   ],
   "source": [
    "import pandas as pd\n",
    "riquezas=[0.646,0.513,0.527,0.666,0.813]\n",
    "palabras=[\"think\",\"well\",\"okay\",\"fantastic\",\"back\"]\n",
    "hapax=[['photon', 'directed', 'eight'],\n",
    "      ['agreed','point','aegean'],\n",
    "      ['well','guess','nex'],\n",
    "      ['unbelievable','fantastic','smooth'],\n",
    "      ['wait','till','see']]\n",
    "df=pd.DataFrame(columns=[\"Sheldon\",\"Leonard\",\"Penny\",\"Raj\",\"Howard\"],\n",
    "               index=[\"riquezas\",\"palabras\",\"hapax\"])\n",
    "\n",
    "df.loc[\"riquezas\"]=riquezas\n",
    "df.loc[\"palabras\"]=palabras\n",
    "df.loc[\"hapax\"]=hapax\n",
    "df"
   ]
  },
  {
   "cell_type": "code",
   "execution_count": null,
   "metadata": {},
   "outputs": [],
   "source": []
  },
  {
   "cell_type": "code",
   "execution_count": null,
   "metadata": {},
   "outputs": [],
   "source": []
  },
  {
   "cell_type": "code",
   "execution_count": null,
   "metadata": {},
   "outputs": [],
   "source": []
  }
 ],
 "metadata": {
  "kernelspec": {
   "display_name": "Python 3",
   "language": "python",
   "name": "python3"
  },
  "language_info": {
   "codemirror_mode": {
    "name": "ipython",
    "version": 3
   },
   "file_extension": ".py",
   "mimetype": "text/x-python",
   "name": "python",
   "nbconvert_exporter": "python",
   "pygments_lexer": "ipython3",
   "version": "3.7.4"
  }
 },
 "nbformat": 4,
 "nbformat_minor": 4
}
