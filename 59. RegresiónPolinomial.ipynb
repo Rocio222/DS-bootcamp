{
 "cells": [
  {
   "cell_type": "markdown",
   "metadata": {},
   "source": [
    "# Regresión Polinomial"
   ]
  },
  {
   "cell_type": "markdown",
   "metadata": {},
   "source": [
    "Cuando la tendencia de los datos no es realmente lineal y toman sentido curvilíneal, podemos utilizar métodos de regresión polinomial. Los cuales generán regresionales que se ajustan a la curva de los datos. \n",
    "\n",
    "Existen muchos regresión que se pueden formar a partir del aúmento del grado del polinomio.\n",
    "\n",
    "Donde la relación entre la variable independiente x y la variable dependiente y se modela como un polinomio de enésimo grado en x. \n",
    "\n",
    "Por ejemplo si aumentamos a grado dos, tendriamos una curva con la siguiente ecuación:\n",
    "\n",
    "$$y = b + \\theta_1  x + \\theta_2 x^2$$\n",
    "\n",
    "\n"
   ]
  },
  {
   "attachments": {
    "image.png": {
     "image/png": "[encoded data removed]"
    }
   },
   "cell_type": "markdown",
   "metadata": {},
   "source": [
    "![image.png](attachment:image.png)"
   ]
  },
  {
   "cell_type": "code",
   "execution_count": 1,
   "metadata": {},
   "outputs": [],
   "source": [
    "import pandas as pd\n",
    "import matplotlib.pyplot as plt\n",
    "import seaborn as sns\n",
    "import numpy as np\n",
    "from sklearn import linear_model\n",
    "from sklearn.model_selection import train_test_split\n",
    "from sklearn.metrics import mean_squared_error, r2_score\n",
    "from sklearn.preprocessing import PolynomialFeatures\n"
   ]
  },
  {
   "cell_type": "code",
   "execution_count": 3,
   "metadata": {},
   "outputs": [],
   "source": [
    "df = pd.read_csv(\"/Users/rociocuestapedraz/Desktop/PYTHON bootcamp DS/datasets/FuelConsumptionCo2.csv\") #Características de autos y emisión de CO2"
   ]
  },
  {
   "cell_type": "code",
   "execution_count": 4,
   "metadata": {},
   "outputs": [
    {
     "data": {
      "text/html": [
       "<div>\n",
       "<style scoped>\n",
       "    .dataframe tbody tr th:only-of-type {\n",
       "        vertical-align: middle;\n",
       "    }\n",
       "\n",
       "    .dataframe tbody tr th {\n",
       "        vertical-align: top;\n",
       "    }\n",
       "\n",
       "    .dataframe thead th {\n",
       "        text-align: right;\n",
       "    }\n",
       "</style>\n",
       "<table border=\"1\" class=\"dataframe\">\n",
       "  <thead>\n",
       "    <tr style=\"text-align: right;\">\n",
       "      <th></th>\n",
       "      <th>ENGINESIZE</th>\n",
       "      <th>CO2EMISSIONS</th>\n",
       "    </tr>\n",
       "  </thead>\n",
       "  <tbody>\n",
       "    <tr>\n",
       "      <th>0</th>\n",
       "      <td>2.0</td>\n",
       "      <td>196</td>\n",
       "    </tr>\n",
       "    <tr>\n",
       "      <th>1</th>\n",
       "      <td>2.4</td>\n",
       "      <td>221</td>\n",
       "    </tr>\n",
       "    <tr>\n",
       "      <th>2</th>\n",
       "      <td>1.5</td>\n",
       "      <td>136</td>\n",
       "    </tr>\n",
       "    <tr>\n",
       "      <th>3</th>\n",
       "      <td>3.5</td>\n",
       "      <td>255</td>\n",
       "    </tr>\n",
       "    <tr>\n",
       "      <th>4</th>\n",
       "      <td>3.5</td>\n",
       "      <td>244</td>\n",
       "    </tr>\n",
       "    <tr>\n",
       "      <th>...</th>\n",
       "      <td>...</td>\n",
       "      <td>...</td>\n",
       "    </tr>\n",
       "    <tr>\n",
       "      <th>1062</th>\n",
       "      <td>3.0</td>\n",
       "      <td>271</td>\n",
       "    </tr>\n",
       "    <tr>\n",
       "      <th>1063</th>\n",
       "      <td>3.2</td>\n",
       "      <td>264</td>\n",
       "    </tr>\n",
       "    <tr>\n",
       "      <th>1064</th>\n",
       "      <td>3.0</td>\n",
       "      <td>271</td>\n",
       "    </tr>\n",
       "    <tr>\n",
       "      <th>1065</th>\n",
       "      <td>3.2</td>\n",
       "      <td>260</td>\n",
       "    </tr>\n",
       "    <tr>\n",
       "      <th>1066</th>\n",
       "      <td>3.2</td>\n",
       "      <td>294</td>\n",
       "    </tr>\n",
       "  </tbody>\n",
       "</table>\n",
       "<p>1067 rows × 2 columns</p>\n",
       "</div>"
      ],
      "text/plain": [
       "      ENGINESIZE  CO2EMISSIONS\n",
       "0            2.0           196\n",
       "1            2.4           221\n",
       "2            1.5           136\n",
       "3            3.5           255\n",
       "4            3.5           244\n",
       "...          ...           ...\n",
       "1062         3.0           271\n",
       "1063         3.2           264\n",
       "1064         3.0           271\n",
       "1065         3.2           260\n",
       "1066         3.2           294\n",
       "\n",
       "[1067 rows x 2 columns]"
      ]
     },
     "execution_count": 4,
     "metadata": {},
     "output_type": "execute_result"
    }
   ],
   "source": [
    "df[[\"ENGINESIZE\", \"CO2EMISSIONS\"]]"
   ]
  },
  {
   "cell_type": "code",
   "execution_count": 5,
   "metadata": {},
   "outputs": [
    {
     "data": {
      "text/plain": [
       "array([[2. ],\n",
       "       [2.4],\n",
       "       [1.5],\n",
       "       ...,\n",
       "       [3. ],\n",
       "       [3.2],\n",
       "       [3.2]])"
      ]
     },
     "execution_count": 5,
     "metadata": {},
     "output_type": "execute_result"
    }
   ],
   "source": [
    "X = np.asanyarray(df[['ENGINESIZE']])\n",
    "y = np.asanyarray(df[['CO2EMISSIONS']])\n",
    "X"
   ]
  },
  {
   "cell_type": "code",
   "execution_count": 6,
   "metadata": {},
   "outputs": [],
   "source": [
    "#Utilizamos la función train_test_split de sklearn\n",
    "X_train, X_test, y_train, y_test = train_test_split(X, y, test_size=0.30)"
   ]
  },
  {
   "cell_type": "markdown",
   "metadata": {},
   "source": [
    "La función **PolynomialFeatures()** de sklearn genera una matriz que consta de todas las combinaciones de polinomios de las características con grado menor o igual al grado especificado. El conjunto de características original tiene solo una característica, **ENGINESIZE**. Si seleccionamos el grado del polinomio para que sea 2, entonces genera 3 características, grado = 0, grado = 1 y grado = 2:"
   ]
  },
  {
   "cell_type": "code",
   "execution_count": 7,
   "metadata": {},
   "outputs": [
    {
     "data": {
      "text/plain": [
       "array([[ 1.  ,  2.7 ,  7.29],\n",
       "       [ 1.  ,  2.4 ,  5.76],\n",
       "       [ 1.  ,  4.7 , 22.09],\n",
       "       ...,\n",
       "       [ 1.  ,  2.  ,  4.  ],\n",
       "       [ 1.  ,  5.2 , 27.04],\n",
       "       [ 1.  ,  3.6 , 12.96]])"
      ]
     },
     "execution_count": 7,
     "metadata": {},
     "output_type": "execute_result"
    }
   ],
   "source": [
    "poly = PolynomialFeatures(degree=2)\n",
    "X_train_poly = poly.fit_transform(X_train)\n",
    "X_train_poly"
   ]
  },
  {
   "cell_type": "markdown",
   "metadata": {},
   "source": [
    "**fit_transform**\n",
    "\n",
    "$\n",
    "\\begin{bmatrix}\n",
    "    v_1\\\\\n",
    "    v_2\\\\\n",
    "    \\vdots\\\\\n",
    "    v_n\n",
    "\\end{bmatrix}\n",
    "$\n",
    "$\\longrightarrow$\n",
    "$\n",
    "\\begin{bmatrix}\n",
    "    [ 1 & v_1 & v_1^2]\\\\\n",
    "    [ 1 & v_2 & v_2^2]\\\\\n",
    "    \\vdots & \\vdots & \\vdots\\\\\n",
    "    [ 1 & v_n & v_n^2]\n",
    "\\end{bmatrix}\n",
    "$\n",
    "\n",
    "\n",
    "$\n",
    "\\begin{bmatrix}\n",
    "    2.\\\\\n",
    "    2.4\\\\\n",
    "    1.5\\\\\n",
    "    \\vdots\n",
    "\\end{bmatrix}\n",
    "$\n",
    "$\\longrightarrow$\n",
    "$\n",
    "\\begin{bmatrix}\n",
    "    [ 1 & 2. & 4.]\\\\\n",
    "    [ 1 & 2.4 & 5.76]\\\\\n",
    "    [ 1 & 1.5 & 2.25]\\\\\n",
    "    \\vdots & \\vdots & \\vdots\\\\\n",
    "\\end{bmatrix}\n",
    "$"
   ]
  },
  {
   "cell_type": "markdown",
   "metadata": {},
   "source": [
    "Ahora toma forma de una regresión lineal gracias a la transformación realizada previamente"
   ]
  },
  {
   "cell_type": "code",
   "execution_count": 8,
   "metadata": {},
   "outputs": [
    {
     "data": {
      "text/plain": [
       "LinearRegression()"
      ]
     },
     "execution_count": 8,
     "metadata": {},
     "output_type": "execute_result"
    }
   ],
   "source": [
    "regresion_poly = linear_model.LinearRegression()\n",
    "regresion_poly.fit(X_train_poly, y_train)"
   ]
  },
  {
   "cell_type": "code",
   "execution_count": 9,
   "metadata": {},
   "outputs": [
    {
     "name": "stdout",
     "output_type": "stream",
     "text": [
      "w_1:  [[ 0.         52.54390645 -1.77658931]]\n",
      "w_0:  [104.36671165]\n"
     ]
    }
   ],
   "source": [
    "# Encontramos los coeficientes \n",
    "print ('w_1: ', regresion_poly.coef_)\n",
    "print ('w_0: ',regresion_poly.intercept_)"
   ]
  },
  {
   "cell_type": "code",
   "execution_count": 10,
   "metadata": {},
   "outputs": [
    {
     "data": {
      "image/png": "[encoded data removed]",
      "text/plain": [
       "<Figure size 432x288 with 1 Axes>"
      ]
     },
     "metadata": {
      "needs_background": "light"
     },
     "output_type": "display_data"
    }
   ],
   "source": [
    "sns.scatterplot(X_train.flatten(),y_train.flatten(), color=\"magenta\") #entrenamiento\n",
    "sns.scatterplot(X_test.flatten(),y_test.flatten(), color=\"green\") #prueba \n",
    "plt.plot(X_train, regresion_poly.coef_[0][1]*X_train + (regresion_poly.coef_[0][2]*X_train**2)+ regresion_poly.intercept_[0], '-b')\n",
    "plt.show()"
   ]
  },
  {
   "cell_type": "code",
   "execution_count": 11,
   "metadata": {
    "jupyter": {
     "outputs_hidden": true
    }
   },
   "outputs": [
    {
     "name": "stdout",
     "output_type": "stream",
     "text": [
      "Predicción:  [339.61637062] Valor real:  [292]\n",
      "Predicción:  [202.34816732] Valor real:  [192]\n",
      "Predicción:  [183.88889334] Valor real:  [175]\n",
      "Predicción:  [246.00912724] Valor real:  [262]\n",
      "Predicción:  [224.6227946] Valor real:  [168]\n",
      "Predicción:  [332.94502223] Valor real:  [317]\n",
      "Predicción:  [332.94502223] Valor real:  [277]\n",
      "Predicción:  [183.88889334] Valor real:  [207]\n",
      "Predicción:  [246.00912724] Valor real:  [227]\n",
      "Predicción:  [224.6227946] Valor real:  [170]\n",
      "Predicción:  [274.45765791] Valor real:  [269]\n",
      "Predicción:  [278.37960657] Valor real:  [322]\n",
      "Predicción:  [202.34816732] Valor real:  [209]\n",
      "Predicción:  [224.6227946] Valor real:  [198]\n",
      "Predicción:  [266.50716522] Valor real:  [256]\n",
      "Predicción:  [346.14559186] Valor real:  [294]\n",
      "Predicción:  [202.34816732] Valor real:  [225]\n",
      "Predicción:  [179.18524538] Valor real:  [196]\n",
      "Predicción:  [220.23893272] Valor real:  [244]\n",
      "Predicción:  [361.84683872] Valor real:  [322]\n",
      "Predicción:  [308.4760516] Valor real:  [283]\n",
      "Predicción:  [202.34816732] Valor real:  [193]\n",
      "Predicción:  [361.84683872] Valor real:  [366]\n",
      "Predicción:  [270.50017746] Valor real:  [250]\n",
      "Predicción:  [202.34816732] Valor real:  [214]\n",
      "Predicción:  [202.34816732] Valor real:  [246]\n",
      "Predicción:  [266.50716522] Valor real:  [285]\n",
      "Predicción:  [246.00912724] Valor real:  [221]\n",
      "Predicción:  [246.00912724] Valor real:  [285]\n",
      "Predicción:  [202.34816732] Valor real:  [193]\n",
      "Predicción:  [274.45765791] Valor real:  [264]\n",
      "Predicción:  [322.67151124] Valor real:  [315]\n",
      "Predicción:  [202.34816732] Valor real:  [202]\n",
      "Predicción:  [202.34816732] Valor real:  [212]\n",
      "Predicción:  [301.16513106] Valor real:  [370]\n",
      "Predicción:  [202.34816732] Valor real:  [207]\n",
      "Predicción:  [270.50017746] Valor real:  [276]\n",
      "Predicción:  [270.50017746] Valor real:  [276]\n",
      "Predicción:  [183.88889334] Valor real:  [179]\n",
      "Predicción:  [220.23893272] Valor real:  [189]\n",
      "Predicción:  [202.34816732] Valor real:  [248]\n",
      "Predicción:  [220.23893272] Valor real:  [186]\n",
      "Predicción:  [224.6227946] Valor real:  [225]\n",
      "Predicción:  [266.50716522] Valor real:  [251]\n",
      "Predicción:  [266.50716522] Valor real:  [244]\n",
      "Predicción:  [174.44606563] Valor real:  [182]\n",
      "Predicción:  [174.44606563] Valor real:  [177]\n",
      "Predicción:  [266.50716522] Valor real:  [258]\n",
      "Predicción:  [270.50017746] Valor real:  [251]\n",
      "Predicción:  [361.84683872] Valor real:  [382]\n",
      "Predicción:  [361.84683872] Valor real:  [377]\n",
      "Predicción:  [266.50716522] Valor real:  [221]\n",
      "Predicción:  [293.71208338] Valor real:  [407]\n",
      "Predicción:  [361.84683872] Valor real:  [340]\n",
      "Predicción:  [202.34816732] Valor real:  [184]\n",
      "Predicción:  [274.45765791] Valor real:  [281]\n",
      "Predicción:  [193.1895939] Valor real:  [189]\n",
      "Predicción:  [301.16513106] Valor real:  [338]\n",
      "Predicción:  [246.00912724] Valor real:  [228]\n",
      "Predicción:  [246.00912724] Valor real:  [258]\n",
      "Predicción:  [246.00912724] Valor real:  [292]\n",
      "Predicción:  [193.1895939] Valor real:  [198]\n",
      "Predicción:  [224.6227946] Valor real:  [138]\n",
      "Predicción:  [202.34816732] Valor real:  [209]\n",
      "Predicción:  [266.50716522] Valor real:  [221]\n",
      "Predicción:  [220.23893272] Valor real:  [230]\n",
      "Predicción:  [332.94502223] Valor real:  [362]\n",
      "Predicción:  [220.23893272] Valor real:  [235]\n",
      "Predicción:  [322.67151124] Valor real:  [336]\n",
      "Predicción:  [224.6227946] Valor real:  [232]\n",
      "Predicción:  [266.50716522] Valor real:  [276]\n",
      "Predicción:  [202.34816732] Valor real:  [235]\n",
      "Predicción:  [332.94502223] Valor real:  [294]\n",
      "Predicción:  [174.44606563] Valor real:  [179]\n",
      "Predicción:  [270.50017746] Valor real:  [237]\n",
      "Predicción:  [270.50017746] Valor real:  [278]\n",
      "Predicción:  [262.47862119] Valor real:  [253]\n",
      "Predicción:  [322.67151124] Valor real:  [306]\n",
      "Predicción:  [355.67293533] Valor real:  [432]\n",
      "Predicción:  [224.6227946] Valor real:  [184]\n",
      "Predicción:  [266.50716522] Valor real:  [244]\n",
      "Predicción:  [361.84683872] Valor real:  [382]\n",
      "Predicción:  [266.50716522] Valor real:  [253]\n",
      "Predicción:  [286.11690855] Valor real:  [310]\n",
      "Predicción:  [278.37960657] Valor real:  [274]\n",
      "Predicción:  [301.16513106] Valor real:  [292]\n",
      "Predicción:  [246.00912724] Valor real:  [253]\n",
      "Predicción:  [266.50716522] Valor real:  [230]\n",
      "Predicción:  [270.50017746] Valor real:  [258]\n",
      "Predicción:  [183.88889334] Valor real:  [184]\n",
      "Predicción:  [174.44606563] Valor real:  [196]\n",
      "Predicción:  [174.44606563] Valor real:  [212]\n",
      "Predicción:  [202.34816732] Valor real:  [186]\n",
      "Predicción:  [193.1895939] Valor real:  [156]\n",
      "Predicción:  [297.45637311] Valor real:  [285]\n",
      "Predicción:  [202.34816732] Valor real:  [225]\n",
      "Predicción:  [274.45765791] Valor real:  [269]\n",
      "Predicción:  [202.34816732] Valor real:  [177]\n",
      "Predicción:  [183.88889334] Valor real:  [184]\n",
      "Predicción:  [270.50017746] Valor real:  [251]\n",
      "Predicción:  [270.50017746] Valor real:  [271]\n",
      "Predicción:  [274.45765791] Valor real:  [253]\n",
      "Predicción:  [332.94502223] Valor real:  [380]\n",
      "Predicción:  [286.11690855] Valor real:  [322]\n",
      "Predicción:  [193.1895939] Valor real:  [175]\n",
      "Predicción:  [339.61637062] Valor real:  [301]\n",
      "Predicción:  [202.34816732] Valor real:  [184]\n",
      "Predicción:  [193.1895939] Valor real:  [189]\n",
      "Predicción:  [332.94502223] Valor real:  [294]\n",
      "Predicción:  [322.67151124] Valor real:  [304]\n",
      "Predicción:  [179.18524538] Valor real:  [170]\n",
      "Predicción:  [266.50716522] Valor real:  [276]\n",
      "Predicción:  [202.34816732] Valor real:  [209]\n",
      "Predicción:  [266.50716522] Valor real:  [308]\n",
      "Predicción:  [286.11690855] Valor real:  [297]\n",
      "Predicción:  [220.23893272] Valor real:  [244]\n",
      "Predicción:  [315.64484499] Valor real:  [292]\n",
      "Predicción:  [332.94502223] Valor real:  [317]\n",
      "Predicción:  [266.50716522] Valor real:  [239]\n",
      "Predicción:  [315.64484499] Valor real:  [414]\n",
      "Predicción:  [179.18524538] Valor real:  [108]\n",
      "Predicción:  [361.84683872] Valor real:  [324]\n",
      "Predicción:  [270.50017746] Valor real:  [262]\n",
      "Predicción:  [266.50716522] Valor real:  [209]\n",
      "Predicción:  [202.34816732] Valor real:  [209]\n",
      "Predicción:  [301.16513106] Valor real:  [317]\n",
      "Predicción:  [202.34816732] Valor real:  [209]\n",
      "Predicción:  [308.4760516] Valor real:  [373]\n",
      "Predicción:  [270.50017746] Valor real:  [262]\n",
      "Predicción:  [202.34816732] Valor real:  [196]\n",
      "Predicción:  [346.14559186] Valor real:  [313]\n",
      "Predicción:  [312.07821419] Valor real:  [276]\n",
      "Predicción:  [220.23893272] Valor real:  [225]\n",
      "Predicción:  [332.94502223] Valor real:  [344]\n",
      "Predicción:  [301.16513106] Valor real:  [317]\n",
      "Predicción:  [274.45765791] Valor real:  [244]\n",
      "Predicción:  [274.45765791] Valor real:  [281]\n",
      "Predicción:  [266.50716522] Valor real:  [246]\n",
      "Predicción:  [262.47862119] Valor real:  [237]\n",
      "Predicción:  [224.6227946] Valor real:  [177]\n",
      "Predicción:  [361.84683872] Valor real:  [294]\n",
      "Predicción:  [355.67293533] Valor real:  [356]\n",
      "Predicción:  [174.44606563] Valor real:  [191]\n",
      "Predicción:  [332.94502223] Valor real:  [380]\n",
      "Predicción:  [202.34816732] Valor real:  [161]\n",
      "Predicción:  [183.88889334] Valor real:  [191]\n",
      "Predicción:  [202.34816732] Valor real:  [196]\n",
      "Predicción:  [332.94502223] Valor real:  [294]\n",
      "Predicción:  [224.6227946] Valor real:  [223]\n",
      "Predicción:  [220.23893272] Valor real:  [221]\n",
      "Predicción:  [202.34816732] Valor real:  [274]\n",
      "Predicción:  [286.11690855] Valor real:  [297]\n",
      "Predicción:  [266.50716522] Valor real:  [267]\n",
      "Predicción:  [220.23893272] Valor real:  [216]\n",
      "Predicción:  [274.45765791] Valor real:  [255]\n",
      "Predicción:  [220.23893272] Valor real:  [212]\n",
      "Predicción:  [202.34816732] Valor real:  [230]\n",
      "Predicción:  [270.50017746] Valor real:  [290]\n",
      "Predicción:  [202.34816732] Valor real:  [214]\n",
      "Predicción:  [202.34816732] Valor real:  [194]\n",
      "Predicción:  [266.50716522] Valor real:  [264]\n",
      "Predicción:  [202.34816732] Valor real:  [197]\n",
      "Predicción:  [312.07821419] Valor real:  [262]\n",
      "Predicción:  [202.34816732] Valor real:  [264]\n",
      "Predicción:  [224.6227946] Valor real:  [196]\n",
      "Predicción:  [202.34816732] Valor real:  [209]\n",
      "Predicción:  [202.34816732] Valor real:  [191]\n",
      "Predicción:  [342.89874713] Valor real:  [398]\n",
      "Predicción:  [202.34816732] Valor real:  [200]\n",
      "Predicción:  [332.94502223] Valor real:  [317]\n",
      "Predicción:  [339.61637062] Valor real:  [310]\n",
      "Predicción:  [202.34816732] Valor real:  [225]\n",
      "Predicción:  [332.94502223] Valor real:  [294]\n",
      "Predicción:  [270.50017746] Valor real:  [237]\n",
      "Predicción:  [233.28392302] Valor real:  [228]\n",
      "Predicción:  [174.44606563] Valor real:  [200]\n",
      "Predicción:  [278.37960657] Valor real:  [253]\n",
      "Predicción:  [339.61637062] Valor real:  [297]\n",
      "Predicción:  [174.44606563] Valor real:  [173]\n",
      "Predicción:  [164.86111078] Valor real:  [159]\n",
      "Predicción:  [202.34816732] Valor real:  [209]\n",
      "Predicción:  [270.50017746] Valor real:  [283]\n",
      "Predicción:  [174.44606563] Valor real:  [207]\n",
      "Predicción:  [286.11690855] Valor real:  [290]\n",
      "Predicción:  [246.00912724] Valor real:  [214]\n",
      "Predicción:  [246.00912724] Valor real:  [285]\n",
      "Predicción:  [266.50716522] Valor real:  [253]\n",
      "Predicción:  [361.84683872] Valor real:  [354]\n",
      "Predicción:  [193.1895939] Valor real:  [189]\n",
      "Predicción:  [308.4760516] Valor real:  [386]\n",
      "Predicción:  [322.67151124] Valor real:  [315]\n",
      "Predicción:  [202.34816732] Valor real:  [223]\n",
      "Predicción:  [274.45765791] Valor real:  [267]\n",
      "Predicción:  [312.07821419] Valor real:  [269]\n",
      "Predicción:  [301.16513106] Valor real:  [292]\n",
      "Predicción:  [254.31493779] Valor real:  [264]\n",
      "Predicción:  [220.23893272] Valor real:  [232]\n",
      "Predicción:  [301.16513106] Valor real:  [292]\n",
      "Predicción:  [202.34816732] Valor real:  [186]\n",
      "Predicción:  [346.14559186] Valor real:  [356]\n",
      "Predicción:  [202.34816732] Valor real:  [230]\n",
      "Predicción:  [270.50017746] Valor real:  [230]\n",
      "Predicción:  [379.515786] Valor real:  [437]\n",
      "Predicción:  [266.50716522] Valor real:  [235]\n",
      "Predicción:  [367.87861496] Valor real:  [317]\n",
      "Predicción:  [202.34816732] Valor real:  [196]\n",
      "Predicción:  [183.88889334] Valor real:  [200]\n",
      "Predicción:  [224.6227946] Valor real:  [168]\n",
      "Predicción:  [342.89874713] Valor real:  [380]\n",
      "Predicción:  [332.94502223] Valor real:  [334]\n",
      "Predicción:  [202.34816732] Valor real:  [205]\n",
      "Predicción:  [246.00912724] Valor real:  [324]\n",
      "Predicción:  [246.00912724] Valor real:  [258]\n",
      "Predicción:  [266.50716522] Valor real:  [264]\n",
      "Predicción:  [332.94502223] Valor real:  [299]\n",
      "Predicción:  [312.07821419] Valor real:  [359]\n",
      "Predicción:  [266.50716522] Valor real:  [189]\n",
      "Predicción:  [202.34816732] Valor real:  [198]\n",
      "Predicción:  [202.34816732] Valor real:  [221]\n",
      "Predicción:  [224.6227946] Valor real:  [175]\n",
      "Predicción:  [278.37960657] Valor real:  [274]\n",
      "Predicción:  [258.41454538] Valor real:  [262]\n",
      "Predicción:  [254.31493779] Valor real:  [242]\n",
      "Predicción:  [336.29846231] Valor real:  [421]\n",
      "Predicción:  [270.50017746] Valor real:  [259]\n",
      "Predicción:  [266.50716522] Valor real:  [239]\n",
      "Predicción:  [246.00912724] Valor real:  [278]\n",
      "Predicción:  [233.28392302] Valor real:  [237]\n",
      "Predicción:  [266.50716522] Valor real:  [260]\n",
      "Predicción:  [332.94502223] Valor real:  [292]\n",
      "Predicción:  [202.34816732] Valor real:  [221]\n"
     ]
    },
    {
     "name": "stdout",
     "output_type": "stream",
     "text": [
      "Predicción:  [202.34816732] Valor real:  [189]\n",
      "Predicción:  [315.64484499] Valor real:  [419]\n",
      "Predicción:  [246.00912724] Valor real:  [258]\n",
      "Predicción:  [183.88889334] Valor real:  [184]\n",
      "Predicción:  [220.23893272] Valor real:  [216]\n",
      "Predicción:  [183.88889334] Valor real:  [202]\n",
      "Predicción:  [266.50716522] Valor real:  [255]\n",
      "Predicción:  [286.11690855] Valor real:  [297]\n",
      "Predicción:  [301.16513106] Valor real:  [317]\n",
      "Predicción:  [274.45765791] Valor real:  [283]\n",
      "Predicción:  [322.67151124] Valor real:  [264]\n",
      "Predicción:  [202.34816732] Valor real:  [165]\n",
      "Predicción:  [246.00912724] Valor real:  [285]\n",
      "Predicción:  [322.67151124] Valor real:  [310]\n",
      "Predicción:  [220.23893272] Valor real:  [225]\n",
      "Predicción:  [202.34816732] Valor real:  [228]\n",
      "Predicción:  [202.34816732] Valor real:  [197]\n",
      "Predicción:  [266.50716522] Valor real:  [221]\n",
      "Predicción:  [183.88889334] Valor real:  [214]\n",
      "Predicción:  [312.07821419] Valor real:  [327]\n",
      "Predicción:  [266.50716522] Valor real:  [229]\n",
      "Predicción:  [293.71208338] Valor real:  [336]\n",
      "Predicción:  [332.94502223] Valor real:  [380]\n",
      "Predicción:  [266.50716522] Valor real:  [253]\n",
      "Predicción:  [224.6227946] Valor real:  [223]\n",
      "Predicción:  [329.55605035] Valor real:  [354]\n",
      "Predicción:  [322.67151124] Valor real:  [290]\n",
      "Predicción:  [270.50017746] Valor real:  [294]\n",
      "Predicción:  [278.37960657] Valor real:  [297]\n",
      "Predicción:  [332.94502223] Valor real:  [299]\n",
      "Predicción:  [270.50017746] Valor real:  [276]\n",
      "Predicción:  [346.14559186] Valor real:  [380]\n",
      "Predicción:  [220.23893272] Valor real:  [145]\n",
      "Predicción:  [202.34816732] Valor real:  [198]\n",
      "Predicción:  [286.11690855] Valor real:  [301]\n",
      "Predicción:  [266.50716522] Valor real:  [251]\n",
      "Predicción:  [233.28392302] Valor real:  [228]\n",
      "Predicción:  [332.94502223] Valor real:  [334]\n",
      "Predicción:  [270.50017746] Valor real:  [272]\n",
      "Predicción:  [329.55605035] Valor real:  [354]\n",
      "Predicción:  [332.94502223] Valor real:  [344]\n",
      "Predicción:  [202.34816732] Valor real:  [225]\n",
      "Predicción:  [183.88889334] Valor real:  [177]\n",
      "Predicción:  [174.44606563] Valor real:  [184]\n",
      "Predicción:  [266.50716522] Valor real:  [251]\n",
      "Predicción:  [342.89874713] Valor real:  [345]\n",
      "Predicción:  [224.6227946] Valor real:  [189]\n",
      "Predicción:  [286.11690855] Valor real:  [297]\n",
      "Predicción:  [202.34816732] Valor real:  [179]\n",
      "Predicción:  [336.29846231] Valor real:  [368]\n",
      "Predicción:  [339.61637062] Valor real:  [363]\n",
      "Predicción:  [266.50716522] Valor real:  [242]\n",
      "Predicción:  [286.11690855] Valor real:  [281]\n",
      "Predicción:  [322.67151124] Valor real:  [318]\n",
      "Predicción:  [266.50716522] Valor real:  [288]\n",
      "Predicción:  [286.11690855] Valor real:  [260]\n",
      "Predicción:  [193.1895939] Valor real:  [200]\n",
      "Predicción:  [193.1895939] Valor real:  [168]\n",
      "Predicción:  [322.67151124] Valor real:  [342]\n",
      "Predicción:  [274.45765791] Valor real:  [235]\n",
      "Predicción:  [346.14559186] Valor real:  [340]\n",
      "Predicción:  [270.50017746] Valor real:  [251]\n",
      "Predicción:  [270.50017746] Valor real:  [258]\n",
      "Predicción:  [262.47862119] Valor real:  [246]\n",
      "Predicción:  [270.50017746] Valor real:  [283]\n",
      "Predicción:  [202.34816732] Valor real:  [239]\n",
      "Predicción:  [270.50017746] Valor real:  [260]\n",
      "Predicción:  [202.34816732] Valor real:  [235]\n",
      "Predicción:  [270.50017746] Valor real:  [290]\n",
      "Predicción:  [312.07821419] Valor real:  [304]\n",
      "Predicción:  [266.50716522] Valor real:  [292]\n",
      "Predicción:  [220.23893272] Valor real:  [200]\n",
      "Predicción:  [202.34816732] Valor real:  [230]\n",
      "Predicción:  [179.18524538] Valor real:  [136]\n",
      "Predicción:  [274.45765791] Valor real:  [294]\n",
      "Predicción:  [202.34816732] Valor real:  [209]\n",
      "Predicción:  [270.50017746] Valor real:  [251]\n",
      "Predicción:  [370.8412054] Valor real:  [421]\n",
      "Predicción:  [179.18524538] Valor real:  [172]\n",
      "Predicción:  [297.45637311] Valor real:  [271]\n",
      "Predicción:  [376.65979092] Valor real:  [393]\n",
      "Predicción:  [202.34816732] Valor real:  [184]\n",
      "Predicción:  [246.00912724] Valor real:  [264]\n",
      "Predicción:  [193.1895939] Valor real:  [177]\n",
      "Predicción:  [183.88889334] Valor real:  [177]\n",
      "Predicción:  [322.67151124] Valor real:  [310]\n",
      "Predicción:  [361.84683872] Valor real:  [322]\n",
      "Predicción:  [262.47862119] Valor real:  [246]\n",
      "Predicción:  [342.89874713] Valor real:  [294]\n",
      "Predicción:  [270.50017746] Valor real:  [230]\n"
     ]
    }
   ],
   "source": [
    "X_test_poly = poly.fit_transform(X_test)\n",
    "X_test_poly\n",
    "yhat = regresion_poly.predict(X_test_poly)\n",
    "\n",
    "for i,j in zip(yhat,y_test):\n",
    "    print(\"Predicción: \",i, \"Valor real: \",j)"
   ]
  },
  {
   "cell_type": "code",
   "execution_count": 12,
   "metadata": {},
   "outputs": [
    {
     "data": {
      "text/plain": [
       "913.4580110399173"
      ]
     },
     "execution_count": 12,
     "metadata": {},
     "output_type": "execute_result"
    }
   ],
   "source": [
    "mean_squared_error(yhat,y_test)"
   ]
  },
  {
   "cell_type": "code",
   "execution_count": 13,
   "metadata": {},
   "outputs": [
    {
     "data": {
      "text/plain": [
       "0.7614558494206456"
      ]
     },
     "execution_count": 13,
     "metadata": {},
     "output_type": "execute_result"
    }
   ],
   "source": [
    "r2_score(y_test,yhat)"
   ]
  },
  {
   "cell_type": "markdown",
   "metadata": {},
   "source": [
    "# Regresiones No-lineales"
   ]
  },
  {
   "cell_type": "markdown",
   "metadata": {},
   "source": [
    "En el caso de las regresiones no lineales, nosotros elegimos la ecuación de la curva que se va ajustar a los puntos, puede ser una curva polinomial, exponencial, logaritmica, senoidal,  "
   ]
  },
  {
   "cell_type": "markdown",
   "metadata": {},
   "source": [
    "#### Ecuación cúbica"
   ]
  },
  {
   "cell_type": "code",
   "execution_count": 14,
   "metadata": {},
   "outputs": [
    {
     "data": {
      "image/png": "[encoded data removed]",
      "text/plain": [
       "<Figure size 432x288 with 1 Axes>"
      ]
     },
     "metadata": {
      "needs_background": "light"
     },
     "output_type": "display_data"
    }
   ],
   "source": [
    "x = np.arange(-5.0, 5.0, 0.1)\n",
    "\n",
    "y = 1*(x**3) + 1*(x**2) + 1*x + 3\n",
    "y_ruido = 20 * np.random.normal(size=x.size)\n",
    "ydata = y + y_ruido\n",
    "plt.plot(x, ydata,  'bo')\n",
    "plt.plot(x,y, 'r') \n",
    "plt.ylabel('Variable dependiente')\n",
    "plt.xlabel('Variable independiente')\n",
    "plt.show()"
   ]
  },
  {
   "cell_type": "markdown",
   "metadata": {},
   "source": [
    "#### Ecución cuadratica"
   ]
  },
  {
   "cell_type": "code",
   "execution_count": 15,
   "metadata": {},
   "outputs": [
    {
     "data": {
      "image/png": "[encoded data removed]",
      "text/plain": [
       "<Figure size 432x288 with 1 Axes>"
      ]
     },
     "metadata": {
      "needs_background": "light"
     },
     "output_type": "display_data"
    }
   ],
   "source": [
    "x = np.arange(-5.0, 5.0, 0.1)\n",
    "\n",
    "y = (x**2)\n",
    "y_ruido = 2 * np.random.normal(size=x.size)\n",
    "ydata = y + y_ruido\n",
    "plt.plot(x, ydata,  'bo')\n",
    "plt.plot(x,y, 'r') \n",
    "plt.ylabel('Variable dependiente')\n",
    "plt.xlabel('Variable independiente')\n",
    "plt.show()"
   ]
  },
  {
   "cell_type": "markdown",
   "metadata": {},
   "source": [
    "#### Ecuación exponencial"
   ]
  },
  {
   "cell_type": "code",
   "execution_count": 16,
   "metadata": {},
   "outputs": [
    {
     "data": {
      "image/png": "[encoded data removed]",
      "text/plain": [
       "<Figure size 432x288 with 1 Axes>"
      ]
     },
     "metadata": {
      "needs_background": "light"
     },
     "output_type": "display_data"
    }
   ],
   "source": [
    "x = np.arange(-5.0, 5.0, 0.1)\n",
    "\n",
    "y = np.exp(x)\n",
    "y_ruido = 10 * np.random.normal(size=x.size)\n",
    "ydata = y + y_ruido\n",
    "plt.plot(x, ydata,  'bo')\n",
    "plt.plot(x,y, 'r') \n",
    "plt.ylabel('Variable dependiente')\n",
    "plt.xlabel('Variable independiente')\n",
    "plt.show()"
   ]
  },
  {
   "cell_type": "markdown",
   "metadata": {},
   "source": [
    "#### Ecuación lógaritmica"
   ]
  },
  {
   "cell_type": "code",
   "execution_count": 17,
   "metadata": {},
   "outputs": [
    {
     "name": "stderr",
     "output_type": "stream",
     "text": [
      "/Users/rociocuestapedraz/opt/anaconda3/lib/python3.7/site-packages/ipykernel_launcher.py:3: RuntimeWarning: invalid value encountered in log\n",
      "  This is separate from the ipykernel package so we can avoid doing imports until\n"
     ]
    },
    {
     "data": {
      "image/png": "[encoded data removed]",
      "text/plain": [
       "<Figure size 432x288 with 1 Axes>"
      ]
     },
     "metadata": {
      "needs_background": "light"
     },
     "output_type": "display_data"
    }
   ],
   "source": [
    "x = np.arange(-5.0, 5.0, 0.1)\n",
    "\n",
    "y = np.log(x)\n",
    "y_ruido = 0.4 * np.random.normal(size=x.size)\n",
    "ydata = y + y_ruido\n",
    "plt.plot(x, ydata,  'bo')\n",
    "plt.plot(x,y, 'r') \n",
    "plt.ylabel('Variable dependiente')\n",
    "plt.xlabel('Variable independiente')\n",
    "plt.show()"
   ]
  },
  {
   "cell_type": "markdown",
   "metadata": {},
   "source": [
    "### Ejemplo"
   ]
  },
  {
   "cell_type": "code",
   "execution_count": 139,
   "metadata": {},
   "outputs": [
    {
     "data": {
      "text/html": [
       "<div>\n",
       "<style scoped>\n",
       "    .dataframe tbody tr th:only-of-type {\n",
       "        vertical-align: middle;\n",
       "    }\n",
       "\n",
       "    .dataframe tbody tr th {\n",
       "        vertical-align: top;\n",
       "    }\n",
       "\n",
       "    .dataframe thead th {\n",
       "        text-align: right;\n",
       "    }\n",
       "</style>\n",
       "<table border=\"1\" class=\"dataframe\">\n",
       "  <thead>\n",
       "    <tr style=\"text-align: right;\">\n",
       "      <th></th>\n",
       "      <th>Year</th>\n",
       "      <th>Value</th>\n",
       "    </tr>\n",
       "  </thead>\n",
       "  <tbody>\n",
       "    <tr>\n",
       "      <th>0</th>\n",
       "      <td>1960</td>\n",
       "      <td>5.918412e+10</td>\n",
       "    </tr>\n",
       "    <tr>\n",
       "      <th>1</th>\n",
       "      <td>1961</td>\n",
       "      <td>4.955705e+10</td>\n",
       "    </tr>\n",
       "    <tr>\n",
       "      <th>2</th>\n",
       "      <td>1962</td>\n",
       "      <td>4.668518e+10</td>\n",
       "    </tr>\n",
       "    <tr>\n",
       "      <th>3</th>\n",
       "      <td>1963</td>\n",
       "      <td>5.009730e+10</td>\n",
       "    </tr>\n",
       "    <tr>\n",
       "      <th>4</th>\n",
       "      <td>1964</td>\n",
       "      <td>5.906225e+10</td>\n",
       "    </tr>\n",
       "    <tr>\n",
       "      <th>5</th>\n",
       "      <td>1965</td>\n",
       "      <td>6.970915e+10</td>\n",
       "    </tr>\n",
       "    <tr>\n",
       "      <th>6</th>\n",
       "      <td>1966</td>\n",
       "      <td>7.587943e+10</td>\n",
       "    </tr>\n",
       "    <tr>\n",
       "      <th>7</th>\n",
       "      <td>1967</td>\n",
       "      <td>7.205703e+10</td>\n",
       "    </tr>\n",
       "    <tr>\n",
       "      <th>8</th>\n",
       "      <td>1968</td>\n",
       "      <td>6.999350e+10</td>\n",
       "    </tr>\n",
       "    <tr>\n",
       "      <th>9</th>\n",
       "      <td>1969</td>\n",
       "      <td>7.871882e+10</td>\n",
       "    </tr>\n",
       "  </tbody>\n",
       "</table>\n",
       "</div>"
      ],
      "text/plain": [
       "   Year         Value\n",
       "0  1960  5.918412e+10\n",
       "1  1961  4.955705e+10\n",
       "2  1962  4.668518e+10\n",
       "3  1963  5.009730e+10\n",
       "4  1964  5.906225e+10\n",
       "5  1965  6.970915e+10\n",
       "6  1966  7.587943e+10\n",
       "7  1967  7.205703e+10\n",
       "8  1968  6.999350e+10\n",
       "9  1969  7.871882e+10"
      ]
     },
     "execution_count": 139,
     "metadata": {},
     "output_type": "execute_result"
    }
   ],
   "source": [
    "df = pd.read_csv(\"china_gdp.csv\")\n",
    "df.head(10)"
   ]
  },
  {
   "cell_type": "code",
   "execution_count": 140,
   "metadata": {},
   "outputs": [
    {
     "data": {
      "image/png": "[encoded data removed]",
      "text/plain": [
       "<Figure size 576x360 with 1 Axes>"
      ]
     },
     "metadata": {
      "needs_background": "light"
     },
     "output_type": "display_data"
    }
   ],
   "source": [
    "plt.figure(figsize=(8,5))\n",
    "sns.scatterplot(df[\"Year\"], df[\"Value\"], color=\"magenta\")\n",
    "plt.show()"
   ]
  },
  {
   "cell_type": "code",
   "execution_count": 141,
   "metadata": {},
   "outputs": [],
   "source": [
    "X = df[\"Year\"].values\n",
    "y = df[\"Value\"].values"
   ]
  },
  {
   "cell_type": "code",
   "execution_count": 142,
   "metadata": {},
   "outputs": [
    {
     "data": {
      "text/plain": [
       "array([1960, 1961, 1962, 1963, 1964, 1965, 1966, 1967, 1968, 1969, 1970,\n",
       "       1971, 1972, 1973, 1974, 1975, 1976, 1977, 1978, 1979, 1980, 1981,\n",
       "       1982, 1983, 1984, 1985, 1986, 1987, 1988, 1989, 1990, 1991, 1992,\n",
       "       1993, 1994, 1995, 1996, 1997, 1998, 1999, 2000, 2001, 2002, 2003,\n",
       "       2004, 2005, 2006, 2007, 2008, 2009, 2010, 2011, 2012, 2013, 2014])"
      ]
     },
     "execution_count": 142,
     "metadata": {},
     "output_type": "execute_result"
    }
   ],
   "source": [
    "X"
   ]
  },
  {
   "cell_type": "code",
   "execution_count": 143,
   "metadata": {},
   "outputs": [
    {
     "data": {
      "text/plain": [
       "count      55.00000\n",
       "mean     1987.00000\n",
       "std        16.02082\n",
       "min      1960.00000\n",
       "25%      1973.50000\n",
       "50%      1987.00000\n",
       "75%      2000.50000\n",
       "max      2014.00000\n",
       "Name: Year, dtype: float64"
      ]
     },
     "execution_count": 143,
     "metadata": {},
     "output_type": "execute_result"
    }
   ],
   "source": [
    "df[\"Year\"].describe()"
   ]
  },
  {
   "cell_type": "code",
   "execution_count": 144,
   "metadata": {},
   "outputs": [],
   "source": [
    "# Normalizamos los datos\n",
    "X_norm =X/max(X)\n",
    "Y_norm =y/max(y)"
   ]
  },
  {
   "cell_type": "code",
   "execution_count": 151,
   "metadata": {},
   "outputs": [
    {
     "data": {
      "image/png": "[encoded data removed]",
      "text/plain": [
       "<Figure size 576x360 with 1 Axes>"
      ]
     },
     "metadata": {
      "needs_background": "light"
     },
     "output_type": "display_data"
    }
   ],
   "source": [
    "plt.figure(figsize=(8,5))\n",
    "sns.scatterplot(X_norm, Y_norm, color=\"magenta\")\n",
    "plt.show()"
   ]
  },
  {
   "cell_type": "markdown",
   "metadata": {},
   "source": [
    "### Función Sigmoidal"
   ]
  },
  {
   "cell_type": "code",
   "execution_count": 146,
   "metadata": {},
   "outputs": [
    {
     "data": {
      "image/png": "[encoded data removed]",
      "text/plain": [
       "<Figure size 432x288 with 1 Axes>"
      ]
     },
     "metadata": {
      "needs_background": "light"
     },
     "output_type": "display_data"
    }
   ],
   "source": [
    "X2 = np.arange(-5.0, 5.0, 0.1)\n",
    "Y2 = 1.0 / (1.0 + np.exp(-X2))\n",
    "plt.plot(X2,Y2) \n",
    "plt.show()"
   ]
  },
  {
   "cell_type": "markdown",
   "metadata": {},
   "source": [
    "La ecuación de la función sigmoidal es la siguiente:\n",
    "\n",
    "$$ \\hat{Y} = \\frac1{1+e^{\\beta_1(X-\\beta_2)}}$$\n",
    "\n",
    "$\\beta_1$: Controla el paso  la curva\n",
    "\n",
    "$\\beta_2$: Mueve la curva en el eje X."
   ]
  },
  {
   "cell_type": "code",
   "execution_count": 147,
   "metadata": {},
   "outputs": [],
   "source": [
    "# Creamos la función\n",
    "\n",
    "def sigmoid(x, Beta_1, Beta_2):\n",
    "    y = 1 / (1 + np.exp(-Beta_1*(x-Beta_2)))\n",
    "    return y"
   ]
  },
  {
   "cell_type": "code",
   "execution_count": 163,
   "metadata": {},
   "outputs": [
    {
     "data": {
      "image/png": "[encoded data removed]",
      "text/plain": [
       "<Figure size 576x360 with 1 Axes>"
      ]
     },
     "metadata": {
      "needs_background": "light"
     },
     "output_type": "display_data"
    }
   ],
   "source": [
    "plt.figure(figsize=(8,5))\n",
    "sns.scatterplot(X_norm, Y_norm, color=\"magenta\")\n",
    "X2 =  np.arange(0, 1, 0.01)\n",
    "beta_1 = 0.010\n",
    "beta_2 = 50.0\n",
    "\n",
    "Y_pred = sigmoid(X2, beta_1 , beta_2)\n",
    "plt.plot(X2, Y_pred)\n",
    "plt.show()"
   ]
  },
  {
   "cell_type": "markdown",
   "metadata": {},
   "source": [
    "Tenemos que ajustar la curva, respecto a los puntos, por lo tanto vamos a utilizar la función **curve_fit**"
   ]
  },
  {
   "cell_type": "code",
   "execution_count": 164,
   "metadata": {},
   "outputs": [
    {
     "name": "stdout",
     "output_type": "stream",
     "text": [
      " beta_1 = 690.453018, beta_2 = 0.997207\n"
     ]
    }
   ],
   "source": [
    "from scipy.optimize import curve_fit\n",
    "popt, pcov = curve_fit(sigmoid, X_norm, Y_norm)\n",
    "print(\" beta_1 = %f, beta_2 = %f\" % (popt[0], popt[1]))\n"
   ]
  },
  {
   "cell_type": "code",
   "execution_count": 165,
   "metadata": {},
   "outputs": [
    {
     "data": {
      "image/png": "[encoded data removed]",
      "text/plain": [
       "<Figure size 576x360 with 1 Axes>"
      ]
     },
     "metadata": {
      "needs_background": "light"
     },
     "output_type": "display_data"
    }
   ],
   "source": [
    "plt.figure(figsize=(8,5))\n",
    "sns.scatterplot(X_norm, Y_norm, color=\"magenta\")\n",
    "\n",
    "beta_1 = 690.453018\n",
    "beta_2 = 0.997207\n",
    "\n",
    "Y_pred = sigmoid(X_norm, beta_1,beta_2)\n",
    "plt.plot(X_norm, Y_pred)\n",
    "plt.show()"
   ]
  },
  {
   "cell_type": "code",
   "execution_count": null,
   "metadata": {},
   "outputs": [],
   "source": []
  }
 ],
 "metadata": {
  "kernelspec": {
   "display_name": "Python 3",
   "language": "python",
   "name": "python3"
  },
  "language_info": {
   "codemirror_mode": {
    "name": "ipython",
    "version": 3
   },
   "file_extension": ".py",
   "mimetype": "text/x-python",
   "name": "python",
   "nbconvert_exporter": "python",
   "pygments_lexer": "ipython3",
   "version": "3.7.4"
  }
 },
 "nbformat": 4,
 "nbformat_minor": 4
}
