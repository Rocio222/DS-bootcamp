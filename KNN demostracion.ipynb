{
 "cells": [
  {
   "cell_type": "code",
   "execution_count": 8,
   "metadata": {},
   "outputs": [],
   "source": [
    "import pandas as pd\n",
    "import seaborn as sns\n",
    "import matplotlib.pyplot as plt\n",
    "import numpy as np"
   ]
  },
  {
   "cell_type": "code",
   "execution_count": 9,
   "metadata": {},
   "outputs": [],
   "source": [
    "df=pd.read_csv(\"/Users/rociocuestapedraz/Desktop/PYTHON bootcamp DS/datasets/iris.csv\")"
   ]
  },
  {
   "cell_type": "code",
   "execution_count": 10,
   "metadata": {},
   "outputs": [
    {
     "data": {
      "text/html": [
       "<div>\n",
       "<style scoped>\n",
       "    .dataframe tbody tr th:only-of-type {\n",
       "        vertical-align: middle;\n",
       "    }\n",
       "\n",
       "    .dataframe tbody tr th {\n",
       "        vertical-align: top;\n",
       "    }\n",
       "\n",
       "    .dataframe thead th {\n",
       "        text-align: right;\n",
       "    }\n",
       "</style>\n",
       "<table border=\"1\" class=\"dataframe\">\n",
       "  <thead>\n",
       "    <tr style=\"text-align: right;\">\n",
       "      <th></th>\n",
       "      <th>Largo Sepalo</th>\n",
       "      <th>Ancho Sepalo</th>\n",
       "      <th>Largo Petalo</th>\n",
       "      <th>Ancho Petalo</th>\n",
       "      <th>Clase</th>\n",
       "    </tr>\n",
       "  </thead>\n",
       "  <tbody>\n",
       "    <tr>\n",
       "      <th>0</th>\n",
       "      <td>5.1</td>\n",
       "      <td>3.5</td>\n",
       "      <td>1.4</td>\n",
       "      <td>0.2</td>\n",
       "      <td>Iris-setosa</td>\n",
       "    </tr>\n",
       "    <tr>\n",
       "      <th>1</th>\n",
       "      <td>4.9</td>\n",
       "      <td>3.0</td>\n",
       "      <td>1.4</td>\n",
       "      <td>0.2</td>\n",
       "      <td>Iris-setosa</td>\n",
       "    </tr>\n",
       "    <tr>\n",
       "      <th>2</th>\n",
       "      <td>4.7</td>\n",
       "      <td>3.2</td>\n",
       "      <td>1.3</td>\n",
       "      <td>0.2</td>\n",
       "      <td>Iris-setosa</td>\n",
       "    </tr>\n",
       "    <tr>\n",
       "      <th>3</th>\n",
       "      <td>4.6</td>\n",
       "      <td>3.1</td>\n",
       "      <td>1.5</td>\n",
       "      <td>0.2</td>\n",
       "      <td>Iris-setosa</td>\n",
       "    </tr>\n",
       "    <tr>\n",
       "      <th>4</th>\n",
       "      <td>5.0</td>\n",
       "      <td>3.6</td>\n",
       "      <td>1.4</td>\n",
       "      <td>0.2</td>\n",
       "      <td>Iris-setosa</td>\n",
       "    </tr>\n",
       "  </tbody>\n",
       "</table>\n",
       "</div>"
      ],
      "text/plain": [
       "   Largo Sepalo  Ancho Sepalo  Largo Petalo  Ancho Petalo        Clase\n",
       "0           5.1           3.5           1.4           0.2  Iris-setosa\n",
       "1           4.9           3.0           1.4           0.2  Iris-setosa\n",
       "2           4.7           3.2           1.3           0.2  Iris-setosa\n",
       "3           4.6           3.1           1.5           0.2  Iris-setosa\n",
       "4           5.0           3.6           1.4           0.2  Iris-setosa"
      ]
     },
     "execution_count": 10,
     "metadata": {},
     "output_type": "execute_result"
    }
   ],
   "source": [
    "df.head()"
   ]
  },
  {
   "cell_type": "code",
   "execution_count": 11,
   "metadata": {},
   "outputs": [],
   "source": [
    "df2=df[[\"Largo Petalo\",\"Ancho Petalo\"]]"
   ]
  },
  {
   "cell_type": "code",
   "execution_count": 12,
   "metadata": {},
   "outputs": [
    {
     "data": {
      "text/html": [
       "<div>\n",
       "<style scoped>\n",
       "    .dataframe tbody tr th:only-of-type {\n",
       "        vertical-align: middle;\n",
       "    }\n",
       "\n",
       "    .dataframe tbody tr th {\n",
       "        vertical-align: top;\n",
       "    }\n",
       "\n",
       "    .dataframe thead th {\n",
       "        text-align: right;\n",
       "    }\n",
       "</style>\n",
       "<table border=\"1\" class=\"dataframe\">\n",
       "  <thead>\n",
       "    <tr style=\"text-align: right;\">\n",
       "      <th></th>\n",
       "      <th>Largo Petalo</th>\n",
       "      <th>Ancho Petalo</th>\n",
       "    </tr>\n",
       "  </thead>\n",
       "  <tbody>\n",
       "    <tr>\n",
       "      <th>0</th>\n",
       "      <td>1.4</td>\n",
       "      <td>0.2</td>\n",
       "    </tr>\n",
       "    <tr>\n",
       "      <th>1</th>\n",
       "      <td>1.4</td>\n",
       "      <td>0.2</td>\n",
       "    </tr>\n",
       "    <tr>\n",
       "      <th>2</th>\n",
       "      <td>1.3</td>\n",
       "      <td>0.2</td>\n",
       "    </tr>\n",
       "    <tr>\n",
       "      <th>3</th>\n",
       "      <td>1.5</td>\n",
       "      <td>0.2</td>\n",
       "    </tr>\n",
       "    <tr>\n",
       "      <th>4</th>\n",
       "      <td>1.4</td>\n",
       "      <td>0.2</td>\n",
       "    </tr>\n",
       "    <tr>\n",
       "      <th>...</th>\n",
       "      <td>...</td>\n",
       "      <td>...</td>\n",
       "    </tr>\n",
       "    <tr>\n",
       "      <th>145</th>\n",
       "      <td>5.2</td>\n",
       "      <td>2.3</td>\n",
       "    </tr>\n",
       "    <tr>\n",
       "      <th>146</th>\n",
       "      <td>5.0</td>\n",
       "      <td>1.9</td>\n",
       "    </tr>\n",
       "    <tr>\n",
       "      <th>147</th>\n",
       "      <td>5.2</td>\n",
       "      <td>2.0</td>\n",
       "    </tr>\n",
       "    <tr>\n",
       "      <th>148</th>\n",
       "      <td>5.4</td>\n",
       "      <td>2.3</td>\n",
       "    </tr>\n",
       "    <tr>\n",
       "      <th>149</th>\n",
       "      <td>5.1</td>\n",
       "      <td>1.8</td>\n",
       "    </tr>\n",
       "  </tbody>\n",
       "</table>\n",
       "<p>150 rows × 2 columns</p>\n",
       "</div>"
      ],
      "text/plain": [
       "     Largo Petalo  Ancho Petalo\n",
       "0             1.4           0.2\n",
       "1             1.4           0.2\n",
       "2             1.3           0.2\n",
       "3             1.5           0.2\n",
       "4             1.4           0.2\n",
       "..            ...           ...\n",
       "145           5.2           2.3\n",
       "146           5.0           1.9\n",
       "147           5.2           2.0\n",
       "148           5.4           2.3\n",
       "149           5.1           1.8\n",
       "\n",
       "[150 rows x 2 columns]"
      ]
     },
     "execution_count": 12,
     "metadata": {},
     "output_type": "execute_result"
    }
   ],
   "source": [
    "df2"
   ]
  },
  {
   "cell_type": "code",
   "execution_count": 13,
   "metadata": {},
   "outputs": [
    {
     "data": {
      "text/html": [
       "<div>\n",
       "<style scoped>\n",
       "    .dataframe tbody tr th:only-of-type {\n",
       "        vertical-align: middle;\n",
       "    }\n",
       "\n",
       "    .dataframe tbody tr th {\n",
       "        vertical-align: top;\n",
       "    }\n",
       "\n",
       "    .dataframe thead th {\n",
       "        text-align: right;\n",
       "    }\n",
       "</style>\n",
       "<table border=\"1\" class=\"dataframe\">\n",
       "  <thead>\n",
       "    <tr style=\"text-align: right;\">\n",
       "      <th></th>\n",
       "      <th>Largo Petalo</th>\n",
       "      <th>Ancho Petalo</th>\n",
       "    </tr>\n",
       "  </thead>\n",
       "  <tbody>\n",
       "    <tr>\n",
       "      <th>0</th>\n",
       "      <td>0.067797</td>\n",
       "      <td>0.041667</td>\n",
       "    </tr>\n",
       "    <tr>\n",
       "      <th>1</th>\n",
       "      <td>0.067797</td>\n",
       "      <td>0.041667</td>\n",
       "    </tr>\n",
       "    <tr>\n",
       "      <th>2</th>\n",
       "      <td>0.050847</td>\n",
       "      <td>0.041667</td>\n",
       "    </tr>\n",
       "    <tr>\n",
       "      <th>3</th>\n",
       "      <td>0.084746</td>\n",
       "      <td>0.041667</td>\n",
       "    </tr>\n",
       "    <tr>\n",
       "      <th>4</th>\n",
       "      <td>0.067797</td>\n",
       "      <td>0.041667</td>\n",
       "    </tr>\n",
       "  </tbody>\n",
       "</table>\n",
       "</div>"
      ],
      "text/plain": [
       "   Largo Petalo  Ancho Petalo\n",
       "0      0.067797      0.041667\n",
       "1      0.067797      0.041667\n",
       "2      0.050847      0.041667\n",
       "3      0.084746      0.041667\n",
       "4      0.067797      0.041667"
      ]
     },
     "execution_count": 13,
     "metadata": {},
     "output_type": "execute_result"
    }
   ],
   "source": [
    "#Normalizo los datos\n",
    "from sklearn.preprocessing import MinMaxScaler\n",
    "df3 = MinMaxScaler().fit_transform(df2)\n",
    "df3= pd.DataFrame(df3, columns = df2.columns)\n",
    "df3.head()"
   ]
  },
  {
   "cell_type": "code",
   "execution_count": 14,
   "metadata": {},
   "outputs": [
    {
     "data": {
      "text/plain": [
       "Text(0.5, 1.0, 'scatter')"
      ]
     },
     "execution_count": 14,
     "metadata": {},
     "output_type": "execute_result"
    },
    {
     "data": {
      "image/png": "[encoded data removed]",
      "text/plain": [
       "<Figure size 432x288 with 1 Axes>"
      ]
     },
     "metadata": {
      "needs_background": "light"
     },
     "output_type": "display_data"
    }
   ],
   "source": [
    "import random\n",
    "\n",
    "x1=random.uniform(0, 1)\n",
    "x2= random.uniform(0,1)                \n",
    "y1=random.uniform(0, 1)\n",
    "y2=random.uniform(0,1)\n",
    "\n",
    "A=(x1,y1)\n",
    "B=(x2,y2)\n",
    "\n",
    "\n",
    "fig, axes = plt.subplots()\n",
    "axes.scatter(df3['Largo Petalo'],df3['Ancho Petalo'])\n",
    "axes.scatter(A[0],A[1])\n",
    "axes.scatter(B[0],B[1])\n",
    "axes.set_title(\"scatter\")"
   ]
  },
  {
   "cell_type": "code",
   "execution_count": 18,
   "metadata": {},
   "outputs": [
    {
     "name": "stdout",
     "output_type": "stream",
     "text": [
      "(0.1389387061185655, 0.9347521852986309)\n"
     ]
    }
   ],
   "source": [
    "print(A)"
   ]
  },
  {
   "cell_type": "code",
   "execution_count": null,
   "metadata": {},
   "outputs": [],
   "source": []
  },
  {
   "cell_type": "code",
   "execution_count": 19,
   "metadata": {},
   "outputs": [
    {
     "data": {
      "text/plain": [
       "0.23395198584378216"
      ]
     },
     "execution_count": 19,
     "metadata": {},
     "output_type": "execute_result"
    }
   ],
   "source": [
    "x1=random.uniform(0, 0.3)\n",
    "x1\n",
    "                 "
   ]
  },
  {
   "cell_type": "code",
   "execution_count": 20,
   "metadata": {},
   "outputs": [
    {
     "data": {
      "text/html": [
       "<div>\n",
       "<style scoped>\n",
       "    .dataframe tbody tr th:only-of-type {\n",
       "        vertical-align: middle;\n",
       "    }\n",
       "\n",
       "    .dataframe tbody tr th {\n",
       "        vertical-align: top;\n",
       "    }\n",
       "\n",
       "    .dataframe thead th {\n",
       "        text-align: right;\n",
       "    }\n",
       "</style>\n",
       "<table border=\"1\" class=\"dataframe\">\n",
       "  <thead>\n",
       "    <tr style=\"text-align: right;\">\n",
       "      <th></th>\n",
       "      <th>Largo Petalo</th>\n",
       "      <th>Ancho Petalo</th>\n",
       "    </tr>\n",
       "  </thead>\n",
       "  <tbody>\n",
       "    <tr>\n",
       "      <th>0</th>\n",
       "      <td>0.067797</td>\n",
       "      <td>0.041667</td>\n",
       "    </tr>\n",
       "    <tr>\n",
       "      <th>1</th>\n",
       "      <td>0.067797</td>\n",
       "      <td>0.041667</td>\n",
       "    </tr>\n",
       "    <tr>\n",
       "      <th>2</th>\n",
       "      <td>0.050847</td>\n",
       "      <td>0.041667</td>\n",
       "    </tr>\n",
       "    <tr>\n",
       "      <th>3</th>\n",
       "      <td>0.084746</td>\n",
       "      <td>0.041667</td>\n",
       "    </tr>\n",
       "    <tr>\n",
       "      <th>4</th>\n",
       "      <td>0.067797</td>\n",
       "      <td>0.041667</td>\n",
       "    </tr>\n",
       "    <tr>\n",
       "      <th>...</th>\n",
       "      <td>...</td>\n",
       "      <td>...</td>\n",
       "    </tr>\n",
       "    <tr>\n",
       "      <th>145</th>\n",
       "      <td>0.711864</td>\n",
       "      <td>0.916667</td>\n",
       "    </tr>\n",
       "    <tr>\n",
       "      <th>146</th>\n",
       "      <td>0.677966</td>\n",
       "      <td>0.750000</td>\n",
       "    </tr>\n",
       "    <tr>\n",
       "      <th>147</th>\n",
       "      <td>0.711864</td>\n",
       "      <td>0.791667</td>\n",
       "    </tr>\n",
       "    <tr>\n",
       "      <th>148</th>\n",
       "      <td>0.745763</td>\n",
       "      <td>0.916667</td>\n",
       "    </tr>\n",
       "    <tr>\n",
       "      <th>149</th>\n",
       "      <td>0.694915</td>\n",
       "      <td>0.708333</td>\n",
       "    </tr>\n",
       "  </tbody>\n",
       "</table>\n",
       "<p>150 rows × 2 columns</p>\n",
       "</div>"
      ],
      "text/plain": [
       "     Largo Petalo  Ancho Petalo\n",
       "0        0.067797      0.041667\n",
       "1        0.067797      0.041667\n",
       "2        0.050847      0.041667\n",
       "3        0.084746      0.041667\n",
       "4        0.067797      0.041667\n",
       "..            ...           ...\n",
       "145      0.711864      0.916667\n",
       "146      0.677966      0.750000\n",
       "147      0.711864      0.791667\n",
       "148      0.745763      0.916667\n",
       "149      0.694915      0.708333\n",
       "\n",
       "[150 rows x 2 columns]"
      ]
     },
     "execution_count": 20,
     "metadata": {},
     "output_type": "execute_result"
    }
   ],
   "source": [
    "df3"
   ]
  },
  {
   "cell_type": "code",
   "execution_count": 21,
   "metadata": {},
   "outputs": [],
   "source": [
    "def distancia (x,y):\n",
    "    if len(x)==len(y):\n",
    "        distancia= np.linalg.norm(x-y)\n",
    "        return distancia\n",
    "    else:\n",
    "        print(\"La longitudes no coinciden\")\n",
    "    "
   ]
  },
  {
   "cell_type": "code",
   "execution_count": 22,
   "metadata": {},
   "outputs": [],
   "source": [
    "dist_A=[]\n",
    "dist_B=[]\n",
    "A=np.array(A)\n",
    "B=np.array(B)\n",
    "\n",
    "for i in range(0,len(df3)):\n",
    "    distA=distancia(A,df3[i:i+1].values[0])\n",
    "    dist_A.append(distA)\n",
    "    distB=distancia(B,df3[i:i+1].values[0])\n",
    "    dist_B.append(distB)\n"
   ]
  },
  {
   "cell_type": "code",
   "execution_count": 23,
   "metadata": {},
   "outputs": [
    {
     "name": "stdout",
     "output_type": "stream",
     "text": [
      "[0.13893871 0.93475219]\n"
     ]
    }
   ],
   "source": [
    "print(A)"
   ]
  },
  {
   "cell_type": "code",
   "execution_count": 26,
   "metadata": {},
   "outputs": [
    {
     "data": {
      "text/plain": [
       "array([0.06779661, 0.04166667])"
      ]
     },
     "execution_count": 26,
     "metadata": {},
     "output_type": "execute_result"
    }
   ],
   "source": [
    "df3[0:1].values[0]"
   ]
  },
  {
   "cell_type": "code",
   "execution_count": 152,
   "metadata": {},
   "outputs": [],
   "source": [
    "clase=[]\n",
    "for i,j in zip(dist_A,dist_B):\n",
    "    if i>j:\n",
    "        clase.append(\"clase1\")\n",
    "    else:\n",
    "        clase.append(\"clase2\")\n",
    "        "
   ]
  },
  {
   "cell_type": "code",
   "execution_count": 153,
   "metadata": {},
   "outputs": [],
   "source": [
    "df3[\"clase\"]=clase"
   ]
  },
  {
   "cell_type": "code",
   "execution_count": 154,
   "metadata": {},
   "outputs": [
    {
     "data": {
      "text/html": [
       "<div>\n",
       "<style scoped>\n",
       "    .dataframe tbody tr th:only-of-type {\n",
       "        vertical-align: middle;\n",
       "    }\n",
       "\n",
       "    .dataframe tbody tr th {\n",
       "        vertical-align: top;\n",
       "    }\n",
       "\n",
       "    .dataframe thead th {\n",
       "        text-align: right;\n",
       "    }\n",
       "</style>\n",
       "<table border=\"1\" class=\"dataframe\">\n",
       "  <thead>\n",
       "    <tr style=\"text-align: right;\">\n",
       "      <th></th>\n",
       "      <th>Largo Petalo</th>\n",
       "      <th>Ancho Petalo</th>\n",
       "      <th>clase</th>\n",
       "    </tr>\n",
       "  </thead>\n",
       "  <tbody>\n",
       "    <tr>\n",
       "      <th>0</th>\n",
       "      <td>0.067797</td>\n",
       "      <td>0.041667</td>\n",
       "      <td>clase1</td>\n",
       "    </tr>\n",
       "    <tr>\n",
       "      <th>1</th>\n",
       "      <td>0.067797</td>\n",
       "      <td>0.041667</td>\n",
       "      <td>clase1</td>\n",
       "    </tr>\n",
       "    <tr>\n",
       "      <th>2</th>\n",
       "      <td>0.050847</td>\n",
       "      <td>0.041667</td>\n",
       "      <td>clase1</td>\n",
       "    </tr>\n",
       "    <tr>\n",
       "      <th>3</th>\n",
       "      <td>0.084746</td>\n",
       "      <td>0.041667</td>\n",
       "      <td>clase1</td>\n",
       "    </tr>\n",
       "    <tr>\n",
       "      <th>4</th>\n",
       "      <td>0.067797</td>\n",
       "      <td>0.041667</td>\n",
       "      <td>clase1</td>\n",
       "    </tr>\n",
       "  </tbody>\n",
       "</table>\n",
       "</div>"
      ],
      "text/plain": [
       "   Largo Petalo  Ancho Petalo   clase\n",
       "0      0.067797      0.041667  clase1\n",
       "1      0.067797      0.041667  clase1\n",
       "2      0.050847      0.041667  clase1\n",
       "3      0.084746      0.041667  clase1\n",
       "4      0.067797      0.041667  clase1"
      ]
     },
     "execution_count": 154,
     "metadata": {},
     "output_type": "execute_result"
    }
   ],
   "source": [
    "df3.head()"
   ]
  },
  {
   "cell_type": "code",
   "execution_count": 158,
   "metadata": {},
   "outputs": [
    {
     "data": {
      "text/plain": [
       "Text(0.5, 1.0, 'scatter')"
      ]
     },
     "execution_count": 158,
     "metadata": {},
     "output_type": "execute_result"
    },
    {
     "data": {
      "image/png": "[encoded data removed]",
      "text/plain": [
       "<Figure size 432x288 with 1 Axes>"
      ]
     },
     "metadata": {
      "needs_background": "light"
     },
     "output_type": "display_data"
    }
   ],
   "source": [
    "fig, axes = plt.subplots()\n",
    "sns.scatterplot(df3[\"Largo Petalo\"],df3[\"Ancho Petalo\"],hue=df3[\"clase\"])\n",
    "axes.scatter(A[0],A[1],color=\"black\")\n",
    "axes.scatter(B[0],B[1],color=\"black\")\n",
    "axes.set_title(\"scatter\")"
   ]
  },
  {
   "cell_type": "code",
   "execution_count": 139,
   "metadata": {},
   "outputs": [],
   "source": [
    "A2=np.array(df3[df3[\"clase\"]==\"clase1\"].mean())\n",
    "B2=np.array(df3[df3[\"clase\"]==\"clase2\"].mean())"
   ]
  },
  {
   "cell_type": "code",
   "execution_count": 140,
   "metadata": {},
   "outputs": [
    {
     "data": {
      "text/plain": [
       "Text(0.5, 1.0, 'scatter')"
      ]
     },
     "execution_count": 140,
     "metadata": {},
     "output_type": "execute_result"
    },
    {
     "data": {
      "image/png": "[encoded data removed]",
      "text/plain": [
       "<Figure size 432x288 with 1 Axes>"
      ]
     },
     "metadata": {
      "needs_background": "light"
     },
     "output_type": "display_data"
    }
   ],
   "source": [
    "fig, axes = plt.subplots()\n",
    "axes.scatter(df3['Largo Petalo'],df3['Ancho Petalo'])\n",
    "axes.scatter(A2[0],A2[1])\n",
    "axes.scatter(B2[0],B2[1])\n",
    "axes.set_title(\"scatter\")"
   ]
  },
  {
   "cell_type": "code",
   "execution_count": null,
   "metadata": {},
   "outputs": [],
   "source": [
    "df4=df3[\"Largo Petalo\",\"Ancho Petalo\"]\n",
    "dist_A3=[]\n",
    "dist_B3=[]\n",
    "A=np.array(A)\n",
    "B=np.array(B)\n",
    "\n",
    "for i in range(0,len(df3)):\n",
    "    distA=distancia(A,df3[i:i+1].values[0])\n",
    "    dist_A.append(distA)\n",
    "    distB=distancia(B,df3[i:i+1].values[0])\n",
    "    dist_B.append(distB)"
   ]
  },
  {
   "cell_type": "code",
   "execution_count": null,
   "metadata": {},
   "outputs": [],
   "source": [
    "for i in range(5):\n",
    "    "
   ]
  },
  {
   "cell_type": "code",
   "execution_count": 200,
   "metadata": {},
   "outputs": [
    {
     "data": {
      "text/plain": [
       "Text(0.5, 1.0, 'scatter')"
      ]
     },
     "execution_count": 200,
     "metadata": {},
     "output_type": "execute_result"
    },
    {
     "data": {
      "image/png": "[encoded data removed]",
      "text/plain": [
       "<Figure size 432x288 with 1 Axes>"
      ]
     },
     "metadata": {
      "needs_background": "light"
     },
     "output_type": "display_data"
    }
   ],
   "source": [
    "import random\n",
    "\n",
    "x1=random.uniform(0, 1)\n",
    "x2= random.uniform(0,1)                \n",
    "y1=random.uniform(0, 1)\n",
    "y2=random.uniform(0,1)\n",
    "\n",
    "A=(x1,y1)\n",
    "B=(x2,y2)\n",
    "\n",
    "\n",
    "fig, axes = plt.subplots()\n",
    "axes.scatter(df3['Largo Petalo'],df3['Ancho Petalo'])\n",
    "axes.scatter(A[0],A[1],color=\"black\")\n",
    "axes.scatter(B[0],B[1],color=\"black\")\n",
    "axes.set_title(\"scatter\")"
   ]
  },
  {
   "cell_type": "code",
   "execution_count": 193,
   "metadata": {},
   "outputs": [
    {
     "data": {
      "text/plain": [
       "Text(0.5, 1.0, 'scatter')"
      ]
     },
     "execution_count": 193,
     "metadata": {},
     "output_type": "execute_result"
    },
    {
     "data": {
      "image/png": "[encoded data removed]",
      "text/plain": [
       "<Figure size 432x288 with 1 Axes>"
      ]
     },
     "metadata": {
      "needs_background": "light"
     },
     "output_type": "display_data"
    }
   ],
   "source": [
    "dist_A=[]\n",
    "dist_B=[]\n",
    "A=np.array(A)\n",
    "B=np.array(B)\n",
    "\n",
    "for i in range(0,len(df3)):\n",
    "    distA=distancia(A,df3[i:i+1].values[0])\n",
    "    dist_A.append(distA)\n",
    "    distB=distancia(B,df3[i:i+1].values[0])\n",
    "    dist_B.append(distB)\n",
    "\n",
    "clase=[]\n",
    "for i,j in zip(dist_A,dist_B):\n",
    "    if i>j:\n",
    "        clase.append(\"clase1\")\n",
    "    else:\n",
    "        clase.append(\"clase2\")\n",
    "df3[\"clase\"]=clase\n",
    "\n",
    "A2=np.array(df3[df3[\"clase\"]==\"clase1\"].mean())\n",
    "B2=np.array(df3[df3[\"clase\"]==\"clase2\"].mean())\n",
    "\n",
    "fig, axes = plt.subplots()\n",
    "sns.scatterplot(df3[\"Largo Petalo\"],df3[\"Ancho Petalo\"],hue=df3[\"clase\"])\n",
    "axes.scatter(A2[0],A2[1],color=\"black\")\n",
    "axes.scatter(B2[0],B2[1],color=\"black\")\n",
    "axes.set_title(\"scatter\")\n"
   ]
  },
  {
   "cell_type": "code",
   "execution_count": 201,
   "metadata": {},
   "outputs": [
    {
     "name": "stdout",
     "output_type": "stream",
     "text": [
      "La longitudes no coinciden\n",
      "La longitudes no coinciden\n",
      "La longitudes no coinciden\n",
      "La longitudes no coinciden\n",
      "La longitudes no coinciden\n",
      "La longitudes no coinciden\n",
      "La longitudes no coinciden\n",
      "La longitudes no coinciden\n",
      "La longitudes no coinciden\n",
      "La longitudes no coinciden\n",
      "La longitudes no coinciden\n",
      "La longitudes no coinciden\n",
      "La longitudes no coinciden\n",
      "La longitudes no coinciden\n",
      "La longitudes no coinciden\n",
      "La longitudes no coinciden\n",
      "La longitudes no coinciden\n",
      "La longitudes no coinciden\n",
      "La longitudes no coinciden\n",
      "La longitudes no coinciden\n",
      "La longitudes no coinciden\n",
      "La longitudes no coinciden\n",
      "La longitudes no coinciden\n",
      "La longitudes no coinciden\n",
      "La longitudes no coinciden\n",
      "La longitudes no coinciden\n",
      "La longitudes no coinciden\n",
      "La longitudes no coinciden\n",
      "La longitudes no coinciden\n",
      "La longitudes no coinciden\n",
      "La longitudes no coinciden\n",
      "La longitudes no coinciden\n",
      "La longitudes no coinciden\n",
      "La longitudes no coinciden\n",
      "La longitudes no coinciden\n",
      "La longitudes no coinciden\n",
      "La longitudes no coinciden\n",
      "La longitudes no coinciden\n",
      "La longitudes no coinciden\n",
      "La longitudes no coinciden\n",
      "La longitudes no coinciden\n",
      "La longitudes no coinciden\n",
      "La longitudes no coinciden\n",
      "La longitudes no coinciden\n",
      "La longitudes no coinciden\n",
      "La longitudes no coinciden\n",
      "La longitudes no coinciden\n",
      "La longitudes no coinciden\n",
      "La longitudes no coinciden\n",
      "La longitudes no coinciden\n",
      "La longitudes no coinciden\n",
      "La longitudes no coinciden\n",
      "La longitudes no coinciden\n",
      "La longitudes no coinciden\n",
      "La longitudes no coinciden\n",
      "La longitudes no coinciden\n",
      "La longitudes no coinciden\n",
      "La longitudes no coinciden\n",
      "La longitudes no coinciden\n",
      "La longitudes no coinciden\n",
      "La longitudes no coinciden\n",
      "La longitudes no coinciden\n",
      "La longitudes no coinciden\n",
      "La longitudes no coinciden\n",
      "La longitudes no coinciden\n",
      "La longitudes no coinciden\n",
      "La longitudes no coinciden\n",
      "La longitudes no coinciden\n",
      "La longitudes no coinciden\n",
      "La longitudes no coinciden\n",
      "La longitudes no coinciden\n",
      "La longitudes no coinciden\n",
      "La longitudes no coinciden\n",
      "La longitudes no coinciden\n",
      "La longitudes no coinciden\n",
      "La longitudes no coinciden\n",
      "La longitudes no coinciden\n",
      "La longitudes no coinciden\n",
      "La longitudes no coinciden\n",
      "La longitudes no coinciden\n",
      "La longitudes no coinciden\n",
      "La longitudes no coinciden\n",
      "La longitudes no coinciden\n",
      "La longitudes no coinciden\n",
      "La longitudes no coinciden\n",
      "La longitudes no coinciden\n",
      "La longitudes no coinciden\n",
      "La longitudes no coinciden\n",
      "La longitudes no coinciden\n",
      "La longitudes no coinciden\n",
      "La longitudes no coinciden\n",
      "La longitudes no coinciden\n",
      "La longitudes no coinciden\n",
      "La longitudes no coinciden\n",
      "La longitudes no coinciden\n",
      "La longitudes no coinciden\n",
      "La longitudes no coinciden\n",
      "La longitudes no coinciden\n",
      "La longitudes no coinciden\n",
      "La longitudes no coinciden\n",
      "La longitudes no coinciden\n",
      "La longitudes no coinciden\n",
      "La longitudes no coinciden\n",
      "La longitudes no coinciden\n",
      "La longitudes no coinciden\n",
      "La longitudes no coinciden\n",
      "La longitudes no coinciden\n",
      "La longitudes no coinciden\n",
      "La longitudes no coinciden\n",
      "La longitudes no coinciden\n",
      "La longitudes no coinciden\n",
      "La longitudes no coinciden\n",
      "La longitudes no coinciden\n",
      "La longitudes no coinciden\n",
      "La longitudes no coinciden\n",
      "La longitudes no coinciden\n",
      "La longitudes no coinciden\n",
      "La longitudes no coinciden\n",
      "La longitudes no coinciden\n",
      "La longitudes no coinciden\n",
      "La longitudes no coinciden\n",
      "La longitudes no coinciden\n",
      "La longitudes no coinciden\n",
      "La longitudes no coinciden\n",
      "La longitudes no coinciden\n",
      "La longitudes no coinciden\n",
      "La longitudes no coinciden\n",
      "La longitudes no coinciden\n",
      "La longitudes no coinciden\n",
      "La longitudes no coinciden\n",
      "La longitudes no coinciden\n",
      "La longitudes no coinciden\n",
      "La longitudes no coinciden\n",
      "La longitudes no coinciden\n",
      "La longitudes no coinciden\n",
      "La longitudes no coinciden\n",
      "La longitudes no coinciden\n",
      "La longitudes no coinciden\n",
      "La longitudes no coinciden\n",
      "La longitudes no coinciden\n",
      "La longitudes no coinciden\n",
      "La longitudes no coinciden\n",
      "La longitudes no coinciden\n",
      "La longitudes no coinciden\n",
      "La longitudes no coinciden\n",
      "La longitudes no coinciden\n",
      "La longitudes no coinciden\n",
      "La longitudes no coinciden\n",
      "La longitudes no coinciden\n",
      "La longitudes no coinciden\n",
      "La longitudes no coinciden\n",
      "La longitudes no coinciden\n",
      "La longitudes no coinciden\n",
      "La longitudes no coinciden\n",
      "La longitudes no coinciden\n",
      "La longitudes no coinciden\n",
      "La longitudes no coinciden\n",
      "La longitudes no coinciden\n",
      "La longitudes no coinciden\n",
      "La longitudes no coinciden\n",
      "La longitudes no coinciden\n",
      "La longitudes no coinciden\n",
      "La longitudes no coinciden\n",
      "La longitudes no coinciden\n",
      "La longitudes no coinciden\n",
      "La longitudes no coinciden\n",
      "La longitudes no coinciden\n",
      "La longitudes no coinciden\n",
      "La longitudes no coinciden\n",
      "La longitudes no coinciden\n",
      "La longitudes no coinciden\n",
      "La longitudes no coinciden\n",
      "La longitudes no coinciden\n",
      "La longitudes no coinciden\n",
      "La longitudes no coinciden\n",
      "La longitudes no coinciden\n",
      "La longitudes no coinciden\n",
      "La longitudes no coinciden\n",
      "La longitudes no coinciden\n",
      "La longitudes no coinciden\n",
      "La longitudes no coinciden\n",
      "La longitudes no coinciden\n",
      "La longitudes no coinciden\n",
      "La longitudes no coinciden\n",
      "La longitudes no coinciden\n",
      "La longitudes no coinciden\n",
      "La longitudes no coinciden\n",
      "La longitudes no coinciden\n",
      "La longitudes no coinciden\n",
      "La longitudes no coinciden\n",
      "La longitudes no coinciden\n",
      "La longitudes no coinciden\n",
      "La longitudes no coinciden\n",
      "La longitudes no coinciden\n",
      "La longitudes no coinciden\n",
      "La longitudes no coinciden\n",
      "La longitudes no coinciden\n",
      "La longitudes no coinciden\n",
      "La longitudes no coinciden\n",
      "La longitudes no coinciden\n",
      "La longitudes no coinciden\n",
      "La longitudes no coinciden\n",
      "La longitudes no coinciden\n",
      "La longitudes no coinciden\n",
      "La longitudes no coinciden\n",
      "La longitudes no coinciden\n",
      "La longitudes no coinciden\n",
      "La longitudes no coinciden\n",
      "La longitudes no coinciden\n",
      "La longitudes no coinciden\n",
      "La longitudes no coinciden\n",
      "La longitudes no coinciden\n",
      "La longitudes no coinciden\n",
      "La longitudes no coinciden\n",
      "La longitudes no coinciden\n",
      "La longitudes no coinciden\n",
      "La longitudes no coinciden\n",
      "La longitudes no coinciden\n",
      "La longitudes no coinciden\n",
      "La longitudes no coinciden\n",
      "La longitudes no coinciden\n",
      "La longitudes no coinciden\n",
      "La longitudes no coinciden\n",
      "La longitudes no coinciden\n",
      "La longitudes no coinciden\n",
      "La longitudes no coinciden\n",
      "La longitudes no coinciden\n",
      "La longitudes no coinciden\n",
      "La longitudes no coinciden\n",
      "La longitudes no coinciden\n",
      "La longitudes no coinciden\n",
      "La longitudes no coinciden\n",
      "La longitudes no coinciden\n",
      "La longitudes no coinciden\n",
      "La longitudes no coinciden\n",
      "La longitudes no coinciden\n",
      "La longitudes no coinciden\n",
      "La longitudes no coinciden\n",
      "La longitudes no coinciden\n",
      "La longitudes no coinciden\n",
      "La longitudes no coinciden\n",
      "La longitudes no coinciden\n",
      "La longitudes no coinciden\n",
      "La longitudes no coinciden\n",
      "La longitudes no coinciden\n",
      "La longitudes no coinciden\n",
      "La longitudes no coinciden\n",
      "La longitudes no coinciden\n",
      "La longitudes no coinciden\n",
      "La longitudes no coinciden\n",
      "La longitudes no coinciden\n",
      "La longitudes no coinciden\n",
      "La longitudes no coinciden\n",
      "La longitudes no coinciden\n",
      "La longitudes no coinciden\n",
      "La longitudes no coinciden\n",
      "La longitudes no coinciden\n",
      "La longitudes no coinciden\n",
      "La longitudes no coinciden\n",
      "La longitudes no coinciden\n",
      "La longitudes no coinciden\n",
      "La longitudes no coinciden\n",
      "La longitudes no coinciden\n",
      "La longitudes no coinciden\n",
      "La longitudes no coinciden\n",
      "La longitudes no coinciden\n",
      "La longitudes no coinciden\n",
      "La longitudes no coinciden\n",
      "La longitudes no coinciden\n",
      "La longitudes no coinciden\n",
      "La longitudes no coinciden\n",
      "La longitudes no coinciden\n",
      "La longitudes no coinciden\n",
      "La longitudes no coinciden\n",
      "La longitudes no coinciden\n",
      "La longitudes no coinciden\n",
      "La longitudes no coinciden\n",
      "La longitudes no coinciden\n",
      "La longitudes no coinciden\n",
      "La longitudes no coinciden\n",
      "La longitudes no coinciden\n",
      "La longitudes no coinciden\n",
      "La longitudes no coinciden\n",
      "La longitudes no coinciden\n",
      "La longitudes no coinciden\n",
      "La longitudes no coinciden\n",
      "La longitudes no coinciden\n",
      "La longitudes no coinciden\n",
      "La longitudes no coinciden\n",
      "La longitudes no coinciden\n",
      "La longitudes no coinciden\n",
      "La longitudes no coinciden\n",
      "La longitudes no coinciden\n",
      "La longitudes no coinciden\n",
      "La longitudes no coinciden\n",
      "La longitudes no coinciden\n",
      "La longitudes no coinciden\n",
      "La longitudes no coinciden\n",
      "La longitudes no coinciden\n",
      "La longitudes no coinciden\n"
     ]
    },
    {
     "ename": "TypeError",
     "evalue": "'>' not supported between instances of 'NoneType' and 'NoneType'",
     "output_type": "error",
     "traceback": [
      "\u001b[0;31m---------------------------------------------------------------------------\u001b[0m",
      "\u001b[0;31mTypeError\u001b[0m                                 Traceback (most recent call last)",
      "\u001b[0;32m<ipython-input-201-5d3e2e8a60cd>\u001b[0m in \u001b[0;36m<module>\u001b[0;34m\u001b[0m\n\u001b[1;32m     13\u001b[0m     \u001b[0mclase\u001b[0m\u001b[0;34m=\u001b[0m\u001b[0;34m[\u001b[0m\u001b[0;34m]\u001b[0m\u001b[0;34m\u001b[0m\u001b[0;34m\u001b[0m\u001b[0m\n\u001b[1;32m     14\u001b[0m     \u001b[0;32mfor\u001b[0m \u001b[0mi\u001b[0m\u001b[0;34m,\u001b[0m\u001b[0mj\u001b[0m \u001b[0;32min\u001b[0m \u001b[0mzip\u001b[0m\u001b[0;34m(\u001b[0m\u001b[0mdist_A\u001b[0m\u001b[0;34m,\u001b[0m\u001b[0mdist_B\u001b[0m\u001b[0;34m)\u001b[0m\u001b[0;34m:\u001b[0m\u001b[0;34m\u001b[0m\u001b[0;34m\u001b[0m\u001b[0m\n\u001b[0;32m---> 15\u001b[0;31m         \u001b[0;32mif\u001b[0m \u001b[0mi\u001b[0m\u001b[0;34m>\u001b[0m\u001b[0mj\u001b[0m\u001b[0;34m:\u001b[0m\u001b[0;34m\u001b[0m\u001b[0;34m\u001b[0m\u001b[0m\n\u001b[0m\u001b[1;32m     16\u001b[0m             \u001b[0mclase\u001b[0m\u001b[0;34m.\u001b[0m\u001b[0mappend\u001b[0m\u001b[0;34m(\u001b[0m\u001b[0;34m\"clase1\"\u001b[0m\u001b[0;34m)\u001b[0m\u001b[0;34m\u001b[0m\u001b[0;34m\u001b[0m\u001b[0m\n\u001b[1;32m     17\u001b[0m         \u001b[0;32melse\u001b[0m\u001b[0;34m:\u001b[0m\u001b[0;34m\u001b[0m\u001b[0;34m\u001b[0m\u001b[0m\n",
      "\u001b[0;31mTypeError\u001b[0m: '>' not supported between instances of 'NoneType' and 'NoneType'"
     ]
    },
    {
     "data": {
      "image/png": "[encoded data removed]",
      "text/plain": [
       "<Figure size 432x288 with 1 Axes>"
      ]
     },
     "metadata": {
      "needs_background": "light"
     },
     "output_type": "display_data"
    }
   ],
   "source": [
    "\n",
    "for i in range(5):\n",
    "    dist_A=[]\n",
    "    dist_B=[]\n",
    "    A=np.array(A)\n",
    "    B=np.array(B)\n",
    "\n",
    "    for i in range(0,len(df3)):\n",
    "        distA=distancia(A,df3[i:i+1].values[0])\n",
    "        dist_A.append(distA)\n",
    "        distB=distancia(B,df3[i:i+1].values[0])\n",
    "        dist_B.append(distB)\n",
    "\n",
    "    clase=[]\n",
    "    for i,j in zip(dist_A,dist_B):\n",
    "        if i>j:\n",
    "            clase.append(\"clase1\")\n",
    "        else:\n",
    "            clase.append(\"clase2\")\n",
    "    df3[\"clase\"]=clase\n",
    "\n",
    "    A2=np.array(df3[df3[\"clase\"]==\"clase1\"].mean())\n",
    "    B2=np.array(df3[df3[\"clase\"]==\"clase2\"].mean())\n",
    "\n",
    "    fig, axes = plt.subplots()\n",
    "    sns.scatterplot(df3[\"Largo Petalo\"],df3[\"Ancho Petalo\"],hue=df3[\"clase\"])\n",
    "    axes.scatter(A2[0],A2[1],color=\"black\")\n",
    "    axes.scatter(B2[0],B2[1],color=\"black\")\n",
    "    axes.set_title(\"scatter\")"
   ]
  },
  {
   "cell_type": "code",
   "execution_count": null,
   "metadata": {},
   "outputs": [],
   "source": []
  },
  {
   "cell_type": "code",
   "execution_count": null,
   "metadata": {},
   "outputs": [],
   "source": []
  },
  {
   "cell_type": "code",
   "execution_count": null,
   "metadata": {},
   "outputs": [],
   "source": []
  }
 ],
 "metadata": {
  "kernelspec": {
   "display_name": "Python 3",
   "language": "python",
   "name": "python3"
  },
  "language_info": {
   "codemirror_mode": {
    "name": "ipython",
    "version": 3
   },
   "file_extension": ".py",
   "mimetype": "text/x-python",
   "name": "python",
   "nbconvert_exporter": "python",
   "pygments_lexer": "ipython3",
   "version": "3.7.4"
  }
 },
 "nbformat": 4,
 "nbformat_minor": 4
}
