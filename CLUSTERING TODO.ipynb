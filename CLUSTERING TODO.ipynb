{
 "cells": [
  {
   "cell_type": "markdown",
   "metadata": {},
   "source": [
    "## CLUSTERS SENSORES"
   ]
  },
  {
   "cell_type": "code",
   "execution_count": 1,
   "metadata": {},
   "outputs": [],
   "source": [
    "import pandas as pd\n",
    "import numpy as np \n",
    "import seaborn as sns\n",
    "import matplotlib.pyplot as plt \n",
    "from sklearn import datasets\n",
    "from sklearn.cluster import KMeans \n",
    "from scipy.spatial.distance import cdist\n",
    "import os"
   ]
  },
  {
   "cell_type": "markdown",
   "metadata": {},
   "source": [
    "https://archive.ics.uci.edu/ml/datasets/Daily+and+Sports+Activities"
   ]
  },
  {
   "cell_type": "markdown",
   "metadata": {},
   "source": [
    "### 6 actividades 1 persona 1 sensor "
   ]
  },
  {
   "cell_type": "code",
   "execution_count": 2,
   "metadata": {},
   "outputs": [],
   "source": [
    "\n",
    "lista_segmentos = range(1,61)\n",
    "lista_actividades = range(1,7)\n",
    "lista_personas = range(1,2)\n",
    "df = pd.DataFrame()\n",
    "lista_path = []\n",
    "for i in lista_actividades:\n",
    "    for k in lista_personas:\n",
    "        if i < 10:\n",
    "                for j in lista_segmentos:\n",
    "                    if j < 10:\n",
    "                        path = f\"/Users/rociocuestapedraz/Desktop/data/a0{i}/p{k}/s0{j}.txt\"\n",
    "                        lista_path.append(path)\n",
    "                        df1 = pd.read_csv(path, names = range(45))\n",
    "                        df1 = df1.iloc[:,:9]\n",
    "                        df1 = df1.to_numpy().flatten()\n",
    "                        df1 = pd.DataFrame(df1).T\n",
    "                        df = df.append(df1)\n",
    "                    else:\n",
    "                        \n",
    "                        path = f\"/Users/rociocuestapedraz/Desktop/data/a0{i}/p{k}/s{j}.txt\"\n",
    "                        lista_path.append(path)\n",
    "                        df1 = pd.read_csv(path, names = range(45))\n",
    "                        df1 = df1.iloc[:,:9]\n",
    "                        df1 = df1.to_numpy().flatten()\n",
    "                        df1 = pd.DataFrame(df1).T\n",
    "                        df = df.append(df1)\n",
    "        else:\n",
    "            for j in lista_segmentos:\n",
    "                if j < 10:\n",
    "                    \n",
    "                    path =  f\"/Users/rociocuestapedraz/Desktop/data/a{i}/p{k}/s0{j}.txt\"\n",
    "                    lista_path.append(path)\n",
    "                    df1 = pd.read_csv(path, names = range(45))\n",
    "                    df1 = df1.iloc[:,:9]\n",
    "                    df1 = df1.to_numpy().flatten()\n",
    "                    df1 = pd.DataFrame(df1).T\n",
    "                    df = df.append(df1)\n",
    "                else:\n",
    "                    path = f\"/Users/rociocuestapedraz/Desktop/data/a{i}/p{k}/s{j}.txt\"\n",
    "                    lista_path.append(path)\n",
    "                    df1 = pd.read_csv(path, names = range(45))\n",
    "                    df1 = df1.iloc[:,:9]\n",
    "                    df1 = df1.to_numpy().flatten()\n",
    "                    df1 = pd.DataFrame(df1).T\n",
    "                    df = df.append(df1)"
   ]
  },
  {
   "cell_type": "markdown",
   "metadata": {},
   "source": [
    "### PCA"
   ]
  },
  {
   "cell_type": "code",
   "execution_count": 3,
   "metadata": {},
   "outputs": [
    {
     "data": {
      "text/html": [
       "<div>\n",
       "<style scoped>\n",
       "    .dataframe tbody tr th:only-of-type {\n",
       "        vertical-align: middle;\n",
       "    }\n",
       "\n",
       "    .dataframe tbody tr th {\n",
       "        vertical-align: top;\n",
       "    }\n",
       "\n",
       "    .dataframe thead th {\n",
       "        text-align: right;\n",
       "    }\n",
       "</style>\n",
       "<table border=\"1\" class=\"dataframe\">\n",
       "  <thead>\n",
       "    <tr style=\"text-align: right;\">\n",
       "      <th></th>\n",
       "      <th>0</th>\n",
       "      <th>1</th>\n",
       "      <th>2</th>\n",
       "      <th>3</th>\n",
       "      <th>4</th>\n",
       "      <th>5</th>\n",
       "      <th>6</th>\n",
       "      <th>7</th>\n",
       "      <th>8</th>\n",
       "      <th>9</th>\n",
       "      <th>...</th>\n",
       "      <th>1115</th>\n",
       "      <th>1116</th>\n",
       "      <th>1117</th>\n",
       "      <th>1118</th>\n",
       "      <th>1119</th>\n",
       "      <th>1120</th>\n",
       "      <th>1121</th>\n",
       "      <th>1122</th>\n",
       "      <th>1123</th>\n",
       "      <th>1124</th>\n",
       "    </tr>\n",
       "  </thead>\n",
       "  <tbody>\n",
       "    <tr>\n",
       "      <th>0</th>\n",
       "      <td>8.1305</td>\n",
       "      <td>1.0349</td>\n",
       "      <td>5.4217</td>\n",
       "      <td>-0.009461</td>\n",
       "      <td>0.001915</td>\n",
       "      <td>-0.003424</td>\n",
       "      <td>-0.78712</td>\n",
       "      <td>-0.069654</td>\n",
       "      <td>0.15730</td>\n",
       "      <td>8.1305</td>\n",
       "      <td>...</td>\n",
       "      <td>0.13478</td>\n",
       "      <td>7.9812</td>\n",
       "      <td>1.0945</td>\n",
       "      <td>5.6005</td>\n",
       "      <td>-0.005819</td>\n",
       "      <td>0.016371</td>\n",
       "      <td>0.002868</td>\n",
       "      <td>-0.79209</td>\n",
       "      <td>-0.070456</td>\n",
       "      <td>0.13423</td>\n",
       "    </tr>\n",
       "    <tr>\n",
       "      <th>0</th>\n",
       "      <td>7.9665</td>\n",
       "      <td>1.1684</td>\n",
       "      <td>5.6755</td>\n",
       "      <td>-0.005730</td>\n",
       "      <td>0.026995</td>\n",
       "      <td>-0.009029</td>\n",
       "      <td>-0.79062</td>\n",
       "      <td>-0.071635</td>\n",
       "      <td>0.13429</td>\n",
       "      <td>7.9516</td>\n",
       "      <td>...</td>\n",
       "      <td>0.12762</td>\n",
       "      <td>7.8991</td>\n",
       "      <td>1.1389</td>\n",
       "      <td>5.7204</td>\n",
       "      <td>0.003239</td>\n",
       "      <td>0.021752</td>\n",
       "      <td>0.000058</td>\n",
       "      <td>-0.79384</td>\n",
       "      <td>-0.070314</td>\n",
       "      <td>0.12694</td>\n",
       "    </tr>\n",
       "    <tr>\n",
       "      <th>0</th>\n",
       "      <td>7.8917</td>\n",
       "      <td>1.1390</td>\n",
       "      <td>5.6980</td>\n",
       "      <td>0.014180</td>\n",
       "      <td>0.028722</td>\n",
       "      <td>-0.009079</td>\n",
       "      <td>-0.79531</td>\n",
       "      <td>-0.069460</td>\n",
       "      <td>0.12447</td>\n",
       "      <td>7.9065</td>\n",
       "      <td>...</td>\n",
       "      <td>0.13108</td>\n",
       "      <td>7.9588</td>\n",
       "      <td>1.1239</td>\n",
       "      <td>5.6168</td>\n",
       "      <td>0.006900</td>\n",
       "      <td>0.028915</td>\n",
       "      <td>-0.000911</td>\n",
       "      <td>-0.79375</td>\n",
       "      <td>-0.071949</td>\n",
       "      <td>0.13380</td>\n",
       "    </tr>\n",
       "    <tr>\n",
       "      <th>0</th>\n",
       "      <td>7.9366</td>\n",
       "      <td>1.1536</td>\n",
       "      <td>5.6318</td>\n",
       "      <td>0.003242</td>\n",
       "      <td>0.029965</td>\n",
       "      <td>0.009111</td>\n",
       "      <td>-0.79292</td>\n",
       "      <td>-0.070358</td>\n",
       "      <td>0.13194</td>\n",
       "      <td>7.9665</td>\n",
       "      <td>...</td>\n",
       "      <td>0.12063</td>\n",
       "      <td>7.8090</td>\n",
       "      <td>1.2047</td>\n",
       "      <td>6.0569</td>\n",
       "      <td>-0.003188</td>\n",
       "      <td>0.003819</td>\n",
       "      <td>-0.016342</td>\n",
       "      <td>-0.79537</td>\n",
       "      <td>-0.072348</td>\n",
       "      <td>0.11873</td>\n",
       "    </tr>\n",
       "    <tr>\n",
       "      <th>0</th>\n",
       "      <td>7.8913</td>\n",
       "      <td>1.1972</td>\n",
       "      <td>5.9082</td>\n",
       "      <td>-0.044333</td>\n",
       "      <td>-0.067467</td>\n",
       "      <td>-0.004235</td>\n",
       "      <td>-0.79592</td>\n",
       "      <td>-0.073174</td>\n",
       "      <td>0.12086</td>\n",
       "      <td>7.8696</td>\n",
       "      <td>...</td>\n",
       "      <td>0.14448</td>\n",
       "      <td>8.0486</td>\n",
       "      <td>1.1383</td>\n",
       "      <td>5.4544</td>\n",
       "      <td>-0.009570</td>\n",
       "      <td>-0.010470</td>\n",
       "      <td>-0.010857</td>\n",
       "      <td>-0.79026</td>\n",
       "      <td>-0.071108</td>\n",
       "      <td>0.14722</td>\n",
       "    </tr>\n",
       "  </tbody>\n",
       "</table>\n",
       "<p>5 rows × 1125 columns</p>\n",
       "</div>"
      ],
      "text/plain": [
       "     0       1       2         3         4         5        6         7     \\\n",
       "0  8.1305  1.0349  5.4217 -0.009461  0.001915 -0.003424 -0.78712 -0.069654   \n",
       "0  7.9665  1.1684  5.6755 -0.005730  0.026995 -0.009029 -0.79062 -0.071635   \n",
       "0  7.8917  1.1390  5.6980  0.014180  0.028722 -0.009079 -0.79531 -0.069460   \n",
       "0  7.9366  1.1536  5.6318  0.003242  0.029965  0.009111 -0.79292 -0.070358   \n",
       "0  7.8913  1.1972  5.9082 -0.044333 -0.067467 -0.004235 -0.79592 -0.073174   \n",
       "\n",
       "      8       9     ...     1115    1116    1117    1118      1119      1120  \\\n",
       "0  0.15730  8.1305  ...  0.13478  7.9812  1.0945  5.6005 -0.005819  0.016371   \n",
       "0  0.13429  7.9516  ...  0.12762  7.8991  1.1389  5.7204  0.003239  0.021752   \n",
       "0  0.12447  7.9065  ...  0.13108  7.9588  1.1239  5.6168  0.006900  0.028915   \n",
       "0  0.13194  7.9665  ...  0.12063  7.8090  1.2047  6.0569 -0.003188  0.003819   \n",
       "0  0.12086  7.8696  ...  0.14448  8.0486  1.1383  5.4544 -0.009570 -0.010470   \n",
       "\n",
       "       1121     1122      1123     1124  \n",
       "0  0.002868 -0.79209 -0.070456  0.13423  \n",
       "0  0.000058 -0.79384 -0.070314  0.12694  \n",
       "0 -0.000911 -0.79375 -0.071949  0.13380  \n",
       "0 -0.016342 -0.79537 -0.072348  0.11873  \n",
       "0 -0.010857 -0.79026 -0.071108  0.14722  \n",
       "\n",
       "[5 rows x 1125 columns]"
      ]
     },
     "execution_count": 3,
     "metadata": {},
     "output_type": "execute_result"
    }
   ],
   "source": [
    "df.head()"
   ]
  },
  {
   "cell_type": "code",
   "execution_count": 6,
   "metadata": {},
   "outputs": [],
   "source": [
    "from sklearn.model_selection import train_test_split\n",
    "from sklearn.preprocessing import StandardScaler "
   ]
  },
  {
   "cell_type": "code",
   "execution_count": 8,
   "metadata": {},
   "outputs": [],
   "source": [
    "X=df.values\n",
    "sc = StandardScaler()\n",
    "X_std = sc.fit_transform(X)"
   ]
  },
  {
   "cell_type": "code",
   "execution_count": 13,
   "metadata": {},
   "outputs": [
    {
     "name": "stdout",
     "output_type": "stream",
     "text": [
      "360\n"
     ]
    }
   ],
   "source": [
    "from sklearn.decomposition import PCA\n",
    "\n",
    "pca = PCA()\n",
    "X_pca = pca.fit_transform(X_std)\n",
    "print(len(pca.explained_variance_ratio_))\n"
   ]
  },
  {
   "cell_type": "code",
   "execution_count": 19,
   "metadata": {},
   "outputs": [],
   "source": [
    "#360 es lo que va en el range!!!!!!!!!!!!!!!!!!"
   ]
  },
  {
   "cell_type": "code",
   "execution_count": 18,
   "metadata": {},
   "outputs": [
    {
     "data": {
      "image/png": "[encoded data removed]",
      "text/plain": [
       "<Figure size 576x432 with 1 Axes>"
      ]
     },
     "metadata": {
      "needs_background": "light"
     },
     "output_type": "display_data"
    }
   ],
   "source": [
    "plt.figure(figsize=(8,6))\n",
    "plt.bar(range(1,51), pca.explained_variance_ratio_[0:50])\n",
    "plt.ylabel('Varianza explicada')\n",
    "plt.xlabel('PCA Index')\n",
    "plt.show()"
   ]
  },
  {
   "cell_type": "code",
   "execution_count": 20,
   "metadata": {},
   "outputs": [
    {
     "data": {
      "image/png": "[encoded data removed]",
      "text/plain": [
       "<Figure size 432x288 with 1 Axes>"
      ]
     },
     "metadata": {
      "needs_background": "light"
     },
     "output_type": "display_data"
    }
   ],
   "source": [
    "# Scatter\n",
    "df1 = pd.DataFrame()\n",
    "df1[\"a1\"]= X_pca[:,0]\n",
    "df1[\"a2\"] = X_pca[:,1]\n",
    "df1[\"a3\"] = X_pca[:,2]\n",
    "x = df1[\"a1\"]\n",
    "y = df1[\"a2\"]\n",
    "z = df1[\"a3\"]\n",
    "\n",
    "# importamos las librerias necesarias\n",
    "from mpl_toolkits.mplot3d import axes3d\n",
    "import matplotlib.pyplot as plt\n",
    "\n",
    "# Creamos la figura\n",
    "fig = plt.figure()\n",
    "# Creamos el plano 3D\n",
    "ax1 = fig.add_subplot(111, projection='3d')\n",
    "\n",
    "# Agregamos los puntos en el plano 3D\n",
    "ax1.scatter(x, y, z, c='g', marker='o')\n",
    "\n",
    "# Mostramos el gráfico\n",
    "plt.show()"
   ]
  },
  {
   "cell_type": "markdown",
   "metadata": {},
   "source": [
    "### K-Means con PCA"
   ]
  },
  {
   "cell_type": "code",
   "execution_count": 25,
   "metadata": {},
   "outputs": [
    {
     "data": {
      "text/plain": [
       "KMeans(algorithm='auto', copy_x=True, init='k-means++', max_iter=300,\n",
       "       n_clusters=6, n_init=10, n_jobs=None, precompute_distances='auto',\n",
       "       random_state=None, tol=0.0001, verbose=0)"
      ]
     },
     "execution_count": 25,
     "metadata": {},
     "output_type": "execute_result"
    }
   ],
   "source": [
    "kmeans = KMeans(n_clusters=6)\n",
    "kmeans.fit(X_pca)"
   ]
  },
  {
   "cell_type": "code",
   "execution_count": 26,
   "metadata": {},
   "outputs": [],
   "source": [
    "#Creo una lista con las clases reales para evaluar mis clusters\n",
    "clase=0\n",
    "filas= len(df)\n",
    "y = list()\n",
    "for fila in range(filas):\n",
    "    y.append(clase)\n",
    "    if fila%60 ==0 and fila>0:\n",
    "        clase +=1"
   ]
  },
  {
   "cell_type": "code",
   "execution_count": 27,
   "metadata": {},
   "outputs": [
    {
     "data": {
      "text/plain": [
       "0.966704178325961"
      ]
     },
     "execution_count": 27,
     "metadata": {},
     "output_type": "execute_result"
    }
   ],
   "source": [
    "from sklearn.metrics.cluster import adjusted_rand_score\n",
    "adjusted_rand_score(y,kmeans.labels_)"
   ]
  },
  {
   "cell_type": "code",
   "execution_count": 35,
   "metadata": {},
   "outputs": [
    {
     "data": {
      "image/png": "[encoded data removed]",
      "text/plain": [
       "<Figure size 576x576 with 1 Axes>"
      ]
     },
     "metadata": {
      "needs_background": "light"
     },
     "output_type": "display_data"
    }
   ],
   "source": [
    "# Scatter\n",
    "df1 = pd.DataFrame()\n",
    "df1[\"a1\"]= X_pca[:,0]\n",
    "df1[\"a2\"] = X_pca[:,1]\n",
    "df1[\"a3\"] = X_pca[:,2]\n",
    "x = df1[\"a1\"]\n",
    "y = df1[\"a2\"]\n",
    "z = df1[\"a3\"]\n",
    "\n",
    "# importamos las librerias necesarias\n",
    "from mpl_toolkits.mplot3d import axes3d\n",
    "import matplotlib.pyplot as plt\n",
    "\n",
    "# Creamos la figura\n",
    "fig = plt.figure(figsize=(8,8))\n",
    "# Creamos el plano 3D\n",
    "ax1 = fig.add_subplot(111, projection='3d')\n",
    "\n",
    "# Agregamos los puntos en el plano 3D\n",
    "ax1.scatter(x, y, z, c=kmeans.labels_, marker='o')\n",
    "\n",
    "# Mostramos el gráfico\n",
    "plt.show()"
   ]
  },
  {
   "cell_type": "markdown",
   "metadata": {},
   "source": [
    "### K-Means"
   ]
  },
  {
   "cell_type": "markdown",
   "metadata": {},
   "source": [
    "**Tecnica del codo**"
   ]
  },
  {
   "cell_type": "code",
   "execution_count": 3,
   "metadata": {},
   "outputs": [
    {
     "data": {
      "image/png": "[encoded data removed]",
      "text/plain": [
       "<Figure size 432x288 with 1 Axes>"
      ]
     },
     "metadata": {
      "needs_background": "light"
     },
     "output_type": "display_data"
    }
   ],
   "source": [
    "X=np.array(df)\n",
    "inercias = [] \n",
    "  \n",
    "for k in range(1,10): \n",
    "    kmeans = KMeans(k)\n",
    "    kmeans.fit(X)     \n",
    "    inercias.append(kmeans.inertia_)\n",
    "\n",
    "plt.plot(range(1,10), inercias, 'bx-') \n",
    "plt.xlabel('Ks') \n",
    "plt.ylabel('Inercia') \n",
    "plt.show()"
   ]
  },
  {
   "cell_type": "markdown",
   "metadata": {},
   "source": [
    "El numero optimo de clusters serian 3, pero necesitamos que clasifique 6 actividades."
   ]
  },
  {
   "cell_type": "code",
   "execution_count": 4,
   "metadata": {},
   "outputs": [
    {
     "data": {
      "text/plain": [
       "KMeans(algorithm='auto', copy_x=True, init='k-means++', max_iter=300,\n",
       "       n_clusters=6, n_init=10, n_jobs=None, precompute_distances='auto',\n",
       "       random_state=None, tol=0.0001, verbose=0)"
      ]
     },
     "execution_count": 4,
     "metadata": {},
     "output_type": "execute_result"
    }
   ],
   "source": [
    "kmeans = KMeans(n_clusters=6)\n",
    "kmeans.fit(X)"
   ]
  },
  {
   "cell_type": "code",
   "execution_count": 5,
   "metadata": {},
   "outputs": [
    {
     "data": {
      "text/plain": [
       "(360, 1125)"
      ]
     },
     "execution_count": 5,
     "metadata": {},
     "output_type": "execute_result"
    }
   ],
   "source": [
    "df.shape"
   ]
  },
  {
   "cell_type": "code",
   "execution_count": 6,
   "metadata": {},
   "outputs": [
    {
     "data": {
      "text/plain": [
       "60.0"
      ]
     },
     "execution_count": 6,
     "metadata": {},
     "output_type": "execute_result"
    }
   ],
   "source": [
    "360/6"
   ]
  },
  {
   "cell_type": "code",
   "execution_count": 7,
   "metadata": {},
   "outputs": [],
   "source": [
    "#Creo una lista con las clases reales para evaluar mis clusters\n",
    "clase=0\n",
    "filas= len(df)\n",
    "y = list()\n",
    "for fila in range(filas):\n",
    "    y.append(clase)\n",
    "    if fila%60 ==0 and fila>0:\n",
    "        clase +=1"
   ]
  },
  {
   "cell_type": "code",
   "execution_count": 8,
   "metadata": {},
   "outputs": [
    {
     "data": {
      "text/plain": [
       "0.7244010193320515"
      ]
     },
     "execution_count": 8,
     "metadata": {},
     "output_type": "execute_result"
    }
   ],
   "source": [
    "from sklearn.metrics.cluster import adjusted_rand_score\n",
    "adjusted_rand_score(y,kmeans.labels_)"
   ]
  },
  {
   "cell_type": "markdown",
   "metadata": {},
   "source": [
    "**CONCLUSION: Clasifica bien en el 96% de los casos** "
   ]
  },
  {
   "cell_type": "markdown",
   "metadata": {},
   "source": [
    "### Jerarquico"
   ]
  },
  {
   "cell_type": "code",
   "execution_count": 9,
   "metadata": {},
   "outputs": [
    {
     "data": {
      "text/plain": [
       "AgglomerativeClustering(affinity='euclidean', compute_full_tree='auto',\n",
       "                        connectivity=None, distance_threshold=None,\n",
       "                        linkage='single', memory=None, n_clusters=8)"
      ]
     },
     "execution_count": 9,
     "metadata": {},
     "output_type": "execute_result"
    }
   ],
   "source": [
    "from sklearn.cluster import AgglomerativeClustering\n",
    "X=np.array(df)\n",
    "agglom = AgglomerativeClustering(n_clusters =8, linkage = 'single')\n",
    "agglom.fit(X)"
   ]
  },
  {
   "cell_type": "code",
   "execution_count": 18,
   "metadata": {},
   "outputs": [
    {
     "name": "stderr",
     "output_type": "stream",
     "text": [
      "/Users/rociocuestapedraz/opt/anaconda3/lib/python3.7/site-packages/ipykernel_launcher.py:5: ClusterWarning: scipy.cluster: The symmetric non-negative hollow observation matrix looks suspiciously like an uncondensed distance matrix\n",
      "  \"\"\"\n"
     ]
    },
    {
     "data": {
      "image/png": "[encoded data removed]",
      "text/plain": [
       "<Figure size 720x720 with 1 Axes>"
      ]
     },
     "metadata": {
      "needs_background": "light"
     },
     "output_type": "display_data"
    }
   ],
   "source": [
    "#Para representar el arbol\n",
    "from scipy.spatial import distance_matrix \n",
    "dist_matrix = distance_matrix(X,X)\n",
    "from scipy.cluster import hierarchy \n",
    "Z = hierarchy.linkage(dist_matrix, 'single')\n",
    "import pylab\n",
    "pylab.figure(figsize=(10,10))\n",
    "dendro = hierarchy.dendrogram(Z)"
   ]
  },
  {
   "cell_type": "code",
   "execution_count": 10,
   "metadata": {},
   "outputs": [
    {
     "data": {
      "text/plain": [
       "0.6616171578620256"
      ]
     },
     "execution_count": 10,
     "metadata": {},
     "output_type": "execute_result"
    }
   ],
   "source": [
    "from sklearn.metrics.cluster import adjusted_rand_score\n",
    "adjusted_rand_score(y,agglom.labels_)"
   ]
  },
  {
   "cell_type": "markdown",
   "metadata": {},
   "source": [
    "**Compara jerarquico y kmeans**"
   ]
  },
  {
   "cell_type": "code",
   "execution_count": 11,
   "metadata": {},
   "outputs": [],
   "source": [
    "def generaClustering(numeroKlusters,data,y):\n",
    "    kmeans = KMeans(n_clusters=numeroKlusters, n_jobs=-1)\n",
    "    kmeans.fit(data) \n",
    "    print(\"kmean: \",adjusted_rand_score(y,kmeans.labels_))\n",
    "    linkage = ['ward', 'complete', 'average', 'single']\n",
    "    for link in linkage:\n",
    "        agglom = AgglomerativeClustering(n_clusters = numeroKlusters, linkage = link)\n",
    "        agglom.fit(data)\n",
    "        print(\"Hierarchichal con \" + link + \": \",adjusted_rand_score(y,agglom.labels_))"
   ]
  },
  {
   "cell_type": "code",
   "execution_count": 12,
   "metadata": {},
   "outputs": [
    {
     "name": "stdout",
     "output_type": "stream",
     "text": [
      "kmean:  0.9472854734365294\n",
      "Hierarchichal con ward:  0.9476233870683465\n",
      "Hierarchichal con complete:  0.653552909116684\n",
      "Hierarchichal con average:  0.6610873310596258\n",
      "Hierarchichal con single:  0.6634868317222861\n"
     ]
    }
   ],
   "source": [
    "generaClustering(6,df,y)"
   ]
  },
  {
   "cell_type": "markdown",
   "metadata": {},
   "source": [
    "### DBSCAN"
   ]
  },
  {
   "cell_type": "code",
   "execution_count": 4,
   "metadata": {},
   "outputs": [],
   "source": [
    "from sklearn.cluster import DBSCAN \n",
    "from sklearn.datasets import make_circles\n",
    "from sklearn.preprocessing import MinMaxScaler"
   ]
  },
  {
   "cell_type": "code",
   "execution_count": 7,
   "metadata": {},
   "outputs": [],
   "source": [
    "X=np.array(df)\n",
    "X = MinMaxScaler().fit_transform(X)"
   ]
  },
  {
   "cell_type": "code",
   "execution_count": 11,
   "metadata": {},
   "outputs": [],
   "source": [
    "epsilon = 2\n",
    "minimumSamples = 10\n",
    "db = DBSCAN(eps=epsilon, min_samples=minimumSamples).fit(X)\n",
    "labels = db.labels_"
   ]
  },
  {
   "cell_type": "code",
   "execution_count": 10,
   "metadata": {},
   "outputs": [
    {
     "data": {
      "text/plain": [
       "[<matplotlib.lines.Line2D at 0x1096d1ed0>]"
      ]
     },
     "execution_count": 10,
     "metadata": {},
     "output_type": "execute_result"
    },
    {
     "data": {
      "image/png": "[encoded data removed]",
      "text/plain": [
       "<Figure size 432x288 with 1 Axes>"
      ]
     },
     "metadata": {
      "needs_background": "light"
     },
     "output_type": "display_data"
    }
   ],
   "source": [
    "from sklearn.neighbors import NearestNeighbors\n",
    "neigh = NearestNeighbors(n_neighbors=2)\n",
    "nbrs = neigh.fit(X)\n",
    "distances, indices = nbrs.kneighbors(X)\n",
    "distances = np.sort(distances, axis=0)\n",
    "distances = distances[:,1]\n",
    "plt.plot(distances)"
   ]
  },
  {
   "cell_type": "code",
   "execution_count": 12,
   "metadata": {},
   "outputs": [
    {
     "data": {
      "text/plain": [
       "array([ 0,  0,  0,  0,  0,  0,  0,  0,  0,  0,  0,  0,  0,  0,  0,  0,  0,\n",
       "        0,  0,  0,  0,  0,  0,  0,  0,  0,  0,  0,  0,  0,  0,  0,  0,  0,\n",
       "        0,  0,  0,  0,  0,  0,  0,  0,  0,  0,  0,  0,  0,  0,  0,  0,  0,\n",
       "        0,  0,  0,  0,  0,  0,  0,  0,  0,  1,  1,  1,  1,  1, -1,  1,  1,\n",
       "        1,  1,  1,  1,  1,  1,  1,  1,  1,  1,  1,  1,  1,  1,  1,  1, -1,\n",
       "        1,  1,  1,  1,  1,  1,  1,  1,  1,  1,  1,  1,  1, -1, -1,  1,  1,\n",
       "        1,  1,  1,  1,  1,  1,  1,  1,  1,  1,  1,  1,  1,  1,  1,  1,  1,\n",
       "        1,  2,  2,  2,  2,  2,  2,  2,  2,  2,  2,  2,  2,  2,  2,  2,  2,\n",
       "        2,  2,  2,  2,  2,  2,  2,  2,  2,  2,  2,  2, -1, -1,  2,  2,  2,\n",
       "        2,  2,  2,  2,  2,  2,  2,  2,  2,  2,  2,  2,  2,  2,  2,  2,  2,\n",
       "        2,  2,  2,  2,  2,  2,  2,  2,  2,  2,  3,  3,  3,  3,  3,  3, -1,\n",
       "        3,  3,  3,  3,  3,  3,  3,  3,  3,  3,  3,  3,  3,  3,  3,  3,  3,\n",
       "        3,  3,  3,  3,  3,  3,  3,  3,  3,  3,  3,  3,  3,  3,  3,  3,  3,\n",
       "        3,  3,  3,  3,  3,  3,  3,  3,  3,  3,  3,  3,  3,  3,  3,  3,  3,\n",
       "        3,  3, -1, -1, -1, -1, -1, -1, -1, -1, -1, -1, -1, -1, -1, -1, -1,\n",
       "       -1, -1, -1, -1, -1, -1, -1, -1, -1, -1, -1, -1, -1, -1, -1, -1, -1,\n",
       "       -1, -1, -1, -1, -1, -1, -1, -1, -1, -1, -1, -1, -1, -1, -1, -1, -1,\n",
       "       -1, -1, -1, -1, -1, -1, -1, -1, -1, -1, -1, -1, -1, -1, -1, -1, -1,\n",
       "       -1, -1, -1, -1, -1, -1, -1, -1, -1, -1, -1, -1, -1, -1, -1, -1, -1,\n",
       "       -1, -1, -1, -1, -1, -1, -1, -1, -1, -1, -1, -1, -1, -1, -1, -1, -1,\n",
       "       -1, -1, -1, -1, -1, -1, -1, -1, -1, -1, -1, -1, -1, -1, -1, -1, -1,\n",
       "       -1, -1, -1])"
      ]
     },
     "execution_count": 12,
     "metadata": {},
     "output_type": "execute_result"
    }
   ],
   "source": [
    "labels"
   ]
  },
  {
   "cell_type": "code",
   "execution_count": 13,
   "metadata": {},
   "outputs": [],
   "source": [
    "#Creo una lista con las clases reales para evaluar mis clusters\n",
    "clase=0\n",
    "filas= len(df)\n",
    "y = list()\n",
    "for fila in range(filas):\n",
    "    y.append(clase)\n",
    "    if fila%60 ==0 and fila>0:\n",
    "        clase +=1"
   ]
  },
  {
   "cell_type": "code",
   "execution_count": 14,
   "metadata": {},
   "outputs": [
    {
     "data": {
      "text/plain": [
       "0.7406214403756254"
      ]
     },
     "execution_count": 14,
     "metadata": {},
     "output_type": "execute_result"
    }
   ],
   "source": [
    "from sklearn.metrics.cluster import adjusted_rand_score\n",
    "adjusted_rand_score(y,labels)"
   ]
  },
  {
   "cell_type": "markdown",
   "metadata": {},
   "source": [
    "### 1 actividad, 8 personas"
   ]
  },
  {
   "cell_type": "code",
   "execution_count": 14,
   "metadata": {},
   "outputs": [],
   "source": [
    "lista_segmentos = range(1,61)\n",
    "lista_personas = range(1,9)\n",
    "df = pd.DataFrame()\n",
    "\n",
    "lista_path = []\n",
    "for i in lista_personas:\n",
    "        for j in lista_segmentos:\n",
    "            if j < 10:\n",
    "                path = r\"/Users/rociocuestapedraz/Desktop/data/a01/p\"+str(i)+\"/s0\"+str(j)+\".txt\"\n",
    "                lista_path.append(path)\n",
    "                df1 = pd.read_csv(path, names = range(45))\n",
    "                df1 = df1.iloc[:,:9]\n",
    "                df1 = df1.to_numpy().flatten()\n",
    "                df1 = pd.DataFrame(df1).T\n",
    "                df = df.append(df1)\n",
    "            else:\n",
    "                path = r\"/Users/rociocuestapedraz/Desktop/data/a01/p\"+str(i)+\"/s\"+str(j)+\".txt\"\n",
    "                lista_path.append(path)\n",
    "                df1 = pd.read_csv(path, names = range(45))\n",
    "                df1 = df1.iloc[:,:9]\n",
    "                df1 = df1.to_numpy().flatten()\n",
    "                df1 = pd.DataFrame(df1).T\n",
    "                df = df.append(df1)"
   ]
  },
  {
   "cell_type": "code",
   "execution_count": 15,
   "metadata": {},
   "outputs": [
    {
     "data": {
      "text/plain": [
       "(480, 1125)"
      ]
     },
     "execution_count": 15,
     "metadata": {},
     "output_type": "execute_result"
    }
   ],
   "source": [
    "df.shape"
   ]
  },
  {
   "cell_type": "code",
   "execution_count": 16,
   "metadata": {},
   "outputs": [
    {
     "data": {
      "text/plain": [
       "60.0"
      ]
     },
     "execution_count": 16,
     "metadata": {},
     "output_type": "execute_result"
    }
   ],
   "source": [
    "480/8"
   ]
  },
  {
   "cell_type": "code",
   "execution_count": 17,
   "metadata": {},
   "outputs": [],
   "source": [
    "#Creo una lista con las clases reales para evaluar mis clusters\n",
    "clase=0\n",
    "filas= len(df)\n",
    "y = list()\n",
    "for fila in range(filas):\n",
    "    y.append(clase)\n",
    "    if fila%60 ==0 and fila>0:\n",
    "        clase +=1"
   ]
  },
  {
   "cell_type": "code",
   "execution_count": 18,
   "metadata": {},
   "outputs": [
    {
     "name": "stdout",
     "output_type": "stream",
     "text": [
      "kmean:  0.7790216967863044\n",
      "Hierarchichal con ward:  0.7733528052567316\n",
      "Hierarchichal con complete:  0.6528117081514142\n",
      "Hierarchichal con average:  0.5469862788090715\n",
      "Hierarchichal con single:  0.5725255585310625\n"
     ]
    }
   ],
   "source": [
    "generaClustering(8,df,y)"
   ]
  },
  {
   "cell_type": "markdown",
   "metadata": {},
   "source": [
    "### 6 actividades, 8 personas"
   ]
  },
  {
   "cell_type": "code",
   "execution_count": 19,
   "metadata": {},
   "outputs": [],
   "source": [
    "\n",
    "lista_segmentos = range(1,61)\n",
    "lista_actividades = range(1,7)\n",
    "lista_personas = range(1,9)\n",
    "df = pd.DataFrame()\n",
    "lista_path = []\n",
    "for i in lista_actividades:\n",
    "    for k in lista_personas:\n",
    "        if i < 10:\n",
    "                for j in lista_segmentos:\n",
    "                    if j < 10:\n",
    "                        path = f\"/Users/rociocuestapedraz/Desktop/data/a0{i}/p{k}/s0{j}.txt\"\n",
    "                        lista_path.append(path)\n",
    "                        df1 = pd.read_csv(path, names = range(45))\n",
    "                        df1 = df1.iloc[:,:9]\n",
    "                        df1 = df1.to_numpy().flatten()\n",
    "                        df1 = pd.DataFrame(df1).T\n",
    "                        df = df.append(df1)\n",
    "                    else:\n",
    "                        \n",
    "                        path = f\"/Users/rociocuestapedraz/Desktop/data/a0{i}/p{k}/s{j}.txt\"\n",
    "                        lista_path.append(path)\n",
    "                        df1 = pd.read_csv(path, names = range(45))\n",
    "                        df1 = df1.iloc[:,:9]\n",
    "                        df1 = df1.to_numpy().flatten()\n",
    "                        df1 = pd.DataFrame(df1).T\n",
    "                        df = df.append(df1)\n",
    "        else:\n",
    "            for j in lista_segmentos:\n",
    "                if j < 10:\n",
    "                    \n",
    "                    path =  f\"/Users/rociocuestapedraz/Desktop/data/a{i}/p{k}/s0{j}.txt\"\n",
    "                    lista_path.append(path)\n",
    "                    df1 = pd.read_csv(path, names = range(45))\n",
    "                    df1 = df1.iloc[:,:9]\n",
    "                    df1 = df1.to_numpy().flatten()\n",
    "                    df1 = pd.DataFrame(df1).T\n",
    "                    df = df.append(df1)\n",
    "                else:\n",
    "                    path = f\"/Users/rociocuestapedraz/Desktop/data/a{i}/p{k}/s{j}.txt\"\n",
    "                    lista_path.append(path)\n",
    "                    df1 = pd.read_csv(path, names = range(45))\n",
    "                    df1 = df1.iloc[:,:9]\n",
    "                    df1 = df1.to_numpy().flatten()\n",
    "                    df1 = pd.DataFrame(df1).T\n",
    "                    df = df.append(df1)"
   ]
  },
  {
   "cell_type": "code",
   "execution_count": 21,
   "metadata": {},
   "outputs": [
    {
     "data": {
      "text/plain": [
       "(2880, 1125)"
      ]
     },
     "execution_count": 21,
     "metadata": {},
     "output_type": "execute_result"
    }
   ],
   "source": [
    "df.shape"
   ]
  },
  {
   "cell_type": "code",
   "execution_count": 25,
   "metadata": {},
   "outputs": [
    {
     "data": {
      "text/plain": [
       "480.0"
      ]
     },
     "execution_count": 25,
     "metadata": {},
     "output_type": "execute_result"
    }
   ],
   "source": [
    "2880/6"
   ]
  },
  {
   "cell_type": "code",
   "execution_count": 26,
   "metadata": {},
   "outputs": [
    {
     "data": {
      "text/plain": [
       "60.0"
      ]
     },
     "execution_count": 26,
     "metadata": {},
     "output_type": "execute_result"
    }
   ],
   "source": [
    "480/8"
   ]
  },
  {
   "cell_type": "code",
   "execution_count": 27,
   "metadata": {},
   "outputs": [],
   "source": [
    "clase=0\n",
    "filas= len(df)\n",
    "y = list()\n",
    "for fila in range(filas):\n",
    "    y.append(clase)\n",
    "    if fila%480 ==0 and fila>0:\n",
    "        clase +=1"
   ]
  },
  {
   "cell_type": "code",
   "execution_count": 28,
   "metadata": {},
   "outputs": [
    {
     "name": "stdout",
     "output_type": "stream",
     "text": [
      "kmean:  0.3925207621229636\n",
      "Hierarchichal con ward:  0.4084370948236039\n",
      "Hierarchichal con complete:  0.3720337527417247\n",
      "Hierarchichal con average:  0.2909019828294239\n",
      "Hierarchichal con single:  0.360272557224627\n"
     ]
    }
   ],
   "source": [
    "generaClustering(6,df,y)"
   ]
  },
  {
   "cell_type": "code",
   "execution_count": null,
   "metadata": {},
   "outputs": [],
   "source": []
  }
 ],
 "metadata": {
  "kernelspec": {
   "display_name": "Python 3",
   "language": "python",
   "name": "python3"
  },
  "language_info": {
   "codemirror_mode": {
    "name": "ipython",
    "version": 3
   },
   "file_extension": ".py",
   "mimetype": "text/x-python",
   "name": "python",
   "nbconvert_exporter": "python",
   "pygments_lexer": "ipython3",
   "version": "3.7.4"
  }
 },
 "nbformat": 4,
 "nbformat_minor": 4
}
