{
 "cells": [
  {
   "cell_type": "code",
   "execution_count": 1,
   "metadata": {},
   "outputs": [],
   "source": [
    "import pandas as pd\n",
    "import numpy as np \n",
    "import seaborn as sns\n",
    "import matplotlib.pyplot as plt \n",
    "from sklearn import datasets\n",
    "from sklearn.cluster import KMeans \n",
    "from scipy.spatial.distance import cdist\n",
    "import os"
   ]
  },
  {
   "cell_type": "markdown",
   "metadata": {},
   "source": [
    "## CLUSTERS SENSORES"
   ]
  },
  {
   "cell_type": "markdown",
   "metadata": {},
   "source": [
    "https://archive.ics.uci.edu/ml/datasets/Daily+and+Sports+Activities"
   ]
  },
  {
   "cell_type": "code",
   "execution_count": 106,
   "metadata": {},
   "outputs": [
    {
     "name": "stdout",
     "output_type": "stream",
     "text": [
      "['a09', 'a13', 'a06', 'a01', 'a08', 'a12']\n"
     ]
    }
   ],
   "source": [
    "np.random.seed(15)\n",
    "movimientos=np.random.randint(19,size=6)\n",
    "personas=np.random.randint(1,9,size=6)\n",
    "path=\"/Users/rociocuestapedraz/Desktop/data/\"\n",
    "columns=['T_xacc', 'T_yacc', 'T_zacc', 'T_xgyro','T_ygyro','T_zgyro' ,'T_xmag' ,'T_ymag', 'T_zmag']\n",
    "\n",
    "df=pd.DataFrame(columns=columns)\n",
    "dirs=['a09', 'a13', 'a06', 'a01', 'a08', 'a12']\n",
    "print(dirs)\n",
    "\n",
    "for i,c in enumerate(dirs) :\n",
    "    rel_path=path+c+'/'\n",
    "    \n",
    "    rel_path+=os.listdir(rel_path)[1]+'/'\n",
    "    for seg in os.listdir(rel_path):\n",
    "        df_temp=pd.read_csv(rel_path+seg,names=columns,usecols=range(9)).iloc[:,:9]\n",
    "        df=pd.concat([df,df_temp],axis=0)"
   ]
  },
  {
   "cell_type": "code",
   "execution_count": 83,
   "metadata": {},
   "outputs": [
    {
     "data": {
      "text/html": [
       "<div>\n",
       "<style scoped>\n",
       "    .dataframe tbody tr th:only-of-type {\n",
       "        vertical-align: middle;\n",
       "    }\n",
       "\n",
       "    .dataframe tbody tr th {\n",
       "        vertical-align: top;\n",
       "    }\n",
       "\n",
       "    .dataframe thead th {\n",
       "        text-align: right;\n",
       "    }\n",
       "</style>\n",
       "<table border=\"1\" class=\"dataframe\">\n",
       "  <thead>\n",
       "    <tr style=\"text-align: right;\">\n",
       "      <th></th>\n",
       "      <th>T_xacc</th>\n",
       "      <th>T_yacc</th>\n",
       "      <th>T_zacc</th>\n",
       "      <th>T_xgyro</th>\n",
       "      <th>T_ygyro</th>\n",
       "      <th>T_zgyro</th>\n",
       "      <th>T_xmag</th>\n",
       "      <th>T_ymag</th>\n",
       "      <th>T_zmag</th>\n",
       "    </tr>\n",
       "  </thead>\n",
       "  <tbody>\n",
       "    <tr>\n",
       "      <th>0</th>\n",
       "      <td>9.1313</td>\n",
       "      <td>-0.040538</td>\n",
       "      <td>3.4606</td>\n",
       "      <td>-0.15363</td>\n",
       "      <td>-0.066777</td>\n",
       "      <td>-0.075730</td>\n",
       "      <td>-0.97406</td>\n",
       "      <td>0.050221</td>\n",
       "      <td>0.23750</td>\n",
       "    </tr>\n",
       "    <tr>\n",
       "      <th>1</th>\n",
       "      <td>9.2139</td>\n",
       "      <td>0.077553</td>\n",
       "      <td>3.4023</td>\n",
       "      <td>-0.16806</td>\n",
       "      <td>-0.041336</td>\n",
       "      <td>-0.057610</td>\n",
       "      <td>-0.97469</td>\n",
       "      <td>0.045937</td>\n",
       "      <td>0.24056</td>\n",
       "    </tr>\n",
       "    <tr>\n",
       "      <th>2</th>\n",
       "      <td>8.7879</td>\n",
       "      <td>0.020093</td>\n",
       "      <td>3.8090</td>\n",
       "      <td>-0.17538</td>\n",
       "      <td>-0.058453</td>\n",
       "      <td>-0.068514</td>\n",
       "      <td>-0.97172</td>\n",
       "      <td>0.038415</td>\n",
       "      <td>0.24403</td>\n",
       "    </tr>\n",
       "    <tr>\n",
       "      <th>3</th>\n",
       "      <td>8.8867</td>\n",
       "      <td>0.081196</td>\n",
       "      <td>3.1462</td>\n",
       "      <td>-0.15202</td>\n",
       "      <td>-0.101650</td>\n",
       "      <td>-0.057374</td>\n",
       "      <td>-0.97200</td>\n",
       "      <td>0.035554</td>\n",
       "      <td>0.24616</td>\n",
       "    </tr>\n",
       "    <tr>\n",
       "      <th>4</th>\n",
       "      <td>9.3918</td>\n",
       "      <td>0.030489</td>\n",
       "      <td>3.7017</td>\n",
       "      <td>-0.11383</td>\n",
       "      <td>-0.085117</td>\n",
       "      <td>-0.096532</td>\n",
       "      <td>-0.96827</td>\n",
       "      <td>0.032824</td>\n",
       "      <td>0.25162</td>\n",
       "    </tr>\n",
       "  </tbody>\n",
       "</table>\n",
       "</div>"
      ],
      "text/plain": [
       "   T_xacc    T_yacc  T_zacc  T_xgyro   T_ygyro   T_zgyro   T_xmag    T_ymag  \\\n",
       "0  9.1313 -0.040538  3.4606 -0.15363 -0.066777 -0.075730 -0.97406  0.050221   \n",
       "1  9.2139  0.077553  3.4023 -0.16806 -0.041336 -0.057610 -0.97469  0.045937   \n",
       "2  8.7879  0.020093  3.8090 -0.17538 -0.058453 -0.068514 -0.97172  0.038415   \n",
       "3  8.8867  0.081196  3.1462 -0.15202 -0.101650 -0.057374 -0.97200  0.035554   \n",
       "4  9.3918  0.030489  3.7017 -0.11383 -0.085117 -0.096532 -0.96827  0.032824   \n",
       "\n",
       "    T_zmag  \n",
       "0  0.23750  \n",
       "1  0.24056  \n",
       "2  0.24403  \n",
       "3  0.24616  \n",
       "4  0.25162  "
      ]
     },
     "execution_count": 83,
     "metadata": {},
     "output_type": "execute_result"
    }
   ],
   "source": [
    "df.head()"
   ]
  },
  {
   "cell_type": "code",
   "execution_count": 84,
   "metadata": {},
   "outputs": [
    {
     "data": {
      "text/html": [
       "<div>\n",
       "<style scoped>\n",
       "    .dataframe tbody tr th:only-of-type {\n",
       "        vertical-align: middle;\n",
       "    }\n",
       "\n",
       "    .dataframe tbody tr th {\n",
       "        vertical-align: top;\n",
       "    }\n",
       "\n",
       "    .dataframe thead th {\n",
       "        text-align: right;\n",
       "    }\n",
       "</style>\n",
       "<table border=\"1\" class=\"dataframe\">\n",
       "  <thead>\n",
       "    <tr style=\"text-align: right;\">\n",
       "      <th></th>\n",
       "      <th>T_xacc</th>\n",
       "      <th>T_yacc</th>\n",
       "      <th>T_zacc</th>\n",
       "      <th>T_xgyro</th>\n",
       "      <th>T_ygyro</th>\n",
       "      <th>T_zgyro</th>\n",
       "      <th>T_xmag</th>\n",
       "      <th>T_ymag</th>\n",
       "      <th>T_zmag</th>\n",
       "    </tr>\n",
       "  </thead>\n",
       "  <tbody>\n",
       "    <tr>\n",
       "      <th>0</th>\n",
       "      <td>0.235236</td>\n",
       "      <td>0.565772</td>\n",
       "      <td>0.352413</td>\n",
       "      <td>0.625413</td>\n",
       "      <td>0.679081</td>\n",
       "      <td>0.482128</td>\n",
       "      <td>0.319662</td>\n",
       "      <td>0.522254</td>\n",
       "      <td>0.834018</td>\n",
       "    </tr>\n",
       "    <tr>\n",
       "      <th>1</th>\n",
       "      <td>0.236255</td>\n",
       "      <td>0.568237</td>\n",
       "      <td>0.351919</td>\n",
       "      <td>0.624868</td>\n",
       "      <td>0.680191</td>\n",
       "      <td>0.484507</td>\n",
       "      <td>0.319115</td>\n",
       "      <td>0.519381</td>\n",
       "      <td>0.836047</td>\n",
       "    </tr>\n",
       "    <tr>\n",
       "      <th>2</th>\n",
       "      <td>0.231000</td>\n",
       "      <td>0.567037</td>\n",
       "      <td>0.355366</td>\n",
       "      <td>0.624592</td>\n",
       "      <td>0.679444</td>\n",
       "      <td>0.483075</td>\n",
       "      <td>0.321693</td>\n",
       "      <td>0.514337</td>\n",
       "      <td>0.838347</td>\n",
       "    </tr>\n",
       "    <tr>\n",
       "      <th>3</th>\n",
       "      <td>0.232218</td>\n",
       "      <td>0.568313</td>\n",
       "      <td>0.349748</td>\n",
       "      <td>0.625474</td>\n",
       "      <td>0.677558</td>\n",
       "      <td>0.484538</td>\n",
       "      <td>0.321450</td>\n",
       "      <td>0.512419</td>\n",
       "      <td>0.839759</td>\n",
       "    </tr>\n",
       "    <tr>\n",
       "      <th>4</th>\n",
       "      <td>0.238450</td>\n",
       "      <td>0.567254</td>\n",
       "      <td>0.354456</td>\n",
       "      <td>0.626916</td>\n",
       "      <td>0.678280</td>\n",
       "      <td>0.479397</td>\n",
       "      <td>0.324687</td>\n",
       "      <td>0.510588</td>\n",
       "      <td>0.843378</td>\n",
       "    </tr>\n",
       "  </tbody>\n",
       "</table>\n",
       "</div>"
      ],
      "text/plain": [
       "     T_xacc    T_yacc    T_zacc   T_xgyro   T_ygyro   T_zgyro    T_xmag  \\\n",
       "0  0.235236  0.565772  0.352413  0.625413  0.679081  0.482128  0.319662   \n",
       "1  0.236255  0.568237  0.351919  0.624868  0.680191  0.484507  0.319115   \n",
       "2  0.231000  0.567037  0.355366  0.624592  0.679444  0.483075  0.321693   \n",
       "3  0.232218  0.568313  0.349748  0.625474  0.677558  0.484538  0.321450   \n",
       "4  0.238450  0.567254  0.354456  0.626916  0.678280  0.479397  0.324687   \n",
       "\n",
       "     T_ymag    T_zmag  \n",
       "0  0.522254  0.834018  \n",
       "1  0.519381  0.836047  \n",
       "2  0.514337  0.838347  \n",
       "3  0.512419  0.839759  \n",
       "4  0.510588  0.843378  "
      ]
     },
     "execution_count": 84,
     "metadata": {},
     "output_type": "execute_result"
    }
   ],
   "source": [
    "#Normalizo los df_num\n",
    "from sklearn.preprocessing import MinMaxScaler\n",
    "df2 = MinMaxScaler().fit_transform(df)\n",
    "df2 = pd.DataFrame(df2, columns = df.columns)\n",
    "df2.head()"
   ]
  },
  {
   "cell_type": "code",
   "execution_count": 85,
   "metadata": {},
   "outputs": [
    {
     "data": {
      "image/png": "[encoded data removed]",
      "text/plain": [
       "<Figure size 432x288 with 1 Axes>"
      ]
     },
     "metadata": {
      "needs_background": "light"
     },
     "output_type": "display_data"
    }
   ],
   "source": [
    "X=np.array(df2)\n",
    "inercias = [] \n",
    "  \n",
    "for k in range(1,10): \n",
    "    kmeans = KMeans(k)\n",
    "    kmeans.fit(X)     \n",
    "    inercias.append(kmeans.inertia_)\n",
    "\n",
    "plt.plot(range(1,10), inercias, 'bx-') \n",
    "plt.xlabel('Ks') \n",
    "plt.ylabel('Inercia') \n",
    "plt.show()"
   ]
  },
  {
   "cell_type": "code",
   "execution_count": 64,
   "metadata": {},
   "outputs": [],
   "source": [
    "kmeans = KMeans(n_clusters=6)\n",
    "kmeans.fit(X)\n",
    "df2[\"clase\"]=kmeans.labels_"
   ]
  },
  {
   "cell_type": "code",
   "execution_count": 65,
   "metadata": {},
   "outputs": [
    {
     "data": {
      "text/plain": [
       "<matplotlib.axes._subplots.AxesSubplot at 0x1a1bca3750>"
      ]
     },
     "execution_count": 65,
     "metadata": {},
     "output_type": "execute_result"
    },
    {
     "data": {
      "image/png": "[encoded data removed]",
      "text/plain": [
       "<Figure size 432x288 with 1 Axes>"
      ]
     },
     "metadata": {
      "needs_background": "light"
     },
     "output_type": "display_data"
    }
   ],
   "source": [
    "sns.scatterplot(df2['T_xacc'], df2['T_yacc'], hue = df2[\"clase\"], palette=\"Set2\")"
   ]
  },
  {
   "cell_type": "code",
   "execution_count": 66,
   "metadata": {},
   "outputs": [
    {
     "data": {
      "text/plain": [
       "1    12089\n",
       "5    11437\n",
       "2     8555\n",
       "0     5979\n",
       "3     5463\n",
       "4     1477\n",
       "Name: clase, dtype: int64"
      ]
     },
     "execution_count": 66,
     "metadata": {},
     "output_type": "execute_result"
    }
   ],
   "source": [
    "df2[\"clase\"].value_counts()"
   ]
  },
  {
   "cell_type": "code",
   "execution_count": 67,
   "metadata": {},
   "outputs": [
    {
     "data": {
      "text/plain": [
       "<matplotlib.axes._subplots.AxesSubplot at 0x1a1c5132d0>"
      ]
     },
     "execution_count": 67,
     "metadata": {},
     "output_type": "execute_result"
    },
    {
     "data": {
      "image/png": "[encoded data removed]",
      "text/plain": [
       "<Figure size 432x288 with 1 Axes>"
      ]
     },
     "metadata": {
      "needs_background": "light"
     },
     "output_type": "display_data"
    }
   ],
   "source": [
    "sns.scatterplot(df2['T_zmag'], df2['T_ymag'], hue = df2[\"clase\"], palette=\"Set2\")"
   ]
  },
  {
   "cell_type": "code",
   "execution_count": 68,
   "metadata": {},
   "outputs": [
    {
     "name": "stdout",
     "output_type": "stream",
     "text": [
      "5    0.5\n",
      "1    0.5\n",
      "Name: labels, dtype: float64\n",
      "5    0.998667\n",
      "0    0.001333\n",
      "Name: labels, dtype: float64\n",
      "2    0.9992\n",
      "1    0.0008\n",
      "Name: labels, dtype: float64\n",
      "1    1.0\n",
      "Name: labels, dtype: float64\n",
      "3    0.728400\n",
      "2    0.141467\n",
      "1    0.111067\n",
      "5    0.019067\n",
      "Name: labels, dtype: float64\n",
      "0    0.795867\n",
      "4    0.196933\n",
      "5    0.007200\n",
      "Name: labels, dtype: float64\n"
     ]
    }
   ],
   "source": [
    "df['labels']=kmeans.labels_\n",
    "for i in range(0,45000,7500):\n",
    "    print(df.iloc[i:i+7500]['labels'].value_counts(normalize='true'))"
   ]
  },
  {
   "cell_type": "code",
   "execution_count": 18,
   "metadata": {},
   "outputs": [],
   "source": [
    "#y=[]\n",
    "#for i,mov in enumerate(dirs):\n",
    "    #clase=np.zeros(7500)\n",
    "    #clase.fill(i)\n",
    "    #y.extend(clase)"
   ]
  },
  {
   "cell_type": "code",
   "execution_count": 70,
   "metadata": {},
   "outputs": [
    {
     "data": {
      "text/plain": [
       "{'algorithm': 'auto',\n",
       " 'copy_x': True,\n",
       " 'init': 'k-means++',\n",
       " 'max_iter': 300,\n",
       " 'n_clusters': 6,\n",
       " 'n_init': 10,\n",
       " 'n_jobs': None,\n",
       " 'precompute_distances': 'auto',\n",
       " 'random_state': None,\n",
       " 'tol': 0.0001,\n",
       " 'verbose': 0}"
      ]
     },
     "execution_count": 70,
     "metadata": {},
     "output_type": "execute_result"
    }
   ],
   "source": [
    "kmeans.get_params()"
   ]
  },
  {
   "cell_type": "markdown",
   "metadata": {},
   "source": [
    "Agrupar 125 filas y pasarlo a columnas"
   ]
  },
  {
   "cell_type": "code",
   "execution_count": 107,
   "metadata": {},
   "outputs": [],
   "source": [
    "columns_transp=[]\n",
    "for i in range(125):\n",
    "    columns_transp.extend(map(lambda x: x+str(i),columns))"
   ]
  },
  {
   "cell_type": "code",
   "execution_count": 108,
   "metadata": {},
   "outputs": [],
   "source": [
    "arr_rows=[]\n",
    "for i in range(0,len(df),125):\n",
    "    arr_rows.append(df.iloc[i:i+125].values.flatten())\n",
    "df_t=pd.DataFrame(data=arr_rows,columns=columns_transp)"
   ]
  },
  {
   "cell_type": "code",
   "execution_count": 109,
   "metadata": {},
   "outputs": [
    {
     "data": {
      "text/html": [
       "<div>\n",
       "<style scoped>\n",
       "    .dataframe tbody tr th:only-of-type {\n",
       "        vertical-align: middle;\n",
       "    }\n",
       "\n",
       "    .dataframe tbody tr th {\n",
       "        vertical-align: top;\n",
       "    }\n",
       "\n",
       "    .dataframe thead th {\n",
       "        text-align: right;\n",
       "    }\n",
       "</style>\n",
       "<table border=\"1\" class=\"dataframe\">\n",
       "  <thead>\n",
       "    <tr style=\"text-align: right;\">\n",
       "      <th></th>\n",
       "      <th>T_xacc0</th>\n",
       "      <th>T_yacc0</th>\n",
       "      <th>T_zacc0</th>\n",
       "      <th>T_xgyro0</th>\n",
       "      <th>T_ygyro0</th>\n",
       "      <th>T_zgyro0</th>\n",
       "      <th>T_xmag0</th>\n",
       "      <th>T_ymag0</th>\n",
       "      <th>T_zmag0</th>\n",
       "      <th>T_xacc1</th>\n",
       "      <th>...</th>\n",
       "      <th>T_zmag123</th>\n",
       "      <th>T_xacc124</th>\n",
       "      <th>T_yacc124</th>\n",
       "      <th>T_zacc124</th>\n",
       "      <th>T_xgyro124</th>\n",
       "      <th>T_ygyro124</th>\n",
       "      <th>T_zgyro124</th>\n",
       "      <th>T_xmag124</th>\n",
       "      <th>T_ymag124</th>\n",
       "      <th>T_zmag124</th>\n",
       "    </tr>\n",
       "  </thead>\n",
       "  <tbody>\n",
       "    <tr>\n",
       "      <th>0</th>\n",
       "      <td>0.277118</td>\n",
       "      <td>0.456295</td>\n",
       "      <td>0.372139</td>\n",
       "      <td>0.680245</td>\n",
       "      <td>0.553437</td>\n",
       "      <td>0.349732</td>\n",
       "      <td>0.267646</td>\n",
       "      <td>0.591308</td>\n",
       "      <td>0.804925</td>\n",
       "      <td>0.268230</td>\n",
       "      <td>...</td>\n",
       "      <td>0.798887</td>\n",
       "      <td>0.419655</td>\n",
       "      <td>0.384781</td>\n",
       "      <td>0.313636</td>\n",
       "      <td>0.593447</td>\n",
       "      <td>0.395075</td>\n",
       "      <td>0.470678</td>\n",
       "      <td>0.276398</td>\n",
       "      <td>0.596270</td>\n",
       "      <td>0.794496</td>\n",
       "    </tr>\n",
       "    <tr>\n",
       "      <th>1</th>\n",
       "      <td>0.297538</td>\n",
       "      <td>0.392998</td>\n",
       "      <td>0.342460</td>\n",
       "      <td>0.724933</td>\n",
       "      <td>0.558394</td>\n",
       "      <td>0.382461</td>\n",
       "      <td>0.268527</td>\n",
       "      <td>0.592705</td>\n",
       "      <td>0.789123</td>\n",
       "      <td>0.285685</td>\n",
       "      <td>...</td>\n",
       "      <td>0.831011</td>\n",
       "      <td>0.362836</td>\n",
       "      <td>0.550362</td>\n",
       "      <td>0.349594</td>\n",
       "      <td>0.602918</td>\n",
       "      <td>0.318261</td>\n",
       "      <td>0.352776</td>\n",
       "      <td>0.311196</td>\n",
       "      <td>0.502372</td>\n",
       "      <td>0.839783</td>\n",
       "    </tr>\n",
       "    <tr>\n",
       "      <th>2</th>\n",
       "      <td>0.277388</td>\n",
       "      <td>0.470526</td>\n",
       "      <td>0.365295</td>\n",
       "      <td>0.694038</td>\n",
       "      <td>0.540899</td>\n",
       "      <td>0.322538</td>\n",
       "      <td>0.305571</td>\n",
       "      <td>0.487126</td>\n",
       "      <td>0.840027</td>\n",
       "      <td>0.282230</td>\n",
       "      <td>...</td>\n",
       "      <td>0.816711</td>\n",
       "      <td>0.492337</td>\n",
       "      <td>0.540164</td>\n",
       "      <td>0.368116</td>\n",
       "      <td>0.572328</td>\n",
       "      <td>0.385761</td>\n",
       "      <td>0.390516</td>\n",
       "      <td>0.282512</td>\n",
       "      <td>0.604892</td>\n",
       "      <td>0.817327</td>\n",
       "    </tr>\n",
       "    <tr>\n",
       "      <th>3</th>\n",
       "      <td>0.345275</td>\n",
       "      <td>0.415880</td>\n",
       "      <td>0.373161</td>\n",
       "      <td>0.648758</td>\n",
       "      <td>0.619513</td>\n",
       "      <td>0.370696</td>\n",
       "      <td>0.272079</td>\n",
       "      <td>0.593585</td>\n",
       "      <td>0.805646</td>\n",
       "      <td>0.281297</td>\n",
       "      <td>...</td>\n",
       "      <td>0.859592</td>\n",
       "      <td>0.495050</td>\n",
       "      <td>0.579627</td>\n",
       "      <td>0.352801</td>\n",
       "      <td>0.655071</td>\n",
       "      <td>0.369816</td>\n",
       "      <td>0.364749</td>\n",
       "      <td>0.300223</td>\n",
       "      <td>0.552028</td>\n",
       "      <td>0.862094</td>\n",
       "    </tr>\n",
       "    <tr>\n",
       "      <th>4</th>\n",
       "      <td>0.316999</td>\n",
       "      <td>0.514716</td>\n",
       "      <td>0.325284</td>\n",
       "      <td>0.738151</td>\n",
       "      <td>0.592490</td>\n",
       "      <td>0.321616</td>\n",
       "      <td>0.288585</td>\n",
       "      <td>0.544389</td>\n",
       "      <td>0.851954</td>\n",
       "      <td>0.280033</td>\n",
       "      <td>...</td>\n",
       "      <td>0.811511</td>\n",
       "      <td>0.429149</td>\n",
       "      <td>0.541220</td>\n",
       "      <td>0.335693</td>\n",
       "      <td>0.602906</td>\n",
       "      <td>0.345068</td>\n",
       "      <td>0.424946</td>\n",
       "      <td>0.284820</td>\n",
       "      <td>0.570898</td>\n",
       "      <td>0.816065</td>\n",
       "    </tr>\n",
       "  </tbody>\n",
       "</table>\n",
       "<p>5 rows × 1125 columns</p>\n",
       "</div>"
      ],
      "text/plain": [
       "    T_xacc0   T_yacc0   T_zacc0  T_xgyro0  T_ygyro0  T_zgyro0   T_xmag0  \\\n",
       "0  0.277118  0.456295  0.372139  0.680245  0.553437  0.349732  0.267646   \n",
       "1  0.297538  0.392998  0.342460  0.724933  0.558394  0.382461  0.268527   \n",
       "2  0.277388  0.470526  0.365295  0.694038  0.540899  0.322538  0.305571   \n",
       "3  0.345275  0.415880  0.373161  0.648758  0.619513  0.370696  0.272079   \n",
       "4  0.316999  0.514716  0.325284  0.738151  0.592490  0.321616  0.288585   \n",
       "\n",
       "    T_ymag0   T_zmag0   T_xacc1  ...  T_zmag123  T_xacc124  T_yacc124  \\\n",
       "0  0.591308  0.804925  0.268230  ...   0.798887   0.419655   0.384781   \n",
       "1  0.592705  0.789123  0.285685  ...   0.831011   0.362836   0.550362   \n",
       "2  0.487126  0.840027  0.282230  ...   0.816711   0.492337   0.540164   \n",
       "3  0.593585  0.805646  0.281297  ...   0.859592   0.495050   0.579627   \n",
       "4  0.544389  0.851954  0.280033  ...   0.811511   0.429149   0.541220   \n",
       "\n",
       "   T_zacc124  T_xgyro124  T_ygyro124  T_zgyro124  T_xmag124  T_ymag124  \\\n",
       "0   0.313636    0.593447    0.395075    0.470678   0.276398   0.596270   \n",
       "1   0.349594    0.602918    0.318261    0.352776   0.311196   0.502372   \n",
       "2   0.368116    0.572328    0.385761    0.390516   0.282512   0.604892   \n",
       "3   0.352801    0.655071    0.369816    0.364749   0.300223   0.552028   \n",
       "4   0.335693    0.602906    0.345068    0.424946   0.284820   0.570898   \n",
       "\n",
       "   T_zmag124  \n",
       "0   0.794496  \n",
       "1   0.839783  \n",
       "2   0.817327  \n",
       "3   0.862094  \n",
       "4   0.816065  \n",
       "\n",
       "[5 rows x 1125 columns]"
      ]
     },
     "execution_count": 109,
     "metadata": {},
     "output_type": "execute_result"
    }
   ],
   "source": [
    "df2 = MinMaxScaler().fit_transform(df_t)\n",
    "df2 = pd.DataFrame(df2, columns = df_t.columns)\n",
    "df2.head()"
   ]
  },
  {
   "cell_type": "code",
   "execution_count": 110,
   "metadata": {},
   "outputs": [
    {
     "data": {
      "image/png": "[encoded data removed]",
      "text/plain": [
       "<Figure size 432x288 with 1 Axes>"
      ]
     },
     "metadata": {
      "needs_background": "light"
     },
     "output_type": "display_data"
    }
   ],
   "source": [
    "X=np.array(df2)\n",
    "inercias = [] \n",
    "  \n",
    "for k in range(1,10): \n",
    "    kmeans = KMeans(k)\n",
    "    kmeans.fit(X)     \n",
    "    inercias.append(kmeans.inertia_)\n",
    "\n",
    "plt.plot(range(1,10), inercias, 'bx-') \n",
    "plt.xlabel('Ks') \n",
    "plt.ylabel('Inercia') \n",
    "plt.show()"
   ]
  },
  {
   "cell_type": "code",
   "execution_count": 97,
   "metadata": {},
   "outputs": [],
   "source": [
    "kmeans = KMeans(n_clusters=6)\n",
    "kmeans.fit(X)\n",
    "df_t[\"clase\"]=kmeans.labels_"
   ]
  },
  {
   "cell_type": "code",
   "execution_count": 98,
   "metadata": {},
   "outputs": [
    {
     "name": "stdout",
     "output_type": "stream",
     "text": [
      "3    0.5\n",
      "1    0.5\n",
      "Name: clase, dtype: float64\n",
      "1    1.0\n",
      "Name: clase, dtype: float64\n",
      "0    1.0\n",
      "Name: clase, dtype: float64\n",
      "3    1.0\n",
      "Name: clase, dtype: float64\n",
      "5    0.866667\n",
      "3    0.066667\n",
      "0    0.066667\n",
      "Name: clase, dtype: float64\n",
      "1    0.416667\n",
      "4    0.316667\n",
      "2    0.266667\n",
      "Name: clase, dtype: float64\n"
     ]
    }
   ],
   "source": [
    "for i in range(0,360,60):\n",
    "    print(df_t.iloc[i:i+60]['clase'].value_counts(normalize='true'))"
   ]
  },
  {
   "cell_type": "code",
   "execution_count": 112,
   "metadata": {},
   "outputs": [],
   "source": [
    "y=[]\n",
    "for i,mov in enumerate(dirs):\n",
    "    clase=np.zeros(60)\n",
    "    clase.fill(i)\n",
    "    y.extend(clase)\n",
    "df2[\"clase\"]=y"
   ]
  },
  {
   "cell_type": "code",
   "execution_count": 113,
   "metadata": {},
   "outputs": [
    {
     "data": {
      "text/plain": [
       "0.6466587340061404"
      ]
     },
     "execution_count": 113,
     "metadata": {},
     "output_type": "execute_result"
    }
   ],
   "source": [
    "metrics.adjusted_rand_score(y,kmeans.labels_)"
   ]
  },
  {
   "cell_type": "code",
   "execution_count": 114,
   "metadata": {},
   "outputs": [
    {
     "data": {
      "text/html": [
       "<div>\n",
       "<style scoped>\n",
       "    .dataframe tbody tr th:only-of-type {\n",
       "        vertical-align: middle;\n",
       "    }\n",
       "\n",
       "    .dataframe tbody tr th {\n",
       "        vertical-align: top;\n",
       "    }\n",
       "\n",
       "    .dataframe thead th {\n",
       "        text-align: right;\n",
       "    }\n",
       "</style>\n",
       "<table border=\"1\" class=\"dataframe\">\n",
       "  <thead>\n",
       "    <tr style=\"text-align: right;\">\n",
       "      <th></th>\n",
       "      <th>T_xacc0</th>\n",
       "      <th>T_yacc0</th>\n",
       "      <th>T_zacc0</th>\n",
       "      <th>T_xgyro0</th>\n",
       "      <th>T_ygyro0</th>\n",
       "      <th>T_zgyro0</th>\n",
       "      <th>T_xmag0</th>\n",
       "      <th>T_ymag0</th>\n",
       "      <th>T_zmag0</th>\n",
       "      <th>T_xacc1</th>\n",
       "      <th>...</th>\n",
       "      <th>T_xacc124</th>\n",
       "      <th>T_yacc124</th>\n",
       "      <th>T_zacc124</th>\n",
       "      <th>T_xgyro124</th>\n",
       "      <th>T_ygyro124</th>\n",
       "      <th>T_zgyro124</th>\n",
       "      <th>T_xmag124</th>\n",
       "      <th>T_ymag124</th>\n",
       "      <th>T_zmag124</th>\n",
       "      <th>clase</th>\n",
       "    </tr>\n",
       "  </thead>\n",
       "  <tbody>\n",
       "    <tr>\n",
       "      <th>0</th>\n",
       "      <td>0.277118</td>\n",
       "      <td>0.456295</td>\n",
       "      <td>0.372139</td>\n",
       "      <td>0.680245</td>\n",
       "      <td>0.553437</td>\n",
       "      <td>0.349732</td>\n",
       "      <td>0.267646</td>\n",
       "      <td>0.591308</td>\n",
       "      <td>0.804925</td>\n",
       "      <td>0.268230</td>\n",
       "      <td>...</td>\n",
       "      <td>0.419655</td>\n",
       "      <td>0.384781</td>\n",
       "      <td>0.313636</td>\n",
       "      <td>0.593447</td>\n",
       "      <td>0.395075</td>\n",
       "      <td>0.470678</td>\n",
       "      <td>0.276398</td>\n",
       "      <td>0.596270</td>\n",
       "      <td>0.794496</td>\n",
       "      <td>0.0</td>\n",
       "    </tr>\n",
       "    <tr>\n",
       "      <th>1</th>\n",
       "      <td>0.297538</td>\n",
       "      <td>0.392998</td>\n",
       "      <td>0.342460</td>\n",
       "      <td>0.724933</td>\n",
       "      <td>0.558394</td>\n",
       "      <td>0.382461</td>\n",
       "      <td>0.268527</td>\n",
       "      <td>0.592705</td>\n",
       "      <td>0.789123</td>\n",
       "      <td>0.285685</td>\n",
       "      <td>...</td>\n",
       "      <td>0.362836</td>\n",
       "      <td>0.550362</td>\n",
       "      <td>0.349594</td>\n",
       "      <td>0.602918</td>\n",
       "      <td>0.318261</td>\n",
       "      <td>0.352776</td>\n",
       "      <td>0.311196</td>\n",
       "      <td>0.502372</td>\n",
       "      <td>0.839783</td>\n",
       "      <td>0.0</td>\n",
       "    </tr>\n",
       "    <tr>\n",
       "      <th>2</th>\n",
       "      <td>0.277388</td>\n",
       "      <td>0.470526</td>\n",
       "      <td>0.365295</td>\n",
       "      <td>0.694038</td>\n",
       "      <td>0.540899</td>\n",
       "      <td>0.322538</td>\n",
       "      <td>0.305571</td>\n",
       "      <td>0.487126</td>\n",
       "      <td>0.840027</td>\n",
       "      <td>0.282230</td>\n",
       "      <td>...</td>\n",
       "      <td>0.492337</td>\n",
       "      <td>0.540164</td>\n",
       "      <td>0.368116</td>\n",
       "      <td>0.572328</td>\n",
       "      <td>0.385761</td>\n",
       "      <td>0.390516</td>\n",
       "      <td>0.282512</td>\n",
       "      <td>0.604892</td>\n",
       "      <td>0.817327</td>\n",
       "      <td>0.0</td>\n",
       "    </tr>\n",
       "    <tr>\n",
       "      <th>3</th>\n",
       "      <td>0.345275</td>\n",
       "      <td>0.415880</td>\n",
       "      <td>0.373161</td>\n",
       "      <td>0.648758</td>\n",
       "      <td>0.619513</td>\n",
       "      <td>0.370696</td>\n",
       "      <td>0.272079</td>\n",
       "      <td>0.593585</td>\n",
       "      <td>0.805646</td>\n",
       "      <td>0.281297</td>\n",
       "      <td>...</td>\n",
       "      <td>0.495050</td>\n",
       "      <td>0.579627</td>\n",
       "      <td>0.352801</td>\n",
       "      <td>0.655071</td>\n",
       "      <td>0.369816</td>\n",
       "      <td>0.364749</td>\n",
       "      <td>0.300223</td>\n",
       "      <td>0.552028</td>\n",
       "      <td>0.862094</td>\n",
       "      <td>0.0</td>\n",
       "    </tr>\n",
       "    <tr>\n",
       "      <th>4</th>\n",
       "      <td>0.316999</td>\n",
       "      <td>0.514716</td>\n",
       "      <td>0.325284</td>\n",
       "      <td>0.738151</td>\n",
       "      <td>0.592490</td>\n",
       "      <td>0.321616</td>\n",
       "      <td>0.288585</td>\n",
       "      <td>0.544389</td>\n",
       "      <td>0.851954</td>\n",
       "      <td>0.280033</td>\n",
       "      <td>...</td>\n",
       "      <td>0.429149</td>\n",
       "      <td>0.541220</td>\n",
       "      <td>0.335693</td>\n",
       "      <td>0.602906</td>\n",
       "      <td>0.345068</td>\n",
       "      <td>0.424946</td>\n",
       "      <td>0.284820</td>\n",
       "      <td>0.570898</td>\n",
       "      <td>0.816065</td>\n",
       "      <td>0.0</td>\n",
       "    </tr>\n",
       "  </tbody>\n",
       "</table>\n",
       "<p>5 rows × 1126 columns</p>\n",
       "</div>"
      ],
      "text/plain": [
       "    T_xacc0   T_yacc0   T_zacc0  T_xgyro0  T_ygyro0  T_zgyro0   T_xmag0  \\\n",
       "0  0.277118  0.456295  0.372139  0.680245  0.553437  0.349732  0.267646   \n",
       "1  0.297538  0.392998  0.342460  0.724933  0.558394  0.382461  0.268527   \n",
       "2  0.277388  0.470526  0.365295  0.694038  0.540899  0.322538  0.305571   \n",
       "3  0.345275  0.415880  0.373161  0.648758  0.619513  0.370696  0.272079   \n",
       "4  0.316999  0.514716  0.325284  0.738151  0.592490  0.321616  0.288585   \n",
       "\n",
       "    T_ymag0   T_zmag0   T_xacc1  ...  T_xacc124  T_yacc124  T_zacc124  \\\n",
       "0  0.591308  0.804925  0.268230  ...   0.419655   0.384781   0.313636   \n",
       "1  0.592705  0.789123  0.285685  ...   0.362836   0.550362   0.349594   \n",
       "2  0.487126  0.840027  0.282230  ...   0.492337   0.540164   0.368116   \n",
       "3  0.593585  0.805646  0.281297  ...   0.495050   0.579627   0.352801   \n",
       "4  0.544389  0.851954  0.280033  ...   0.429149   0.541220   0.335693   \n",
       "\n",
       "   T_xgyro124  T_ygyro124  T_zgyro124  T_xmag124  T_ymag124  T_zmag124  clase  \n",
       "0    0.593447    0.395075    0.470678   0.276398   0.596270   0.794496    0.0  \n",
       "1    0.602918    0.318261    0.352776   0.311196   0.502372   0.839783    0.0  \n",
       "2    0.572328    0.385761    0.390516   0.282512   0.604892   0.817327    0.0  \n",
       "3    0.655071    0.369816    0.364749   0.300223   0.552028   0.862094    0.0  \n",
       "4    0.602906    0.345068    0.424946   0.284820   0.570898   0.816065    0.0  \n",
       "\n",
       "[5 rows x 1126 columns]"
      ]
     },
     "execution_count": 114,
     "metadata": {},
     "output_type": "execute_result"
    }
   ],
   "source": [
    "df2.head()"
   ]
  },
  {
   "cell_type": "markdown",
   "metadata": {},
   "source": [
    "Agrupar por personas, 60 filas corresponde a una persona"
   ]
  },
  {
   "cell_type": "code",
   "execution_count": 4,
   "metadata": {},
   "outputs": [],
   "source": [
    "df1=pd.DataFrame()\n",
    "df2=pd.DataFrame()\n",
    "for j in range(1,9):\n",
    "    for i in range(1,10):\n",
    "        dfa=pd.read_csv(f\"/Users/rociocuestapedraz/Desktop/data/a01/p{j}/s0{i}.txt\",header=None)\n",
    "        df1=pd.concat([df1,dfa],axis=0)\n",
    "    for i in range(10,61):\n",
    "        dfb=pd.read_csv(f\"/Users/rociocuestapedraz/Desktop/data/a01/p{j}/s{i}.txt\",header=None)\n",
    "        df2=pd.concat([df2,dfb],axis=0)\n",
    "\n",
    "    \n",
    "df=pd.concat([df1,df2],axis=0)"
   ]
  },
  {
   "cell_type": "code",
   "execution_count": 6,
   "metadata": {},
   "outputs": [
    {
     "data": {
      "text/plain": [
       "(60000, 45)"
      ]
     },
     "execution_count": 6,
     "metadata": {},
     "output_type": "execute_result"
    }
   ],
   "source": [
    "df.shape"
   ]
  },
  {
   "cell_type": "code",
   "execution_count": 18,
   "metadata": {},
   "outputs": [],
   "source": [
    "y = [0]*7500+[1]* 7500 +[2]* 7500 +[3]* 7500 +[4]* 7500 +[5]* 7500+[6]* 7500+[7]* 7500"
   ]
  },
  {
   "cell_type": "code",
   "execution_count": 26,
   "metadata": {},
   "outputs": [
    {
     "data": {
      "text/plain": [
       "KMeans(algorithm='auto', copy_x=True, init='k-means++', max_iter=300,\n",
       "       n_clusters=8, n_init=10, n_jobs=None, precompute_distances='auto',\n",
       "       random_state=None, tol=0.0001, verbose=0)"
      ]
     },
     "execution_count": 26,
     "metadata": {},
     "output_type": "execute_result"
    }
   ],
   "source": [
    "X=np.array(df)\n",
    "kmeans = KMeans(n_clusters=8)\n",
    "kmeans.fit(X)\n"
   ]
  },
  {
   "cell_type": "code",
   "execution_count": 27,
   "metadata": {},
   "outputs": [
    {
     "data": {
      "text/plain": [
       "0.5028386709855119"
      ]
     },
     "execution_count": 27,
     "metadata": {},
     "output_type": "execute_result"
    }
   ],
   "source": [
    "from sklearn.metrics.cluster import adjusted_rand_score\n",
    "adjusted_rand_score(y,kmeans.labels_)"
   ]
  },
  {
   "cell_type": "markdown",
   "metadata": {},
   "source": [
    "### Clustering Jerarquico:"
   ]
  },
  {
   "cell_type": "markdown",
   "metadata": {},
   "source": [
    "**Una actividad, 8 personas**"
   ]
  },
  {
   "cell_type": "code",
   "execution_count": null,
   "metadata": {},
   "outputs": [],
   "source": [
    "/Users/rociocuestapedraz/Desktop/data"
   ]
  },
  {
   "cell_type": "code",
   "execution_count": 6,
   "metadata": {},
   "outputs": [],
   "source": [
    "#/Users/rociocuestapedraz/Desktop/data/a01/p1/s01.txt\n",
    "lista_segmentos = range(1,61)\n",
    "lista_personas = range(1,9)\n",
    "df = pd.DataFrame()\n",
    "#/Users/rociocuestapedraz/Desktop/data/a01/p\n",
    "lista_path = []\n",
    "for i in lista_personas:\n",
    "        for j in lista_segmentos:\n",
    "            if j < 10:\n",
    "                path = r\"/Users/rociocuestapedraz/Desktop/data/a01/p\"+str(i)+\"/s0\"+str(j)+\".txt\"\n",
    "                lista_path.append(path)\n",
    "                df1 = pd.read_csv(path, names = range(45))\n",
    "                df1 = df1.iloc[:,:9]\n",
    "                df1 = df1.to_numpy().flatten()\n",
    "                df1 = pd.DataFrame(df1).T\n",
    "                df = df.append(df1)\n",
    "            else:\n",
    "                path = r\"/Users/rociocuestapedraz/Desktop/data/a01/p\"+str(i)+\"/s\"+str(j)+\".txt\"\n",
    "                lista_path.append(path)\n",
    "                df1 = pd.read_csv(path, names = range(45))\n",
    "                df1 = df1.iloc[:,:9]\n",
    "                df1 = df1.to_numpy().flatten()\n",
    "                df1 = pd.DataFrame(df1).T\n",
    "                df = df.append(df1)"
   ]
  },
  {
   "cell_type": "code",
   "execution_count": 8,
   "metadata": {},
   "outputs": [
    {
     "data": {
      "text/html": [
       "<div>\n",
       "<style scoped>\n",
       "    .dataframe tbody tr th:only-of-type {\n",
       "        vertical-align: middle;\n",
       "    }\n",
       "\n",
       "    .dataframe tbody tr th {\n",
       "        vertical-align: top;\n",
       "    }\n",
       "\n",
       "    .dataframe thead th {\n",
       "        text-align: right;\n",
       "    }\n",
       "</style>\n",
       "<table border=\"1\" class=\"dataframe\">\n",
       "  <thead>\n",
       "    <tr style=\"text-align: right;\">\n",
       "      <th></th>\n",
       "      <th>0</th>\n",
       "      <th>1</th>\n",
       "      <th>2</th>\n",
       "      <th>3</th>\n",
       "      <th>4</th>\n",
       "      <th>5</th>\n",
       "      <th>6</th>\n",
       "      <th>7</th>\n",
       "      <th>8</th>\n",
       "      <th>9</th>\n",
       "      <th>...</th>\n",
       "      <th>1115</th>\n",
       "      <th>1116</th>\n",
       "      <th>1117</th>\n",
       "      <th>1118</th>\n",
       "      <th>1119</th>\n",
       "      <th>1120</th>\n",
       "      <th>1121</th>\n",
       "      <th>1122</th>\n",
       "      <th>1123</th>\n",
       "      <th>1124</th>\n",
       "    </tr>\n",
       "  </thead>\n",
       "  <tbody>\n",
       "    <tr>\n",
       "      <th>0</th>\n",
       "      <td>8.1305</td>\n",
       "      <td>1.0349</td>\n",
       "      <td>5.4217</td>\n",
       "      <td>-0.009461</td>\n",
       "      <td>0.001915</td>\n",
       "      <td>-0.003424</td>\n",
       "      <td>-0.78712</td>\n",
       "      <td>-0.069654</td>\n",
       "      <td>0.15730</td>\n",
       "      <td>8.1305</td>\n",
       "      <td>...</td>\n",
       "      <td>0.13478</td>\n",
       "      <td>7.9812</td>\n",
       "      <td>1.0945</td>\n",
       "      <td>5.6005</td>\n",
       "      <td>-0.005819</td>\n",
       "      <td>0.016371</td>\n",
       "      <td>0.002868</td>\n",
       "      <td>-0.79209</td>\n",
       "      <td>-0.070456</td>\n",
       "      <td>0.13423</td>\n",
       "    </tr>\n",
       "    <tr>\n",
       "      <th>0</th>\n",
       "      <td>7.9665</td>\n",
       "      <td>1.1684</td>\n",
       "      <td>5.6755</td>\n",
       "      <td>-0.005730</td>\n",
       "      <td>0.026995</td>\n",
       "      <td>-0.009029</td>\n",
       "      <td>-0.79062</td>\n",
       "      <td>-0.071635</td>\n",
       "      <td>0.13429</td>\n",
       "      <td>7.9516</td>\n",
       "      <td>...</td>\n",
       "      <td>0.12762</td>\n",
       "      <td>7.8991</td>\n",
       "      <td>1.1389</td>\n",
       "      <td>5.7204</td>\n",
       "      <td>0.003239</td>\n",
       "      <td>0.021752</td>\n",
       "      <td>0.000058</td>\n",
       "      <td>-0.79384</td>\n",
       "      <td>-0.070314</td>\n",
       "      <td>0.12694</td>\n",
       "    </tr>\n",
       "    <tr>\n",
       "      <th>0</th>\n",
       "      <td>7.8917</td>\n",
       "      <td>1.1390</td>\n",
       "      <td>5.6980</td>\n",
       "      <td>0.014180</td>\n",
       "      <td>0.028722</td>\n",
       "      <td>-0.009079</td>\n",
       "      <td>-0.79531</td>\n",
       "      <td>-0.069460</td>\n",
       "      <td>0.12447</td>\n",
       "      <td>7.9065</td>\n",
       "      <td>...</td>\n",
       "      <td>0.13108</td>\n",
       "      <td>7.9588</td>\n",
       "      <td>1.1239</td>\n",
       "      <td>5.6168</td>\n",
       "      <td>0.006900</td>\n",
       "      <td>0.028915</td>\n",
       "      <td>-0.000911</td>\n",
       "      <td>-0.79375</td>\n",
       "      <td>-0.071949</td>\n",
       "      <td>0.13380</td>\n",
       "    </tr>\n",
       "    <tr>\n",
       "      <th>0</th>\n",
       "      <td>7.9366</td>\n",
       "      <td>1.1536</td>\n",
       "      <td>5.6318</td>\n",
       "      <td>0.003242</td>\n",
       "      <td>0.029965</td>\n",
       "      <td>0.009111</td>\n",
       "      <td>-0.79292</td>\n",
       "      <td>-0.070358</td>\n",
       "      <td>0.13194</td>\n",
       "      <td>7.9665</td>\n",
       "      <td>...</td>\n",
       "      <td>0.12063</td>\n",
       "      <td>7.8090</td>\n",
       "      <td>1.2047</td>\n",
       "      <td>6.0569</td>\n",
       "      <td>-0.003188</td>\n",
       "      <td>0.003819</td>\n",
       "      <td>-0.016342</td>\n",
       "      <td>-0.79537</td>\n",
       "      <td>-0.072348</td>\n",
       "      <td>0.11873</td>\n",
       "    </tr>\n",
       "    <tr>\n",
       "      <th>0</th>\n",
       "      <td>7.8913</td>\n",
       "      <td>1.1972</td>\n",
       "      <td>5.9082</td>\n",
       "      <td>-0.044333</td>\n",
       "      <td>-0.067467</td>\n",
       "      <td>-0.004235</td>\n",
       "      <td>-0.79592</td>\n",
       "      <td>-0.073174</td>\n",
       "      <td>0.12086</td>\n",
       "      <td>7.8696</td>\n",
       "      <td>...</td>\n",
       "      <td>0.14448</td>\n",
       "      <td>8.0486</td>\n",
       "      <td>1.1383</td>\n",
       "      <td>5.4544</td>\n",
       "      <td>-0.009570</td>\n",
       "      <td>-0.010470</td>\n",
       "      <td>-0.010857</td>\n",
       "      <td>-0.79026</td>\n",
       "      <td>-0.071108</td>\n",
       "      <td>0.14722</td>\n",
       "    </tr>\n",
       "  </tbody>\n",
       "</table>\n",
       "<p>5 rows × 1125 columns</p>\n",
       "</div>"
      ],
      "text/plain": [
       "     0       1       2         3         4         5        6         7     \\\n",
       "0  8.1305  1.0349  5.4217 -0.009461  0.001915 -0.003424 -0.78712 -0.069654   \n",
       "0  7.9665  1.1684  5.6755 -0.005730  0.026995 -0.009029 -0.79062 -0.071635   \n",
       "0  7.8917  1.1390  5.6980  0.014180  0.028722 -0.009079 -0.79531 -0.069460   \n",
       "0  7.9366  1.1536  5.6318  0.003242  0.029965  0.009111 -0.79292 -0.070358   \n",
       "0  7.8913  1.1972  5.9082 -0.044333 -0.067467 -0.004235 -0.79592 -0.073174   \n",
       "\n",
       "      8       9     ...     1115    1116    1117    1118      1119      1120  \\\n",
       "0  0.15730  8.1305  ...  0.13478  7.9812  1.0945  5.6005 -0.005819  0.016371   \n",
       "0  0.13429  7.9516  ...  0.12762  7.8991  1.1389  5.7204  0.003239  0.021752   \n",
       "0  0.12447  7.9065  ...  0.13108  7.9588  1.1239  5.6168  0.006900  0.028915   \n",
       "0  0.13194  7.9665  ...  0.12063  7.8090  1.2047  6.0569 -0.003188  0.003819   \n",
       "0  0.12086  7.8696  ...  0.14448  8.0486  1.1383  5.4544 -0.009570 -0.010470   \n",
       "\n",
       "       1121     1122      1123     1124  \n",
       "0  0.002868 -0.79209 -0.070456  0.13423  \n",
       "0  0.000058 -0.79384 -0.070314  0.12694  \n",
       "0 -0.000911 -0.79375 -0.071949  0.13380  \n",
       "0 -0.016342 -0.79537 -0.072348  0.11873  \n",
       "0 -0.010857 -0.79026 -0.071108  0.14722  \n",
       "\n",
       "[5 rows x 1125 columns]"
      ]
     },
     "execution_count": 8,
     "metadata": {},
     "output_type": "execute_result"
    }
   ],
   "source": [
    "df.head()"
   ]
  },
  {
   "cell_type": "code",
   "execution_count": 17,
   "metadata": {},
   "outputs": [
    {
     "data": {
      "text/plain": [
       "(480, 1125)"
      ]
     },
     "execution_count": 17,
     "metadata": {},
     "output_type": "execute_result"
    }
   ],
   "source": [
    "df.shape"
   ]
  },
  {
   "cell_type": "code",
   "execution_count": 11,
   "metadata": {},
   "outputs": [
    {
     "data": {
      "text/plain": [
       "AgglomerativeClustering(affinity='euclidean', compute_full_tree='auto',\n",
       "                        connectivity=None, distance_threshold=None,\n",
       "                        linkage='single', memory=None, n_clusters=8)"
      ]
     },
     "execution_count": 11,
     "metadata": {},
     "output_type": "execute_result"
    }
   ],
   "source": [
    "from sklearn.cluster import AgglomerativeClustering\n",
    "X=np.array(df)\n",
    "agglom = AgglomerativeClustering(n_clusters =8, linkage = 'single')\n",
    "agglom.fit(X)"
   ]
  },
  {
   "cell_type": "code",
   "execution_count": 12,
   "metadata": {},
   "outputs": [
    {
     "name": "stdout",
     "output_type": "stream",
     "text": [
      "[[ 0.          3.97985596  3.52464618 ... 19.05253542 18.87865882\n",
      "  18.65500262]\n",
      " [ 3.97985596  0.          1.86951726 ... 19.58073534 19.42500702\n",
      "  19.19181691]\n",
      " [ 3.52464618  1.86951726  0.         ... 19.49062608 19.32975615\n",
      "  19.1009221 ]\n",
      " ...\n",
      " [19.05253542 19.58073534 19.49062608 ...  0.          0.92662666\n",
      "   1.01969419]\n",
      " [18.87865882 19.42500702 19.32975615 ...  0.92662666  0.\n",
      "   0.95600835]\n",
      " [18.65500262 19.19181691 19.1009221  ...  1.01969419  0.95600835\n",
      "   0.        ]]\n"
     ]
    }
   ],
   "source": [
    "from scipy.spatial import distance_matrix \n",
    "dist_matrix = distance_matrix(X,X) \n",
    "print(dist_matrix)"
   ]
  },
  {
   "cell_type": "code",
   "execution_count": 15,
   "metadata": {},
   "outputs": [
    {
     "name": "stderr",
     "output_type": "stream",
     "text": [
      "/Users/rociocuestapedraz/opt/anaconda3/lib/python3.7/site-packages/ipykernel_launcher.py:2: ClusterWarning: scipy.cluster: The symmetric non-negative hollow observation matrix looks suspiciously like an uncondensed distance matrix\n",
      "  \n"
     ]
    }
   ],
   "source": [
    "from scipy.cluster import hierarchy \n",
    "Z = hierarchy.linkage(dist_matrix, 'single')"
   ]
  },
  {
   "cell_type": "code",
   "execution_count": 16,
   "metadata": {},
   "outputs": [
    {
     "data": {
      "image/png": "[encoded data removed]",
      "text/plain": [
       "<Figure size 720x720 with 1 Axes>"
      ]
     },
     "metadata": {
      "needs_background": "light"
     },
     "output_type": "display_data"
    }
   ],
   "source": [
    "import pylab\n",
    "pylab.figure(figsize=(10,10))\n",
    "dendro = hierarchy.dendrogram(Z)"
   ]
  },
  {
   "cell_type": "code",
   "execution_count": 22,
   "metadata": {},
   "outputs": [],
   "source": [
    "clase=0\n",
    "filas= len(df)\n",
    "y = list()\n",
    "for fila in range(filas):\n",
    "    y.append(clase)\n",
    "    if fila%60 ==0 and fila>0:\n",
    "        clase +=1"
   ]
  },
  {
   "cell_type": "code",
   "execution_count": 24,
   "metadata": {},
   "outputs": [
    {
     "data": {
      "text/plain": [
       "0.5725255585310625"
      ]
     },
     "execution_count": 24,
     "metadata": {},
     "output_type": "execute_result"
    }
   ],
   "source": [
    "from sklearn.metrics.cluster import adjusted_rand_score\n",
    "adjusted_rand_score(y,agglom.labels_)"
   ]
  },
  {
   "cell_type": "markdown",
   "metadata": {},
   "source": [
    "- 6 activ 1 persona 1 sensor \n",
    "- 1 actividad 8 persona 1 sensor\n",
    "- todas las actividades, cluster por actividades para todas las personas\n",
    "- todas las actividades todos los sensores\n",
    "- diferenciar por sexo (No hacerlo mas)\n",
    "- 8 personas 6 actividades y un sensor"
   ]
  },
  {
   "cell_type": "code",
   "execution_count": null,
   "metadata": {},
   "outputs": [],
   "source": []
  },
  {
   "cell_type": "code",
   "execution_count": null,
   "metadata": {},
   "outputs": [],
   "source": []
  },
  {
   "cell_type": "code",
   "execution_count": null,
   "metadata": {},
   "outputs": [],
   "source": []
  }
 ],
 "metadata": {
  "kernelspec": {
   "display_name": "Python 3",
   "language": "python",
   "name": "python3"
  },
  "language_info": {
   "codemirror_mode": {
    "name": "ipython",
    "version": 3
   },
   "file_extension": ".py",
   "mimetype": "text/x-python",
   "name": "python",
   "nbconvert_exporter": "python",
   "pygments_lexer": "ipython3",
   "version": "3.7.4"
  }
 },
 "nbformat": 4,
 "nbformat_minor": 4
}
