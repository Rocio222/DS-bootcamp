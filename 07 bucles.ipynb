{
 "cells": [
  {
   "cell_type": "markdown",
   "metadata": {},
   "source": [
    "### Practica Bucles"
   ]
  },
  {
   "cell_type": "markdown",
   "metadata": {},
   "source": [
    "#### Ejercicio 1"
   ]
  },
  {
   "cell_type": "markdown",
   "metadata": {},
   "source": [
    "- Dada la siguiente lista = [1,2,3,4,5,6,7,8,9,10], imprimir cada número sumandole 10 unidades a cada uno, utilizando un bucle **for**"
   ]
  },
  {
   "cell_type": "code",
   "execution_count": 2,
   "metadata": {},
   "outputs": [
    {
     "name": "stdout",
     "output_type": "stream",
     "text": [
      "11\n",
      "12\n",
      "13\n",
      "14\n",
      "15\n",
      "16\n",
      "17\n",
      "18\n",
      "19\n",
      "20\n"
     ]
    }
   ],
   "source": [
    "lista = [1,2,3,4,5,6,7,8,9,10]\n",
    "for i in range(len(lista)):\n",
    "    print(lista[i]+10)"
   ]
  },
  {
   "cell_type": "code",
   "execution_count": 1,
   "metadata": {},
   "outputs": [
    {
     "name": "stdout",
     "output_type": "stream",
     "text": [
      "11\n",
      "12\n",
      "13\n",
      "14\n",
      "15\n",
      "16\n",
      "17\n",
      "18\n",
      "19\n",
      "20\n"
     ]
    }
   ],
   "source": []
  },
  {
   "cell_type": "markdown",
   "metadata": {},
   "source": [
    "#### Ejercicio 2"
   ]
  },
  {
   "cell_type": "markdown",
   "metadata": {},
   "source": [
    "- Crea un bucle **for** que muestre la tabla de multiplicar del 1 al 10 de un número dado por el usuario"
   ]
  },
  {
   "cell_type": "code",
   "execution_count": 4,
   "metadata": {},
   "outputs": [
    {
     "name": "stdout",
     "output_type": "stream",
     "text": [
      "Introduce un numero5\n",
      "1 X 5 = 5\n",
      "2 X 5 = 10\n",
      "3 X 5 = 15\n",
      "4 X 5 = 20\n",
      "5 X 5 = 25\n",
      "6 X 5 = 30\n",
      "7 X 5 = 35\n",
      "8 X 5 = 40\n",
      "9 X 5 = 45\n",
      "10 X 5 = 50\n"
     ]
    }
   ],
   "source": [
    "import numpy as np\n",
    "numero=int(input(\"Introduce un numero\"))\n",
    "lista= np.arange(1,11)\n",
    "for i in range(len(lista)):\n",
    "    print(lista[i],\"X\",numero,\"=\",lista[i]*numero)"
   ]
  },
  {
   "cell_type": "code",
   "execution_count": 6,
   "metadata": {},
   "outputs": [
    {
     "name": "stdout",
     "output_type": "stream",
     "text": [
      "Ingresar número: 5\n",
      "1 x 5 = 5\n",
      "2 x 5 = 10\n",
      "3 x 5 = 15\n",
      "4 x 5 = 20\n",
      "5 x 5 = 25\n",
      "6 x 5 = 30\n",
      "7 x 5 = 35\n",
      "8 x 5 = 40\n",
      "9 x 5 = 45\n",
      "10 x 5 = 50\n"
     ]
    }
   ],
   "source": []
  },
  {
   "cell_type": "markdown",
   "metadata": {},
   "source": [
    "#### Ejercicio 3"
   ]
  },
  {
   "attachments": {
    "image.png": {
     "image/png": "[encoded data removed]"
    }
   },
   "cell_type": "markdown",
   "metadata": {},
   "source": [
    "- Crea un bucle **for** que recorra la siguiente lista = [\"a\",\"b\",\"c\",\"d\",\"e\"] e imprima el valor correspondiente en codigo ascii.\n",
    "\n",
    "![image.png](attachment:image.png)\n",
    "\n",
    "- Nota: Se utiliza condicionales"
   ]
  },
  {
   "cell_type": "code",
   "execution_count": 26,
   "metadata": {},
   "outputs": [
    {
     "name": "stdout",
     "output_type": "stream",
     "text": [
      "a 97\n",
      "b 98\n",
      "c 99\n",
      "d 100\n",
      "e 101\n"
     ]
    }
   ],
   "source": [
    "lista1=[\"a\",\"b\",\"c\",\"d\",\"e\"]\n",
    "lista2=np.arange(97,102)\n",
    "for f, b in zip(lista1, lista2): \n",
    "    print(f, b)\n"
   ]
  },
  {
   "cell_type": "code",
   "execution_count": 10,
   "metadata": {},
   "outputs": [
    {
     "name": "stdout",
     "output_type": "stream",
     "text": [
      "97\n",
      "98\n",
      "99\n",
      "100\n",
      "101\n"
     ]
    }
   ],
   "source": []
  },
  {
   "cell_type": "markdown",
   "metadata": {},
   "source": [
    "#### Ejercicio 4"
   ]
  },
  {
   "cell_type": "markdown",
   "metadata": {},
   "source": [
    "- Crea una lista con los números del 201 al 207 utilizando un bucle **for**"
   ]
  },
  {
   "cell_type": "code",
   "execution_count": 8,
   "metadata": {},
   "outputs": [
    {
     "data": {
      "text/plain": [
       "[201, 202, 203, 204, 205, 206, 207]"
      ]
     },
     "execution_count": 8,
     "metadata": {},
     "output_type": "execute_result"
    }
   ],
   "source": [
    "lista=[]\n",
    "for i in range(201,208):\n",
    "    lista.append(i)\n",
    "lista"
   ]
  },
  {
   "cell_type": "code",
   "execution_count": 11,
   "metadata": {},
   "outputs": [
    {
     "data": {
      "text/plain": [
       "[201, 202, 203, 204, 205, 206, 207]"
      ]
     },
     "execution_count": 11,
     "metadata": {},
     "output_type": "execute_result"
    }
   ],
   "source": []
  },
  {
   "cell_type": "markdown",
   "metadata": {},
   "source": [
    "#### Ejercicio 5"
   ]
  },
  {
   "cell_type": "markdown",
   "metadata": {},
   "source": [
    "- Crea una lista de números pares entre el 555 y el 599 utilizando bucle **for**"
   ]
  },
  {
   "cell_type": "code",
   "execution_count": 9,
   "metadata": {},
   "outputs": [
    {
     "data": {
      "text/plain": [
       "[556,\n",
       " 558,\n",
       " 560,\n",
       " 562,\n",
       " 564,\n",
       " 566,\n",
       " 568,\n",
       " 570,\n",
       " 572,\n",
       " 574,\n",
       " 576,\n",
       " 578,\n",
       " 580,\n",
       " 582,\n",
       " 584,\n",
       " 586,\n",
       " 588,\n",
       " 590,\n",
       " 592,\n",
       " 594,\n",
       " 596,\n",
       " 598]"
      ]
     },
     "execution_count": 9,
     "metadata": {},
     "output_type": "execute_result"
    }
   ],
   "source": [
    "lista=[]\n",
    "for i in range(555,600):\n",
    "    if i%2==0:\n",
    "        lista.append(i)\n",
    "lista"
   ]
  },
  {
   "cell_type": "code",
   "execution_count": null,
   "metadata": {},
   "outputs": [],
   "source": []
  },
  {
   "cell_type": "code",
   "execution_count": 16,
   "metadata": {},
   "outputs": [
    {
     "data": {
      "text/plain": [
       "[556,\n",
       " 558,\n",
       " 560,\n",
       " 562,\n",
       " 564,\n",
       " 566,\n",
       " 568,\n",
       " 570,\n",
       " 572,\n",
       " 574,\n",
       " 576,\n",
       " 578,\n",
       " 580,\n",
       " 582,\n",
       " 584,\n",
       " 586,\n",
       " 588,\n",
       " 590,\n",
       " 592,\n",
       " 594,\n",
       " 596,\n",
       " 598]"
      ]
     },
     "execution_count": 16,
     "metadata": {},
     "output_type": "execute_result"
    }
   ],
   "source": []
  },
  {
   "cell_type": "markdown",
   "metadata": {},
   "source": [
    "#### Ejercicio 6"
   ]
  },
  {
   "cell_type": "markdown",
   "metadata": {},
   "source": [
    "- Crea una lista con 5 elementos y cada elemento de esa lista, va a ser una lista con los siguientes datos: [1,2,3], utilizando 2 **for** anidados"
   ]
  },
  {
   "cell_type": "code",
   "execution_count": 17,
   "metadata": {},
   "outputs": [
    {
     "data": {
      "text/plain": [
       "[[1, 2, 3], [1, 2, 3], [1, 2, 3], [1, 2, 3], [1, 2, 3]]"
      ]
     },
     "execution_count": 17,
     "metadata": {},
     "output_type": "execute_result"
    }
   ],
   "source": [
    "lista=[]\n",
    "for i in range(5):\n",
    "    sublista=[]\n",
    "    for i in range(1,4):\n",
    "        sublista.append(i)\n",
    "\n",
    "    lista.append(sublista)\n",
    "lista"
   ]
  },
  {
   "cell_type": "markdown",
   "metadata": {},
   "source": [
    "#### Ejercicio 7"
   ]
  },
  {
   "cell_type": "markdown",
   "metadata": {},
   "source": [
    "- Crea un bucle **for** que sume los valores de la siguiente lista: [51, 52, 53, 54, 55]"
   ]
  },
  {
   "cell_type": "code",
   "execution_count": 22,
   "metadata": {},
   "outputs": [
    {
     "data": {
      "text/plain": [
       "265"
      ]
     },
     "execution_count": 22,
     "metadata": {},
     "output_type": "execute_result"
    }
   ],
   "source": [
    "lista=[51, 52, 53, 54, 55]\n",
    "suma=0\n",
    "for i in lista:\n",
    "    suma+=i\n",
    "suma"
   ]
  },
  {
   "cell_type": "code",
   "execution_count": 19,
   "metadata": {},
   "outputs": [
    {
     "data": {
      "text/plain": [
       "265"
      ]
     },
     "execution_count": 19,
     "metadata": {},
     "output_type": "execute_result"
    }
   ],
   "source": []
  },
  {
   "cell_type": "markdown",
   "metadata": {},
   "source": [
    "#### Ejercicio 8\n"
   ]
  },
  {
   "cell_type": "markdown",
   "metadata": {},
   "source": [
    "- Crea un bucle que cuente del 10 al 1"
   ]
  },
  {
   "cell_type": "code",
   "execution_count": 2,
   "metadata": {},
   "outputs": [
    {
     "name": "stdout",
     "output_type": "stream",
     "text": [
      "10\n",
      "9\n",
      "8\n",
      "7\n",
      "6\n",
      "5\n",
      "4\n",
      "3\n",
      "2\n",
      "1\n",
      "0\n"
     ]
    }
   ],
   "source": [
    "numero=11\n",
    "while numero>0:\n",
    "    numero=numero-1\n",
    "    print(numero)"
   ]
  },
  {
   "cell_type": "code",
   "execution_count": null,
   "metadata": {},
   "outputs": [],
   "source": []
  },
  {
   "cell_type": "code",
   "execution_count": 25,
   "metadata": {},
   "outputs": [
    {
     "name": "stdout",
     "output_type": "stream",
     "text": [
      "10\n",
      "9\n",
      "8\n",
      "7\n",
      "6\n",
      "5\n",
      "4\n",
      "3\n",
      "2\n",
      "1\n"
     ]
    }
   ],
   "source": []
  },
  {
   "cell_type": "markdown",
   "metadata": {},
   "source": [
    "#### Ejercicio 9\n"
   ]
  },
  {
   "cell_type": "markdown",
   "metadata": {},
   "source": [
    "- Dada la siguiente lista de números = [10,7,8,3,5,2,71,21,88], crea un bucle que recorra la lista y sume los números pares e impares."
   ]
  },
  {
   "cell_type": "code",
   "execution_count": 4,
   "metadata": {},
   "outputs": [
    {
     "name": "stdout",
     "output_type": "stream",
     "text": [
      "108\n",
      "107\n"
     ]
    }
   ],
   "source": [
    "import numpy as np\n",
    "lista=[10,7,8,3,5,2,71,21,88]\n",
    "pares=[]\n",
    "impares=[]\n",
    "for i in lista:\n",
    "    if i%2==0:\n",
    "        pares.append(i)\n",
    "    else:\n",
    "        impares.append(i)\n",
    "print(np.sum(pares))\n",
    "print(np.sum(impares))\n",
    "\n",
    "\n",
    "        "
   ]
  },
  {
   "cell_type": "code",
   "execution_count": 26,
   "metadata": {},
   "outputs": [
    {
     "name": "stdout",
     "output_type": "stream",
     "text": [
      "108\n",
      "107\n"
     ]
    }
   ],
   "source": []
  },
  {
   "cell_type": "markdown",
   "metadata": {},
   "source": [
    "#### Ejercicio 10"
   ]
  },
  {
   "cell_type": "markdown",
   "metadata": {},
   "source": [
    "- Crea una lista con 5 colores diferentes, y con bucles anidados imprime las letras de los colores por separado"
   ]
  },
  {
   "cell_type": "code",
   "execution_count": 14,
   "metadata": {},
   "outputs": [
    {
     "name": "stdout",
     "output_type": "stream",
     "text": [
      "a\n",
      "m\n",
      "a\n",
      "r\n",
      "i\n",
      "l\n",
      "l\n",
      "o\n",
      "r\n",
      "o\n",
      "j\n",
      "o\n",
      "v\n",
      "e\n",
      "r\n",
      "d\n",
      "e\n",
      "a\n",
      "z\n",
      "u\n",
      "l\n",
      "r\n",
      "o\n",
      "j\n",
      "o\n"
     ]
    }
   ],
   "source": [
    "lista=[\"amarillo\",\"rojo\",\"verde\",\"azul\",\"rojo\"]\n",
    "for i in lista:\n",
    "    #print(i)\n",
    "    for letra in i:\n",
    "        print (letra)\n",
    "    \n",
    "    "
   ]
  },
  {
   "cell_type": "code",
   "execution_count": 27,
   "metadata": {},
   "outputs": [
    {
     "name": "stdout",
     "output_type": "stream",
     "text": [
      "A\n",
      "m\n",
      "a\n",
      "r\n",
      "i\n",
      "l\n",
      "l\n",
      "o\n",
      "R\n",
      "o\n",
      "j\n",
      "o\n",
      "V\n",
      "e\n",
      "r\n",
      "d\n",
      "e\n",
      "A\n",
      "z\n",
      "u\n",
      "l\n"
     ]
    }
   ],
   "source": []
  },
  {
   "cell_type": "markdown",
   "metadata": {},
   "source": [
    "#### Ejercicio 11"
   ]
  },
  {
   "cell_type": "markdown",
   "metadata": {},
   "source": [
    "- Imprimir el índice y valor de cada elemento de la lista: [-5,-4,-3,-2,-1,0,1,2,3,4,5] utilizando un bucle **for**"
   ]
  },
  {
   "cell_type": "code",
   "execution_count": 16,
   "metadata": {},
   "outputs": [
    {
     "name": "stdout",
     "output_type": "stream",
     "text": [
      "El indice es 0\n",
      "El valoe es -5\n",
      "El indice es 1\n",
      "El valoe es -4\n",
      "El indice es 2\n",
      "El valoe es -3\n",
      "El indice es 3\n",
      "El valoe es -2\n",
      "El indice es 4\n",
      "El valoe es -1\n",
      "El indice es 5\n",
      "El valoe es 0\n",
      "El indice es 6\n",
      "El valoe es 1\n",
      "El indice es 7\n",
      "El valoe es 2\n",
      "El indice es 8\n",
      "El valoe es 3\n",
      "El indice es 9\n",
      "El valoe es 4\n",
      "El indice es 10\n",
      "El valoe es 5\n"
     ]
    }
   ],
   "source": [
    "lista=[-5,-4,-3,-2,-1,0,1,2,3,4,5]\n",
    "for i,p in enumerate (lista):\n",
    "    print(\"El indice es\",i)\n",
    "    print(\"El valoe es\",p)"
   ]
  },
  {
   "cell_type": "code",
   "execution_count": null,
   "metadata": {},
   "outputs": [],
   "source": []
  },
  {
   "cell_type": "code",
   "execution_count": 29,
   "metadata": {},
   "outputs": [
    {
     "name": "stdout",
     "output_type": "stream",
     "text": [
      "El indice es:  0\n",
      "El valor es:  -5\n",
      "***************\n",
      "El indice es:  1\n",
      "El valor es:  -4\n",
      "***************\n",
      "El indice es:  2\n",
      "El valor es:  -3\n",
      "***************\n",
      "El indice es:  3\n",
      "El valor es:  -2\n",
      "***************\n",
      "El indice es:  4\n",
      "El valor es:  -1\n",
      "***************\n",
      "El indice es:  5\n",
      "El valor es:  0\n",
      "***************\n",
      "El indice es:  6\n",
      "El valor es:  1\n",
      "***************\n",
      "El indice es:  7\n",
      "El valor es:  2\n",
      "***************\n",
      "El indice es:  8\n",
      "El valor es:  3\n",
      "***************\n",
      "El indice es:  9\n",
      "El valor es:  4\n",
      "***************\n",
      "El indice es:  10\n",
      "El valor es:  5\n",
      "***************\n"
     ]
    }
   ],
   "source": []
  },
  {
   "cell_type": "markdown",
   "metadata": {},
   "source": [
    "#### Ejercicio 12"
   ]
  },
  {
   "cell_type": "markdown",
   "metadata": {},
   "source": [
    "- Crea un bucle **while** donde le pregunte al usuario un número y si ese número es impar el programa se detiene"
   ]
  },
  {
   "cell_type": "code",
   "execution_count": 18,
   "metadata": {},
   "outputs": [
    {
     "name": "stdout",
     "output_type": "stream",
     "text": [
      "Ingrese un numero: 2\n",
      "2\n",
      "Ingrese un numero: 7\n"
     ]
    }
   ],
   "source": [
    "\n",
    "while True:\n",
    "    numero=int(input(\"Ingrese un numero: \"))\n",
    "    if numero%2==0:\n",
    "        print(numero)\n",
    "    else:\n",
    "        break"
   ]
  },
  {
   "cell_type": "code",
   "execution_count": null,
   "metadata": {},
   "outputs": [],
   "source": []
  },
  {
   "cell_type": "markdown",
   "metadata": {},
   "source": [
    "#### Ejercicio 13"
   ]
  },
  {
   "cell_type": "markdown",
   "metadata": {},
   "source": [
    "- Crea un programa que cuenta las letras que contiene una frase"
   ]
  },
  {
   "cell_type": "code",
   "execution_count": 27,
   "metadata": {},
   "outputs": [
    {
     "name": "stdout",
     "output_type": "stream",
     "text": [
      "10\n"
     ]
    }
   ],
   "source": [
    "frase=\"hola que tal\"\n",
    "frase=frase.replace(\" \",\"\")\n",
    "counter=0\n",
    "for i in frase:\n",
    "    counter+=1\n",
    "print(counter)"
   ]
  },
  {
   "cell_type": "code",
   "execution_count": 36,
   "metadata": {},
   "outputs": [
    {
     "name": "stdout",
     "output_type": "stream",
     "text": [
      "La letra  h aparece 1  veces\n",
      "La letra  o aparece 1  veces\n",
      "La letra  l aparece 2  veces\n",
      "La letra  a aparece 2  veces\n",
      "La letra  q aparece 1  veces\n",
      "La letra  u aparece 1  veces\n",
      "La letra  e aparece 1  veces\n",
      "La letra  t aparece 1  veces\n",
      "La letra  a aparece 2  veces\n",
      "La letra  l aparece 2  veces\n"
     ]
    }
   ],
   "source": [
    "frase=\"hola que tal\"\n",
    "frase=frase.replace(\" \",\"\")\n",
    "lista=[]\n",
    "for i in frase:\n",
    "    lista.append(i)\n",
    "for i in lista:\n",
    "    a=lista.count(i)\n",
    "    print(\"La letra \",i,\"aparece\",a,\" veces\")"
   ]
  },
  {
   "cell_type": "code",
   "execution_count": null,
   "metadata": {},
   "outputs": [],
   "source": []
  },
  {
   "cell_type": "code",
   "execution_count": null,
   "metadata": {},
   "outputs": [],
   "source": []
  },
  {
   "cell_type": "code",
   "execution_count": null,
   "metadata": {},
   "outputs": [],
   "source": []
  },
  {
   "cell_type": "code",
   "execution_count": null,
   "metadata": {},
   "outputs": [],
   "source": []
  },
  {
   "cell_type": "code",
   "execution_count": null,
   "metadata": {},
   "outputs": [],
   "source": []
  },
  {
   "cell_type": "code",
   "execution_count": null,
   "metadata": {},
   "outputs": [],
   "source": []
  },
  {
   "cell_type": "code",
   "execution_count": null,
   "metadata": {},
   "outputs": [],
   "source": []
  }
 ],
 "metadata": {
  "kernelspec": {
   "display_name": "Python 3",
   "language": "python",
   "name": "python3"
  },
  "language_info": {
   "codemirror_mode": {
    "name": "ipython",
    "version": 3
   },
   "file_extension": ".py",
   "mimetype": "text/x-python",
   "name": "python",
   "nbconvert_exporter": "python",
   "pygments_lexer": "ipython3",
   "version": "3.7.4"
  }
 },
 "nbformat": 4,
 "nbformat_minor": 2
}
