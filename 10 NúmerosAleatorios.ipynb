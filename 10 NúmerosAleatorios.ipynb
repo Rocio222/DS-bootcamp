{
 "cells": [
  {
   "cell_type": "markdown",
   "metadata": {},
   "source": [
    "# Números aleatorios"
   ]
  },
  {
   "cell_type": "code",
   "execution_count": 2,
   "metadata": {},
   "outputs": [],
   "source": [
    "import random\n",
    "import math"
   ]
  },
  {
   "cell_type": "markdown",
   "metadata": {},
   "source": [
    "### Ejercicio 1\n",
    "#### Genera 10 números aleatorios que sean iguales "
   ]
  },
  {
   "cell_type": "code",
   "execution_count": 3,
   "metadata": {},
   "outputs": [
    {
     "name": "stdout",
     "output_type": "stream",
     "text": [
      "0.6229016948897019\n",
      "0.6229016948897019\n",
      "0.6229016948897019\n",
      "0.6229016948897019\n",
      "0.6229016948897019\n",
      "0.6229016948897019\n",
      "0.6229016948897019\n",
      "0.6229016948897019\n",
      "0.6229016948897019\n",
      "0.6229016948897019\n"
     ]
    }
   ],
   "source": [
    "for i in range(10):\n",
    "    random.seed(5)\n",
    "    print(random.random())"
   ]
  },
  {
   "cell_type": "markdown",
   "metadata": {},
   "source": [
    "### Ejercicio 2\n",
    "#### Genera 10 números aleatorios utilizando diferente semilla "
   ]
  },
  {
   "cell_type": "code",
   "execution_count": 3,
   "metadata": {},
   "outputs": [
    {
     "name": "stdout",
     "output_type": "stream",
     "text": [
      "0.8444218515250481\n",
      "0.13436424411240122\n",
      "0.9560342718892494\n",
      "0.23796462709189137\n",
      "0.23604808973743452\n",
      "0.6229016948897019\n",
      "0.793340083761663\n",
      "0.32383276483316237\n",
      "0.2267058593810488\n",
      "0.46300735781502145\n"
     ]
    }
   ],
   "source": [
    "for i in range(10):\n",
    "    random.seed(i)\n",
    "    print(random.random())"
   ]
  },
  {
   "cell_type": "markdown",
   "metadata": {},
   "source": [
    "### Ejercicio 3\n",
    "#### Genera 10 números enteros aleatorios utilizando la función random.random(), los números deben de estar dentro del rango de 0 a 10 \n",
    "\n",
    "- SOLO PUEDES UTILIZAR LA FUNCIÓN: random.random()"
   ]
  },
  {
   "cell_type": "code",
   "execution_count": 4,
   "metadata": {},
   "outputs": [
    {
     "name": "stdout",
     "output_type": "stream",
     "text": [
      "3\n",
      "1\n",
      "8\n",
      "0\n",
      "5\n",
      "8\n",
      "0\n",
      "5\n",
      "6\n",
      "0\n"
     ]
    }
   ],
   "source": [
    "for i in range(10):\n",
    "    numero=math.floor(random.random()*10)\n",
    "    print(numero)"
   ]
  },
  {
   "cell_type": "markdown",
   "metadata": {},
   "source": [
    "### Ejercicio 4\n",
    "#### Genera 15 números enteros aleatorios del 20 al 25 utilizando la función random.random()"
   ]
  },
  {
   "cell_type": "code",
   "execution_count": 24,
   "metadata": {},
   "outputs": [
    {
     "name": "stdout",
     "output_type": "stream",
     "text": [
      "20\n",
      "21\n",
      "22\n",
      "23\n",
      "25\n",
      "25\n",
      "20\n",
      "21\n",
      "23\n",
      "23\n",
      "25\n",
      "26\n",
      "21\n",
      "21\n",
      "23\n",
      "24\n",
      "24\n",
      "25\n"
     ]
    }
   ],
   "source": [
    "a=[20,21,22,23,24,25,20,21,22,23,24,25,20,21,22,23,24,25,]\n",
    "for i in a:\n",
    "    numero=round(random.random())\n",
    "    if numero==0:\n",
    "        numero=numero+i\n",
    "        print(numero)\n",
    "    else:\n",
    "        numero=numero+i\n",
    "        print(numero)   \n",
    "    "
   ]
  },
  {
   "cell_type": "code",
   "execution_count": 8,
   "metadata": {},
   "outputs": [
    {
     "name": "stdout",
     "output_type": "stream",
     "text": [
      "23\n",
      "22\n",
      "23\n",
      "20\n",
      "21\n",
      "20\n",
      "22\n",
      "24\n",
      "22\n",
      "23\n",
      "21\n",
      "23\n",
      "20\n",
      "21\n",
      "23\n"
     ]
    }
   ],
   "source": [
    "for i in range(15):\n",
    "    print(math.floor(random.random()*5)+20)"
   ]
  },
  {
   "cell_type": "markdown",
   "metadata": {},
   "source": [
    "### Ejercicio 5\n",
    "#### Genera 15 números aleatorios entre -17 y -10, deben de tener decimales. Solo utilizando la función random.random()"
   ]
  },
  {
   "cell_type": "code",
   "execution_count": 61,
   "metadata": {},
   "outputs": [
    {
     "name": "stdout",
     "output_type": "stream",
     "text": [
      "-16.19018642184085\n",
      "-15.235958294788233\n",
      "-14.045253650578863\n",
      "-13.67330175734874\n",
      "-12.952345969843611\n",
      "-11.307717214686742\n",
      "-10.949861950900027\n",
      "-9.434820775941265\n",
      "-16.140263647324055\n",
      "-15.602971760000578\n",
      "-14.398841160250024\n",
      "-13.82856983860795\n",
      "-12.842264293749519\n",
      "-11.393944928129596\n",
      "-10.135516834665815\n",
      "-9.00016203400286\n",
      "-8.968861269035104\n"
     ]
    }
   ],
   "source": [
    "a=[-17,-16,-15,-14,-13,-12,-11,-10,-17,-16,-15,-14,-13,-12,-11,-10,-9]\n",
    "for i in a:\n",
    "    numero=random.random()\n",
    "    if numero==0:\n",
    "        numero=numero+i\n",
    "        print(numero)\n",
    "    else:\n",
    "        numero=numero+i\n",
    "        print(numero)   "
   ]
  },
  {
   "cell_type": "code",
   "execution_count": 20,
   "metadata": {},
   "outputs": [
    {
     "name": "stdout",
     "output_type": "stream",
     "text": [
      "-16.616474507222406\n",
      "-14.348285183901748\n",
      "-13.558017842665317\n",
      "-16.83561788754811\n",
      "-14.026922537731863\n",
      "-10.65512561831533\n",
      "-16.215676100938857\n",
      "-12.822080507672412\n",
      "-16.151372914384737\n",
      "-12.949097913625149\n",
      "-10.73287585403491\n",
      "-15.57862764364841\n",
      "-16.94223207796122\n",
      "-16.415474817661316\n",
      "-13.22161391806899\n",
      "-16.8777461014269\n",
      "-16.406144067564256\n",
      "-13.522808456695724\n",
      "-10.55351576665619\n",
      "-14.059248026596448\n",
      "-14.213056248835091\n",
      "-12.528977235002191\n",
      "-16.346075408861537\n",
      "-12.941398933399466\n",
      "-15.792113650008975\n",
      "-12.737781561632106\n",
      "-10.291718644735212\n",
      "-16.620787576660803\n",
      "-13.114574962984213\n",
      "-12.755334265798972\n"
     ]
    }
   ],
   "source": [
    "for i in range(30):\n",
    "    print((random.random()*7)-17)\n",
    "    "
   ]
  },
  {
   "cell_type": "code",
   "execution_count": null,
   "metadata": {},
   "outputs": [],
   "source": []
  },
  {
   "cell_type": "code",
   "execution_count": null,
   "metadata": {},
   "outputs": [],
   "source": []
  },
  {
   "cell_type": "markdown",
   "metadata": {},
   "source": [
    "### Ejercicio 6\n",
    "#### Utilizando el método choice() y elige dos elementos de la siguiente lista. \n",
    "#### Después invierte su posición dentro de la lista. \n",
    "\n",
    "lista = [\"a\",\"b\",\"c\",\"d\",\"e\",\"f\",\"g\"]"
   ]
  },
  {
   "cell_type": "code",
   "execution_count": 66,
   "metadata": {},
   "outputs": [
    {
     "data": {
      "text/plain": [
       "['d', 'b', 'c', 'a', 'e', 'f', 'g']"
      ]
     },
     "execution_count": 66,
     "metadata": {},
     "output_type": "execute_result"
    }
   ],
   "source": [
    "lista = [\"a\",\"b\",\"c\",\"d\",\"e\",\"f\",\"g\"]\n",
    "letra1=random.choice(lista)\n",
    "letra2=random.choice(lista)\n",
    "posicion1=0\n",
    "posicion2=0\n",
    "elem1=\"\"\n",
    "elem2=\"\"\n",
    "\n",
    "for i,j in enumerate(lista):\n",
    "    if letra1==lista[i]:\n",
    "        posicion1+=i\n",
    "        elem1=j\n",
    "\n",
    "    if letra2==lista[i]:\n",
    "            posicion2+=i\n",
    "            elem2=j\n",
    "lista[posicion1]=elem2\n",
    "lista[posicion2]=elem1\n",
    "lista\n",
    "\n",
    "    "
   ]
  },
  {
   "cell_type": "code",
   "execution_count": null,
   "metadata": {},
   "outputs": [],
   "source": []
  },
  {
   "cell_type": "code",
   "execution_count": 63,
   "metadata": {},
   "outputs": [
    {
     "name": "stdout",
     "output_type": "stream",
     "text": [
      "['f', 'd']\n"
     ]
    },
    {
     "data": {
      "text/plain": [
       "['a', 'b', 'c', 'f', 'e', 'd', 'g']"
      ]
     },
     "execution_count": 63,
     "metadata": {},
     "output_type": "execute_result"
    }
   ],
   "source": [
    "lista = [\"a\",\"b\",\"c\",\"d\",\"e\",\"f\",\"g\"]\n",
    "l2=[]\n",
    "elm1=''\n",
    "elm2=''\n",
    "while elm1==elm2:\n",
    "    elm1=random.choice(lista)\n",
    "    elm2=random.choice(lista)\n",
    "l2+=[elm1,elm2]\n",
    "l3=[lista.index(l2[0]),lista.index(l2[1])]\n",
    "print(l2)\n",
    "lista[l3[0]],lista[l3[1]]=lista[l3[1]],lista[l3[0]]\n",
    "lista"
   ]
  },
  {
   "cell_type": "markdown",
   "metadata": {},
   "source": [
    "### Ejercicio 7\n",
    "##### Dado el siguiente diccionario: \n",
    "\n",
    "{'Angel': 'Andrea', 'Beto': 'Berenice', 'Cris': 'Cristina', 'Daniel': 'Daniela', 'Edu': 'Elena', 'Fer': 'Fabiola', 'Gabriel': 'Gabriela', 'Homero': 'Hada', 'Ivan': 'Ivana'}\n",
    "\n",
    "\n",
    "1. Utiliza el método sample() para generar una lista de nombres de hombres. La lista puede variar entre 2 y 3 elementos\n",
    "2. Mezcla la lista hasta que todos los elementos tengan una posición diferente a la lista inicial \n",
    "3. Asignar esos elementos mezclados a su nueva pareja. \n",
    "\n",
    "\n",
    "- Ejemplo: Si Angel y Daniel son seleccionados, entonces Daniel debe de ocupar el lugar de Angel y Angel el lugar de Daniel. \n",
    "\n"
   ]
  },
  {
   "cell_type": "code",
   "execution_count": 1,
   "metadata": {},
   "outputs": [],
   "source": [
    "diccionario={'Angel': 'Andrea', 'Beto': 'Berenice', 'Cris': 'Cristina', 'Daniel': 'Daniela', 'Edu': 'Elena', 'Fer': 'Fabiola', 'Gabriel': 'Gabriela', 'Homero': 'Hada', 'Ivan': 'Ivana'}"
   ]
  },
  {
   "cell_type": "code",
   "execution_count": 6,
   "metadata": {},
   "outputs": [
    {
     "name": "stdout",
     "output_type": "stream",
     "text": [
      "{'Angel': 'Cristina', 'Beto': 'Berenice', 'Cris': 'Andrea', 'Daniel': 'Daniela', 'Edu': 'Gabriela', 'Fer': 'Fabiola', 'Gabriel': 'Ivana', 'Homero': 'Hada', 'Ivan': 'Elena'}\n"
     ]
    }
   ],
   "source": [
    "import random\n",
    "k=random.randint(2,3)\n",
    "hombres=list(diccionario.keys())\n",
    "mujeres=list(diccionario.values())\n",
    "\n",
    "hombres_random=random.sample(hombres,k)\n",
    "if k==2:\n",
    "    hombre_random1=hombres_random[0]\n",
    "    hombre_random2=hombres_random[1]\n",
    "    \n",
    "\n",
    "    pareja_random1=diccionario[hombre_random1]\n",
    "    pareja_random2=diccionario[hombre_random2]\n",
    "    \n",
    "\n",
    "    diccionario[hombre_random1]=pareja_random2\n",
    "    diccionario[hombre_random2]=pareja_random1\n",
    "    print(diccionario)\n",
    "else:\n",
    "    hombre_random1=hombres_random[0]\n",
    "    hombre_random2=hombres_random[1]\n",
    "    hombre_random3=hombres_random[2]\n",
    "    \n",
    "    pareja_random1=diccionario[hombre_random1]\n",
    "    pareja_random2=diccionario[hombre_random2]\n",
    "    pareja_random3=diccionario[hombre_random3]\n",
    "    \n",
    "    diccionario[hombre_random1]=pareja_random3\n",
    "    diccionario[hombre_random2]=pareja_random1\n",
    "    diccionario[hombre_random3]=pareja_random2\n",
    "    print(diccionario)\n",
    "    "
   ]
  },
  {
   "cell_type": "code",
   "execution_count": null,
   "metadata": {},
   "outputs": [],
   "source": []
  },
  {
   "cell_type": "code",
   "execution_count": null,
   "metadata": {},
   "outputs": [],
   "source": []
  },
  {
   "cell_type": "code",
   "execution_count": null,
   "metadata": {},
   "outputs": [],
   "source": []
  },
  {
   "cell_type": "code",
   "execution_count": null,
   "metadata": {},
   "outputs": [],
   "source": []
  },
  {
   "cell_type": "code",
   "execution_count": null,
   "metadata": {},
   "outputs": [],
   "source": []
  },
  {
   "cell_type": "code",
   "execution_count": 10,
   "metadata": {},
   "outputs": [],
   "source": [
    "diccionario={'Angel': 'Andrea', 'Beto': 'Berenice', 'Cris': 'Cristina', 'Daniel': 'Daniela', 'Edu': 'Elena', 'Fer': 'Fabiola', 'Gabriel': 'Gabriela', 'Homero': 'Hada', 'Ivan': 'Ivana'}"
   ]
  },
  {
   "cell_type": "code",
   "execution_count": 18,
   "metadata": {},
   "outputs": [
    {
     "name": "stdout",
     "output_type": "stream",
     "text": [
      "Daniel\n",
      "Angel\n"
     ]
    }
   ],
   "source": [
    "k=random.randint(2,3)\n",
    "hombres=list(diccionario.keys())\n",
    "mujeres=list(diccionario.values())\n",
    "hombres_random=random.sample(hombres,k)\n",
    "mujeres_random=random.sample(hombres,k)\n",
    "\n",
    "for i in hombres_random:\n",
    "    print(i)"
   ]
  },
  {
   "cell_type": "code",
   "execution_count": 19,
   "metadata": {},
   "outputs": [
    {
     "name": "stdout",
     "output_type": "stream",
     "text": [
      "['Angel', 'Beto', 'Cris', 'Daniel', 'Edu', 'Fer', 'Gabriel', 'Homero', 'Ivan']\n"
     ]
    }
   ],
   "source": [
    "print(hombres)"
   ]
  },
  {
   "cell_type": "code",
   "execution_count": null,
   "metadata": {},
   "outputs": [],
   "source": []
  },
  {
   "cell_type": "code",
   "execution_count": null,
   "metadata": {},
   "outputs": [],
   "source": []
  },
  {
   "cell_type": "code",
   "execution_count": null,
   "metadata": {},
   "outputs": [],
   "source": []
  },
  {
   "cell_type": "code",
   "execution_count": null,
   "metadata": {},
   "outputs": [],
   "source": []
  },
  {
   "cell_type": "code",
   "execution_count": null,
   "metadata": {},
   "outputs": [],
   "source": []
  },
  {
   "cell_type": "code",
   "execution_count": null,
   "metadata": {},
   "outputs": [],
   "source": []
  },
  {
   "cell_type": "code",
   "execution_count": null,
   "metadata": {},
   "outputs": [],
   "source": []
  },
  {
   "cell_type": "code",
   "execution_count": null,
   "metadata": {},
   "outputs": [],
   "source": []
  }
 ],
 "metadata": {
  "kernelspec": {
   "display_name": "Python 3",
   "language": "python",
   "name": "python3"
  },
  "language_info": {
   "codemirror_mode": {
    "name": "ipython",
    "version": 3
   },
   "file_extension": ".py",
   "mimetype": "text/x-python",
   "name": "python",
   "nbconvert_exporter": "python",
   "pygments_lexer": "ipython3",
   "version": "3.7.4"
  }
 },
 "nbformat": 4,
 "nbformat_minor": 2
}
