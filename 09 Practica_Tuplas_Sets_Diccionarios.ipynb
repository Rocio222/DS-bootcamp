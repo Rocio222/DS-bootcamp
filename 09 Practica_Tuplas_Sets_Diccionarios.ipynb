{
 "cells": [
  {
   "cell_type": "markdown",
   "metadata": {},
   "source": [
    "### Practica Tuplas, Sets y Diccionarios"
   ]
  },
  {
   "cell_type": "code",
   "execution_count": 1,
   "metadata": {},
   "outputs": [],
   "source": [
    "#Importamos la librería random y utilizamos la función randint\n",
    "import random\n",
    "random.randint(1,10)\n",
    "import numpy as np"
   ]
  },
  {
   "cell_type": "markdown",
   "metadata": {},
   "source": [
    "### Tuplas"
   ]
  },
  {
   "cell_type": "markdown",
   "metadata": {},
   "source": [
    "#### Ejercicio 1"
   ]
  },
  {
   "cell_type": "markdown",
   "metadata": {},
   "source": [
    "- Crear una tupla utilizando la función range(), del número 11 al 20. Ejemplo: tupla = tuple(range(3))."
   ]
  },
  {
   "cell_type": "code",
   "execution_count": 23,
   "metadata": {},
   "outputs": [
    {
     "data": {
      "text/plain": [
       "(11, 12, 13, 14, 15, 16, 17, 18, 19, 20)"
      ]
     },
     "execution_count": 23,
     "metadata": {},
     "output_type": "execute_result"
    }
   ],
   "source": [
    "tupla=tuple(range(11,21))\n",
    "tupla"
   ]
  },
  {
   "cell_type": "code",
   "execution_count": null,
   "metadata": {},
   "outputs": [],
   "source": []
  },
  {
   "cell_type": "markdown",
   "metadata": {},
   "source": [
    "- Utiliza la tupla anterior para convertirla a lista utilizando una lista vacia y llenandola con un bucle."
   ]
  },
  {
   "cell_type": "code",
   "execution_count": 24,
   "metadata": {},
   "outputs": [
    {
     "data": {
      "text/plain": [
       "[11, 12, 13, 14, 15, 16, 17, 18, 19, 20]"
      ]
     },
     "execution_count": 24,
     "metadata": {},
     "output_type": "execute_result"
    }
   ],
   "source": [
    "lista=[]\n",
    "for i in tupla:\n",
    "    lista.append(i)\n",
    "lista"
   ]
  },
  {
   "cell_type": "code",
   "execution_count": null,
   "metadata": {},
   "outputs": [],
   "source": []
  },
  {
   "cell_type": "markdown",
   "metadata": {},
   "source": [
    "- Ordena de mayor a menor la lista anterior."
   ]
  },
  {
   "cell_type": "code",
   "execution_count": 25,
   "metadata": {},
   "outputs": [
    {
     "data": {
      "text/plain": [
       "[20, 19, 18, 17, 16, 15, 14, 13, 12, 11]"
      ]
     },
     "execution_count": 25,
     "metadata": {},
     "output_type": "execute_result"
    }
   ],
   "source": [
    "lista.sort(reverse=True)\n",
    "lista"
   ]
  },
  {
   "cell_type": "code",
   "execution_count": null,
   "metadata": {},
   "outputs": [],
   "source": []
  },
  {
   "cell_type": "markdown",
   "metadata": {},
   "source": [
    "- Convierte la lista anterior a tupla y ordenala de menor a mayor."
   ]
  },
  {
   "cell_type": "code",
   "execution_count": 26,
   "metadata": {},
   "outputs": [
    {
     "data": {
      "text/plain": [
       "[11, 12, 13, 14, 15, 16, 17, 18, 19, 20]"
      ]
     },
     "execution_count": 26,
     "metadata": {},
     "output_type": "execute_result"
    }
   ],
   "source": [
    "tupla=tuple(lista)\n",
    "sorted(tupla)"
   ]
  },
  {
   "cell_type": "markdown",
   "metadata": {},
   "source": [
    "- ¿Qué tipo de dato es el rusultado de ordenar la tupla anterior?"
   ]
  },
  {
   "cell_type": "code",
   "execution_count": 27,
   "metadata": {},
   "outputs": [
    {
     "data": {
      "text/plain": [
       "tuple"
      ]
     },
     "execution_count": 27,
     "metadata": {},
     "output_type": "execute_result"
    }
   ],
   "source": [
    "type(tupla)"
   ]
  },
  {
   "cell_type": "markdown",
   "metadata": {},
   "source": [
    "#### Ejercicio 2"
   ]
  },
  {
   "cell_type": "markdown",
   "metadata": {},
   "source": [
    "- Dada la siguiente frase = \"Había una vez en una galaxia lejana\", conviertela en tupla, ordenala y manten la tupla (Que no sea una lista)."
   ]
  },
  {
   "cell_type": "code",
   "execution_count": 112,
   "metadata": {},
   "outputs": [
    {
     "data": {
      "text/plain": [
       "('Había', 'en', 'galaxia', 'lejana', 'una', 'una', 'vez')"
      ]
     },
     "execution_count": 112,
     "metadata": {},
     "output_type": "execute_result"
    }
   ],
   "source": [
    "frase=\"Había una vez en una galaxia lejana\"\n",
    "frase=frase.split(\" \")\n",
    "frase=sorted(frase)\n",
    "tupla=tuple(frase)\n",
    "tupla"
   ]
  },
  {
   "cell_type": "code",
   "execution_count": null,
   "metadata": {},
   "outputs": [],
   "source": []
  },
  {
   "cell_type": "markdown",
   "metadata": {},
   "source": [
    "- Del resultado anterior, muestra cuantas veces aparece cada vocal, utlizando un bucle for que recorra la siguiente tupla: (\"a\",\"e\",\"i\",\"o\",\"u\")."
   ]
  },
  {
   "cell_type": "code",
   "execution_count": 138,
   "metadata": {},
   "outputs": [
    {
     "name": "stdout",
     "output_type": "stream",
     "text": [
      "9\n",
      "3\n",
      "1\n",
      "0\n",
      "0\n"
     ]
    }
   ],
   "source": [
    "alist=[]\n",
    "elist=[]\n",
    "ilist=[]\n",
    "olist=[]\n",
    "ulist=[]\n",
    "\n",
    "for i in range(len(tupla)):\n",
    "    a=tupla[i].count(\"a\")\n",
    "    alist.append(a)\n",
    "    \n",
    "    e=tupla[i].count(\"e\")\n",
    "    elist.append(e)\n",
    "    \n",
    "    i=tupla[i].count(\"i\")\n",
    "    ilist.append(i)\n",
    "    \n",
    "    o=tupla[i].count(\"o\")\n",
    "    olist.append(o)\n",
    "    \n",
    "    u= tupla[i].count(\"u\")\n",
    "    ulist.append(u)\n",
    "print(np.sum(alist))\n",
    "print(np.sum(elist))\n",
    "print(np.sum(ilist))\n",
    "print(np.sum(olist))\n",
    "print(np.sum(ulist))"
   ]
  },
  {
   "cell_type": "code",
   "execution_count": null,
   "metadata": {},
   "outputs": [],
   "source": [
    "tu"
   ]
  },
  {
   "cell_type": "code",
   "execution_count": 8,
   "metadata": {},
   "outputs": [
    {
     "name": "stdout",
     "output_type": "stream",
     "text": [
      "9\n",
      "3\n",
      "1\n",
      "0\n",
      "2\n"
     ]
    }
   ],
   "source": []
  },
  {
   "cell_type": "markdown",
   "metadata": {},
   "source": [
    "#### Ejercicio 3 "
   ]
  },
  {
   "cell_type": "markdown",
   "metadata": {},
   "source": [
    "- Dada la siguiente tupla: (9,8,7,5,\"a\",3,6,5), encuentra la forma para eliminar la letra \"a\"."
   ]
  },
  {
   "cell_type": "code",
   "execution_count": 28,
   "metadata": {},
   "outputs": [
    {
     "data": {
      "text/plain": [
       "(9, 8, 7, 5, 3, 6, 5)"
      ]
     },
     "execution_count": 28,
     "metadata": {},
     "output_type": "execute_result"
    }
   ],
   "source": [
    "tupla= (9,8,7,5,\"a\",3,6,5)\n",
    "lista=list(tupla)\n",
    "lista.remove(\"a\")\n",
    "tupla=tuple(lista)\n",
    "tupla"
   ]
  },
  {
   "cell_type": "code",
   "execution_count": 9,
   "metadata": {},
   "outputs": [
    {
     "data": {
      "text/plain": [
       "(9, 8, 7, 5, 3, 6, 5)"
      ]
     },
     "execution_count": 9,
     "metadata": {},
     "output_type": "execute_result"
    }
   ],
   "source": []
  },
  {
   "cell_type": "markdown",
   "metadata": {},
   "source": [
    "#### Ejercicio 4"
   ]
  },
  {
   "cell_type": "markdown",
   "metadata": {},
   "source": [
    "- Pregunta a un usuario que ingrese 5 elementos diferentes y convierte estos elementos a una tupla, puede ser una palabra o un número."
   ]
  },
  {
   "cell_type": "code",
   "execution_count": 139,
   "metadata": {},
   "outputs": [
    {
     "name": "stdout",
     "output_type": "stream",
     "text": [
      "Introduce una palabra o numerou\n",
      "Introduce una palabra o numeroo\n",
      "Introduce una palabra o numero7\n",
      "Introduce una palabra o numero9\n",
      "Introduce una palabra o numerok\n"
     ]
    },
    {
     "data": {
      "text/plain": [
       "('u', 'o', '7', '9', 'k')"
      ]
     },
     "execution_count": 139,
     "metadata": {},
     "output_type": "execute_result"
    }
   ],
   "source": [
    "lista=[]\n",
    "for i in range (5):\n",
    "    elem=input(\"Introduce una palabra o numero: \")\n",
    "    lista.append(elem)\n",
    "tupla=tuple(lista)\n",
    "tupla"
   ]
  },
  {
   "cell_type": "markdown",
   "metadata": {},
   "source": [
    "#### Ejercicio 5 "
   ]
  },
  {
   "cell_type": "markdown",
   "metadata": {},
   "source": [
    "- Dada la siguiente lista de tuplas: [(10, 20, 40), (40, 50, 60), (70, 80, 90)], elimina el último elemento de cada tupla dentro de la lista.\n"
   ]
  },
  {
   "cell_type": "code",
   "execution_count": 142,
   "metadata": {},
   "outputs": [],
   "source": [
    "lista=[(10, 20, 40), (40, 50, 60), (70, 80, 90)]\n"
   ]
  },
  {
   "cell_type": "code",
   "execution_count": 158,
   "metadata": {},
   "outputs": [
    {
     "data": {
      "text/plain": [
       "[(10, 20), (40, 50), (70, 80)]"
      ]
     },
     "execution_count": 158,
     "metadata": {},
     "output_type": "execute_result"
    }
   ],
   "source": [
    "lista2=[]\n",
    "for i in range(len(lista)):\n",
    "    sublista=list(lista[i])\n",
    "    sublista.pop()\n",
    "    subtupla=tuple(sublista)\n",
    "    lista2.append(subtupla)\n",
    "lista2"
   ]
  },
  {
   "cell_type": "code",
   "execution_count": 12,
   "metadata": {},
   "outputs": [
    {
     "data": {
      "text/plain": [
       "[(10, 20), (40, 50), (70, 80)]"
      ]
     },
     "execution_count": 12,
     "metadata": {},
     "output_type": "execute_result"
    }
   ],
   "source": []
  },
  {
   "cell_type": "markdown",
   "metadata": {},
   "source": [
    "________________________________________________________"
   ]
  },
  {
   "cell_type": "markdown",
   "metadata": {},
   "source": [
    "### Sets"
   ]
  },
  {
   "cell_type": "markdown",
   "metadata": {},
   "source": [
    "#### Ejercicio 1"
   ]
  },
  {
   "cell_type": "markdown",
   "metadata": {},
   "source": [
    "- Pide al usuario que ingrese 3 empresas de tecnología, estos elementos agregalos al siguiente set: {\"Facebook\",\"Google\",\"Apple\"}\n",
    "- Verifica que no se repita ninguna empresa y dile al usuario que no se repitio ninguna empresa."
   ]
  },
  {
   "cell_type": "code",
   "execution_count": 169,
   "metadata": {},
   "outputs": [
    {
     "name": "stdout",
     "output_type": "stream",
     "text": [
      "Introduce una empresaGoogle\n",
      "Introduce una empresaii\n",
      "Introduce una empresaoo\n",
      "has elegido la misma empresa varias veces\n",
      "{'Facebook', 'ii', 'oo', 'Apple', 'Google'}\n"
     ]
    }
   ],
   "source": [
    "empresas=[\"Facebook\",\"Google\",\"Apple\"]\n",
    "mi_set={\"Facebook\",\"Google\",\"Apple\"}\n",
    "for empresa in range(3):\n",
    "    empresa=input(\"Introduce una empresa\")\n",
    "    empresas.append(empresa)\n",
    "    mi_set.add(empresa)\n",
    "\n",
    "if len(mi_set)!=(len(empresas)):\n",
    "    print(\"has elegido la misma empresa varias veces\")\n",
    "else:\n",
    "    print(\"No has repetido ninguna empresa\")\n",
    "print(mi_set)"
   ]
  },
  {
   "cell_type": "markdown",
   "metadata": {},
   "source": [
    "- Repite el ejercicio anterior pero ahora imprime las empresas que se repiten en caso de que existiera uno o más que se repitan "
   ]
  },
  {
   "cell_type": "code",
   "execution_count": 171,
   "metadata": {},
   "outputs": [
    {
     "name": "stdout",
     "output_type": "stream",
     "text": [
      "Facebook aparece 1 veces\n",
      "Google aparece 2 veces\n",
      "Apple aparece 1 veces\n",
      "Google aparece 2 veces\n",
      "ii aparece 1 veces\n",
      "oo aparece 1 veces\n"
     ]
    }
   ],
   "source": [
    "for i in empresas:\n",
    "    a=empresas.count(i)\n",
    "    print(i,\"aparece\",a,\"veces\")"
   ]
  },
  {
   "cell_type": "code",
   "execution_count": null,
   "metadata": {},
   "outputs": [],
   "source": []
  },
  {
   "cell_type": "markdown",
   "metadata": {},
   "source": [
    "#### Ejercicio 2"
   ]
  },
  {
   "cell_type": "markdown",
   "metadata": {},
   "source": [
    "- Dado una lista que ingrese el usuario de numeros del 1 al 10, (el número de elementos que va agregar el usuario debe de ser de 1 a 10 utilizando la función randint()) aplica las siguientes operaciones: union, intesección con el siguiente set: (8,5,3,2,1,7)"
   ]
  },
  {
   "cell_type": "code",
   "execution_count": 12,
   "metadata": {},
   "outputs": [
    {
     "name": "stdout",
     "output_type": "stream",
     "text": [
      "Escribe un numero del 1 al 10: 1\n",
      "Escribe un numero del 1 al 10: 2\n",
      "Escribe un numero del 1 al 10: 3\n",
      "Escribe un numero del 1 al 10: 4\n",
      "Escribe un numero del 1 al 10: 6\n",
      "Escribe un numero del 1 al 10: 7\n",
      "Escribe un numero del 1 al 10: 8\n",
      "Escribe un numero del 1 al 10: 910\n",
      "Escribe un numero del 1 al 10: 10\n",
      "\n",
      "\n",
      "Union entre los sets=  {1, 2, 3, 4, 5, 6, 7, 8, 10, 910}\n",
      "Interseccion entre los sets=  {1, 2, 3, 7, 8}\n"
     ]
    }
   ],
   "source": [
    "set1={8,5,3,2,1,7}\n",
    "set2=set()\n",
    "for i in range(1,10):\n",
    "    numero=int(input(\"Escribe un numero del 1 al 10: \"))\n",
    "    set2.add(numero)\n",
    "print(\"\\n\")\n",
    "print(\"Union entre los sets= \",set1.union(set2))\n",
    "print(\"Interseccion entre los sets= \",set1.intersection(set2))\n",
    "    "
   ]
  },
  {
   "cell_type": "code",
   "execution_count": 17,
   "metadata": {},
   "outputs": [
    {
     "data": {
      "text/plain": [
       "{1, 2, 3, 7, 8}"
      ]
     },
     "execution_count": 17,
     "metadata": {},
     "output_type": "execute_result"
    }
   ],
   "source": []
  },
  {
   "cell_type": "markdown",
   "metadata": {},
   "source": [
    "#### Ejercicio 3"
   ]
  },
  {
   "cell_type": "markdown",
   "metadata": {},
   "source": [
    "- Utilizando un bucle **for** haz la función intersección de los sets entre dos listas. (Se deben de utilizar 2 bucles for)"
   ]
  },
  {
   "cell_type": "code",
   "execution_count": 13,
   "metadata": {},
   "outputs": [
    {
     "data": {
      "text/plain": [
       "{1, 2, 4, 5, 6}"
      ]
     },
     "execution_count": 13,
     "metadata": {},
     "output_type": "execute_result"
    }
   ],
   "source": [
    "lista1=[1,2,3,4,5,5,6]\n",
    "lista2=[2,4,6,5,1,2,6]\n",
    "lista_inter=[]\n",
    "for i in lista2:\n",
    "    if i in lista1:\n",
    "        lista_inter.append(i)\n",
    "lista_inter\n",
    "mi_set=set(lista_inter)\n",
    "mi_set"
   ]
  },
  {
   "cell_type": "code",
   "execution_count": 18,
   "metadata": {},
   "outputs": [
    {
     "data": {
      "text/plain": [
       "[4, 5]"
      ]
     },
     "execution_count": 18,
     "metadata": {},
     "output_type": "execute_result"
    }
   ],
   "source": []
  },
  {
   "cell_type": "markdown",
   "metadata": {},
   "source": [
    "#### Ejercicio 4"
   ]
  },
  {
   "cell_type": "markdown",
   "metadata": {},
   "source": [
    "- Dadas las siguientes frases = \"En una galaxia lejana\" y \"Una galaxia llamadá Via Lactea\", haz la intersección de las palabras"
   ]
  },
  {
   "cell_type": "code",
   "execution_count": 1,
   "metadata": {},
   "outputs": [
    {
     "data": {
      "text/plain": [
       "{'En', 'galaxia', 'lejana', 'una'}"
      ]
     },
     "execution_count": 1,
     "metadata": {},
     "output_type": "execute_result"
    }
   ],
   "source": [
    "frase1=\"En una galaxia lejana\"\n",
    "frase2=\"Una galaxia llamada via lactea\"\n",
    "frase1=frase1.split(\" \")\n",
    "frase2=frase2.split(\" \")\n",
    "set1=set(frase1)\n",
    "set2=set(frase2)\n",
    "set1\n"
   ]
  },
  {
   "cell_type": "code",
   "execution_count": 21,
   "metadata": {},
   "outputs": [
    {
     "data": {
      "text/plain": [
       "{'En', 'galaxia', 'lejana', 'una'}"
      ]
     },
     "execution_count": 21,
     "metadata": {},
     "output_type": "execute_result"
    }
   ],
   "source": []
  },
  {
   "cell_type": "code",
   "execution_count": 22,
   "metadata": {},
   "outputs": [
    {
     "data": {
      "text/plain": [
       "{'Una', 'galaxia', 'lactea', 'llamada', 'via'}"
      ]
     },
     "execution_count": 22,
     "metadata": {},
     "output_type": "execute_result"
    }
   ],
   "source": [
    "set2"
   ]
  },
  {
   "cell_type": "code",
   "execution_count": 23,
   "metadata": {},
   "outputs": [
    {
     "data": {
      "text/plain": [
       "{'galaxia'}"
      ]
     },
     "execution_count": 23,
     "metadata": {},
     "output_type": "execute_result"
    }
   ],
   "source": [
    "set1.intersection(set2)"
   ]
  },
  {
   "cell_type": "code",
   "execution_count": 19,
   "metadata": {},
   "outputs": [
    {
     "data": {
      "text/plain": [
       "{'galaxia'}"
      ]
     },
     "execution_count": 19,
     "metadata": {},
     "output_type": "execute_result"
    }
   ],
   "source": []
  },
  {
   "cell_type": "code",
   "execution_count": null,
   "metadata": {},
   "outputs": [],
   "source": []
  },
  {
   "cell_type": "markdown",
   "metadata": {},
   "source": [
    "#### Ejercicio 5"
   ]
  },
  {
   "cell_type": "markdown",
   "metadata": {},
   "source": [
    "- Utilizanod un bucle **for** encuentra la diferencia entre el set1 = {9,8,7,6,5,4,3,2} y el set2 = {9,8,10} y comprueba el resultado utilizando el método difference()"
   ]
  },
  {
   "cell_type": "code",
   "execution_count": 2,
   "metadata": {},
   "outputs": [
    {
     "data": {
      "text/plain": [
       "{2, 3, 4, 5, 6, 7}"
      ]
     },
     "execution_count": 2,
     "metadata": {},
     "output_type": "execute_result"
    }
   ],
   "source": [
    "set1= {9,8,7,6,5,4,3,2} \n",
    "set2 = {9,8,10}\n",
    "mi_set=set()\n",
    "for i in set1:\n",
    "    if i not in set2:\n",
    "        mi_set.add(i)\n",
    "mi_set"
   ]
  },
  {
   "cell_type": "code",
   "execution_count": 5,
   "metadata": {},
   "outputs": [
    {
     "data": {
      "text/plain": [
       "{2, 3, 4, 5, 6, 7}"
      ]
     },
     "execution_count": 5,
     "metadata": {},
     "output_type": "execute_result"
    }
   ],
   "source": []
  },
  {
   "cell_type": "code",
   "execution_count": 6,
   "metadata": {},
   "outputs": [
    {
     "data": {
      "text/plain": [
       "{2, 3, 4, 5, 6, 7}"
      ]
     },
     "execution_count": 6,
     "metadata": {},
     "output_type": "execute_result"
    }
   ],
   "source": [
    "set1.difference(set2)"
   ]
  },
  {
   "cell_type": "code",
   "execution_count": 20,
   "metadata": {},
   "outputs": [
    {
     "data": {
      "text/plain": [
       "{2, 3, 4, 5, 6, 7}"
      ]
     },
     "execution_count": 20,
     "metadata": {},
     "output_type": "execute_result"
    }
   ],
   "source": []
  },
  {
   "cell_type": "markdown",
   "metadata": {},
   "source": [
    "______________________________________"
   ]
  },
  {
   "cell_type": "markdown",
   "metadata": {},
   "source": [
    "### Diccionarios"
   ]
  },
  {
   "cell_type": "markdown",
   "metadata": {},
   "source": [
    "#### Ejercicio 1"
   ]
  },
  {
   "cell_type": "markdown",
   "metadata": {},
   "source": [
    "- Crea un diccionario de 5 items, preguntando al usuario nombre y edad, los nombres seran las keys y la edad los values."
   ]
  },
  {
   "cell_type": "code",
   "execution_count": 172,
   "metadata": {},
   "outputs": [
    {
     "name": "stdout",
     "output_type": "stream",
     "text": [
      "Ingresa aqui tu nombre: Gael\n",
      "Ingresa aqui tu edad21\n",
      "Ingresa aqui tu nombre: Maria\n",
      "Ingresa aqui tu edad22\n",
      "Ingresa aqui tu nombre: Juan\n",
      "Ingresa aqui tu edad60\n",
      "Ingresa aqui tu nombre: Luis\n",
      "Ingresa aqui tu edad45\n",
      "Ingresa aqui tu nombre: Julia\n",
      "Ingresa aqui tu edad54\n"
     ]
    },
    {
     "data": {
      "text/plain": [
       "{'Gael': 21, 'Maria': 22, 'Juan': 60, 'Luis': 45, 'Julia': 54}"
      ]
     },
     "execution_count": 172,
     "metadata": {},
     "output_type": "execute_result"
    }
   ],
   "source": [
    "diccionario=dict()\n",
    "for i in range(5):\n",
    "    usuario=input(\"Ingresa aqui tu nombre: \")\n",
    "    edad=int(input(\"Ingresa aqui tu edad: \"))\n",
    "    diccionario[usuario]=edad\n",
    "diccionario"
   ]
  },
  {
   "cell_type": "code",
   "execution_count": 22,
   "metadata": {},
   "outputs": [
    {
     "name": "stdout",
     "output_type": "stream",
     "text": [
      "Ingresar nombre: Gael\n",
      "Ingresar edad: 21\n",
      "Ingresar nombre: María\n",
      "Ingresar edad: 22\n",
      "Ingresar nombre: Victor \n",
      "Ingresar edad: 28\n",
      "Ingresar nombre: Sara\n",
      "Ingresar edad: 20\n",
      "Ingresar nombre: Pablo\n",
      "Ingresar edad: 29\n"
     ]
    },
    {
     "data": {
      "text/plain": [
       "{'Gael': 21, 'María': 22, 'Victor ': 28, 'Sara': 20, 'Pablo': 29}"
      ]
     },
     "execution_count": 22,
     "metadata": {},
     "output_type": "execute_result"
    }
   ],
   "source": []
  },
  {
   "cell_type": "markdown",
   "metadata": {},
   "source": [
    "#### Ejercicio 2"
   ]
  },
  {
   "cell_type": "markdown",
   "metadata": {},
   "source": [
    "- Repite el ejercicio anterior pero de la siguiente forma:\n",
    "- Primero agrega en una lista los nombres y en otra lista las edades y después crea el diccionario a partir de las listas. (Utilizar update() y enumerate())"
   ]
  },
  {
   "cell_type": "code",
   "execution_count": 10,
   "metadata": {},
   "outputs": [
    {
     "data": {
      "text/plain": [
       "{'Maria': 22, 'Juan': 31, 'Gael': 40, 'Sara': 35, 'Eva': 56}"
      ]
     },
     "execution_count": 10,
     "metadata": {},
     "output_type": "execute_result"
    }
   ],
   "source": [
    "diccionario=dict()\n",
    "lista1=[\"Maria\",\"Juan\",\"Gael\",\"Sara\",\"Eva\"]\n",
    "lista2=[22,31,40,35,56]\n",
    "for i,j in zip(lista1,lista2):\n",
    "    diccionario.update({i:j})\n",
    "diccionario"
   ]
  },
  {
   "cell_type": "code",
   "execution_count": 24,
   "metadata": {},
   "outputs": [
    {
     "name": "stdout",
     "output_type": "stream",
     "text": [
      "Ingresar nombre: Gael\n",
      "Ingresar edad: 20\n",
      "Ingresar nombre: María\n",
      "Ingresar edad: 29\n",
      "Ingresar nombre: Pablo\n",
      "Ingresar edad: 27\n",
      "Ingresar nombre: Sara\n",
      "Ingresar edad: 25\n",
      "Ingresar nombre: Josue\n",
      "Ingresar edad: 21\n"
     ]
    },
    {
     "data": {
      "text/plain": [
       "{'Gael': 20, 'María': 29, 'Pablo': 27, 'Sara': 25, 'Josue': 21}"
      ]
     },
     "execution_count": 24,
     "metadata": {},
     "output_type": "execute_result"
    }
   ],
   "source": []
  },
  {
   "cell_type": "markdown",
   "metadata": {},
   "source": [
    "#### Ejercicio 3"
   ]
  },
  {
   "cell_type": "markdown",
   "metadata": {},
   "source": [
    "- Pide al usuario que ingrese 3 números distintos y con esos números como keys, crea los values utilizando la siguiente formula: x:x**2, donde x es la llave."
   ]
  },
  {
   "cell_type": "code",
   "execution_count": 32,
   "metadata": {},
   "outputs": [
    {
     "name": "stdout",
     "output_type": "stream",
     "text": [
      "Ingrese un numero5\n",
      "Ingrese un numero6\n",
      "Ingrese un numero7\n"
     ]
    },
    {
     "data": {
      "text/plain": [
       "{5: 25, 6: 36, 7: 49}"
      ]
     },
     "execution_count": 32,
     "metadata": {},
     "output_type": "execute_result"
    }
   ],
   "source": [
    "diccionario=dict()\n",
    "for i in range(3):\n",
    "    num=int(input(\"Ingrese un numero\"))\n",
    "    cuadrado=num**2\n",
    "    diccionario[num]=cuadrado\n",
    "diccionario"
   ]
  },
  {
   "cell_type": "code",
   "execution_count": 25,
   "metadata": {},
   "outputs": [
    {
     "name": "stdout",
     "output_type": "stream",
     "text": [
      "Ingresa un número: 5\n",
      "Ingresa un número: 6\n",
      "Ingresa un número: 7\n"
     ]
    },
    {
     "data": {
      "text/plain": [
       "{5: 25, 6: 36, 7: 49}"
      ]
     },
     "execution_count": 25,
     "metadata": {},
     "output_type": "execute_result"
    }
   ],
   "source": []
  },
  {
   "cell_type": "markdown",
   "metadata": {},
   "source": [
    "#### Ejercicio 4"
   ]
  },
  {
   "cell_type": "markdown",
   "metadata": {},
   "source": [
    "- Pide al usuario que ingrese una frase y agrega las palabras como keys y la frecuencia de cada palabra como value en un diccionario. (ver el ejemplo de la presentación)"
   ]
  },
  {
   "cell_type": "code",
   "execution_count": 45,
   "metadata": {},
   "outputs": [
    {
     "name": "stdout",
     "output_type": "stream",
     "text": [
      "Escribe una frasehola hola 4 4 hello\n"
     ]
    },
    {
     "data": {
      "text/plain": [
       "{'hola': 2, '4': 2, 'hello': 1}"
      ]
     },
     "execution_count": 45,
     "metadata": {},
     "output_type": "execute_result"
    }
   ],
   "source": [
    "frase=input(\"Escribe una frase\")\n",
    "frase=frase.split(\" \")\n",
    "diccionario=dict()\n",
    "for i in frase:\n",
    "    c=frase.count(i)\n",
    "    diccionario[i]=c\n",
    "diccionario"
   ]
  },
  {
   "cell_type": "markdown",
   "metadata": {},
   "source": [
    "#### Ejercicio 5"
   ]
  },
  {
   "cell_type": "markdown",
   "metadata": {},
   "source": [
    "- Crea un programa donde las llaves sean 7 números aleatorios entre el 100 y el 200 y en los valores diga si es par o impar la llave"
   ]
  },
  {
   "cell_type": "code",
   "execution_count": 51,
   "metadata": {},
   "outputs": [
    {
     "data": {
      "text/plain": [
       "{181: 'Impar', 188: 'Par', 192: 'Par', 119: 'Impar', 194: 'Par', 183: 'Impar'}"
      ]
     },
     "execution_count": 51,
     "metadata": {},
     "output_type": "execute_result"
    }
   ],
   "source": [
    "import random\n",
    "diccionario=dict()\n",
    "for i in range(7):\n",
    "    num=random.randint(100,200)\n",
    "    if num%2==0:\n",
    "        diccionario[num]=\"Par\"\n",
    "    else:\n",
    "        diccionario[num]=\"Impar\"\n",
    "diccionario\n",
    "        \n",
    "        "
   ]
  },
  {
   "cell_type": "markdown",
   "metadata": {},
   "source": [
    "#### Ejercicio 6"
   ]
  },
  {
   "cell_type": "markdown",
   "metadata": {},
   "source": [
    "- Crea un programa donde las llaves sean 10 números aleatorios entre el 1 y el 50 y para cada número el valor del diccionario va a ser igual a 1/x"
   ]
  },
  {
   "cell_type": "code",
   "execution_count": 4,
   "metadata": {},
   "outputs": [
    {
     "data": {
      "text/plain": [
       "{190: 0.005263157894736842,\n",
       " 166: 0.006024096385542169,\n",
       " 144: 0.006944444444444444,\n",
       " 175: 0.005714285714285714,\n",
       " 184: 0.005434782608695652,\n",
       " 191: 0.005235602094240838,\n",
       " 122: 0.00819672131147541,\n",
       " 152: 0.006578947368421052,\n",
       " 103: 0.009708737864077669}"
      ]
     },
     "execution_count": 4,
     "metadata": {},
     "output_type": "execute_result"
    }
   ],
   "source": [
    "import random\n",
    "diccionario=dict()\n",
    "for i in range(10):\n",
    "    num=random.randint(100,200)\n",
    "    diccionario[num]=1/num\n",
    "    \n",
    "diccionario"
   ]
  },
  {
   "cell_type": "markdown",
   "metadata": {},
   "source": [
    "- Del diccionario anterior invierte los valores por llaves"
   ]
  },
  {
   "cell_type": "code",
   "execution_count": 5,
   "metadata": {},
   "outputs": [
    {
     "data": {
      "text/plain": [
       "{0.005263157894736842: 190,\n",
       " 0.006024096385542169: 166,\n",
       " 0.006944444444444444: 144,\n",
       " 0.005714285714285714: 175,\n",
       " 0.005434782608695652: 184,\n",
       " 0.005235602094240838: 191,\n",
       " 0.00819672131147541: 122,\n",
       " 0.006578947368421052: 152,\n",
       " 0.009708737864077669: 103}"
      ]
     },
     "execution_count": 5,
     "metadata": {},
     "output_type": "execute_result"
    }
   ],
   "source": [
    "dicc_keys=list(diccionario.keys())\n",
    "dicc_values=list(diccionario.values())\n",
    "diccionario=dict()\n",
    "for i,j in zip(dicc_keys,dicc_values):\n",
    "    diccionario[j]=i\n",
    "diccionario"
   ]
  },
  {
   "cell_type": "code",
   "execution_count": 30,
   "metadata": {},
   "outputs": [
    {
     "data": {
      "text/plain": [
       "{0.1111111111111111: 9,\n",
       " 0.3333333333333333: 3,\n",
       " 0.07692307692307693: 13,\n",
       " 0.02040816326530612: 49,\n",
       " 0.2: 5,\n",
       " 0.02857142857142857: 35,\n",
       " 0.047619047619047616: 21,\n",
       " 0.16666666666666666: 6,\n",
       " 0.022222222222222223: 45}"
      ]
     },
     "execution_count": 30,
     "metadata": {},
     "output_type": "execute_result"
    }
   ],
   "source": []
  },
  {
   "cell_type": "markdown",
   "metadata": {},
   "source": [
    "#### Ejercicio 8"
   ]
  },
  {
   "cell_type": "markdown",
   "metadata": {},
   "source": [
    "- Recurre al ejercicio donde el usuario ingresa 5 nombres y sus edades, y ordena el diccionario por orden alfabetico"
   ]
  },
  {
   "cell_type": "code",
   "execution_count": 79,
   "metadata": {},
   "outputs": [
    {
     "name": "stdout",
     "output_type": "stream",
     "text": [
      "Ingresa tu nombrejuan\n",
      "Ingresa aqui tu edad54\n",
      "Ingresa tu nombremaria\n",
      "Ingresa aqui tu edad76\n",
      "Ingresa tu nombrepepe\n",
      "Ingresa aqui tu edad12\n"
     ]
    },
    {
     "data": {
      "text/plain": [
       "[('pepe', 12), ('juan', 54), ('maria', 76)]"
      ]
     },
     "execution_count": 79,
     "metadata": {},
     "output_type": "execute_result"
    }
   ],
   "source": [
    "import operator\n",
    "diccionario=dict()\n",
    "\n",
    "for i in range(3):\n",
    "    usuario=input(\"Ingresa tu nombre\")\n",
    "    \n",
    "    edad=int(input(\"Ingresa aqui tu edad\"))\n",
    "    diccionario[usuario]=edad\n",
    "diccionario\n",
    "dicc_sort = sorted(diccionario.items(), key=operator.itemgetter(1))\n",
    "dicc_sort"
   ]
  },
  {
   "cell_type": "markdown",
   "metadata": {},
   "source": [
    "#### Ejercicio 9"
   ]
  },
  {
   "cell_type": "markdown",
   "metadata": {},
   "source": [
    "- Crea un programa que dados los siguientes diccionarios: d1 = {\"a\":125,\"b\":130,\"c\":150}, d2 = {\"e\": 10,\"b\":20,\"a\":30}, sume los items con la misma llave y guarde esas llaves y valores en un nuevo diccionario"
   ]
  },
  {
   "cell_type": "code",
   "execution_count": 9,
   "metadata": {},
   "outputs": [
    {
     "data": {
      "text/plain": [
       "{'a': 155, 'b': 150}"
      ]
     },
     "execution_count": 9,
     "metadata": {},
     "output_type": "execute_result"
    }
   ],
   "source": [
    "d1 = {\"a\":125,\"b\":130,\"c\":150}\n",
    "d2 = {\"e\": 10,\"b\":20,\"a\":30}\n",
    "d1=sorted(d1.items())\n",
    "d2=sorted(d2.items())\n",
    "diccionario=dict()\n",
    "for i in range(3):\n",
    "    if d1[i][0]==d2[i][0]:\n",
    "        letra=d2[i][0]\n",
    "        diccionario[letra]=(d1[i][1]+d2[i][1])\n",
    "diccionario"
   ]
  },
  {
   "cell_type": "code",
   "execution_count": 35,
   "metadata": {},
   "outputs": [
    {
     "data": {
      "text/plain": [
       "{'b': 150, 'a': 155}"
      ]
     },
     "execution_count": 35,
     "metadata": {},
     "output_type": "execute_result"
    }
   ],
   "source": []
  },
  {
   "cell_type": "code",
   "execution_count": 6,
   "metadata": {},
   "outputs": [
    {
     "data": {
      "text/plain": [
       "['a', 'b', 'e']"
      ]
     },
     "execution_count": 6,
     "metadata": {},
     "output_type": "execute_result"
    }
   ],
   "source": [
    "d2 = {\"e\": 10,\"b\":20,\"a\":30}\n",
    "sorted(d2)"
   ]
  },
  {
   "cell_type": "code",
   "execution_count": null,
   "metadata": {},
   "outputs": [],
   "source": []
  }
 ],
 "metadata": {
  "kernelspec": {
   "display_name": "Python 3",
   "language": "python",
   "name": "python3"
  },
  "language_info": {
   "codemirror_mode": {
    "name": "ipython",
    "version": 3
   },
   "file_extension": ".py",
   "mimetype": "text/x-python",
   "name": "python",
   "nbconvert_exporter": "python",
   "pygments_lexer": "ipython3",
   "version": "3.7.4"
  }
 },
 "nbformat": 4,
 "nbformat_minor": 2
}
