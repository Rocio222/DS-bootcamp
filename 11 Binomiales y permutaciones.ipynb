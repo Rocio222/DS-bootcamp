{
 "cells": [
  {
   "cell_type": "code",
   "execution_count": 1,
   "metadata": {},
   "outputs": [],
   "source": [
    "import math"
   ]
  },
  {
   "cell_type": "code",
   "execution_count": 14,
   "metadata": {},
   "outputs": [],
   "source": [
    "n=5\n",
    "k=3"
   ]
  },
  {
   "cell_type": "markdown",
   "metadata": {},
   "source": [
    "No importa el orden-->Binomial\n",
    "* Importan las repeticiones\n",
    "* No importan las repeticiones\n",
    "Si importa el orden-->Permutacion\n",
    "* Importan las repeticiones\n",
    "* No importan las repeticiones "
   ]
  },
  {
   "cell_type": "markdown",
   "metadata": {},
   "source": [
    "#### Ej. Binomial y factorial para los cuatro casos posibles"
   ]
  },
  {
   "cell_type": "markdown",
   "metadata": {},
   "source": [
    "¿Cuántos números de 3 cifras diferentes se puede formar con los dígitos: 1, 2, 3, 4, 5.? Notemos que en la pregunta se mencionan 3 cifras diferentes.\n"
   ]
  },
  {
   "cell_type": "code",
   "execution_count": 15,
   "metadata": {},
   "outputs": [
    {
     "data": {
      "text/plain": [
       "120"
      ]
     },
     "execution_count": 15,
     "metadata": {},
     "output_type": "execute_result"
    }
   ],
   "source": [
    "#factorial\n",
    "math.factorial(n)"
   ]
  },
  {
   "cell_type": "code",
   "execution_count": 16,
   "metadata": {},
   "outputs": [
    {
     "data": {
      "text/plain": [
       "10.0"
      ]
     },
     "execution_count": 16,
     "metadata": {},
     "output_type": "execute_result"
    }
   ],
   "source": [
    "#binomial: No importa orden/No hay repeticiones\n",
    "bino=(math.factorial(n))/(math.factorial(k)*(math.factorial(n-k)))\n",
    "bino"
   ]
  },
  {
   "cell_type": "code",
   "execution_count": 19,
   "metadata": {},
   "outputs": [
    {
     "data": {
      "text/plain": [
       "35.0"
      ]
     },
     "execution_count": 19,
     "metadata": {},
     "output_type": "execute_result"
    }
   ],
   "source": [
    "#binomial:No importa el orden/Si hay repeticiones\n",
    "r=3\n",
    "(math.factorial(n+r-1))/(math.factorial(r)*math.factorial(n-1))"
   ]
  },
  {
   "cell_type": "code",
   "execution_count": 17,
   "metadata": {},
   "outputs": [
    {
     "data": {
      "text/plain": [
       "60.0"
      ]
     },
     "execution_count": 17,
     "metadata": {},
     "output_type": "execute_result"
    }
   ],
   "source": [
    "#Permutacion:Importa el orden/No repeticiones\n",
    "pk=(math.factorial(5))/(math.factorial(5-3))\n",
    "pk"
   ]
  },
  {
   "cell_type": "code",
   "execution_count": 18,
   "metadata": {},
   "outputs": [
    {
     "data": {
      "text/plain": [
       "125"
      ]
     },
     "execution_count": 18,
     "metadata": {},
     "output_type": "execute_result"
    }
   ],
   "source": [
    "#Permutacion:Importa el orden/Importa repeticiones:\n",
    " "
   ]
  },
  {
   "cell_type": "markdown",
   "metadata": {},
   "source": [
    "#### Permutacion circular"
   ]
  },
  {
   "cell_type": "markdown",
   "metadata": {},
   "source": [
    "¿De cuántas formas distintas pueden sentarse ocho personas alrededor de una mesa redonda?\n",
    "En este caso nos interesa calcular de cuantas formas se pueden acomodar 8 personas en un arreglo circular, por lo que, debemos recurrir a las permutaciones circulares"
   ]
  },
  {
   "cell_type": "code",
   "execution_count": 20,
   "metadata": {},
   "outputs": [
    {
     "data": {
      "text/plain": [
       "5040"
      ]
     },
     "execution_count": 20,
     "metadata": {},
     "output_type": "execute_result"
    }
   ],
   "source": [
    "#Permutaciones circulares\n",
    "PC= math.factorial(n-1)\n",
    "n=8\n",
    "(math.factorial(n-1))"
   ]
  },
  {
   "cell_type": "markdown",
   "metadata": {},
   "source": [
    "Con las letras de la palabra libro, ¿cuántas ordenaciones distintas se pueden hacer que empiecen por vocal? La palabra empieza por i u o seguida de las 4 letras restantes tomadas de 4 en 4.\n",
    "Sí entran todos los elementos\n",
    "Sí importa el orden\n",
    "No se repiten los elementos"
   ]
  },
  {
   "cell_type": "code",
   "execution_count": 66,
   "metadata": {},
   "outputs": [],
   "source": [
    "#Si importa el orden/no hay repeticiones"
   ]
  },
  {
   "cell_type": "code",
   "execution_count": 27,
   "metadata": {},
   "outputs": [
    {
     "data": {
      "text/plain": [
       "48.0"
      ]
     },
     "execution_count": 27,
     "metadata": {},
     "output_type": "execute_result"
    }
   ],
   "source": [
    "p2=pk*2\n",
    "p2"
   ]
  },
  {
   "cell_type": "markdown",
   "metadata": {},
   "source": [
    "¿De cuántas maneras pueden sentarse 10 personas en un banco si hay 4 sitios disponibles?\n",
    "Nótese que importa el orden en que se sienten las personas, ya que los cuatro sitios son diferentes, y que una persona no puede ocupar más de un sitio a la vez. Por lo tanto, hay"
   ]
  },
  {
   "cell_type": "code",
   "execution_count": 29,
   "metadata": {},
   "outputs": [
    {
     "data": {
      "text/plain": [
       "5040.0"
      ]
     },
     "execution_count": 29,
     "metadata": {},
     "output_type": "execute_result"
    }
   ],
   "source": [
    "n=10\n",
    "k=4\n",
    "pk=(math.factorial(n))/(math.factorial(n-k))\n",
    "pk\n"
   ]
  },
  {
   "cell_type": "markdown",
   "metadata": {},
   "source": [
    "En una clase de 10 alumnos van a distribuirse 3 premios. Averiguar de cuántos modos puede hacerse si: * 1. los premios son diferentes.\n",
    "* 2. los premios son iguales.\n"
   ]
  },
  {
   "cell_type": "code",
   "execution_count": 30,
   "metadata": {},
   "outputs": [
    {
     "data": {
      "text/plain": [
       "120.0"
      ]
     },
     "execution_count": 30,
     "metadata": {},
     "output_type": "execute_result"
    }
   ],
   "source": [
    "#1 No hay repeticiones/No importa el orden:\n",
    "#Premios iguales\n",
    "n=10\n",
    "k=3\n",
    "bino=(math.factorial(n))/(math.factorial(k)*(math.factorial(n-k)))\n",
    "bino"
   ]
  },
  {
   "cell_type": "code",
   "execution_count": 31,
   "metadata": {},
   "outputs": [
    {
     "data": {
      "text/plain": [
       "720.0"
      ]
     },
     "execution_count": 31,
     "metadata": {},
     "output_type": "execute_result"
    }
   ],
   "source": [
    "#No hay repeticiones/Importa el orden:\n",
    "#Premios diferentes\n",
    "n=10\n",
    "k=3\n",
    "pk=(math.factorial(n))/(math.factorial(10-3))\n",
    "pk"
   ]
  },
  {
   "cell_type": "markdown",
   "metadata": {},
   "source": [
    "Cuando se arrojan simultáneamente 4 monedas,\n",
    "* 1. ¿cuales son los resultados posibles que se pueden obtener?\n",
    "* 2. ¿cuántos casos hay en que salgan 2 caras y 2 cruces?"
   ]
  },
  {
   "cell_type": "code",
   "execution_count": null,
   "metadata": {},
   "outputs": [],
   "source": []
  },
  {
   "cell_type": "markdown",
   "metadata": {},
   "source": [
    "Cuando se arrojan simultáneamente 4 monedas,\n",
    "1. ¿cuales son los resultados posibles que se pueden obtener?\n",
    "2. ¿cuántos casos hay en que salgan 2 caras y 2 cruces?"
   ]
  },
  {
   "cell_type": "code",
   "execution_count": 39,
   "metadata": {},
   "outputs": [
    {
     "data": {
      "text/plain": [
       "16"
      ]
     },
     "execution_count": 39,
     "metadata": {},
     "output_type": "execute_result"
    }
   ],
   "source": [
    "#1\n",
    "2**4"
   ]
  },
  {
   "cell_type": "code",
   "execution_count": 40,
   "metadata": {},
   "outputs": [
    {
     "data": {
      "text/plain": [
       "6.0"
      ]
     },
     "execution_count": 40,
     "metadata": {},
     "output_type": "execute_result"
    }
   ],
   "source": [
    "#2\n",
    "n=4\n",
    "k=2\n",
    "bino=(math.factorial(n))/(math.factorial(k)*(math.factorial(n-k)))\n",
    "bino"
   ]
  },
  {
   "cell_type": "markdown",
   "metadata": {},
   "source": [
    "¿Cuantas formas diferentes hay de elegir 3 bolas numeradas y ordenadas de una colección de 16 bolas (de la bola 1 a la 16)? ¿Y si las bolas no estuvieran numeradas?\n"
   ]
  },
  {
   "cell_type": "code",
   "execution_count": 43,
   "metadata": {},
   "outputs": [
    {
     "data": {
      "text/plain": [
       "3360.0"
      ]
     },
     "execution_count": 43,
     "metadata": {},
     "output_type": "execute_result"
    }
   ],
   "source": [
    "#1\n",
    "#Permutacion:Importa el orden/No repeticiones\n",
    "n=16\n",
    "k=3\n",
    "pk=(math.factorial(n))/(math.factorial(n-k))\n",
    "pk"
   ]
  },
  {
   "cell_type": "code",
   "execution_count": 44,
   "metadata": {},
   "outputs": [
    {
     "data": {
      "text/plain": [
       "560.0"
      ]
     },
     "execution_count": 44,
     "metadata": {},
     "output_type": "execute_result"
    }
   ],
   "source": [
    "#2\n",
    "#No importa orden, no repeticiones:\n",
    "bino=(math.factorial(n))/(math.factorial(k)*(math.factorial(n-k)))\n",
    "bino"
   ]
  },
  {
   "cell_type": "markdown",
   "metadata": {},
   "source": [
    "¿Cómo se podría repartir un primer y segundo premio entre 10 participantes en un concurso?"
   ]
  },
  {
   "cell_type": "code",
   "execution_count": 45,
   "metadata": {},
   "outputs": [
    {
     "data": {
      "text/plain": [
       "90.0"
      ]
     },
     "execution_count": 45,
     "metadata": {},
     "output_type": "execute_result"
    }
   ],
   "source": [
    "#Si importa orden/No hay repeticiones:\n",
    "n=10\n",
    "k=2\n",
    "pk=(math.factorial(n))/(math.factorial(n-k))\n",
    "pk\n"
   ]
  },
  {
   "cell_type": "markdown",
   "metadata": {},
   "source": [
    "Carlos Eduardo y Carlos se han presentado a un concurso de pintura, el concurso otorga 200euros al primer lugar y 100euros al segundo. ‚De cuantas formas se puede repartir el premio de primer y segundo lugar?"
   ]
  },
  {
   "cell_type": "code",
   "execution_count": 48,
   "metadata": {},
   "outputs": [
    {
     "data": {
      "text/plain": [
       "6.0"
      ]
     },
     "execution_count": 48,
     "metadata": {},
     "output_type": "execute_result"
    }
   ],
   "source": [
    "#Si importa el orden/No hay repeticiones\n",
    "n=3\n",
    "k=2\n",
    "pk=(math.factorial(n))/(math.factorial(n-k))\n",
    "pk"
   ]
  },
  {
   "cell_type": "markdown",
   "metadata": {},
   "source": [
    "Un chef va a preparar una ensalada de verduras con tomate, zanahoria, patata y brocoli ¿De cuantas formas se puede preparar la ensalada con 2 ingredientes?"
   ]
  },
  {
   "cell_type": "code",
   "execution_count": 49,
   "metadata": {},
   "outputs": [
    {
     "data": {
      "text/plain": [
       "6.0"
      ]
     },
     "execution_count": 49,
     "metadata": {},
     "output_type": "execute_result"
    }
   ],
   "source": [
    "#No hay repeticiones/No importa el orden\n",
    "n=4\n",
    "k=2\n",
    "bino=(math.factorial(n))/(math.factorial(k)*(math.factorial(n-k)))\n",
    "bino"
   ]
  },
  {
   "cell_type": "markdown",
   "metadata": {},
   "source": [
    "Se va a programar un torneo de ajedrez para 10 personas ¿Cuantos partidos se deben programar si cada integrante jugara con cada uno de los demas sin partidos de rebancha?"
   ]
  },
  {
   "cell_type": "code",
   "execution_count": 50,
   "metadata": {},
   "outputs": [
    {
     "data": {
      "text/plain": [
       "45.0"
      ]
     },
     "execution_count": 50,
     "metadata": {},
     "output_type": "execute_result"
    }
   ],
   "source": [
    "#No hay repeticiones/no importa el orden\n",
    "n=10\n",
    "k=2\n",
    "bino=(math.factorial(n))/(math.factorial(k)*(math.factorial(n-k)))\n",
    "bino"
   ]
  },
  {
   "cell_type": "markdown",
   "metadata": {},
   "source": [
    "Considera un grupo de 10 estudiantes de los cuales 4 son mujeres y 10 son hombres.Determina:\n",
    "* El numero de formas en las que se puede elegir a un representante del grupo\n",
    "* El numero de formas que se puede elegir un comite de 3 miembros donde al menos uno sea mujer."
   ]
  },
  {
   "cell_type": "code",
   "execution_count": 51,
   "metadata": {},
   "outputs": [
    {
     "data": {
      "text/plain": [
       "10.0"
      ]
     },
     "execution_count": 51,
     "metadata": {},
     "output_type": "execute_result"
    }
   ],
   "source": [
    "#1\n",
    "#No importa el orden#No hay repeticiones\n",
    "n=10\n",
    "k=1\n",
    "bino=(math.factorial(n))/(math.factorial(k)*(math.factorial(n-k)))\n",
    "bino"
   ]
  },
  {
   "cell_type": "code",
   "execution_count": 55,
   "metadata": {},
   "outputs": [
    {
     "data": {
      "text/plain": [
       "4.0"
      ]
     },
     "execution_count": 55,
     "metadata": {},
     "output_type": "execute_result"
    }
   ],
   "source": [
    "#2\n",
    "#Probabilidad de que sea 1 mujer:\n",
    "n=4\n",
    "k=1\n",
    "Pi=(math.factorial(n))/(math.factorial(k)*(math.factorial(n-k)))\n",
    "Pi"
   ]
  },
  {
   "cell_type": "code",
   "execution_count": 59,
   "metadata": {},
   "outputs": [
    {
     "data": {
      "text/plain": [
       "60.0"
      ]
     },
     "execution_count": 59,
     "metadata": {},
     "output_type": "execute_result"
    }
   ],
   "source": [
    "#Una mujer, P de que sean 2 hombres:\n",
    "n=6\n",
    "k=2\n",
    "p1=(math.factorial(n))/(math.factorial(k)*(math.factorial(n-k)))\n",
    "\n",
    "ptotal1=Pi*p1\n",
    "ptotal1"
   ]
  },
  {
   "cell_type": "code",
   "execution_count": 62,
   "metadata": {},
   "outputs": [
    {
     "data": {
      "text/plain": [
       "36.0"
      ]
     },
     "execution_count": 62,
     "metadata": {},
     "output_type": "execute_result"
    }
   ],
   "source": [
    "#Dos mujeres/1hombre:\n",
    "n=6\n",
    "k=1\n",
    "p1=p1=(math.factorial(n))/(math.factorial(k)*(math.factorial(n-k)))\n",
    "n=4\n",
    "k=2\n",
    "Pi=(math.factorial(n))/(math.factorial(k)*(math.factorial(n-k)))\n",
    "ptotal=Pi*p1\n",
    "ptotal"
   ]
  },
  {
   "cell_type": "code",
   "execution_count": 63,
   "metadata": {},
   "outputs": [
    {
     "data": {
      "text/plain": [
       "4.0"
      ]
     },
     "execution_count": 63,
     "metadata": {},
     "output_type": "execute_result"
    }
   ],
   "source": [
    "#Tres mujeres/0hombre:\n",
    "n=4\n",
    "k=3\n",
    "Pi=(math.factorial(n))/(math.factorial(k)*(math.factorial(n-k)))\n",
    "Pi"
   ]
  },
  {
   "cell_type": "code",
   "execution_count": 65,
   "metadata": {},
   "outputs": [
    {
     "data": {
      "text/plain": [
       "100"
      ]
     },
     "execution_count": 65,
     "metadata": {},
     "output_type": "execute_result"
    }
   ],
   "source": [
    "P= 60+36+4\n",
    "P"
   ]
  },
  {
   "cell_type": "code",
   "execution_count": null,
   "metadata": {},
   "outputs": [],
   "source": []
  },
  {
   "cell_type": "code",
   "execution_count": null,
   "metadata": {},
   "outputs": [],
   "source": []
  }
 ],
 "metadata": {
  "kernelspec": {
   "display_name": "Python 3",
   "language": "python",
   "name": "python3"
  },
  "language_info": {
   "codemirror_mode": {
    "name": "ipython",
    "version": 3
   },
   "file_extension": ".py",
   "mimetype": "text/x-python",
   "name": "python",
   "nbconvert_exporter": "python",
   "pygments_lexer": "ipython3",
   "version": "3.7.4"
  }
 },
 "nbformat": 4,
 "nbformat_minor": 4
}
