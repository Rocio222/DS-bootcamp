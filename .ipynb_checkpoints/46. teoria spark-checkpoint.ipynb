{
 "cells": [
  {
   "cell_type": "code",
   "execution_count": 1,
   "metadata": {},
   "outputs": [
    {
     "name": "stdout",
     "output_type": "stream",
     "text": [
      "Waiting for a Spark session to start...\n",
      "Spark Initialization Done! ApplicationId = app-20200511215304-0000\n",
      "KERNEL_ID = 72f56b7c-9def-45e2-8f75-9fea1e250e56\n",
      "Collecting pyspark==2.4.5\n",
      "\u001b[?25l  Downloading https://files.pythonhosted.org/packages/9a/5a/271c416c1c2185b6cb0151b29a91fff6fcaed80173c8584ff6d20e46b465/pyspark-2.4.5.tar.gz (217.8MB)\n",
      "\u001b[K    100% |################################| 217.8MB 119kB/s eta 0:00:01K    14% |####                            | 32.1MB 69.8MB/s eta 0:00:03    35% |###########                     | 76.8MB 27.0MB/s eta 0:00:06\n",
      "\u001b[?25hCollecting py4j==0.10.7 (from pyspark==2.4.5)\n",
      "\u001b[?25l  Downloading https://files.pythonhosted.org/packages/e3/53/c737818eb9a7dc32a7cd4f1396e787bd94200c3997c72c1dbe028587bd76/py4j-0.10.7-py2.py3-none-any.whl (197kB)\n",
      "\u001b[K    100% |################################| 204kB 6.1MB/s eta 0:00:01\n",
      "\u001b[?25hBuilding wheels for collected packages: pyspark\n",
      "  Building wheel for pyspark (setup.py) ... \u001b[?25ldone\n",
      "\u001b[?25h  Stored in directory: /home/spark/shared/.cache/pip/wheels/bf/db/04/61d66a5939364e756eb1c1be4ec5bdce6e04047fc7929a3c3c\n",
      "Successfully built pyspark\n",
      "Installing collected packages: py4j, pyspark\n",
      "Successfully installed py4j-0.10.7 pyspark-2.4.5\n"
     ]
    }
   ],
   "source": [
    "!pip install pyspark==2.4.5"
   ]
  },
  {
   "cell_type": "code",
   "execution_count": 3,
   "metadata": {},
   "outputs": [],
   "source": [
    "try:\n",
    "    from pyspark import SparkContext, SparkConf\n",
    "    from pyspark.sql import SparkSession\n",
    "except ImportError as e:\n",
    "    printmd('Reiniciar kernel después de insttalar Apache Spark')"
   ]
  },
  {
   "cell_type": "code",
   "execution_count": 4,
   "metadata": {},
   "outputs": [],
   "source": [
    "sc = SparkContext.getOrCreate(SparkConf().setMaster(\"local[*]\"))\n",
    "spark = SparkSession \\\n",
    "    .builder \\\n",
    "    .getOrCreate()"
   ]
  },
  {
   "cell_type": "code",
   "execution_count": 5,
   "metadata": {},
   "outputs": [],
   "source": [
    "rdd = sc.parallelize(list(range(100)))"
   ]
  },
  {
   "cell_type": "code",
   "execution_count": 6,
   "metadata": {},
   "outputs": [
    {
     "name": "stdout",
     "output_type": "stream",
     "text": [
      "100\n"
     ]
    }
   ],
   "source": [
    "print(rdd.count())"
   ]
  },
  {
   "cell_type": "code",
   "execution_count": 12,
   "metadata": {},
   "outputs": [
    {
     "data": {
      "text/plain": [
       "[0, 1, 2, 3, 4, 5, 6, 7, 8, 9]"
      ]
     },
     "execution_count": 12,
     "metadata": {},
     "output_type": "execute_result"
    }
   ],
   "source": [
    "rdd.take(10)"
   ]
  },
  {
   "cell_type": "code",
   "execution_count": 13,
   "metadata": {},
   "outputs": [
    {
     "data": {
      "text/plain": [
       "[0, 1, 2, 3, 4]"
      ]
     },
     "execution_count": 13,
     "metadata": {},
     "output_type": "execute_result"
    }
   ],
   "source": [
    "rdd.take(5)"
   ]
  },
  {
   "cell_type": "code",
   "execution_count": 14,
   "metadata": {},
   "outputs": [
    {
     "name": "stdout",
     "output_type": "stream",
     "text": [
      "[0, 1, 2, 3, 4, 5, 6, 7, 8, 9, 10, 11, 12, 13, 14, 15, 16, 17, 18, 19, 20, 21, 22, 23, 24, 25, 26, 27, 28, 29, 30, 31, 32, 33, 34, 35, 36, 37, 38, 39, 40, 41, 42, 43, 44, 45, 46, 47, 48, 49, 50, 51, 52, 53, 54, 55, 56, 57, 58, 59, 60, 61, 62, 63, 64, 65, 66, 67, 68, 69, 70, 71, 72, 73, 74, 75, 76, 77, 78, 79, 80, 81, 82, 83, 84, 85, 86, 87, 88, 89, 90, 91, 92, 93, 94, 95, 96, 97, 98, 99]\n"
     ]
    }
   ],
   "source": [
    "print(rdd.collect())"
   ]
  },
  {
   "cell_type": "code",
   "execution_count": 15,
   "metadata": {},
   "outputs": [
    {
     "data": {
      "text/plain": [
       "[0,\n",
       " 1,\n",
       " 4,\n",
       " 9,\n",
       " 16,\n",
       " 25,\n",
       " 36,\n",
       " 49,\n",
       " 64,\n",
       " 81,\n",
       " 100,\n",
       " 121,\n",
       " 144,\n",
       " 169,\n",
       " 196,\n",
       " 225,\n",
       " 256,\n",
       " 289,\n",
       " 324,\n",
       " 361]"
      ]
     },
     "execution_count": 15,
     "metadata": {},
     "output_type": "execute_result"
    }
   ],
   "source": [
    "rdd.map(lambda x:x**2).take(20)"
   ]
  },
  {
   "cell_type": "code",
   "execution_count": 18,
   "metadata": {},
   "outputs": [
    {
     "data": {
      "text/plain": [
       "15"
      ]
     },
     "execution_count": 18,
     "metadata": {},
     "output_type": "execute_result"
    }
   ],
   "source": [
    "sc.parallelize(range(1,6)).reduce(lambda a,b:a+b)# Es como un sum()"
   ]
  },
  {
   "cell_type": "code",
   "execution_count": 17,
   "metadata": {},
   "outputs": [
    {
     "data": {
      "text/plain": [
       "120"
      ]
     },
     "execution_count": 17,
     "metadata": {},
     "output_type": "execute_result"
    }
   ],
   "source": [
    "sc.parallelize(range(1,6)).reduce(lambda a,b:a*b)# 5! =5*4*3*2*1"
   ]
  },
  {
   "cell_type": "code",
   "execution_count": 19,
   "metadata": {},
   "outputs": [
    {
     "data": {
      "text/plain": [
       "ParallelCollectionRDD[0] at parallelize at PythonRDD.scala:194"
      ]
     },
     "execution_count": 19,
     "metadata": {},
     "output_type": "execute_result"
    }
   ],
   "source": [
    "rdd"
   ]
  },
  {
   "cell_type": "markdown",
   "metadata": {},
   "source": [
    "### Promedio"
   ]
  },
  {
   "cell_type": "code",
   "execution_count": 20,
   "metadata": {},
   "outputs": [
    {
     "data": {
      "text/plain": [
       "4950"
      ]
     },
     "execution_count": 20,
     "metadata": {},
     "output_type": "execute_result"
    }
   ],
   "source": [
    "suma = rdd.sum()\n",
    "suma"
   ]
  },
  {
   "cell_type": "code",
   "execution_count": 21,
   "metadata": {},
   "outputs": [
    {
     "data": {
      "text/plain": [
       "49.5"
      ]
     },
     "execution_count": 21,
     "metadata": {},
     "output_type": "execute_result"
    }
   ],
   "source": [
    "promedio = suma/rdd.count()\n",
    "promedio"
   ]
  },
  {
   "cell_type": "code",
   "execution_count": 22,
   "metadata": {},
   "outputs": [
    {
     "data": {
      "text/plain": [
       "[0, 1, 2, 3, 4, 5, 6, 7, 8, 9, 10, 11, 12, 13, 14, 15, 16, 17, 18, 19, 999]"
      ]
     },
     "execution_count": 22,
     "metadata": {},
     "output_type": "execute_result"
    }
   ],
   "source": [
    "rdd1 =  sc.parallelize([999]+list(range(20)))\n",
    "rdd1.sortBy(lambda x: x).collect()"
   ]
  },
  {
   "cell_type": "markdown",
   "metadata": {},
   "source": [
    "### Desviación Standard"
   ]
  },
  {
   "attachments": {
    "imagen.png": {
     "image/png": "[encoded data removed]"
    }
   },
   "cell_type": "markdown",
   "metadata": {},
   "source": [
    "![imagen.png](attachment:imagen.png)"
   ]
  },
  {
   "cell_type": "code",
   "execution_count": 24,
   "metadata": {},
   "outputs": [
    {
     "data": {
      "text/plain": [
       "96.6548110545978"
      ]
     },
     "execution_count": 24,
     "metadata": {},
     "output_type": "execute_result"
    }
   ],
   "source": [
    "from math import sqrt\n",
    "res1= rdd1.map(lambda x:pow(x-promedio,2)).sum()/rdd.count()\n",
    "std = sqrt(res1)\n",
    "std"
   ]
  },
  {
   "cell_type": "markdown",
   "metadata": {},
   "source": [
    "### Skewness"
   ]
  },
  {
   "attachments": {
    "imagen.png": {
     "image/png": "[encoded data removed]"
    }
   },
   "cell_type": "markdown",
   "metadata": {},
   "source": [
    "![imagen.png](attachment:imagen.png)"
   ]
  },
  {
   "cell_type": "code",
   "execution_count": 28,
   "metadata": {},
   "outputs": [
    {
     "data": {
      "text/plain": [
       "157.19249999654477"
      ]
     },
     "execution_count": 28,
     "metadata": {},
     "output_type": "execute_result"
    }
   ],
   "source": [
    "rdd1 =  sc.parallelize([999,998,997,996]+list(range(20)))\n",
    "\n",
    "n = float(rdd1.count())\n",
    "skewness = 1/n*rdd1.map(lambda x : pow(x-promedio,3)/pow(std,3)).sum()\n",
    "skewness"
   ]
  },
  {
   "cell_type": "markdown",
   "metadata": {},
   "source": [
    "### Kurtosis"
   ]
  },
  {
   "attachments": {
    "imagen.png": {
     "image/png": "[encoded data removed]"
    }
   },
   "cell_type": "markdown",
   "metadata": {},
   "source": [
    "![imagen.png](attachment:imagen.png)"
   ]
  },
  {
   "cell_type": "code",
   "execution_count": 39,
   "metadata": {},
   "outputs": [
    {
     "data": {
      "text/plain": [
       "[2, 4, 6, 8, 10, 12, 14, 16, 18]"
      ]
     },
     "execution_count": 39,
     "metadata": {},
     "output_type": "execute_result"
    }
   ],
   "source": [
    "sc.parallelize(range(1,10)).map(lambda x:x*2).collect()"
   ]
  },
  {
   "cell_type": "code",
   "execution_count": 29,
   "metadata": {},
   "outputs": [
    {
     "data": {
      "text/plain": [
       "0.01431763640779328"
      ]
     },
     "execution_count": 29,
     "metadata": {},
     "output_type": "execute_result"
    }
   ],
   "source": [
    "n = float(rdd.count())\n",
    "kurtosis = 1/n*rdd.map(lambda x : pow(x-promedio,4)/pow(std,4)).sum()\n",
    "kurtosis"
   ]
  },
  {
   "cell_type": "code",
   "execution_count": null,
   "metadata": {},
   "outputs": [],
   "source": []
  },
  {
   "cell_type": "code",
   "execution_count": 40,
   "metadata": {},
   "outputs": [],
   "source": [
    "from pyspark.sql import *"
   ]
  },
  {
   "cell_type": "code",
   "execution_count": 120,
   "metadata": {},
   "outputs": [
    {
     "data": {
      "text/html": [
       "<div>\n",
       "<style scoped>\n",
       "    .dataframe tbody tr th:only-of-type {\n",
       "        vertical-align: middle;\n",
       "    }\n",
       "\n",
       "    .dataframe tbody tr th {\n",
       "        vertical-align: top;\n",
       "    }\n",
       "\n",
       "    .dataframe thead th {\n",
       "        text-align: right;\n",
       "    }\n",
       "</style>\n",
       "<table border=\"1\" class=\"dataframe\">\n",
       "  <thead>\n",
       "    <tr style=\"text-align: right;\">\n",
       "      <th></th>\n",
       "      <th>PassengerId</th>\n",
       "      <th>Name</th>\n",
       "      <th>Sex</th>\n",
       "      <th>Age</th>\n",
       "      <th>Survived</th>\n",
       "      <th>Pclass</th>\n",
       "      <th>Ticket</th>\n",
       "      <th>Fare</th>\n",
       "    </tr>\n",
       "  </thead>\n",
       "  <tbody>\n",
       "    <tr>\n",
       "      <th>0</th>\n",
       "      <td>1</td>\n",
       "      <td>Braund, Mr. Owen Harris</td>\n",
       "      <td>male</td>\n",
       "      <td>22.0</td>\n",
       "      <td>0</td>\n",
       "      <td>3</td>\n",
       "      <td>A/5 21171</td>\n",
       "      <td>7.2500</td>\n",
       "    </tr>\n",
       "    <tr>\n",
       "      <th>1</th>\n",
       "      <td>2</td>\n",
       "      <td>Cumings, Mrs. John Bradley (Florence Briggs Th...</td>\n",
       "      <td>female</td>\n",
       "      <td>38.0</td>\n",
       "      <td>1</td>\n",
       "      <td>1</td>\n",
       "      <td>PC 17599</td>\n",
       "      <td>71.2833</td>\n",
       "    </tr>\n",
       "    <tr>\n",
       "      <th>2</th>\n",
       "      <td>3</td>\n",
       "      <td>Heikkinen, Miss. Laina</td>\n",
       "      <td>female</td>\n",
       "      <td>26.0</td>\n",
       "      <td>1</td>\n",
       "      <td>3</td>\n",
       "      <td>STON/O2. 3101282</td>\n",
       "      <td>7.9250</td>\n",
       "    </tr>\n",
       "    <tr>\n",
       "      <th>3</th>\n",
       "      <td>4</td>\n",
       "      <td>Futrelle, Mrs. Jacques Heath (Lily May Peel)</td>\n",
       "      <td>female</td>\n",
       "      <td>35.0</td>\n",
       "      <td>1</td>\n",
       "      <td>1</td>\n",
       "      <td>113803</td>\n",
       "      <td>53.1000</td>\n",
       "    </tr>\n",
       "    <tr>\n",
       "      <th>4</th>\n",
       "      <td>5</td>\n",
       "      <td>Allen, Mr. William Henry</td>\n",
       "      <td>male</td>\n",
       "      <td>35.0</td>\n",
       "      <td>0</td>\n",
       "      <td>3</td>\n",
       "      <td>373450</td>\n",
       "      <td>8.0500</td>\n",
       "    </tr>\n",
       "  </tbody>\n",
       "</table>\n",
       "</div>"
      ],
      "text/plain": [
       "   PassengerId                                               Name     Sex  \\\n",
       "0            1                            Braund, Mr. Owen Harris    male   \n",
       "1            2  Cumings, Mrs. John Bradley (Florence Briggs Th...  female   \n",
       "2            3                             Heikkinen, Miss. Laina  female   \n",
       "3            4       Futrelle, Mrs. Jacques Heath (Lily May Peel)  female   \n",
       "4            5                           Allen, Mr. William Henry    male   \n",
       "\n",
       "    Age  Survived  Pclass            Ticket     Fare  \n",
       "0  22.0         0       3         A/5 21171   7.2500  \n",
       "1  38.0         1       1          PC 17599  71.2833  \n",
       "2  26.0         1       3  STON/O2. 3101282   7.9250  \n",
       "3  35.0         1       1            113803  53.1000  \n",
       "4  35.0         0       3            373450   8.0500  "
      ]
     },
     "execution_count": 120,
     "metadata": {},
     "output_type": "execute_result"
    }
   ],
   "source": [
    "\n",
    "import types\n",
    "import pandas as pd\n",
    "from botocore.client import Config\n",
    "import ibm_boto3\n",
    "\n",
    "def __iter__(self): return 0\n",
    "\n",
    "# @hidden_cell\n",
    "# The following code accesses a file in your IBM Cloud Object Storage. It includes your credentials.\n",
    "# You might want to remove those credentials before you share the notebook.\n",
    "client_81aeda152d764e759c8cab4dcaba9ea4 = ibm_boto3.client(service_name='s3',\n",
    "    ibm_api_key_id='3dMpQkiyzYR2o0cb79RJB7xDNIbefMotJIQsHTV0cIha',\n",
    "    ibm_auth_endpoint=\"https://iam.eu-gb.bluemix.net/oidc/token\",\n",
    "    config=Config(signature_version='oauth'),\n",
    "    endpoint_url='https://s3.eu-geo.objectstorage.service.networklayer.com')\n",
    "\n",
    "body = client_81aeda152d764e759c8cab4dcaba9ea4.get_object(Bucket='proyecto1-donotdelete-pr-wypoxecy0ajcet',Key='titanic.xlsx')['Body']\n",
    "# add missing __iter__ method, so pandas accepts body as file-like object\n",
    "if not hasattr(body, \"__iter__\"): body.__iter__ = types.MethodType( __iter__, body )\n",
    "\n",
    "df_data_0 = pd.read_excel(body)\n",
    "df_data_0.head()\n"
   ]
  },
  {
   "cell_type": "code",
   "execution_count": 134,
   "metadata": {},
   "outputs": [],
   "source": [
    "from pyspark.sql.types import *\n",
    "mySchema = StructType([ StructField(\"PassengerId\", IntegerType(), True)\\\n",
    "                       ,StructField(\"Name\", StringType(), True)\\\n",
    "                       ,StructField(\"Sex\", StringType(), True)\\\n",
    "                       ,StructField(\"Age\", FloatType(), True)\\\n",
    "                       ,StructField(\"Survived\", IntegerType(), True)\\\n",
    "                       ,StructField(\"Pclass\", IntegerType(), True)\\\n",
    "                       ,StructField(\"Ticket\", StringType(), True)\\\n",
    "                       ,StructField(\"Fare\", FloatType(), True)])"
   ]
  },
  {
   "cell_type": "code",
   "execution_count": 135,
   "metadata": {},
   "outputs": [],
   "source": [
    "df = spark.createDataFrame(df_data_0,schema=mySchema) "
   ]
  },
  {
   "cell_type": "code",
   "execution_count": 136,
   "metadata": {},
   "outputs": [
    {
     "name": "stdout",
     "output_type": "stream",
     "text": [
      "+-----------+--------------------+------+----+--------+------+----------------+-------+\n",
      "|PassengerId|                Name|   Sex| Age|Survived|Pclass|          Ticket|   Fare|\n",
      "+-----------+--------------------+------+----+--------+------+----------------+-------+\n",
      "|          1|Braund, Mr. Owen ...|  male|22.0|       0|     3|       A/5 21171|   7.25|\n",
      "|          2|Cumings, Mrs. Joh...|female|38.0|       1|     1|        PC 17599|71.2833|\n",
      "|          3|Heikkinen, Miss. ...|female|26.0|       1|     3|STON/O2. 3101282|  7.925|\n",
      "|          4|Futrelle, Mrs. Ja...|female|35.0|       1|     1|          113803|   53.1|\n",
      "|          5|Allen, Mr. Willia...|  male|35.0|       0|     3|          373450|   8.05|\n",
      "|          6|    Moran, Mr. James|  male| NaN|       0|     3|          330877| 8.4583|\n",
      "|          7|McCarthy, Mr. Tim...|  male|54.0|       0|     1|           17463|51.8625|\n",
      "|          8|Palsson, Master. ...|  male| 2.0|       0|     3|          349909| 21.075|\n",
      "|          9|Johnson, Mrs. Osc...|female|27.0|       1|     3|          347742|11.1333|\n",
      "|         10|Nasser, Mrs. Nich...|female|14.0|       1|     2|          237736|30.0708|\n",
      "|         11|Sandstrom, Miss. ...|female| 4.0|       1|     3|         PP 9549|   16.7|\n",
      "|         12|Bonnell, Miss. El...|female|58.0|       1|     1|          113783|  26.55|\n",
      "|         13|Saundercock, Mr. ...|  male|20.0|       0|     3|       A/5. 2151|   8.05|\n",
      "|         14|Andersson, Mr. An...|  male|39.0|       0|     3|          347082| 31.275|\n",
      "|         15|Vestrom, Miss. Hu...|female|14.0|       0|     3|          350406| 7.8542|\n",
      "|         16|Hewlett, Mrs. (Ma...|female|55.0|       1|     2|          248706|   16.0|\n",
      "|         17|Rice, Master. Eugene|  male| 2.0|       0|     3|          382652| 29.125|\n",
      "|         18|Williams, Mr. Cha...|  male| NaN|       1|     2|          244373|   13.0|\n",
      "|         19|Vander Planke, Mr...|female|31.0|       0|     3|          345763|   18.0|\n",
      "|         20|Masselmani, Mrs. ...|female| NaN|       1|     3|            2649|  7.225|\n",
      "+-----------+--------------------+------+----+--------+------+----------------+-------+\n",
      "only showing top 20 rows\n",
      "\n"
     ]
    }
   ],
   "source": [
    "df.show()"
   ]
  },
  {
   "cell_type": "code",
   "execution_count": 137,
   "metadata": {},
   "outputs": [
    {
     "name": "stdout",
     "output_type": "stream",
     "text": [
      "root\n",
      " |-- PassengerId: integer (nullable = true)\n",
      " |-- Name: string (nullable = true)\n",
      " |-- Sex: string (nullable = true)\n",
      " |-- Age: float (nullable = true)\n",
      " |-- Survived: integer (nullable = true)\n",
      " |-- Pclass: integer (nullable = true)\n",
      " |-- Ticket: string (nullable = true)\n",
      " |-- Fare: float (nullable = true)\n",
      "\n"
     ]
    }
   ],
   "source": [
    "df.printSchema()"
   ]
  },
  {
   "cell_type": "code",
   "execution_count": 138,
   "metadata": {},
   "outputs": [
    {
     "data": {
      "text/plain": [
       "['PassengerId', 'Name', 'Sex', 'Age', 'Survived', 'Pclass', 'Ticket', 'Fare']"
      ]
     },
     "execution_count": 138,
     "metadata": {},
     "output_type": "execute_result"
    }
   ],
   "source": [
    "df.columns"
   ]
  },
  {
   "cell_type": "code",
   "execution_count": 139,
   "metadata": {},
   "outputs": [
    {
     "data": {
      "text/plain": [
       "891"
      ]
     },
     "execution_count": 139,
     "metadata": {},
     "output_type": "execute_result"
    }
   ],
   "source": [
    "df.count()"
   ]
  },
  {
   "cell_type": "code",
   "execution_count": 140,
   "metadata": {},
   "outputs": [
    {
     "name": "stdout",
     "output_type": "stream",
     "text": [
      "+-------+----+\n",
      "|summary| Age|\n",
      "+-------+----+\n",
      "|  count| 891|\n",
      "|   mean| NaN|\n",
      "| stddev| NaN|\n",
      "|    min|0.42|\n",
      "|    max| NaN|\n",
      "+-------+----+\n",
      "\n"
     ]
    }
   ],
   "source": [
    "df.describe('Age').show()"
   ]
  },
  {
   "cell_type": "code",
   "execution_count": 141,
   "metadata": {},
   "outputs": [
    {
     "name": "stdout",
     "output_type": "stream",
     "text": [
      "+----+-------+\n",
      "| Age|   Fare|\n",
      "+----+-------+\n",
      "|22.0|   7.25|\n",
      "|38.0|71.2833|\n",
      "|26.0|  7.925|\n",
      "|35.0|   53.1|\n",
      "|35.0|   8.05|\n",
      "| NaN| 8.4583|\n",
      "|54.0|51.8625|\n",
      "| 2.0| 21.075|\n",
      "|27.0|11.1333|\n",
      "|14.0|30.0708|\n",
      "| 4.0|   16.7|\n",
      "|58.0|  26.55|\n",
      "|20.0|   8.05|\n",
      "|39.0| 31.275|\n",
      "|14.0| 7.8542|\n",
      "|55.0|   16.0|\n",
      "| 2.0| 29.125|\n",
      "| NaN|   13.0|\n",
      "|31.0|   18.0|\n",
      "| NaN|  7.225|\n",
      "+----+-------+\n",
      "only showing top 20 rows\n",
      "\n"
     ]
    }
   ],
   "source": [
    "df.select('Age','Fare').show()"
   ]
  },
  {
   "cell_type": "code",
   "execution_count": 142,
   "metadata": {},
   "outputs": [
    {
     "name": "stdout",
     "output_type": "stream",
     "text": [
      "+-----------+--------------------+------+----+--------+------+----------------+--------+\n",
      "|PassengerId|                Name|   Sex| Age|Survived|Pclass|          Ticket|    Fare|\n",
      "+-----------+--------------------+------+----+--------+------+----------------+--------+\n",
      "|          2|Cumings, Mrs. Joh...|female|38.0|       1|     1|        PC 17599| 71.2833|\n",
      "|          3|Heikkinen, Miss. ...|female|26.0|       1|     3|STON/O2. 3101282|   7.925|\n",
      "|          4|Futrelle, Mrs. Ja...|female|35.0|       1|     1|          113803|    53.1|\n",
      "|          9|Johnson, Mrs. Osc...|female|27.0|       1|     3|          347742| 11.1333|\n",
      "|         10|Nasser, Mrs. Nich...|female|14.0|       1|     2|          237736| 30.0708|\n",
      "|         11|Sandstrom, Miss. ...|female| 4.0|       1|     3|         PP 9549|    16.7|\n",
      "|         12|Bonnell, Miss. El...|female|58.0|       1|     1|          113783|   26.55|\n",
      "|         16|Hewlett, Mrs. (Ma...|female|55.0|       1|     2|          248706|    16.0|\n",
      "|         18|Williams, Mr. Cha...|  male| NaN|       1|     2|          244373|    13.0|\n",
      "|         20|Masselmani, Mrs. ...|female| NaN|       1|     3|            2649|   7.225|\n",
      "|         22|Beesley, Mr. Lawr...|  male|34.0|       1|     2|          248698|    13.0|\n",
      "|         23|McGowan, Miss. An...|female|15.0|       1|     3|          330923|  8.0292|\n",
      "|         24|Sloper, Mr. Willi...|  male|28.0|       1|     1|          113788|    35.5|\n",
      "|         26|Asplund, Mrs. Car...|female|38.0|       1|     3|          347077| 31.3875|\n",
      "|         29|O'Dwyer, Miss. El...|female| NaN|       1|     3|          330959|  7.8792|\n",
      "|         32|Spencer, Mrs. Wil...|female| NaN|       1|     1|        PC 17569|146.5208|\n",
      "|         33|Glynn, Miss. Mary...|female| NaN|       1|     3|          335677|    7.75|\n",
      "|         37|    Mamee, Mr. Hanna|  male| NaN|       1|     3|            2677|  7.2292|\n",
      "|         40|Nicola-Yarred, Mi...|female|14.0|       1|     3|            2651| 11.2417|\n",
      "|         44|Laroche, Miss. Si...|female| 3.0|       1|     2|   SC/Paris 2123| 41.5792|\n",
      "+-----------+--------------------+------+----+--------+------+----------------+--------+\n",
      "only showing top 20 rows\n",
      "\n"
     ]
    }
   ],
   "source": [
    "df.filter(df.Survived==1).show()"
   ]
  },
  {
   "cell_type": "code",
   "execution_count": 143,
   "metadata": {},
   "outputs": [
    {
     "data": {
      "text/plain": [
       "342"
      ]
     },
     "execution_count": 143,
     "metadata": {},
     "output_type": "execute_result"
    }
   ],
   "source": [
    "df.filter(df.Survived==1).count()"
   ]
  },
  {
   "cell_type": "code",
   "execution_count": 149,
   "metadata": {},
   "outputs": [
    {
     "name": "stdout",
     "output_type": "stream",
     "text": [
      "+-----------+--------------------+----+----+--------+------+---------------+-------+\n",
      "|PassengerId|                Name| Sex| Age|Survived|Pclass|         Ticket|   Fare|\n",
      "+-----------+--------------------+----+----+--------+------+---------------+-------+\n",
      "|          1|Braund, Mr. Owen ...|male|22.0|       0|     3|      A/5 21171|   7.25|\n",
      "|          5|Allen, Mr. Willia...|male|35.0|       0|     3|         373450|   8.05|\n",
      "|          6|    Moran, Mr. James|male| NaN|       0|     3|         330877| 8.4583|\n",
      "|          7|McCarthy, Mr. Tim...|male|54.0|       0|     1|          17463|51.8625|\n",
      "|          8|Palsson, Master. ...|male| 2.0|       0|     3|         349909| 21.075|\n",
      "|         13|Saundercock, Mr. ...|male|20.0|       0|     3|      A/5. 2151|   8.05|\n",
      "|         14|Andersson, Mr. An...|male|39.0|       0|     3|         347082| 31.275|\n",
      "|         17|Rice, Master. Eugene|male| 2.0|       0|     3|         382652| 29.125|\n",
      "|         21|Fynney, Mr. Joseph J|male|35.0|       0|     2|         239865|   26.0|\n",
      "|         27|Emir, Mr. Farred ...|male| NaN|       0|     3|           2631|  7.225|\n",
      "|         28|Fortune, Mr. Char...|male|19.0|       0|     1|          19950|  263.0|\n",
      "|         30| Todoroff, Mr. Lalio|male| NaN|       0|     3|         349216| 7.8958|\n",
      "|         31|Uruchurtu, Don. M...|male|40.0|       0|     1|       PC 17601|27.7208|\n",
      "|         34|Wheadon, Mr. Edwa...|male|66.0|       0|     2|     C.A. 24579|   10.5|\n",
      "|         35|Meyer, Mr. Edgar ...|male|28.0|       0|     1|       PC 17604|82.1708|\n",
      "|         36|Holverson, Mr. Al...|male|42.0|       0|     1|         113789|   52.0|\n",
      "|         38|Cann, Mr. Ernest ...|male|21.0|       0|     3|     A./5. 2152|   8.05|\n",
      "|         43| Kraeff, Mr. Theodor|male| NaN|       0|     3|         349253| 7.8958|\n",
      "|         46|Rogers, Mr. Willi...|male| NaN|       0|     3|S.C./A.4. 23567|   8.05|\n",
      "|         47|   Lennon, Mr. Denis|male| NaN|       0|     3|         370371|   15.5|\n",
      "+-----------+--------------------+----+----+--------+------+---------------+-------+\n",
      "only showing top 20 rows\n",
      "\n"
     ]
    }
   ],
   "source": [
    "df.filter((df.Sex==\"male\") & (df.Survived==0)).show()"
   ]
  },
  {
   "cell_type": "code",
   "execution_count": 150,
   "metadata": {},
   "outputs": [
    {
     "name": "stdout",
     "output_type": "stream",
     "text": [
      "+-----------+--------------------+----+----+--------+------+------+------+\n",
      "|PassengerId|                Name| Sex| Age|Survived|Pclass|Ticket|  Fare|\n",
      "+-----------+--------------------+----+----+--------+------+------+------+\n",
      "|        598| Johnson, Mr. Alfred|male|49.0|       0|     3|  LINE|   0.0|\n",
      "|        634|Parr, Mr. William...|male| NaN|       0|     1|112052|   0.0|\n",
      "|        823|Reuchlin, Jonkhee...|male|38.0|       0|     1| 19972|   0.0|\n",
      "|        675|Watson, Mr. Ennis...|male| NaN|       0|     2|239856|   0.0|\n",
      "|        807|Andrews, Mr. Thom...|male|39.0|       0|     1|112050|   0.0|\n",
      "|        414|Cunningham, Mr. A...|male| NaN|       0|     2|239853|   0.0|\n",
      "|        180| Leonard, Mr. Lionel|male|36.0|       0|     3|  LINE|   0.0|\n",
      "|        272|Tornquist, Mr. Wi...|male|25.0|       1|     3|  LINE|   0.0|\n",
      "|        482|Frost, Mr. Anthon...|male| NaN|       0|     2|239854|   0.0|\n",
      "|        264|Harrison, Mr. Wil...|male|40.0|       0|     1|112059|   0.0|\n",
      "|        733|Knight, Mr. Robert J|male| NaN|       0|     2|239855|   0.0|\n",
      "|        278|Parkes, Mr. Franc...|male| NaN|       0|     2|239853|   0.0|\n",
      "|        816|    Fry, Mr. Richard|male| NaN|       0|     1|112058|   0.0|\n",
      "|        303|Johnson, Mr. Will...|male|19.0|       0|     3|  LINE|   0.0|\n",
      "|        467|Campbell, Mr. Wil...|male| NaN|       0|     2|239853|   0.0|\n",
      "|        379| Betros, Mr. Tannous|male|20.0|       0|     3|  2648|4.0125|\n",
      "|        873|Carlsson, Mr. Fra...|male|33.0|       0|     1|   695|   5.0|\n",
      "|        327|Nysveen, Mr. Joha...|male|61.0|       0|     3|345364|6.2375|\n",
      "|        844|Lemberopolous, Mr...|male|34.5|       0|     3|  2683|6.4375|\n",
      "|        819|Holm, Mr. John Fr...|male|43.0|       0|     3|C 7075|  6.45|\n",
      "+-----------+--------------------+----+----+--------+------+------+------+\n",
      "only showing top 20 rows\n",
      "\n"
     ]
    }
   ],
   "source": [
    "df.orderBy(df.Fare).show()"
   ]
  },
  {
   "cell_type": "code",
   "execution_count": 151,
   "metadata": {},
   "outputs": [
    {
     "name": "stdout",
     "output_type": "stream",
     "text": [
      "+-----------+--------------------+------+----+--------+------+--------+--------+\n",
      "|PassengerId|                Name|   Sex| Age|Survived|Pclass|  Ticket|    Fare|\n",
      "+-----------+--------------------+------+----+--------+------+--------+--------+\n",
      "|        738|Lesurer, Mr. Gust...|  male|35.0|       1|     1|PC 17755|512.3292|\n",
      "|        259|    Ward, Miss. Anna|female|35.0|       1|     1|PC 17755|512.3292|\n",
      "|        680|Cardeza, Mr. Thom...|  male|36.0|       1|     1|PC 17755|512.3292|\n",
      "|         89|Fortune, Miss. Ma...|female|23.0|       1|     1|   19950|   263.0|\n",
      "|         28|Fortune, Mr. Char...|  male|19.0|       0|     1|   19950|   263.0|\n",
      "|        342|Fortune, Miss. Al...|female|24.0|       1|     1|   19950|   263.0|\n",
      "|        439|   Fortune, Mr. Mark|  male|64.0|       0|     1|   19950|   263.0|\n",
      "|        743|Ryerson, Miss. Su...|female|21.0|       1|     1|PC 17608| 262.375|\n",
      "|        312|Ryerson, Miss. Em...|female|18.0|       1|     1|PC 17608| 262.375|\n",
      "|        119|Baxter, Mr. Quigg...|  male|24.0|       0|     1|PC 17558|247.5208|\n",
      "|        300|Baxter, Mrs. Jame...|female|50.0|       1|     1|PC 17558|247.5208|\n",
      "|        558| Robbins, Mr. Victor|  male| NaN|       0|     1|PC 17757| 227.525|\n",
      "|        717|Endres, Miss. Car...|female|38.0|       1|     1|PC 17757| 227.525|\n",
      "|        701|Astor, Mrs. John ...|female|18.0|       1|     1|PC 17757| 227.525|\n",
      "|        381|Bidois, Miss. Ros...|female|42.0|       1|     1|PC 17757| 227.525|\n",
      "|        528|  Farthing, Mr. John|  male| NaN|       0|     1|PC 17483|221.7792|\n",
      "|        378|Widener, Mr. Harr...|  male|27.0|       0|     1|  113503|   211.5|\n",
      "|        690|Madill, Miss. Geo...|female|15.0|       1|     1|   24160|211.3375|\n",
      "|        780|Robert, Mrs. Edwa...|female|43.0|       1|     1|   24160|211.3375|\n",
      "|        731|Allen, Miss. Elis...|female|29.0|       1|     1|   24160|211.3375|\n",
      "+-----------+--------------------+------+----+--------+------+--------+--------+\n",
      "only showing top 20 rows\n",
      "\n"
     ]
    }
   ],
   "source": [
    "df.orderBy(df.Fare, ascending=False).show()"
   ]
  },
  {
   "cell_type": "code",
   "execution_count": 169,
   "metadata": {},
   "outputs": [
    {
     "data": {
      "text/plain": [
       "[Row(max(Fare)=512.3292236328125)]"
      ]
     },
     "execution_count": 169,
     "metadata": {},
     "output_type": "execute_result"
    }
   ],
   "source": [
    "maximo=df.agg({\"Fare\": \"max\"}).collect()\n",
    "maximo"
   ]
  },
  {
   "cell_type": "code",
   "execution_count": 172,
   "metadata": {},
   "outputs": [
    {
     "data": {
      "text/plain": [
       "Row(min(Fare)=0.0)"
      ]
     },
     "execution_count": 172,
     "metadata": {},
     "output_type": "execute_result"
    }
   ],
   "source": [
    "minimo=df.agg({\"Fare\": \"min\"}).collect()[0]\n",
    "minimo"
   ]
  },
  {
   "cell_type": "code",
   "execution_count": null,
   "metadata": {},
   "outputs": [],
   "source": [
    "def sdTemperature(df,spark):\n",
    "    temprddrow = df.select('temperature').rdd #in row(temp=x) format\n",
    "    temprdd = temprddrow.map(lambda (x) : x[\"temperature\"]) #only numbers\n",
    "    temp = temprdd.filter(lambda x: x is not None).filter(lambda x: x != \"\") #remove None params\n",
    "    n = float(temp.count())\n",
    "    sum=temp.sum()\n",
    "    mean =sum/n\n",
    "    from math import sqrt\n",
    "    sd=sqrt(temp.map(lambda x : pow(x-mean,2)).sum()/n)\n",
    "    print sd\n",
    "    return sd##INSERT YOUR CODE HERE##"
   ]
  },
  {
   "cell_type": "code",
   "execution_count": 211,
   "metadata": {},
   "outputs": [
    {
     "data": {
      "text/plain": [
       "[Row(Fare=7.25),\n",
       " Row(Fare=71.2833023071289),\n",
       " Row(Fare=7.925000190734863),\n",
       " Row(Fare=53.099998474121094),\n",
       " Row(Fare=8.050000190734863),\n",
       " Row(Fare=8.45829963684082),\n",
       " Row(Fare=51.86249923706055),\n",
       " Row(Fare=21.075000762939453),\n",
       " Row(Fare=11.133299827575684),\n",
       " Row(Fare=30.07080078125)]"
      ]
     },
     "execution_count": 211,
     "metadata": {},
     "output_type": "execute_result"
    }
   ],
   "source": [
    "a=df.select(\"Fare\").rdd.collect()[0:10].mao\n",
    "a"
   ]
  },
  {
   "cell_type": "code",
   "execution_count": 216,
   "metadata": {},
   "outputs": [
    {
     "data": {
      "text/plain": [
       "32.20420804114722"
      ]
     },
     "execution_count": 216,
     "metadata": {},
     "output_type": "execute_result"
    }
   ],
   "source": [
    "sexrdd = df.select(\"Fare\").rdd\n",
    "srdd = sexrdd.map(lambda x : x[0])\n",
    "promedio = srdd.sum()/srdd.count()\n",
    "promedio"
   ]
  },
  {
   "cell_type": "code",
   "execution_count": null,
   "metadata": {},
   "outputs": [],
   "source": []
  },
  {
   "cell_type": "code",
   "execution_count": 6,
   "metadata": {},
   "outputs": [],
   "source": [
    "rdd = sc.parallelize([\"a\",\"a\",\"a\",\"b\",\"b\",\"d\"])"
   ]
  },
  {
   "cell_type": "code",
   "execution_count": 10,
   "metadata": {},
   "outputs": [],
   "source": [
    "xx=rdd.map(lambda palabra : (palabra,1)).reduceByKey(lambda a , b: a + b)"
   ]
  },
  {
   "cell_type": "code",
   "execution_count": 11,
   "metadata": {},
   "outputs": [
    {
     "data": {
      "text/plain": [
       "[('b', 2), ('d', 1), ('a', 3)]"
      ]
     },
     "execution_count": 11,
     "metadata": {},
     "output_type": "execute_result"
    }
   ],
   "source": [
    "xx.collect()"
   ]
  },
  {
   "cell_type": "code",
   "execution_count": null,
   "metadata": {},
   "outputs": [],
   "source": []
  }
 ],
 "metadata": {
  "kernelspec": {
   "display_name": "Python 3",
   "language": "python",
   "name": "python3"
  },
  "language_info": {
   "codemirror_mode": {
    "name": "ipython",
    "version": 3
   },
   "file_extension": ".py",
   "mimetype": "text/x-python",
   "name": "python",
   "nbconvert_exporter": "python",
   "pygments_lexer": "ipython3",
   "version": "3.7.4"
  }
 },
 "nbformat": 4,
 "nbformat_minor": 1
}
