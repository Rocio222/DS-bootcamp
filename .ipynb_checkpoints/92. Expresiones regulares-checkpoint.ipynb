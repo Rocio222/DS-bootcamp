{
 "cells": [
  {
   "cell_type": "markdown",
   "metadata": {},
   "source": [
    "# Expresiones regulares"
   ]
  },
  {
   "cell_type": "markdown",
   "metadata": {},
   "source": [
    "#### Una expresión regular es una fórmula en un lenguaje especial que se utiliza para especiﬁcar clases particulares de texto que siguen algún patrón."
   ]
  },
  {
   "cell_type": "code",
   "execution_count": 1,
   "metadata": {},
   "outputs": [],
   "source": [
    "import re"
   ]
  },
  {
   "cell_type": "markdown",
   "metadata": {},
   "source": [
    "la función `compile()` de la libreria `re` se utiliza para deﬁnir una expresión regular, en este caso sólo usamos una palabra tal cual."
   ]
  },
  {
   "cell_type": "markdown",
   "metadata": {},
   "source": [
    "Al utilizar expresiones regulares, se debe añadir una `r` antes del texto. De esta manera, Python sabe que no debe esperar caracteres especiales, más que de expresiones regulares. "
   ]
  },
  {
   "cell_type": "markdown",
   "metadata": {},
   "source": [
    "Esta es una función del módulo re, y le indica a Python que el texto que recibe como parámetro es una expresión regular y debe interpretarse como tal. "
   ]
  },
  {
   "cell_type": "code",
   "execution_count": 38,
   "metadata": {},
   "outputs": [
    {
     "name": "stdout",
     "output_type": "stream",
     "text": [
      "re.compile('.')\n"
     ]
    },
    {
     "data": {
      "text/plain": [
       "<re.Match object; span=(0, 1), match='Y'>"
      ]
     },
     "execution_count": 38,
     "metadata": {},
     "output_type": "execute_result"
    }
   ],
   "source": [
    "texto = \"Yann Lecun es un científico que trabaja en los campos de Aprendizaje Automático y Neurociencia Computacional.\"\n",
    "expresion_regular=re.compile(r\"Lecun\") # Esto crea un objeto del tipo expresión regular\n",
    "print(expresion_regular)\n",
    "resultado_busqueda=expresion_regular.search(texto)\n",
    "resultado_busqueda"
   ]
  },
  {
   "cell_type": "code",
   "execution_count": 3,
   "metadata": {},
   "outputs": [
    {
     "data": {
      "text/plain": [
       "(5, 10)"
      ]
     },
     "execution_count": 3,
     "metadata": {},
     "output_type": "execute_result"
    }
   ],
   "source": [
    "resultado_busqueda.span()"
   ]
  },
  {
   "cell_type": "code",
   "execution_count": 4,
   "metadata": {},
   "outputs": [
    {
     "data": {
      "text/plain": [
       "<re.Match object; span=(5, 10), match='Lecun'>"
      ]
     },
     "execution_count": 4,
     "metadata": {},
     "output_type": "execute_result"
    }
   ],
   "source": [
    "re.search(r'Lecun', texto) #También podemos utilizar la función de la siguiente manera"
   ]
  },
  {
   "cell_type": "code",
   "execution_count": 5,
   "metadata": {},
   "outputs": [
    {
     "data": {
      "text/plain": [
       "(5, 10)"
      ]
     },
     "execution_count": 5,
     "metadata": {},
     "output_type": "execute_result"
    }
   ],
   "source": [
    "re.search(r'Lecun', texto).span()"
   ]
  },
  {
   "cell_type": "markdown",
   "metadata": {},
   "source": [
    "Para mostrar el resultado, se usa: group(0). Esto quiere decir que queremos el primer grupo del resultado. Es posible hacer agrupaciones dentro de las expresiones regulares."
   ]
  },
  {
   "cell_type": "code",
   "execution_count": 8,
   "metadata": {},
   "outputs": [
    {
     "data": {
      "text/plain": [
       "'Lecun'"
      ]
     },
     "execution_count": 8,
     "metadata": {},
     "output_type": "execute_result"
    }
   ],
   "source": [
    "resultado_busqueda.group(0)"
   ]
  },
  {
   "cell_type": "code",
   "execution_count": 9,
   "metadata": {},
   "outputs": [
    {
     "data": {
      "text/plain": [
       "(5, 10)"
      ]
     },
     "execution_count": 9,
     "metadata": {},
     "output_type": "execute_result"
    }
   ],
   "source": [
    "resultado_busqueda.span(0)"
   ]
  },
  {
   "cell_type": "markdown",
   "metadata": {},
   "source": [
    " Algo a considerar, es que la función `search()` va a regresar únicamente la primer coincidencia que encuentre, para encontrar todas, se utiliza la función `finditer()`\n"
   ]
  },
  {
   "cell_type": "code",
   "execution_count": 12,
   "metadata": {},
   "outputs": [
    {
     "name": "stdout",
     "output_type": "stream",
     "text": [
      "<callable_iterator object at 0x7fbdcaf91b90>\n",
      "Lecun\n",
      "(5, 10)\n",
      "Lecun\n",
      "(34, 39)\n"
     ]
    }
   ],
   "source": [
    "texto2=\"Yann Lecun es un científico. Yann Lecun trabaja en los campos de Aprendizaje Automático y Neurociencia Computacional.\"\n",
    "\n",
    "expresion_regular=re.compile(r\"Lecun\") \n",
    "resultados_busqueda=expresion_regular.finditer(texto2)\n",
    "print(resultados_busqueda)\n",
    "for resultado in resultados_busqueda: \n",
    "    print(resultado.group(0))\n",
    "    print(resultado.span())\n",
    "\n",
    "#Esta función tiene el mismo comportamiento que search() \n",
    "#pero regresa todas las coincidencias, para entrar a cada una de ellas, \n",
    "#es necesario usar un bucle para recorrer la variable como si fuera una lista"
   ]
  },
  {
   "cell_type": "code",
   "execution_count": 13,
   "metadata": {},
   "outputs": [
    {
     "data": {
      "text/plain": [
       "<callable_iterator at 0x7fbdcaf91b90>"
      ]
     },
     "execution_count": 13,
     "metadata": {},
     "output_type": "execute_result"
    }
   ],
   "source": [
    "resultados_busqueda #Objeto iterador "
   ]
  },
  {
   "cell_type": "markdown",
   "metadata": {},
   "source": [
    "También podemos utilizar la función findall para encontrar coincidencias:"
   ]
  },
  {
   "cell_type": "code",
   "execution_count": 14,
   "metadata": {},
   "outputs": [
    {
     "data": {
      "text/plain": [
       "['Lecun', 'Lecun']"
      ]
     },
     "execution_count": 14,
     "metadata": {},
     "output_type": "execute_result"
    }
   ],
   "source": [
    "re.findall(r\"Lecun\", texto2)"
   ]
  },
  {
   "cell_type": "markdown",
   "metadata": {},
   "source": [
    "En el siguiente caso buscamos a través de dos cadenas "
   ]
  },
  {
   "cell_type": "code",
   "execution_count": 15,
   "metadata": {},
   "outputs": [
    {
     "data": {
      "text/plain": [
       "['Yann', 'Lecun', 'Yann', 'Lecun']"
      ]
     },
     "execution_count": 15,
     "metadata": {},
     "output_type": "execute_result"
    }
   ],
   "source": [
    "re.findall(r\"Lecun|Yann\", texto2)"
   ]
  },
  {
   "cell_type": "markdown",
   "metadata": {},
   "source": [
    "Para dividir una cadena utilizamos la función split()"
   ]
  },
  {
   "cell_type": "code",
   "execution_count": 16,
   "metadata": {},
   "outputs": [
    {
     "data": {
      "text/plain": [
       "['Yann',\n",
       " 'Lecun',\n",
       " 'es',\n",
       " 'un',\n",
       " 'científico',\n",
       " 'que',\n",
       " 'trabaja',\n",
       " 'en',\n",
       " 'los',\n",
       " 'campos',\n",
       " 'de',\n",
       " 'Aprendizaje',\n",
       " 'Automático',\n",
       " 'y',\n",
       " 'Neurociencia',\n",
       " 'Computacional.']"
      ]
     },
     "execution_count": 16,
     "metadata": {},
     "output_type": "execute_result"
    }
   ],
   "source": [
    "re.split(\" \", texto)"
   ]
  },
  {
   "cell_type": "markdown",
   "metadata": {},
   "source": [
    "La función re.sub() funciona similar a replace()"
   ]
  },
  {
   "cell_type": "code",
   "execution_count": 17,
   "metadata": {},
   "outputs": [
    {
     "data": {
      "text/plain": [
       "'Yann Lecun es un científico que trabaja en los campos de Aprendizaje Automático y Neurociencia Computacional.'"
      ]
     },
     "execution_count": 17,
     "metadata": {},
     "output_type": "execute_result"
    }
   ],
   "source": [
    "texto"
   ]
  },
  {
   "cell_type": "code",
   "execution_count": 18,
   "metadata": {},
   "outputs": [
    {
     "data": {
      "text/plain": [
       "'Yoshua Bengio es un científico que trabaja en los campos de Aprendizaje Automático y Neurociencia Computacional.'"
      ]
     },
     "execution_count": 18,
     "metadata": {},
     "output_type": "execute_result"
    }
   ],
   "source": [
    "re.sub(\"Yann Lecun\", \"Yoshua Bengio\", texto)"
   ]
  },
  {
   "cell_type": "markdown",
   "metadata": {},
   "source": [
    "### Utilizamos funciones especiales de re, para generar patrones\n",
    "\n",
    "Utilizamos el concepto de metacaracter: Símbolos que tienen un significado especial cuando se colocan dentro de una expresión regular"
   ]
  },
  {
   "cell_type": "markdown",
   "metadata": {},
   "source": [
    "**El asterisco** lo utilizamos para indicar cero o más coincidencias del carácter que viene inmediatamente antes del metacaracter\n"
   ]
  },
  {
   "cell_type": "code",
   "execution_count": 23,
   "metadata": {},
   "outputs": [
    {
     "name": "stdout",
     "output_type": "stream",
     "text": [
      "Goo\n",
      "Gooo\n",
      "Goooo\n"
     ]
    }
   ],
   "source": [
    "texto = \"Google Gooogle Goooogle\"\n",
    "\n",
    "expresion_regular=re.compile(r\"Goo*\") \n",
    "resultados_busqueda=expresion_regular.finditer(texto)\n",
    "for resultado in resultados_busqueda:\n",
    "    print(resultado.group(0))"
   ]
  },
  {
   "cell_type": "code",
   "execution_count": 21,
   "metadata": {},
   "outputs": [
    {
     "name": "stdout",
     "output_type": "stream",
     "text": [
      "Goo\n",
      "Gooo\n",
      "Goooo\n",
      "G\n",
      "Goo\n"
     ]
    }
   ],
   "source": [
    "#El asterisco nos devuelve cero o más coincidencias por eso en el ejemplo de Gle nos esta devolviendo la G \n",
    "\n",
    "texto = \"Google Gooogle Goooogle Gle Goo\"\n",
    "\n",
    "expresion_regular=re.compile(r\"Go*\") \n",
    "resultados_busqueda=expresion_regular.finditer(texto)\n",
    "for resultado in resultados_busqueda:\n",
    "    print(resultado.group(0))"
   ]
  },
  {
   "cell_type": "markdown",
   "metadata": {},
   "source": [
    "Un efecto similar al asterisco lo logra el **símbolo de suma ‘+’.**  La diferencia radica en que la suma signiﬁca al menos una coincidencia"
   ]
  },
  {
   "cell_type": "code",
   "execution_count": 24,
   "metadata": {},
   "outputs": [
    {
     "name": "stdout",
     "output_type": "stream",
     "text": [
      "Goo\n",
      "Gooo\n",
      "Goooo\n",
      "Goo\n"
     ]
    }
   ],
   "source": [
    "texto = \"Google Gooogle Goooogle Gle Goo\"\n",
    "\n",
    "expresion_regular=re.compile(r\"Go+\") \n",
    "resultados_busqueda=expresion_regular.finditer(texto)\n",
    "for resultado in resultados_busqueda:\n",
    "    print(resultado.group(0))"
   ]
  },
  {
   "cell_type": "markdown",
   "metadata": {},
   "source": [
    "**El punto** sirve para encontrar un caracter (el que sea) inmediatamente después de la cadena que se utiliza"
   ]
  },
  {
   "cell_type": "code",
   "execution_count": 25,
   "metadata": {},
   "outputs": [
    {
     "name": "stdout",
     "output_type": "stream",
     "text": [
      "<re.Match object; span=(22, 24), match='íf'>\n"
     ]
    }
   ],
   "source": [
    "texto = 'Yann Lecun es un científico que trabaja en los campos de Aprendizaje Automático y Neurociencia Computacional.'\n",
    "\n",
    "expresion_regular=re.compile(r\"í.\") \n",
    "resultados_busqueda=expresion_regular.search(texto)\n",
    "print(resultados_busqueda)"
   ]
  },
  {
   "cell_type": "code",
   "execution_count": 26,
   "metadata": {},
   "outputs": [
    {
     "data": {
      "text/plain": [
       "'íf'"
      ]
     },
     "execution_count": 26,
     "metadata": {},
     "output_type": "execute_result"
    }
   ],
   "source": [
    "resultados_busqueda.group(0)"
   ]
  },
  {
   "cell_type": "code",
   "execution_count": 27,
   "metadata": {},
   "outputs": [
    {
     "name": "stdout",
     "output_type": "stream",
     "text": [
      "amigos\n",
      "amigas\n",
      "amig@s\n"
     ]
    }
   ],
   "source": [
    "texto = \"amigos, amigas amig@s\"\n",
    "expresion_regular=re.compile(r\"amig.s\") \n",
    "resultados_busqueda=expresion_regular.finditer(texto)\n",
    "for resultado in resultados_busqueda:\n",
    "    print(resultado.group(0))"
   ]
  },
  {
   "cell_type": "markdown",
   "metadata": {},
   "source": [
    "El signo de interrogación se utiliza para indicar \"Como máximo una coincidencia\" del carácter que viene inmediatamente antes"
   ]
  },
  {
   "cell_type": "code",
   "execution_count": 32,
   "metadata": {},
   "outputs": [
    {
     "name": "stdout",
     "output_type": "stream",
     "text": [
      "oscuro\n",
      "obscuro\n"
     ]
    }
   ],
   "source": [
    "texto = \"oscuro, obscuro \"\n",
    "expresion_regular=re.compile(r\"o(b)?scuro\") \n",
    "resultados_busqueda=expresion_regular.finditer(texto)\n",
    "for resultado in resultados_busqueda:\n",
    "    print(resultado.group(0))"
   ]
  },
  {
   "cell_type": "markdown",
   "metadata": {},
   "source": [
    "El siguiente símbolo especial: `$`. Se utiliza para indicar el ﬁnal del texto.\n"
   ]
  },
  {
   "cell_type": "code",
   "execution_count": 34,
   "metadata": {},
   "outputs": [
    {
     "name": "stdout",
     "output_type": "stream",
     "text": [
      ".\n"
     ]
    }
   ],
   "source": [
    "texto= \"Fin del comunicado\"\n",
    "expresion_regular=re.compile(r\".$\") \n",
    "resultado_busqueda=expresion_regular.search(texto)\n",
    "print(resultado_busqueda.group(0))"
   ]
  },
  {
   "cell_type": "markdown",
   "metadata": {},
   "source": [
    "El siguiente simbolo especial es: {n}, indica exactamente \"n\" coincidencias del carácter anterior"
   ]
  },
  {
   "cell_type": "code",
   "execution_count": 40,
   "metadata": {},
   "outputs": [
    {
     "name": "stdout",
     "output_type": "stream",
     "text": [
      "Gooogle\n"
     ]
    }
   ],
   "source": [
    "texto = \"Google Gooogle Goooogle\"\n",
    "\n",
    "\n",
    "expresion_regular=re.compile(\"Go{3}gle\") \n",
    "resultados_busqueda=expresion_regular.finditer(texto)\n",
    "for resultado in resultados_busqueda:\n",
    "    print(resultado.group(0))"
   ]
  },
  {
   "cell_type": "markdown",
   "metadata": {},
   "source": [
    "El siguiente simbolo es: {n,m} indica “entre n y m coincidencias” del carácter anterior"
   ]
  },
  {
   "cell_type": "code",
   "execution_count": 41,
   "metadata": {},
   "outputs": [
    {
     "name": "stdout",
     "output_type": "stream",
     "text": [
      "Google\n",
      "Gooogle\n",
      "Goooogle\n"
     ]
    }
   ],
   "source": [
    "texto = \"Google Gooogle Goooogle G5555gle\"\n",
    "\n",
    "\n",
    "expresion_regular=re.compile(r\"Go{2,4}gle\") \n",
    "resultados_busqueda=expresion_regular.finditer(texto)\n",
    "for resultado in resultados_busqueda:\n",
    "    print(resultado.group(0))"
   ]
  },
  {
   "cell_type": "code",
   "execution_count": 42,
   "metadata": {},
   "outputs": [
    {
     "name": "stdout",
     "output_type": "stream",
     "text": [
      "Google\n",
      "Gooogle\n",
      "Goooogle\n",
      "G5555gle\n"
     ]
    }
   ],
   "source": [
    "texto = \"Google Gooogle Goooogle G5555gle\"\n",
    "\n",
    "\n",
    "expresion_regular=re.compile(r\"G.{2,4}gle\") \n",
    "resultados_busqueda=expresion_regular.finditer(texto)\n",
    "for resultado in resultados_busqueda:\n",
    "    print(resultado.group(0))"
   ]
  },
  {
   "cell_type": "code",
   "execution_count": 43,
   "metadata": {},
   "outputs": [
    {
     "name": "stdout",
     "output_type": "stream",
     "text": [
      "#IA\n"
     ]
    }
   ],
   "source": [
    "texto4 = \"Yann Lecun @ylecun es un científico #IA #@ #DataScience #Yann #1 #hola\"\n",
    "expresion_regular=re.compile(r\"#[A-z]+\")  #Busca una coincidencia con todo el alfabeto \n",
    "resultado_busqueda=expresion_regular.search(texto4)\n",
    "print(resultado_busqueda.group(0))"
   ]
  },
  {
   "cell_type": "code",
   "execution_count": 44,
   "metadata": {},
   "outputs": [
    {
     "name": "stdout",
     "output_type": "stream",
     "text": [
      "#IA\n",
      "#DataScience\n",
      "#Yann\n",
      "#hola\n"
     ]
    }
   ],
   "source": [
    "expresion_regular=re.compile(r\"#[A-z]+\")\n",
    "resultados_busqueda=expresion_regular.finditer(texto4)\n",
    "for resultado in resultados_busqueda: \n",
    "    print(resultado.group(0))"
   ]
  },
  {
   "cell_type": "code",
   "execution_count": 45,
   "metadata": {},
   "outputs": [
    {
     "name": "stdout",
     "output_type": "stream",
     "text": [
      "#IA\n",
      "#DataScience\n",
      "#Yann\n",
      "#1\n",
      "#hola\n"
     ]
    }
   ],
   "source": [
    "expresion_regular=re.compile(r\"#[A-z0-9]+\") #Busca una coincidencia con todo el alfabeto o números\n",
    "resultados_busqueda=expresion_regular.finditer(texto4)\n",
    "for resultado in resultados_busqueda: \n",
    "    print(resultado.group(0))"
   ]
  },
  {
   "cell_type": "code",
   "execution_count": 46,
   "metadata": {},
   "outputs": [
    {
     "name": "stdout",
     "output_type": "stream",
     "text": [
      "#IA #@ #DataScience #Yann #1 #hola\n"
     ]
    }
   ],
   "source": [
    "expresion_regular=re.compile(r\"#[A-z0-9\\D]+\") #Busca una coincidencia con todo el alfabeto, números y símbolos\n",
    "resultados_busqueda=expresion_regular.finditer(texto4)\n",
    "for resultado in resultados_busqueda: \n",
    "    print(resultado.group(0))"
   ]
  },
  {
   "cell_type": "code",
   "execution_count": 47,
   "metadata": {},
   "outputs": [
    {
     "name": "stdout",
     "output_type": "stream",
     "text": [
      "#IA #@ #DataScience #Yann #\n",
      "#hola\n"
     ]
    }
   ],
   "source": [
    "expresion_regular=re.compile(r\"#[^0-9]+\") #Busca una coincidencia con todos los que no tengan números\n",
    "resultados_busqueda=expresion_regular.finditer(texto4)\n",
    "for resultado in resultados_busqueda: \n",
    "    print(resultado.group(0))"
   ]
  },
  {
   "cell_type": "code",
   "execution_count": null,
   "metadata": {},
   "outputs": [],
   "source": []
  }
 ],
 "metadata": {
  "kernelspec": {
   "display_name": "Python 3",
   "language": "python",
   "name": "python3"
  },
  "language_info": {
   "codemirror_mode": {
    "name": "ipython",
    "version": 3
   },
   "file_extension": ".py",
   "mimetype": "text/x-python",
   "name": "python",
   "nbconvert_exporter": "python",
   "pygments_lexer": "ipython3",
   "version": "3.7.4"
  }
 },
 "nbformat": 4,
 "nbformat_minor": 4
}
