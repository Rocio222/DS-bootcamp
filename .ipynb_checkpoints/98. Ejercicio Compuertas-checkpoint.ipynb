{
 "cells": [
  {
   "cell_type": "code",
   "execution_count": 1,
   "metadata": {},
   "outputs": [],
   "source": [
    "import numpy as np\n",
    "from random import seed"
   ]
  },
  {
   "cell_type": "code",
   "execution_count": 2,
   "metadata": {},
   "outputs": [],
   "source": [
    "#Neurona\n",
    "def Neurona(X, W, b):\n",
    "    X=np.array(X)\n",
    "    W=np.array(W)\n",
    "    return sum(W*X)+b"
   ]
  },
  {
   "cell_type": "code",
   "execution_count": 3,
   "metadata": {},
   "outputs": [],
   "source": [
    "#Función Escalón\n",
    "\n",
    "def Escalon(x):\n",
    "    if x<0:\n",
    "        return 1\n",
    "    else:\n",
    "        return 0"
   ]
  },
  {
   "cell_type": "markdown",
   "metadata": {},
   "source": [
    "# COMPUERTA AND\n",
    "<img src=\"http://codigoelectronica.com/attach/images/uploads/2017/01/im-compuerta-and.png\" alt=\"AND\" width=300px>"
   ]
  },
  {
   "cell_type": "code",
   "execution_count": 10,
   "metadata": {},
   "outputs": [
    {
     "name": "stdout",
     "output_type": "stream",
     "text": [
      "Z:  0.0\n",
      "Salidas:  0\n"
     ]
    }
   ],
   "source": [
    "#X es la entrada [A,B] \n",
    "X=[1,0]\n",
    "# W son los 2 pesos de las entradas (A y B) de la forma [W1, W2]\n",
    "W=[-0.5,-.25]\n",
    "# b es el bias o sesgo w0\n",
    "b=0.5\n",
    "Salida = Escalon(Neurona(X,W,b))\n",
    "print(\"Z: \", Neurona(X,W,b))\n",
    "print(\"Salidas: \",Salida)"
   ]
  },
  {
   "cell_type": "code",
   "execution_count": 11,
   "metadata": {},
   "outputs": [
    {
     "name": "stdout",
     "output_type": "stream",
     "text": [
      "Salidas: \n",
      "0\n",
      "0\n",
      "0\n",
      "1\n"
     ]
    }
   ],
   "source": [
    "#Variar las entradas de X\n",
    "W=[-0.5,-.25]\n",
    "b=0.5\n",
    "print(\"Salidas: \")\n",
    "for xi in [[0,0],[0,1],[1,0],[1,1]]:\n",
    "    Salida = Escalon(Neurona(xi,W,b))\n",
    "    print(Salida)"
   ]
  },
  {
   "cell_type": "markdown",
   "metadata": {},
   "source": [
    "# COMPUERTA OR\n",
    "\n",
    "<img src=\"http://codigoelectronica.com/attach/images/uploads/2017/01/im-compuerta-or.png\" alt=\"OR\" width=300px>"
   ]
  },
  {
   "cell_type": "code",
   "execution_count": null,
   "metadata": {},
   "outputs": [],
   "source": [
    "#Función Escalón\n",
    "\n",
    "def Escalon(x):\n",
    "    if x<0:\n",
    "        return 1\n",
    "    else:\n",
    "        return 0"
   ]
  },
  {
   "cell_type": "code",
   "execution_count": null,
   "metadata": {},
   "outputs": [],
   "source": []
  },
  {
   "cell_type": "markdown",
   "metadata": {},
   "source": [
    "# COMPUERTA NAND\n",
    "<img src=\"http://codigoelectronica.com/attach/images/uploads/2019/03/im-compuerta-nand.png\" alt=\"NAND\" width=300px>"
   ]
  },
  {
   "cell_type": "code",
   "execution_count": null,
   "metadata": {},
   "outputs": [],
   "source": []
  },
  {
   "cell_type": "markdown",
   "metadata": {},
   "source": [
    "# COMPUERTA XOR\n",
    "\n",
    "<img src=\"http://codigoelectronica.com/attach/images/uploads/2017/01/im-compuerta-xor.png\" alt=\"XOR\" width=300px>"
   ]
  },
  {
   "cell_type": "code",
   "execution_count": null,
   "metadata": {},
   "outputs": [],
   "source": []
  }
 ],
 "metadata": {
  "kernelspec": {
   "display_name": "Python 3",
   "language": "python",
   "name": "python3"
  },
  "language_info": {
   "codemirror_mode": {
    "name": "ipython",
    "version": 3
   },
   "file_extension": ".py",
   "mimetype": "text/x-python",
   "name": "python",
   "nbconvert_exporter": "python",
   "pygments_lexer": "ipython3",
   "version": "3.7.4"
  }
 },
 "nbformat": 4,
 "nbformat_minor": 4
}
