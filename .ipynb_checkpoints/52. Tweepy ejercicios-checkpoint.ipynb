{
 "cells": [
  {
   "cell_type": "markdown",
   "metadata": {},
   "source": [
    "## Parte 1"
   ]
  },
  {
   "cell_type": "code",
   "execution_count": 11,
   "metadata": {},
   "outputs": [],
   "source": [
    "import tweepy\n",
    "import pandas as pd\n",
    "from matplotlib import pyplot as plt\n",
    "import seaborn as sns"
   ]
  },
  {
   "cell_type": "code",
   "execution_count": 12,
   "metadata": {},
   "outputs": [],
   "source": [
    "import requests\n",
    "from time import sleep, strftime\n",
    "import random\n",
    "from random import randint\n",
    "from bs4 import BeautifulSoup\n",
    "from selenium import webdriver\n",
    "import shutil\n",
    "import pickle"
   ]
  },
  {
   "cell_type": "code",
   "execution_count": null,
   "metadata": {},
   "outputs": [],
   "source": [
    "consumer_key = 'HUvPsObIT3OnmzRJp5krSiY6E'\n",
    "consumer_secret = 'eCvk7zqv4tG0vN270xfslFZc3f9fEsW2yWY0TB9JwFa74hnzQF'\n",
    "access_token  = '202026406-G7fylY2jwUBKNXyhUVZo27niuHQYtcSbX1ZS1vWc'\n",
    "access_token_secret = '3dbN0F2OCPQJv2FqOxYRuB3GfEM9tm3bwdMdrxB5zJklY'"
   ]
  },
  {
   "cell_type": "code",
   "execution_count": null,
   "metadata": {},
   "outputs": [],
   "source": [
    "auth = tweepy.OAuthHandler(consumer_key, consumer_secret)\n",
    "auth.set_access_token(access_token, access_token_secret)\n",
    "api = tweepy.API(auth)"
   ]
  },
  {
   "cell_type": "markdown",
   "metadata": {},
   "source": [
    "1. Twittea el siguiente tweet: “Aprendiendo a utilizar la API de Twitter #ILoveDataScience #BootcampNeoland2020”."
   ]
  },
  {
   "cell_type": "code",
   "execution_count": null,
   "metadata": {},
   "outputs": [],
   "source": [
    "api.update_status(\"\"\"Aprendiendo a utilizar la API de Twitter #ILoveDataScience #BootcampNeoland2020\"\"\")"
   ]
  },
  {
   "cell_type": "markdown",
   "metadata": {},
   "source": [
    "2. Busca los tweets con el hashtag #BootcampNeoland2020 y obtén un diccionario con el id y nombre de quienes twittearon con ese hashtag. Después retuitea todos los tweets con ese hashtag."
   ]
  },
  {
   "cell_type": "code",
   "execution_count": null,
   "metadata": {},
   "outputs": [],
   "source": [
    "tweets_python = api.search(q='#BootcampNeoland2020')"
   ]
  },
  {
   "cell_type": "markdown",
   "metadata": {},
   "source": [
    "3. Obtén 3 imágenes de todocuadro.com más la información de las imágenes (Nombre, Autor, Estilo y Técnica) y twittea cada imagen con el siguiente texto: “El Cuadro llamado “Nombre” de “Autor”, el estilo es “Estilo” y la técnica utilizada es “Técnica #Nombre #Autor”."
   ]
  },
  {
   "cell_type": "code",
   "execution_count": 77,
   "metadata": {},
   "outputs": [],
   "source": [
    "chrome_driver = (\"/Users/rociocuestapedraz/Desktop/PYTHON bootcamp DS/scripts/selenium/chromedriver\")\n",
    "navegador = webdriver.Chrome(executable_path=chrome_driver)\n",
    "navegador.get(\"https://www.todocuadros.es/\")\n",
    "sleep(randint(2,5))\n",
    "navegador.find_element_by_partial_link_text('Cuenta').click()\n",
    "sleep(randint(2,5))\n",
    "navegador.find_element_by_link_text('Acceder').click()\n",
    "\n",
    "Email = \"adrianceja1@gmail.com\"\n",
    "Contraseña = \"NEOLAND2020\"\n",
    "usuario = navegador.find_element_by_id('email')\n",
    "usuario.send_keys(Email)\n",
    "\n",
    "sleep(randint(2,5))\n",
    "\n",
    "contra = navegador.find_element_by_id('pass')\n",
    "contra.send_keys(Contraseña)\n",
    "\n",
    "sleep(randint(2,5))\n",
    "\n",
    "usuario.submit()\n",
    "sleep(randint(2,5))"
   ]
  },
  {
   "cell_type": "code",
   "execution_count": 27,
   "metadata": {},
   "outputs": [],
   "source": [
    "#Creo la carpeta de fotos\n",
    "import os\n",
    "os.mkdir('carpeta fotos')"
   ]
  },
  {
   "cell_type": "code",
   "execution_count": 78,
   "metadata": {},
   "outputs": [],
   "source": [
    "cuadro=[]\n",
    "tecnica=[]\n",
    "estilo=[]\n",
    "lista=[]\n",
    "keys=[\"vincent van gogh\",\"Picasso\",\"dali Salvador\"]\n",
    "\n",
    "for key in keys:\n",
    "    busq = navegador.find_element_by_id(\"search\")\n",
    "    busq.send_keys(key)\n",
    "    sleep(randint(2,5))\n",
    "    busq.submit()\n",
    "    source = navegador.page_source\n",
    "    soup = BeautifulSoup(source)\n",
    "    #Creo una lista con el nombre de los cuadros\n",
    "    cuadros =[i.text for i in soup.find_all(\"span\", class_=\"snize-title\")]\n",
    "    \n",
    "    navegador.find_element_by_partial_link_text(cuadros[0]).click()\n",
    "    sleep(randint(2,5))\n",
    "    soup = BeautifulSoup(navegador.page_source)\n",
    "    sleep(randint(2,5))\n",
    "    \n",
    "    inf=soup.find_all(\"div\",class_=\"options-butt-0\")\n",
    "    info=[i.text.strip() for i in inf]\n",
    "    \n",
    "    lista.append(info)\n",
    "    #cadena=cadena[1].split(\"\\n\")\n",
    "    #cuadro=cadena[0]\n",
    "    #estilo=cadena[4]\n",
    "    #tecnica=cadena[5]\n",
    "    #lista.append(cadena)\n",
    "    \n",
    "    #img_cuadro = soup.find(\"a\", class_=\"MagicThumb\")[\"href\"]\n",
    "    #sleep(randint(2,5))\n",
    "    #resp = requests.get(img_cuadro, stream = True)\n",
    "    #sleep(randint(2,5))\n",
    "     \n",
    "    #imagen= open(\"/Users/rociocuestapedraz/Desktop/PYTHON bootcamp DS/scripts/selenium/carpeta fotos/foto\"+(key)+\".jpg\", 'wb')\n",
    "    \n",
    "    #resp.raw.decode_content = True\n",
    "    \n",
    "    #shutil.copyfileobj(resp.raw, imagen)\n",
    "    \n",
    "    #imagen.close()\n",
    "    \n",
    "    \n"
   ]
  },
  {
   "cell_type": "code",
   "execution_count": null,
   "metadata": {},
   "outputs": [],
   "source": []
  },
  {
   "cell_type": "code",
   "execution_count": null,
   "metadata": {},
   "outputs": [],
   "source": []
  },
  {
   "cell_type": "markdown",
   "metadata": {},
   "source": [
    "4.Haz una búsqueda de 10 tweets por cada palabra clave de la siguiente lista:\n",
    "- #MachineLearning\n",
    "- #DeepLearning\n",
    "- #Python\n",
    "- #SQL\n",
    "- #MongoDB\n",
    "- #TensorFlow\n",
    "- #Keras"
   ]
  },
  {
   "cell_type": "code",
   "execution_count": null,
   "metadata": {},
   "outputs": [],
   "source": []
  },
  {
   "cell_type": "markdown",
   "metadata": {},
   "source": [
    "5.Después debes de obtener la siguiente información de cada tweet:   \n",
    " - Tweet\n",
    " - Name\n",
    " - Location\n",
    " - Id\n",
    " - Date\n",
    " - Re tweets\n",
    " - Fav"
   ]
  },
  {
   "cell_type": "code",
   "execution_count": null,
   "metadata": {},
   "outputs": [],
   "source": []
  },
  {
   "cell_type": "markdown",
   "metadata": {},
   "source": [
    "Guarda los tweets en un Dataframe. También obtén una lista de las 20 palabras que más se repiten en los tweets."
   ]
  },
  {
   "cell_type": "code",
   "execution_count": null,
   "metadata": {},
   "outputs": [],
   "source": []
  },
  {
   "cell_type": "markdown",
   "metadata": {},
   "source": [
    "## Parte 2"
   ]
  },
  {
   "cell_type": "markdown",
   "metadata": {},
   "source": [
    "1. Obtén todos los tweets de @IronhackMAD y crea un dataframe como el que se creó con @NeolandStudio, con las columnas text, date, id, rt, fav, year, month, weekday, hour."
   ]
  },
  {
   "cell_type": "code",
   "execution_count": null,
   "metadata": {},
   "outputs": [],
   "source": []
  },
  {
   "cell_type": "markdown",
   "metadata": {},
   "source": [
    "2. Obtén una lista de los hashtags del conjunto de tweets y cuentalos."
   ]
  },
  {
   "cell_type": "code",
   "execution_count": null,
   "metadata": {},
   "outputs": [],
   "source": []
  },
  {
   "cell_type": "markdown",
   "metadata": {},
   "source": [
    "3. Compara la lista anterior de hashtag con los de @NeolandStudio y obtén los hashtags que ambos utilizan. "
   ]
  },
  {
   "cell_type": "code",
   "execution_count": null,
   "metadata": {},
   "outputs": [],
   "source": []
  },
  {
   "cell_type": "markdown",
   "metadata": {},
   "source": [
    "4. Obtén el número de tweets por año, por mes de cada año, por día de la semana y la dispersión por horario."
   ]
  },
  {
   "cell_type": "code",
   "execution_count": null,
   "metadata": {},
   "outputs": [],
   "source": []
  },
  {
   "cell_type": "markdown",
   "metadata": {},
   "source": [
    "5. Encuentra el 20% de tweets con más retweet y observa la gráfica de dispersión de las publicaciones por horario."
   ]
  },
  {
   "cell_type": "code",
   "execution_count": null,
   "metadata": {},
   "outputs": [],
   "source": []
  },
  {
   "cell_type": "markdown",
   "metadata": {},
   "source": [
    "6. Repite lo anterior para el 20% de tweets con menos retweet."
   ]
  },
  {
   "cell_type": "code",
   "execution_count": null,
   "metadata": {},
   "outputs": [],
   "source": []
  },
  {
   "cell_type": "markdown",
   "metadata": {},
   "source": [
    "7. Cuenta el número de palabras de todos los tweets y busca las primeras 20 que más aparecen."
   ]
  },
  {
   "cell_type": "code",
   "execution_count": null,
   "metadata": {},
   "outputs": [],
   "source": []
  },
  {
   "cell_type": "markdown",
   "metadata": {},
   "source": [
    "8. Repite el paso anterior para cada año y observa si cambian de un año a otro y sí es así, agrega a una lista las que van cambiando."
   ]
  },
  {
   "cell_type": "code",
   "execution_count": null,
   "metadata": {},
   "outputs": [],
   "source": []
  },
  {
   "cell_type": "markdown",
   "metadata": {},
   "source": [
    "## Parte 3"
   ]
  },
  {
   "cell_type": "markdown",
   "metadata": {},
   "source": [
    "Haz un análisis como el anterior con 2 cuentas diferentes (tomando en cuenta el número de retweets)\n"
   ]
  },
  {
   "cell_type": "code",
   "execution_count": null,
   "metadata": {},
   "outputs": [],
   "source": []
  }
 ],
 "metadata": {
  "kernelspec": {
   "display_name": "Python 3",
   "language": "python",
   "name": "python3"
  },
  "language_info": {
   "codemirror_mode": {
    "name": "ipython",
    "version": 3
   },
   "file_extension": ".py",
   "mimetype": "text/x-python",
   "name": "python",
   "nbconvert_exporter": "python",
   "pygments_lexer": "ipython3",
   "version": "3.7.4"
  }
 },
 "nbformat": 4,
 "nbformat_minor": 4
}
