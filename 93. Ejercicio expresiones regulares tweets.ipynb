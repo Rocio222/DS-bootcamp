{
 "cells": [
  {
   "cell_type": "code",
   "execution_count": 1,
   "metadata": {},
   "outputs": [],
   "source": [
    "import pandas as pd\n",
    "import re"
   ]
  },
  {
   "cell_type": "code",
   "execution_count": 2,
   "metadata": {},
   "outputs": [],
   "source": [
    "df=pd.read_excel(\"/Users/rociocuestapedraz/Desktop/PYTHON bootcamp DS/datasets/tweets.xlsx\")"
   ]
  },
  {
   "cell_type": "code",
   "execution_count": 3,
   "metadata": {},
   "outputs": [
    {
     "data": {
      "text/html": [
       "<div>\n",
       "<style scoped>\n",
       "    .dataframe tbody tr th:only-of-type {\n",
       "        vertical-align: middle;\n",
       "    }\n",
       "\n",
       "    .dataframe tbody tr th {\n",
       "        vertical-align: top;\n",
       "    }\n",
       "\n",
       "    .dataframe thead th {\n",
       "        text-align: right;\n",
       "    }\n",
       "</style>\n",
       "<table border=\"1\" class=\"dataframe\">\n",
       "  <thead>\n",
       "    <tr style=\"text-align: right;\">\n",
       "      <th></th>\n",
       "      <th>tuitero</th>\n",
       "      <th>tweet</th>\n",
       "      <th>link</th>\n",
       "      <th>fecha</th>\n",
       "    </tr>\n",
       "  </thead>\n",
       "  <tbody>\n",
       "    <tr>\n",
       "      <th>0</th>\n",
       "      <td>@noahplanetz</td>\n",
       "      <td>@Mrs_bauer90 @kigogo2014 @BestaMlagila @Chiggs...</td>\n",
       "      <td>http://twitter.com/noahplanetz/status/12271947...</td>\n",
       "      <td>February 11, 2020 at 12:36PM</td>\n",
       "    </tr>\n",
       "    <tr>\n",
       "      <th>1</th>\n",
       "      <td>@TrabajosBizkaia</td>\n",
       "      <td>Repartidor en moto 125 cc Victoria – Externa s...</td>\n",
       "      <td>http://twitter.com/TrabajosBizkaia/status/1227...</td>\n",
       "      <td>February 11, 2020 at 12:36PM</td>\n",
       "    </tr>\n",
       "    <tr>\n",
       "      <th>2</th>\n",
       "      <td>@TrabajosBizkaia</td>\n",
       "      <td>Consultor de ahorro en servicios – Ancore – Vi...</td>\n",
       "      <td>http://twitter.com/TrabajosBizkaia/status/1227...</td>\n",
       "      <td>February 11, 2020 at 12:36PM</td>\n",
       "    </tr>\n",
       "    <tr>\n",
       "      <th>3</th>\n",
       "      <td>@TrabajosBizkaia</td>\n",
       "      <td>Consultor de ahorro en servicios – Ancore – Vi...</td>\n",
       "      <td>http://twitter.com/TrabajosBizkaia/status/1227...</td>\n",
       "      <td>February 11, 2020 at 12:36PM</td>\n",
       "    </tr>\n",
       "    <tr>\n",
       "      <th>4</th>\n",
       "      <td>@TrabajosBizkaia</td>\n",
       "      <td>ANALISTA FUNCIONAL ABAP 4 – Ibermática – Vizca...</td>\n",
       "      <td>http://twitter.com/TrabajosBizkaia/status/1227...</td>\n",
       "      <td>February 11, 2020 at 12:36PM</td>\n",
       "    </tr>\n",
       "  </tbody>\n",
       "</table>\n",
       "</div>"
      ],
      "text/plain": [
       "            tuitero                                              tweet  \\\n",
       "0      @noahplanetz  @Mrs_bauer90 @kigogo2014 @BestaMlagila @Chiggs...   \n",
       "1  @TrabajosBizkaia  Repartidor en moto 125 cc Victoria – Externa s...   \n",
       "2  @TrabajosBizkaia  Consultor de ahorro en servicios – Ancore – Vi...   \n",
       "3  @TrabajosBizkaia  Consultor de ahorro en servicios – Ancore – Vi...   \n",
       "4  @TrabajosBizkaia  ANALISTA FUNCIONAL ABAP 4 – Ibermática – Vizca...   \n",
       "\n",
       "                                                link  \\\n",
       "0  http://twitter.com/noahplanetz/status/12271947...   \n",
       "1  http://twitter.com/TrabajosBizkaia/status/1227...   \n",
       "2  http://twitter.com/TrabajosBizkaia/status/1227...   \n",
       "3  http://twitter.com/TrabajosBizkaia/status/1227...   \n",
       "4  http://twitter.com/TrabajosBizkaia/status/1227...   \n",
       "\n",
       "                          fecha  \n",
       "0  February 11, 2020 at 12:36PM  \n",
       "1  February 11, 2020 at 12:36PM  \n",
       "2  February 11, 2020 at 12:36PM  \n",
       "3  February 11, 2020 at 12:36PM  \n",
       "4  February 11, 2020 at 12:36PM  "
      ]
     },
     "execution_count": 3,
     "metadata": {},
     "output_type": "execute_result"
    }
   ],
   "source": [
    "df.head()"
   ]
  },
  {
   "cell_type": "code",
   "execution_count": 4,
   "metadata": {},
   "outputs": [],
   "source": [
    "tuitero=[]\n",
    "for i in df[\"tuitero\"]:\n",
    "    tuitero.append(i[1:])\n",
    "df[\"tuitero\"]=tuitero"
   ]
  },
  {
   "cell_type": "code",
   "execution_count": 5,
   "metadata": {},
   "outputs": [],
   "source": [
    "etiquetados=[]\n",
    "for i in df[\"tweet\"]:\n",
    "    expresion_regular=re.compile(r\"@[A-z]+\") \n",
    "    lista_temp=[]\n",
    "    etiquetados.append(lista_temp)\n",
    "    try:\n",
    "        resultados_busqueda=expresion_regular.finditer(i)\n",
    "        for resultado in resultados_busqueda:\n",
    "            lista_temp.append(resultado.group(0))\n",
    "    except:\n",
    "        etiquetados.append(\"-\")\n",
    "df[\"etiquetados\"]=etiquetados"
   ]
  },
  {
   "cell_type": "code",
   "execution_count": 6,
   "metadata": {},
   "outputs": [],
   "source": [
    "hastak=[]\n",
    "for i in df[\"tweet\"]:\n",
    "    expresion_regular=re.compile(r\"#[A-z]+\") \n",
    "    lista_temp=[]\n",
    "    hastak.append(lista_temp)\n",
    "    try:\n",
    "        resultados_busqueda=expresion_regular.finditer(i)\n",
    "        for resultado in resultados_busqueda:\n",
    "            lista_temp.append(resultado.group(0))\n",
    "    except:\n",
    "        hastak.append(\"-\")\n",
    "df[\"hastak\"]=hastak"
   ]
  },
  {
   "cell_type": "code",
   "execution_count": 7,
   "metadata": {},
   "outputs": [
    {
     "data": {
      "text/plain": [
       "'Repartidor en moto 125 cc Victoria – Externa servicios – Vizcaya provincia\\n#empleo #trabajo #Bizkaia #trabajobizkaia\\nInscríbete aquí 👉 https://t.co/OHzPSEjfmp'"
      ]
     },
     "execution_count": 7,
     "metadata": {},
     "output_type": "execute_result"
    }
   ],
   "source": [
    "df[\"tweet\"][1]"
   ]
  },
  {
   "cell_type": "code",
   "execution_count": 18,
   "metadata": {},
   "outputs": [
    {
     "data": {
      "text/plain": [
       "['#empleo', '#trabajo', '#Bizkaia', '#trabajobizkaia']"
      ]
     },
     "execution_count": 18,
     "metadata": {},
     "output_type": "execute_result"
    }
   ],
   "source": [
    "texto=df[\"hastak\"][1]\n",
    "texto"
   ]
  },
  {
   "cell_type": "code",
   "execution_count": null,
   "metadata": {},
   "outputs": [],
   "source": []
  },
  {
   "cell_type": "code",
   "execution_count": 17,
   "metadata": {},
   "outputs": [
    {
     "name": "stdout",
     "output_type": "stream",
     "text": [
      "@Mrs_bauer90 @kigogo2014 @BestaMlagila @Chiggs47931521 @leilatanzania1 @CossenyEdward @FatmaMkweli Tumeipata hiyo @kigogo2014 #unblock @Mrs_bauer90 kila post lazima tuweke hiyo #Hashtag\n",
      "#unblock\n",
      "@Mrs_bauer90 @kigogo2014 @BestaMlagila @Chiggs47931521 @leilatanzania1 @CossenyEdward @FatmaMkweli Tumeipata hiyo @kigogo2014  @Mrs_bauer90 kila post lazima tuweke hiyo #Hashtag\n",
      "@Mrs_bauer90 @kigogo2014 @BestaMlagila @Chiggs47931521 @leilatanzania1 @CossenyEdward @FatmaMkweli Tumeipata hiyo @kigogo2014 #unblock @Mrs_bauer90 kila post lazima tuweke hiyo #Hashtag\n",
      "#Hashtag\n",
      "@Mrs_bauer90 @kigogo2014 @BestaMlagila @Chiggs47931521 @leilatanzania1 @CossenyEdward @FatmaMkweli Tumeipata hiyo @kigogo2014 #unblock @Mrs_bauer90 kila post lazima tuweke hiyo \n"
     ]
    }
   ],
   "source": [
    "tweets_limpios=[]\n",
    "for j in range(1):\n",
    "    for i in range(len(df[\"hastak\"][j])):\n",
    "        texto=(df[\"hastak\"][j][i])\n",
    "        tweet_limpio=df[\"tweet\"][j].replace(texto,\"\")\n",
    "        print(df[\"tweet\"][j])\n",
    "        tweets_limpios.append(tweet_limpio)\n",
    "#tweets_limpios        \n",
    "    "
   ]
  },
  {
   "cell_type": "code",
   "execution_count": 106,
   "metadata": {},
   "outputs": [
    {
     "data": {
      "text/plain": [
       "'@Mrs_bauer90 @kigogo2014 @BestaMlagila @Chiggs47931521 @leilatanzania1 @CossenyEdward @FatmaMkweli Tumeipata hiyo @kigogo2014 #unblock @Mrs_bauer90 kila post lazima tuweke hiyo '"
      ]
     },
     "execution_count": 106,
     "metadata": {},
     "output_type": "execute_result"
    }
   ],
   "source": [
    "a=df[\"tweet\"][0].replace(\"#Hashtag\",\"\")\n",
    "a"
   ]
  },
  {
   "cell_type": "code",
   "execution_count": null,
   "metadata": {},
   "outputs": [],
   "source": []
  },
  {
   "cell_type": "code",
   "execution_count": null,
   "metadata": {},
   "outputs": [],
   "source": []
  },
  {
   "cell_type": "code",
   "execution_count": null,
   "metadata": {},
   "outputs": [],
   "source": []
  },
  {
   "cell_type": "code",
   "execution_count": null,
   "metadata": {},
   "outputs": [],
   "source": []
  },
  {
   "cell_type": "code",
   "execution_count": null,
   "metadata": {},
   "outputs": [],
   "source": []
  },
  {
   "cell_type": "code",
   "execution_count": 85,
   "metadata": {},
   "outputs": [
    {
     "data": {
      "text/plain": [
       "[]"
      ]
     },
     "execution_count": 85,
     "metadata": {},
     "output_type": "execute_result"
    }
   ],
   "source": [
    "df[\"etiquetados\"][1]"
   ]
  },
  {
   "cell_type": "code",
   "execution_count": 89,
   "metadata": {},
   "outputs": [
    {
     "ename": "TypeError",
     "evalue": "replace() argument 1 must be str, not list",
     "output_type": "error",
     "traceback": [
      "\u001b[0;31m---------------------------------------------------------------------------\u001b[0m",
      "\u001b[0;31mTypeError\u001b[0m                                 Traceback (most recent call last)",
      "\u001b[0;32m<ipython-input-89-cafaefdce743>\u001b[0m in \u001b[0;36m<module>\u001b[0;34m\u001b[0m\n\u001b[1;32m      1\u001b[0m \u001b[0mtexto\u001b[0m\u001b[0;34m=\u001b[0m\u001b[0mdf\u001b[0m\u001b[0;34m[\u001b[0m\u001b[0;34m\"hastak\"\u001b[0m\u001b[0;34m]\u001b[0m\u001b[0;34m[\u001b[0m\u001b[0;36m1\u001b[0m\u001b[0;34m]\u001b[0m\u001b[0;34m\u001b[0m\u001b[0;34m\u001b[0m\u001b[0m\n\u001b[0;32m----> 2\u001b[0;31m \u001b[0mdf\u001b[0m\u001b[0;34m[\u001b[0m\u001b[0;34m\"tweet\"\u001b[0m\u001b[0;34m]\u001b[0m\u001b[0;34m[\u001b[0m\u001b[0;36m1\u001b[0m\u001b[0;34m]\u001b[0m\u001b[0;34m.\u001b[0m\u001b[0mreplace\u001b[0m\u001b[0;34m(\u001b[0m\u001b[0mtexto\u001b[0m\u001b[0;34m,\u001b[0m\u001b[0;34m\"\"\u001b[0m\u001b[0;34m)\u001b[0m\u001b[0;34m\u001b[0m\u001b[0;34m\u001b[0m\u001b[0m\n\u001b[0m",
      "\u001b[0;31mTypeError\u001b[0m: replace() argument 1 must be str, not list"
     ]
    }
   ],
   "source": [
    "texto=df[\"hastak\"][1]\n",
    "df[\"tweet\"][1].replace(texto,\"\")"
   ]
  },
  {
   "cell_type": "code",
   "execution_count": 83,
   "metadata": {},
   "outputs": [
    {
     "data": {
      "text/html": [
       "<div>\n",
       "<style scoped>\n",
       "    .dataframe tbody tr th:only-of-type {\n",
       "        vertical-align: middle;\n",
       "    }\n",
       "\n",
       "    .dataframe tbody tr th {\n",
       "        vertical-align: top;\n",
       "    }\n",
       "\n",
       "    .dataframe thead th {\n",
       "        text-align: right;\n",
       "    }\n",
       "</style>\n",
       "<table border=\"1\" class=\"dataframe\">\n",
       "  <thead>\n",
       "    <tr style=\"text-align: right;\">\n",
       "      <th></th>\n",
       "      <th>tuitero</th>\n",
       "      <th>tweet</th>\n",
       "      <th>link</th>\n",
       "      <th>fecha</th>\n",
       "      <th>etiquetados</th>\n",
       "      <th>hastak</th>\n",
       "    </tr>\n",
       "  </thead>\n",
       "  <tbody>\n",
       "    <tr>\n",
       "      <th>0</th>\n",
       "      <td>@noahplanetz</td>\n",
       "      <td>@Mrs_bauer90 @kigogo2014 @BestaMlagila @Chiggs...</td>\n",
       "      <td>http://twitter.com/noahplanetz/status/12271947...</td>\n",
       "      <td>February 11, 2020 at 12:36PM</td>\n",
       "      <td>[@Mrs_bauer, @kigogo, @BestaMlagila, @Chiggs, ...</td>\n",
       "      <td>[#unblock, #Hashtag]</td>\n",
       "    </tr>\n",
       "    <tr>\n",
       "      <th>1</th>\n",
       "      <td>@TrabajosBizkaia</td>\n",
       "      <td>Repartidor en moto 125 cc Victoria – Externa s...</td>\n",
       "      <td>http://twitter.com/TrabajosBizkaia/status/1227...</td>\n",
       "      <td>February 11, 2020 at 12:36PM</td>\n",
       "      <td>[]</td>\n",
       "      <td>[#empleo, #trabajo, #Bizkaia, #trabajobizkaia]</td>\n",
       "    </tr>\n",
       "    <tr>\n",
       "      <th>2</th>\n",
       "      <td>@TrabajosBizkaia</td>\n",
       "      <td>Consultor de ahorro en servicios – Ancore – Vi...</td>\n",
       "      <td>http://twitter.com/TrabajosBizkaia/status/1227...</td>\n",
       "      <td>February 11, 2020 at 12:36PM</td>\n",
       "      <td>[]</td>\n",
       "      <td>[#empleo, #trabajo, #Bizkaia, #trabajobizkaia]</td>\n",
       "    </tr>\n",
       "    <tr>\n",
       "      <th>3</th>\n",
       "      <td>@TrabajosBizkaia</td>\n",
       "      <td>Consultor de ahorro en servicios – Ancore – Vi...</td>\n",
       "      <td>http://twitter.com/TrabajosBizkaia/status/1227...</td>\n",
       "      <td>February 11, 2020 at 12:36PM</td>\n",
       "      <td>[]</td>\n",
       "      <td>[#empleo, #trabajo, #Bizkaia, #trabajobizkaia]</td>\n",
       "    </tr>\n",
       "    <tr>\n",
       "      <th>4</th>\n",
       "      <td>@TrabajosBizkaia</td>\n",
       "      <td>ANALISTA FUNCIONAL ABAP 4 – Ibermática – Vizca...</td>\n",
       "      <td>http://twitter.com/TrabajosBizkaia/status/1227...</td>\n",
       "      <td>February 11, 2020 at 12:36PM</td>\n",
       "      <td>[]</td>\n",
       "      <td>[#empleo, #trabajo, #Bizkaia, #trabajobizkaia]</td>\n",
       "    </tr>\n",
       "  </tbody>\n",
       "</table>\n",
       "</div>"
      ],
      "text/plain": [
       "            tuitero                                              tweet  \\\n",
       "0      @noahplanetz  @Mrs_bauer90 @kigogo2014 @BestaMlagila @Chiggs...   \n",
       "1  @TrabajosBizkaia  Repartidor en moto 125 cc Victoria – Externa s...   \n",
       "2  @TrabajosBizkaia  Consultor de ahorro en servicios – Ancore – Vi...   \n",
       "3  @TrabajosBizkaia  Consultor de ahorro en servicios – Ancore – Vi...   \n",
       "4  @TrabajosBizkaia  ANALISTA FUNCIONAL ABAP 4 – Ibermática – Vizca...   \n",
       "\n",
       "                                                link  \\\n",
       "0  http://twitter.com/noahplanetz/status/12271947...   \n",
       "1  http://twitter.com/TrabajosBizkaia/status/1227...   \n",
       "2  http://twitter.com/TrabajosBizkaia/status/1227...   \n",
       "3  http://twitter.com/TrabajosBizkaia/status/1227...   \n",
       "4  http://twitter.com/TrabajosBizkaia/status/1227...   \n",
       "\n",
       "                          fecha  \\\n",
       "0  February 11, 2020 at 12:36PM   \n",
       "1  February 11, 2020 at 12:36PM   \n",
       "2  February 11, 2020 at 12:36PM   \n",
       "3  February 11, 2020 at 12:36PM   \n",
       "4  February 11, 2020 at 12:36PM   \n",
       "\n",
       "                                         etiquetados  \\\n",
       "0  [@Mrs_bauer, @kigogo, @BestaMlagila, @Chiggs, ...   \n",
       "1                                                 []   \n",
       "2                                                 []   \n",
       "3                                                 []   \n",
       "4                                                 []   \n",
       "\n",
       "                                           hastak  \n",
       "0                            [#unblock, #Hashtag]  \n",
       "1  [#empleo, #trabajo, #Bizkaia, #trabajobizkaia]  \n",
       "2  [#empleo, #trabajo, #Bizkaia, #trabajobizkaia]  \n",
       "3  [#empleo, #trabajo, #Bizkaia, #trabajobizkaia]  \n",
       "4  [#empleo, #trabajo, #Bizkaia, #trabajobizkaia]  "
      ]
     },
     "execution_count": 83,
     "metadata": {},
     "output_type": "execute_result"
    }
   ],
   "source": [
    "df.head()"
   ]
  },
  {
   "cell_type": "code",
   "execution_count": null,
   "metadata": {},
   "outputs": [],
   "source": []
  },
  {
   "cell_type": "code",
   "execution_count": null,
   "metadata": {},
   "outputs": [],
   "source": []
  },
  {
   "cell_type": "code",
   "execution_count": null,
   "metadata": {},
   "outputs": [],
   "source": []
  },
  {
   "cell_type": "code",
   "execution_count": null,
   "metadata": {},
   "outputs": [],
   "source": []
  },
  {
   "cell_type": "code",
   "execution_count": null,
   "metadata": {},
   "outputs": [],
   "source": []
  },
  {
   "cell_type": "code",
   "execution_count": 54,
   "metadata": {},
   "outputs": [
    {
     "data": {
      "text/plain": [
       "515"
      ]
     },
     "execution_count": 54,
     "metadata": {},
     "output_type": "execute_result"
    }
   ],
   "source": [
    "len(df)"
   ]
  },
  {
   "cell_type": "code",
   "execution_count": null,
   "metadata": {},
   "outputs": [],
   "source": []
  },
  {
   "cell_type": "code",
   "execution_count": null,
   "metadata": {},
   "outputs": [],
   "source": []
  },
  {
   "cell_type": "code",
   "execution_count": 38,
   "metadata": {},
   "outputs": [
    {
     "data": {
      "text/plain": [
       "'Repartidor en moto 125 cc Victoria – Externa servicios – Vizcaya provincia\\n#empleo #trabajo #Bizkaia #trabajobizkaia\\nInscríbete aquí 👉 https://t.co/OHzPSEjfmp'"
      ]
     },
     "execution_count": 38,
     "metadata": {},
     "output_type": "execute_result"
    }
   ],
   "source": [
    "df[\"tweet\"][1]"
   ]
  },
  {
   "cell_type": "code",
   "execution_count": 41,
   "metadata": {},
   "outputs": [
    {
     "data": {
      "text/plain": [
       "515"
      ]
     },
     "execution_count": 41,
     "metadata": {},
     "output_type": "execute_result"
    }
   ],
   "source": [
    "len(df)"
   ]
  },
  {
   "cell_type": "code",
   "execution_count": null,
   "metadata": {},
   "outputs": [],
   "source": []
  },
  {
   "cell_type": "code",
   "execution_count": null,
   "metadata": {},
   "outputs": [],
   "source": []
  },
  {
   "cell_type": "code",
   "execution_count": 42,
   "metadata": {},
   "outputs": [
    {
     "name": "stdout",
     "output_type": "stream",
     "text": [
      "@Mrs_bauer\n",
      "@kigogo\n",
      "@BestaMlagila\n",
      "@Chiggs\n",
      "@leilatanzania\n",
      "@CossenyEdward\n",
      "@FatmaMkweli\n",
      "@kigogo\n",
      "@Mrs_bauer\n"
     ]
    }
   ],
   "source": [
    "expresion_regular=re.compile(r\"@[A-z]+\") \n",
    "resultados_busqueda=expresion_regular.finditer(df['tweet'][0])\n",
    "for resultado in resultados_busqueda:\n",
    "    print(resultado.group(0))"
   ]
  },
  {
   "cell_type": "code",
   "execution_count": 29,
   "metadata": {},
   "outputs": [
    {
     "name": "stdout",
     "output_type": "stream",
     "text": [
      "#unblock\n",
      "#Hashtag\n"
     ]
    }
   ],
   "source": [
    "expresion_regular=re.compile(r\"#[A-z]+\") \n",
    "resultados_busqueda=expresion_regular.finditer(df['tweet'][0])\n",
    "for resultado in resultados_busqueda:\n",
    "    print(resultado.group(0))"
   ]
  },
  {
   "cell_type": "code",
   "execution_count": null,
   "metadata": {},
   "outputs": [],
   "source": []
  },
  {
   "cell_type": "code",
   "execution_count": null,
   "metadata": {},
   "outputs": [],
   "source": [
    "expresion_regular=re.compile(r\"[^\\W]+\") #Busca una coincidencia con todos los que no tengan números\n",
    "resultados_busqueda=expresion_regular.finditer(df[\"tweet\"][1])\n",
    "for resultado in resultados_busqueda: \n",
    "    print(resultado.group(0))"
   ]
  }
 ],
 "metadata": {
  "kernelspec": {
   "display_name": "Python 3",
   "language": "python",
   "name": "python3"
  },
  "language_info": {
   "codemirror_mode": {
    "name": "ipython",
    "version": 3
   },
   "file_extension": ".py",
   "mimetype": "text/x-python",
   "name": "python",
   "nbconvert_exporter": "python",
   "pygments_lexer": "ipython3",
   "version": "3.7.4"
  }
 },
 "nbformat": 4,
 "nbformat_minor": 4
}
