{
 "cells": [
  {
   "cell_type": "markdown",
   "metadata": {},
   "source": [
    "## Practica de listas"
   ]
  },
  {
   "cell_type": "code",
   "execution_count": 9,
   "metadata": {},
   "outputs": [],
   "source": [
    "lista = [\"a\",\"b\",\"c\",\"d\",\"e\",1,2,3,4,5,False,True]"
   ]
  },
  {
   "cell_type": "markdown",
   "metadata": {},
   "source": [
    "- En listas separadas obtener una lista paras los caracteres, otra para los enteros y otra para lo booleanos, utilizando slicing"
   ]
  },
  {
   "cell_type": "code",
   "execution_count": 10,
   "metadata": {},
   "outputs": [
    {
     "data": {
      "text/plain": [
       "['a', 'b', 'c', 'd', 'e']"
      ]
     },
     "execution_count": 10,
     "metadata": {},
     "output_type": "execute_result"
    }
   ],
   "source": [
    "lista1 = lista[:5]\n",
    "lista1"
   ]
  },
  {
   "cell_type": "code",
   "execution_count": 3,
   "metadata": {},
   "outputs": [
    {
     "data": {
      "text/plain": [
       "[1, 2, 3, 4, 5]"
      ]
     },
     "execution_count": 3,
     "metadata": {},
     "output_type": "execute_result"
    }
   ],
   "source": [
    "lista2 = lista[5:10]\n",
    "lista2"
   ]
  },
  {
   "cell_type": "code",
   "execution_count": 4,
   "metadata": {},
   "outputs": [
    {
     "data": {
      "text/plain": [
       "[False, True]"
      ]
     },
     "execution_count": 4,
     "metadata": {},
     "output_type": "execute_result"
    }
   ],
   "source": [
    "lista3 = lista[10:]\n",
    "lista3"
   ]
  },
  {
   "cell_type": "markdown",
   "metadata": {},
   "source": [
    "- Insertar las vocales faltantes a la lista de caracteres"
   ]
  },
  {
   "cell_type": "code",
   "execution_count": 11,
   "metadata": {},
   "outputs": [
    {
     "data": {
      "text/plain": [
       "['a', 'b', 'c', 'd', 'e', 'i', 'o', 'u']"
      ]
     },
     "execution_count": 11,
     "metadata": {},
     "output_type": "execute_result"
    }
   ],
   "source": [
    "lista1.extend([\"i\",\"o\",\"u\"])\n",
    "lista1"
   ]
  },
  {
   "cell_type": "markdown",
   "metadata": {},
   "source": [
    "- Eliminar los caracteres que no son vocales de la lista de caracteres"
   ]
  },
  {
   "cell_type": "code",
   "execution_count": 6,
   "metadata": {},
   "outputs": [],
   "source": [
    "del lista1[1:4]"
   ]
  },
  {
   "cell_type": "code",
   "execution_count": 7,
   "metadata": {},
   "outputs": [
    {
     "data": {
      "text/plain": [
       "['a', 'e', 'i', 'o', 'u']"
      ]
     },
     "execution_count": 7,
     "metadata": {},
     "output_type": "execute_result"
    }
   ],
   "source": [
    "lista1"
   ]
  },
  {
   "cell_type": "code",
   "execution_count": 12,
   "metadata": {},
   "outputs": [
    {
     "data": {
      "text/plain": [
       "['a', 'e', 'i', 'o', 'u']"
      ]
     },
     "execution_count": 12,
     "metadata": {},
     "output_type": "execute_result"
    }
   ],
   "source": [
    "lista1.remove(\"b\")\n",
    "lista1.remove(\"c\")\n",
    "lista1.remove(\"d\")\n",
    "lista1"
   ]
  },
  {
   "cell_type": "markdown",
   "metadata": {},
   "source": [
    "- De la lista inicial (lista) reemplazar los elementos boleanos por 0 y 1 respectivamente"
   ]
  },
  {
   "cell_type": "code",
   "execution_count": 13,
   "metadata": {},
   "outputs": [
    {
     "data": {
      "text/plain": [
       "['a', 'b', 'c', 'd', 'e', 1, 2, 3, 4, 5, 0, 1]"
      ]
     },
     "execution_count": 13,
     "metadata": {},
     "output_type": "execute_result"
    }
   ],
   "source": [
    "lista[-1] = 1\n",
    "lista[-2] = 0\n",
    "lista"
   ]
  },
  {
   "cell_type": "code",
   "execution_count": 14,
   "metadata": {},
   "outputs": [
    {
     "data": {
      "text/plain": [
       "['a', 'b', 'c', 'd', 'e', 1, 2, 3, 4, 5, False, True]"
      ]
     },
     "execution_count": 14,
     "metadata": {},
     "output_type": "execute_result"
    }
   ],
   "source": [
    "lista = [\"a\",\"b\",\"c\",\"d\",\"e\",1,2,3,4,5,False,True]\n",
    "lista"
   ]
  },
  {
   "cell_type": "code",
   "execution_count": 15,
   "metadata": {},
   "outputs": [
    {
     "data": {
      "text/plain": [
       "['a', 'b', 'c', 'd', 'e', 1, 2, 3, 4, 5, 0, 1]"
      ]
     },
     "execution_count": 15,
     "metadata": {},
     "output_type": "execute_result"
    }
   ],
   "source": [
    "lista[10:]=[0,1]\n",
    "lista"
   ]
  },
  {
   "cell_type": "code",
   "execution_count": 16,
   "metadata": {},
   "outputs": [
    {
     "data": {
      "text/plain": [
       "['a', 'b', 'c', 'd', 'e', 1, 2, 3, 4, 0, 1]"
      ]
     },
     "execution_count": 16,
     "metadata": {},
     "output_type": "execute_result"
    }
   ],
   "source": [
    "lista[-3:]=[0,1]\n",
    "lista"
   ]
  },
  {
   "cell_type": "code",
   "execution_count": 17,
   "metadata": {},
   "outputs": [
    {
     "name": "stdout",
     "output_type": "stream",
     "text": [
      "['a', 'b', 'c', 'd', 'e', 1, 2, 3, 4, 5, False, True]\n",
      "['a', 'b', 'c', 'd', 'e', 1, 2, 3, 4, 5, 0, 1]\n"
     ]
    }
   ],
   "source": [
    "lista = [\"a\",\"b\",\"c\",\"d\",\"e\",1,2,3,4,5,False,True]\n",
    "print(lista)\n",
    "lista[-1]=1\n",
    "#importante\n",
    "lista[lista.index(False)]=0\n",
    "print(lista)\n"
   ]
  },
  {
   "cell_type": "markdown",
   "metadata": {},
   "source": [
    "- Aplicar el método reverse a la lista de números "
   ]
  },
  {
   "cell_type": "code",
   "execution_count": 18,
   "metadata": {},
   "outputs": [
    {
     "data": {
      "text/plain": [
       "[5, 4, 3, 2, 1]"
      ]
     },
     "execution_count": 18,
     "metadata": {},
     "output_type": "execute_result"
    }
   ],
   "source": [
    "lista2.reverse()\n",
    "lista2"
   ]
  },
  {
   "cell_type": "markdown",
   "metadata": {},
   "source": [
    "- Aplicar el método sort() a la lista de números"
   ]
  },
  {
   "cell_type": "code",
   "execution_count": 19,
   "metadata": {},
   "outputs": [
    {
     "data": {
      "text/plain": [
       "[1, 2, 3, 4, 5]"
      ]
     },
     "execution_count": 19,
     "metadata": {},
     "output_type": "execute_result"
    }
   ],
   "source": [
    "lista2.sort()\n",
    "lista2"
   ]
  },
  {
   "cell_type": "markdown",
   "metadata": {},
   "source": [
    "-Obtener la lista inicial sumando las listas que se obtuvieron por separado "
   ]
  },
  {
   "cell_type": "code",
   "execution_count": 22,
   "metadata": {},
   "outputs": [
    {
     "data": {
      "text/plain": [
       "['a', 'e', 'i', 'o', 'u', 1, 2, 3, 4, 5, False, True]"
      ]
     },
     "execution_count": 22,
     "metadata": {},
     "output_type": "execute_result"
    }
   ],
   "source": [
    "lista1+lista2+lista3"
   ]
  },
  {
   "cell_type": "markdown",
   "metadata": {},
   "source": [
    "- Dada la siguiente lista de empresas"
   ]
  },
  {
   "cell_type": "code",
   "execution_count": 33,
   "metadata": {},
   "outputs": [
    {
     "data": {
      "text/plain": [
       "[['Cocacola', 'Pepsi'],\n",
       " ['FB', 'TW', 'IG'],\n",
       " ['Ferrari', 'Audi', 'Ford', 'Nissan'],\n",
       " ['KLM', 'AA', 'Iberia', 'AE', 'Avianca']]"
      ]
     },
     "execution_count": 33,
     "metadata": {},
     "output_type": "execute_result"
    }
   ],
   "source": [
    "empresas = [[\"Cocacola\",\"Pepsi\"],[\"FB\",\"TW\",\"IG\"],[\"Ferrari\",\"Audi\",\"Ford\",\"Nissan\"],\n",
    "           [\"KLM\",\"AA\",\"Iberia\",\"AE\",\"Avianca\"]]\n",
    "empresas"
   ]
  },
  {
   "cell_type": "markdown",
   "metadata": {},
   "source": [
    "1. Ordenar cada lista dentro de la lista de empresas en orden alfabetico\n",
    "2. Obtener las empresas: Audi, Avianca y KLM, mediante sus índices y crear una nueva lista con esos elementos\n",
    "3. Crear una nueva lista con la primera empresa de cada lista de empresas \n",
    "4. Crear una lista con todas las empresas"
   ]
  },
  {
   "cell_type": "code",
   "execution_count": 34,
   "metadata": {},
   "outputs": [
    {
     "data": {
      "text/plain": [
       "[['Cocacola', 'Pepsi'],\n",
       " ['FB', 'IG', 'TW'],\n",
       " ['Audi', 'Ferrari', 'Ford', 'Nissan'],\n",
       " ['AA', 'AE', 'Avianca', 'Iberia', 'KLM']]"
      ]
     },
     "execution_count": 34,
     "metadata": {},
     "output_type": "execute_result"
    }
   ],
   "source": [
    "empresas[0].sort()\n",
    "empresas[1].sort()\n",
    "empresas[2].sort()\n",
    "empresas[3].sort()\n",
    "empresas"
   ]
  },
  {
   "cell_type": "code",
   "execution_count": 25,
   "metadata": {},
   "outputs": [
    {
     "data": {
      "text/plain": [
       "['Audi', 'Avianca', 'KLM']"
      ]
     },
     "execution_count": 25,
     "metadata": {},
     "output_type": "execute_result"
    }
   ],
   "source": [
    "nueva_lista = [empresas[2][0],empresas[3][2],empresas[3][4]]\n",
    "nueva_lista"
   ]
  },
  {
   "cell_type": "code",
   "execution_count": 27,
   "metadata": {},
   "outputs": [
    {
     "data": {
      "text/plain": [
       "['Audi', 'Avianca', 'KLM']"
      ]
     },
     "execution_count": 27,
     "metadata": {},
     "output_type": "execute_result"
    }
   ],
   "source": [
    "empresas_seleccionadas = []\n",
    "empresas_seleccionadas.append(empresas[2][0])\n",
    "empresas_seleccionadas.append(empresas[3][2])\n",
    "empresas_seleccionadas.append(empresas[3][4])\n",
    "empresas_seleccionadas\n"
   ]
  },
  {
   "cell_type": "code",
   "execution_count": 26,
   "metadata": {},
   "outputs": [
    {
     "data": {
      "text/plain": [
       "['Cocacola', 'FB', 'Audi', 'AA']"
      ]
     },
     "execution_count": 26,
     "metadata": {},
     "output_type": "execute_result"
    }
   ],
   "source": [
    "[empresas[0][0],empresas[1][0],empresas[2][0],empresas[3][0]]"
   ]
  },
  {
   "cell_type": "code",
   "execution_count": 31,
   "metadata": {},
   "outputs": [
    {
     "data": {
      "text/plain": [
       "['Cocacola',\n",
       " 'Pepsi',\n",
       " 'FB',\n",
       " 'IG',\n",
       " 'TW',\n",
       " 'Audi',\n",
       " 'Ferrari',\n",
       " 'Ford',\n",
       " 'Nissan',\n",
       " 'AA',\n",
       " 'AE',\n",
       " 'Avianca',\n",
       " 'Iberia',\n",
       " 'KLM']"
      ]
     },
     "execution_count": 31,
     "metadata": {},
     "output_type": "execute_result"
    }
   ],
   "source": [
    "empresas[0].extend(empresas[1])\n",
    "empresas[0].extend(empresas[2])\n",
    "empresas[0].extend(empresas[3])\n",
    "lista1 = empresas[0]\n",
    "lista1"
   ]
  },
  {
   "cell_type": "code",
   "execution_count": null,
   "metadata": {},
   "outputs": [],
   "source": [
    "# Cada variable es una empresa y cada empresa se agrega a new_listt\n",
    "list8=list[0][0]\n",
    "list9=list[0][1]\n",
    "list10=list[1][0]\n",
    "list11=list[1][1]\n",
    "list12=list[1][2]\n",
    "list13=list[2][0]\n",
    "list14=list[2][1]\n",
    "list15=list[2][2]\n",
    "list16=list[2][3]\n",
    "list17=list[3][0]\n",
    "list18=list[3][1]\n",
    "list19=list[3][2]\n",
    "list20=list[3][3]\n",
    "list21=list[3][4]\n",
    "\n",
    "new_listt=[list8,list9,list10,list11,list12,list13,list14,list15,list16,list17,list18,list19,list20,list21]\n",
    "print(new_listt)\n"
   ]
  },
  {
   "cell_type": "code",
   "execution_count": 35,
   "metadata": {},
   "outputs": [
    {
     "data": {
      "text/plain": [
       "['Cocacola',\n",
       " 'Pepsi',\n",
       " 'FB',\n",
       " 'IG',\n",
       " 'TW',\n",
       " 'Audi',\n",
       " 'Ferrari',\n",
       " 'Ford',\n",
       " 'Nissan',\n",
       " 'AA',\n",
       " 'AE',\n",
       " 'Avianca',\n",
       " 'Iberia',\n",
       " 'KLM']"
      ]
     },
     "execution_count": 35,
     "metadata": {},
     "output_type": "execute_result"
    }
   ],
   "source": [
    "lst_all = empresas[0] + empresas[1] + empresas[2] + empresas[3]\n",
    "lst_all"
   ]
  },
  {
   "cell_type": "code",
   "execution_count": 36,
   "metadata": {},
   "outputs": [
    {
     "data": {
      "text/plain": [
       "['Cocacola',\n",
       " 'Pepsi',\n",
       " 'FB',\n",
       " 'IG',\n",
       " 'TW',\n",
       " 'Audi',\n",
       " 'Ferrari',\n",
       " 'Ford',\n",
       " 'Nissan',\n",
       " 'AA',\n",
       " 'AE',\n",
       " 'Avianca',\n",
       " 'Iberia',\n",
       " 'KLM']"
      ]
     },
     "execution_count": 36,
     "metadata": {},
     "output_type": "execute_result"
    }
   ],
   "source": [
    "lista=[]\n",
    "for i in empresas[0]:\n",
    "    lista.append(i)\n",
    "for i in empresas[1]:\n",
    "    lista.append(i)\n",
    "for i in empresas[2]:\n",
    "    lista.append(i)\n",
    "for i in empresas[3]:\n",
    "    lista.append(i)\n",
    "lista"
   ]
  },
  {
   "cell_type": "code",
   "execution_count": null,
   "metadata": {},
   "outputs": [],
   "source": []
  }
 ],
 "metadata": {
  "kernelspec": {
   "display_name": "Python 3",
   "language": "python",
   "name": "python3"
  },
  "language_info": {
   "codemirror_mode": {
    "name": "ipython",
    "version": 3
   },
   "file_extension": ".py",
   "mimetype": "text/x-python",
   "name": "python",
   "nbconvert_exporter": "python",
   "pygments_lexer": "ipython3",
   "version": "3.7.4"
  }
 },
 "nbformat": 4,
 "nbformat_minor": 2
}
