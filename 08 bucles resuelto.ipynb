{
 "cells": [
  {
   "cell_type": "markdown",
   "metadata": {},
   "source": [
    "### Practica Bucles"
   ]
  },
  {
   "cell_type": "markdown",
   "metadata": {},
   "source": [
    "#### Ejercicio 1"
   ]
  },
  {
   "cell_type": "markdown",
   "metadata": {},
   "source": [
    "- Dada la siguiente lista = [1,2,3,4,5,6,7,8,9,10], imprimir cada número sumandole 10 utilizando un bucle **for**"
   ]
  },
  {
   "cell_type": "code",
   "execution_count": 9,
   "metadata": {},
   "outputs": [
    {
     "name": "stdout",
     "output_type": "stream",
     "text": [
      "11\n",
      "12\n",
      "13\n",
      "14\n",
      "15\n",
      "16\n",
      "17\n",
      "18\n",
      "19\n",
      "20\n"
     ]
    }
   ],
   "source": [
    "lista=[1,2,3,4,5,6,7,8,9,10]\n",
    "for i in lista:\n",
    "    print(i+10)"
   ]
  },
  {
   "cell_type": "markdown",
   "metadata": {},
   "source": [
    "#### Ejercicio 2"
   ]
  },
  {
   "cell_type": "markdown",
   "metadata": {},
   "source": [
    "- Crea un bucle **for** que muestre la tabla de multiplicar del 1 al 10 de un número dado por el usuario"
   ]
  },
  {
   "cell_type": "code",
   "execution_count": 2,
   "metadata": {},
   "outputs": [
    {
     "name": "stdout",
     "output_type": "stream",
     "text": [
      "Ingresar número: 5\n",
      "1 x 5 = 5\n",
      "2 x 5 = 10\n",
      "3 x 5 = 15\n",
      "4 x 5 = 20\n",
      "5 x 5 = 25\n",
      "6 x 5 = 30\n",
      "7 x 5 = 35\n",
      "8 x 5 = 40\n",
      "9 x 5 = 45\n",
      "10 x 5 = 50\n"
     ]
    }
   ],
   "source": [
    "numero = input(\"Ingresar número: \")\n",
    "numero = int(numero)\n",
    "for i in range(1,11):\n",
    "    print(str(i)+\" x \"+str(numero)+\" = \"+str(i*numero))"
   ]
  },
  {
   "cell_type": "code",
   "execution_count": 10,
   "metadata": {},
   "outputs": [
    {
     "name": "stdout",
     "output_type": "stream",
     "text": [
      "Ingresa el numero:5 5\n",
      "5 * 0 = 0\n",
      "5 * 1 = 5\n",
      "5 * 2 = 10\n",
      "5 * 3 = 15\n",
      "5 * 4 = 20\n",
      "5 * 5 = 25\n",
      "5 * 6 = 30\n",
      "5 * 7 = 35\n",
      "5 * 8 = 40\n",
      "5 * 9 = 45\n",
      "5 * 10 = 50\n"
     ]
    }
   ],
   "source": [
    "numero=int(input(\"Ingresa el numero:5 \"))\n",
    "for i in range (0,11):\n",
    "    resultado=i*numero\n",
    "    print((\"%d * %d = %d\") % (numero,i,resultado))"
   ]
  },
  {
   "cell_type": "markdown",
   "metadata": {},
   "source": [
    "#### Ejercicio 3"
   ]
  },
  {
   "attachments": {
    "image.png": {
     "image/png": "[encoded data removed]"
    }
   },
   "cell_type": "markdown",
   "metadata": {},
   "source": [
    "- Crea un bucle **for** que recorra la siguiente lista = [\"a\",\"b\",\"c\",\"d\",\"e\"] e imprima el valor correspondiente en codigo ascii.\n",
    "\n",
    "![image.png](attachment:image.png)\n",
    "\n",
    "- Nota: Se utiliza condicionales"
   ]
  },
  {
   "cell_type": "code",
   "execution_count": 13,
   "metadata": {},
   "outputs": [
    {
     "name": "stdout",
     "output_type": "stream",
     "text": [
      "97\n",
      "98\n",
      "99\n",
      "100\n",
      "101\n"
     ]
    }
   ],
   "source": [
    "#Forma correcta: \n",
    "\n",
    "for i in [\"a\",\"b\",\"c\",\"d\",\"e\"]:\n",
    "    if i==\"a\":\n",
    "        print(97)\n",
    "    elif i==\"b\":\n",
    "        print(98)\n",
    "    elif i==\"c\":\n",
    "        print(99)\n",
    "    elif i==\"d\":\n",
    "        print(100)\n",
    "    else:\n",
    "        print(101)"
   ]
  },
  {
   "cell_type": "code",
   "execution_count": 12,
   "metadata": {},
   "outputs": [
    {
     "name": "stdout",
     "output_type": "stream",
     "text": [
      "97\n",
      "98\n",
      "99\n",
      "100\n",
      "101\n"
     ]
    }
   ],
   "source": [
    "for i in [\"a\",\"b\",\"c\",\"d\",\"e\"]:\n",
    "    if i==\"a\":\n",
    "        print(97)\n",
    "    if i==\"b\":\n",
    "        print(98)\n",
    "    if i==\"c\":\n",
    "        print(99)\n",
    "    if i==\"d\":\n",
    "        print(100)\n",
    "    if i ==\"e\":\n",
    "        print(101)"
   ]
  },
  {
   "cell_type": "code",
   "execution_count": null,
   "metadata": {},
   "outputs": [],
   "source": []
  },
  {
   "cell_type": "code",
   "execution_count": 11,
   "metadata": {},
   "outputs": [
    {
     "ename": "NameError",
     "evalue": "name 'np' is not defined",
     "output_type": "error",
     "traceback": [
      "\u001b[1;31m---------------------------------------------------------------------------\u001b[0m",
      "\u001b[1;31mNameError\u001b[0m                                 Traceback (most recent call last)",
      "\u001b[1;32m<ipython-input-11-c984baebfac5>\u001b[0m in \u001b[0;36m<module>\u001b[1;34m\u001b[0m\n\u001b[0;32m      1\u001b[0m \u001b[0mlista1\u001b[0m\u001b[1;33m=\u001b[0m\u001b[1;33m[\u001b[0m\u001b[1;34m\"a\"\u001b[0m\u001b[1;33m,\u001b[0m\u001b[1;34m\"b\"\u001b[0m\u001b[1;33m,\u001b[0m\u001b[1;34m\"c\"\u001b[0m\u001b[1;33m,\u001b[0m\u001b[1;34m\"d\"\u001b[0m\u001b[1;33m,\u001b[0m\u001b[1;34m\"e\"\u001b[0m\u001b[1;33m]\u001b[0m\u001b[1;33m\u001b[0m\u001b[1;33m\u001b[0m\u001b[0m\n\u001b[1;32m----> 2\u001b[1;33m \u001b[0mlista2\u001b[0m\u001b[1;33m=\u001b[0m\u001b[0mnp\u001b[0m\u001b[1;33m.\u001b[0m\u001b[0marange\u001b[0m\u001b[1;33m(\u001b[0m\u001b[1;36m97\u001b[0m\u001b[1;33m,\u001b[0m\u001b[1;36m102\u001b[0m\u001b[1;33m)\u001b[0m\u001b[1;33m\u001b[0m\u001b[1;33m\u001b[0m\u001b[0m\n\u001b[0m\u001b[0;32m      3\u001b[0m \u001b[1;32mfor\u001b[0m \u001b[0mf\u001b[0m\u001b[1;33m,\u001b[0m \u001b[0mb\u001b[0m \u001b[1;32min\u001b[0m \u001b[0mzip\u001b[0m\u001b[1;33m(\u001b[0m\u001b[0mlista1\u001b[0m\u001b[1;33m,\u001b[0m \u001b[0mlista2\u001b[0m\u001b[1;33m)\u001b[0m\u001b[1;33m:\u001b[0m\u001b[1;33m\u001b[0m\u001b[1;33m\u001b[0m\u001b[0m\n\u001b[0;32m      4\u001b[0m     \u001b[0mprint\u001b[0m\u001b[1;33m(\u001b[0m\u001b[0mf\u001b[0m\u001b[1;33m,\u001b[0m \u001b[0mb\u001b[0m\u001b[1;33m)\u001b[0m\u001b[1;33m\u001b[0m\u001b[1;33m\u001b[0m\u001b[0m\n",
      "\u001b[1;31mNameError\u001b[0m: name 'np' is not defined"
     ]
    }
   ],
   "source": [
    "# import numpy as np\n",
    "# lista1=[\"a\",\"b\",\"c\",\"d\",\"e\"]\n",
    "# lista2=np.arange(97,102)\n",
    "# for f, b in zip(lista1, lista2): \n",
    "#     print(f, b)\n"
   ]
  },
  {
   "cell_type": "markdown",
   "metadata": {},
   "source": [
    "#### Ejercicio 4"
   ]
  },
  {
   "cell_type": "markdown",
   "metadata": {},
   "source": [
    "- Crea una lista con los números del 201 al 207 utilizando un bucle **for**"
   ]
  },
  {
   "cell_type": "code",
   "execution_count": 16,
   "metadata": {},
   "outputs": [
    {
     "data": {
      "text/plain": [
       "[201, 202, 203, 204, 205, 206, 207]"
      ]
     },
     "execution_count": 16,
     "metadata": {},
     "output_type": "execute_result"
    }
   ],
   "source": [
    "lista = []\n",
    "for i in range(201,208):\n",
    "    lista.append(i)\n",
    "lista"
   ]
  },
  {
   "cell_type": "markdown",
   "metadata": {},
   "source": [
    "#### Ejercicio 5"
   ]
  },
  {
   "cell_type": "markdown",
   "metadata": {},
   "source": [
    "- Crea una lista de números pares entre el 555 y el 599 utilizando bucle **for**"
   ]
  },
  {
   "cell_type": "code",
   "execution_count": 17,
   "metadata": {
    "collapsed": true
   },
   "outputs": [
    {
     "name": "stdout",
     "output_type": "stream",
     "text": [
      "555\n",
      "556\n",
      "557\n",
      "558\n",
      "559\n",
      "560\n",
      "561\n",
      "562\n",
      "563\n",
      "564\n",
      "565\n",
      "566\n",
      "567\n",
      "568\n",
      "569\n",
      "570\n",
      "571\n",
      "572\n",
      "573\n",
      "574\n",
      "575\n",
      "576\n",
      "577\n",
      "578\n",
      "579\n",
      "580\n",
      "581\n",
      "582\n",
      "583\n",
      "584\n",
      "585\n",
      "586\n",
      "587\n",
      "588\n",
      "589\n",
      "590\n",
      "591\n",
      "592\n",
      "593\n",
      "594\n",
      "595\n",
      "596\n",
      "597\n",
      "598\n",
      "599\n"
     ]
    },
    {
     "data": {
      "text/plain": [
       "[556,\n",
       " 558,\n",
       " 560,\n",
       " 562,\n",
       " 564,\n",
       " 566,\n",
       " 568,\n",
       " 570,\n",
       " 572,\n",
       " 574,\n",
       " 576,\n",
       " 578,\n",
       " 580,\n",
       " 582,\n",
       " 584,\n",
       " 586,\n",
       " 588,\n",
       " 590,\n",
       " 592,\n",
       " 594,\n",
       " 596,\n",
       " 598]"
      ]
     },
     "execution_count": 17,
     "metadata": {},
     "output_type": "execute_result"
    }
   ],
   "source": [
    "lista = []\n",
    "for i in range(555,600):\n",
    "    print(i)\n",
    "    if i%2 == 0: #par\n",
    "        lista.append(i)\n",
    "lista"
   ]
  },
  {
   "cell_type": "code",
   "execution_count": 20,
   "metadata": {
    "collapsed": true
   },
   "outputs": [
    {
     "name": "stdout",
     "output_type": "stream",
     "text": [
      "556\n",
      "558\n",
      "560\n",
      "562\n",
      "564\n",
      "566\n",
      "568\n",
      "570\n",
      "572\n",
      "574\n",
      "576\n",
      "578\n",
      "580\n",
      "582\n",
      "584\n",
      "586\n",
      "588\n",
      "590\n",
      "592\n",
      "594\n",
      "596\n",
      "598\n"
     ]
    },
    {
     "data": {
      "text/plain": [
       "[556,\n",
       " 558,\n",
       " 560,\n",
       " 562,\n",
       " 564,\n",
       " 566,\n",
       " 568,\n",
       " 570,\n",
       " 572,\n",
       " 574,\n",
       " 576,\n",
       " 578,\n",
       " 580,\n",
       " 582,\n",
       " 584,\n",
       " 586,\n",
       " 588,\n",
       " 590,\n",
       " 592,\n",
       " 594,\n",
       " 596,\n",
       " 598]"
      ]
     },
     "execution_count": 20,
     "metadata": {},
     "output_type": "execute_result"
    }
   ],
   "source": [
    "lista = []\n",
    "for e in range(555,599):\n",
    "    if e % 2 != 0:\n",
    "        continue\n",
    "    lista.append(e)\n",
    "    print(e)\n",
    "lista"
   ]
  },
  {
   "cell_type": "code",
   "execution_count": null,
   "metadata": {},
   "outputs": [],
   "source": []
  },
  {
   "cell_type": "markdown",
   "metadata": {},
   "source": [
    "#### Ejercicio 6"
   ]
  },
  {
   "cell_type": "markdown",
   "metadata": {},
   "source": [
    "- Crea una lista con 5 elementos y cada elemento de esa lista, va a ser una lista con los siguientes datos: [1,2,3], utilizando 2 **for** anidados"
   ]
  },
  {
   "cell_type": "code",
   "execution_count": 9,
   "metadata": {},
   "outputs": [
    {
     "data": {
      "text/plain": [
       "[[1, 2, 3], [1, 2, 3], [1, 2, 3], [1, 2, 3], [1, 2, 3]]"
      ]
     },
     "execution_count": 9,
     "metadata": {},
     "output_type": "execute_result"
    }
   ],
   "source": [
    "lista_principal = []\n",
    "for i in range(5):\n",
    "    lista_secuandaria = []\n",
    "    for i in range(1,4):\n",
    "        lista_secuandaria.append(i)\n",
    "    lista_principal.append(lista_secuandaria)\n",
    "lista_principal"
   ]
  },
  {
   "cell_type": "code",
   "execution_count": 21,
   "metadata": {},
   "outputs": [
    {
     "data": {
      "text/plain": [
       "[[1, 2, 3], [1, 2, 3], [1, 2, 3], [1, 2, 3], [1, 2, 3]]"
      ]
     },
     "execution_count": 21,
     "metadata": {},
     "output_type": "execute_result"
    }
   ],
   "source": [
    "g=[]\n",
    "for j in range(5):\n",
    "    \n",
    "    f=[]\n",
    "    for i in range(1,4):\n",
    "        f.append(i)\n",
    "       \n",
    "    g.append(f)\n",
    "g"
   ]
  },
  {
   "cell_type": "markdown",
   "metadata": {},
   "source": [
    "#### Ejercicio 7"
   ]
  },
  {
   "cell_type": "markdown",
   "metadata": {},
   "source": [
    "- Crea un bucle **for** que sume los valores de la siguiente lista: [51, 52, 53, 54, 55]"
   ]
  },
  {
   "cell_type": "code",
   "execution_count": 22,
   "metadata": {},
   "outputs": [
    {
     "data": {
      "text/plain": [
       "265"
      ]
     },
     "execution_count": 22,
     "metadata": {},
     "output_type": "execute_result"
    }
   ],
   "source": [
    "lista = [51,52,53,54,55]\n",
    "x=0\n",
    "for i in lista:\n",
    "    x=i+x\n",
    "x"
   ]
  },
  {
   "cell_type": "code",
   "execution_count": 23,
   "metadata": {},
   "outputs": [
    {
     "name": "stdout",
     "output_type": "stream",
     "text": [
      "265\n"
     ]
    }
   ],
   "source": [
    "total = 0\n",
    "for number in range(51, 56):\n",
    "    total += number\n",
    "print(total)"
   ]
  },
  {
   "cell_type": "code",
   "execution_count": 11,
   "metadata": {},
   "outputs": [
    {
     "name": "stdout",
     "output_type": "stream",
     "text": [
      "51\n",
      "51\n",
      "**********\n",
      "52\n",
      "103\n",
      "**********\n",
      "53\n",
      "156\n",
      "**********\n",
      "54\n",
      "210\n",
      "**********\n",
      "55\n",
      "265\n",
      "**********\n"
     ]
    },
    {
     "data": {
      "text/plain": [
       "265"
      ]
     },
     "execution_count": 11,
     "metadata": {},
     "output_type": "execute_result"
    }
   ],
   "source": [
    "x=0\n",
    "for i in range(51,56):\n",
    "    print(i)\n",
    "    x+=i\n",
    "    print(x)\n",
    "    print(\"**********\")\n",
    "x"
   ]
  },
  {
   "cell_type": "markdown",
   "metadata": {},
   "source": [
    "#### Ejercicio 8\n"
   ]
  },
  {
   "cell_type": "markdown",
   "metadata": {},
   "source": [
    "- Crea un bucle que cuente del 10 al 1"
   ]
  },
  {
   "cell_type": "code",
   "execution_count": 24,
   "metadata": {},
   "outputs": [
    {
     "name": "stdout",
     "output_type": "stream",
     "text": [
      "10\n",
      "9\n",
      "8\n",
      "7\n",
      "6\n",
      "5\n",
      "4\n",
      "3\n",
      "2\n",
      "1\n"
     ]
    }
   ],
   "source": [
    "x=10\n",
    "for i in range(50,60):\n",
    "    print(x)\n",
    "    x-=1"
   ]
  },
  {
   "cell_type": "code",
   "execution_count": 25,
   "metadata": {},
   "outputs": [
    {
     "name": "stdout",
     "output_type": "stream",
     "text": [
      "10\n",
      "9\n",
      "8\n",
      "7\n",
      "6\n",
      "5\n",
      "4\n",
      "3\n",
      "2\n",
      "1\n",
      "0\n"
     ]
    }
   ],
   "source": [
    "numero=11\n",
    "while numero>0:\n",
    "    numero=numero-1\n",
    "    print(numero)"
   ]
  },
  {
   "cell_type": "code",
   "execution_count": 29,
   "metadata": {},
   "outputs": [
    {
     "name": "stdout",
     "output_type": "stream",
     "text": [
      "9\n",
      "8\n",
      "7\n",
      "6\n",
      "5\n",
      "4\n",
      "3\n",
      "2\n",
      "1\n",
      "0\n"
     ]
    }
   ],
   "source": [
    "cuenta=10\n",
    "while 0<cuenta<=10:\n",
    "    cuenta-=1\n",
    "    print(cuenta)"
   ]
  },
  {
   "cell_type": "code",
   "execution_count": 30,
   "metadata": {},
   "outputs": [
    {
     "data": {
      "text/plain": [
       "[10, 9, 8, 7, 6, 5, 4, 3, 2, 1]"
      ]
     },
     "execution_count": 30,
     "metadata": {},
     "output_type": "execute_result"
    }
   ],
   "source": [
    "num =[]\n",
    "for i in range(1,11):\n",
    "    num.append(i)\n",
    "num.reverse()\n",
    "num"
   ]
  },
  {
   "cell_type": "code",
   "execution_count": 31,
   "metadata": {},
   "outputs": [
    {
     "name": "stdout",
     "output_type": "stream",
     "text": [
      "10\n",
      "9\n",
      "8\n",
      "7\n",
      "6\n",
      "5\n",
      "4\n",
      "3\n",
      "2\n",
      "1\n"
     ]
    }
   ],
   "source": [
    "for x in range(10,0,-1):\n",
    "    print(x)"
   ]
  },
  {
   "cell_type": "code",
   "execution_count": 32,
   "metadata": {},
   "outputs": [
    {
     "name": "stdout",
     "output_type": "stream",
     "text": [
      "1\n",
      "3\n",
      "5\n",
      "7\n",
      "9\n"
     ]
    }
   ],
   "source": [
    "for i in range(1,10,2):\n",
    "    print(i)"
   ]
  },
  {
   "cell_type": "markdown",
   "metadata": {},
   "source": [
    "#### Ejercicio 9\n"
   ]
  },
  {
   "cell_type": "markdown",
   "metadata": {},
   "source": [
    "- Dada la siguiente lista de números = [10,7,8,3,5,2,71,21,88], crea un bucle que recorra la lista y sume los números pares e impares."
   ]
  },
  {
   "cell_type": "code",
   "execution_count": 33,
   "metadata": {},
   "outputs": [
    {
     "name": "stdout",
     "output_type": "stream",
     "text": [
      "108\n",
      "107\n"
     ]
    }
   ],
   "source": [
    "numeros = [10,7,8,3,5,2,71,21,88]\n",
    "par = 0\n",
    "impar=0\n",
    "for i in numeros:\n",
    "    if i%2 == 0:\n",
    "        par += i\n",
    "    else:\n",
    "        impar += i\n",
    "print(par)\n",
    "print(impar)"
   ]
  },
  {
   "cell_type": "markdown",
   "metadata": {},
   "source": [
    "#### Ejercicio 10"
   ]
  },
  {
   "cell_type": "markdown",
   "metadata": {},
   "source": [
    "- Crea una lista con 5 colores diferentes, y con bucles anidados imprime las letras de los colores por separado"
   ]
  },
  {
   "cell_type": "code",
   "execution_count": 11,
   "metadata": {},
   "outputs": [
    {
     "name": "stdout",
     "output_type": "stream",
     "text": [
      "A\n",
      "m\n",
      "a\n",
      "r\n",
      "i\n",
      "l\n",
      "l\n",
      "o\n",
      "R\n",
      "o\n",
      "j\n",
      "o\n",
      "V\n",
      "e\n",
      "r\n",
      "d\n",
      "e\n",
      "A\n",
      "z\n",
      "u\n",
      "l\n"
     ]
    }
   ],
   "source": [
    "colores = [\"Amarillo\",\"Rojo\", \"Verde\",\"Azul\"]\n",
    "\n",
    "for color in colores:\n",
    "    for letra in color:\n",
    "        print(letra)"
   ]
  },
  {
   "cell_type": "code",
   "execution_count": null,
   "metadata": {},
   "outputs": [],
   "source": []
  },
  {
   "cell_type": "markdown",
   "metadata": {},
   "source": [
    "#### Ejercicio 11"
   ]
  },
  {
   "cell_type": "markdown",
   "metadata": {},
   "source": [
    "- Imprimir el índice y valor de cada elemento de la lista: [-5,-4,-3,-2,-1,0,1,2,3,4,5] utilizando un bucle **for**"
   ]
  },
  {
   "cell_type": "code",
   "execution_count": 36,
   "metadata": {},
   "outputs": [
    {
     "name": "stdout",
     "output_type": "stream",
     "text": [
      "index: 0 value: -5\n",
      "index: 1 value: -4\n",
      "index: 2 value: -3\n",
      "index: 3 value: -2\n",
      "index: 4 value: -1\n",
      "index: 5 value: 0\n",
      "index: 6 value: 1\n",
      "index: 7 value: 2\n",
      "index: 8 value: 3\n",
      "index: 9 value: 4\n",
      "index: 10 value: 5\n"
     ]
    }
   ],
   "source": [
    "for index, i in enumerate([-5,-4,-3,-2,-1,0,1,2,3,4,5]):\n",
    "    print('index: '+str(index) +' value: '+ str(i))"
   ]
  },
  {
   "cell_type": "markdown",
   "metadata": {},
   "source": [
    "#### Ejercicio 12"
   ]
  },
  {
   "cell_type": "markdown",
   "metadata": {},
   "source": [
    "- Crea un bucle **while** donde le pregunte al usuario un número y si ese número es impar el programa se detiene"
   ]
  },
  {
   "cell_type": "code",
   "execution_count": 37,
   "metadata": {},
   "outputs": [
    {
     "name": "stdout",
     "output_type": "stream",
     "text": [
      "Ingresa un número: 8\n",
      "Ingresa un número: 10\n",
      "Ingresa un número: 6\n",
      "Ingresa un número: 5\n"
     ]
    }
   ],
   "source": [
    "x=2\n",
    "while(x%2 == 0):\n",
    "    x = int(input(\"Ingresa un número: \"))"
   ]
  },
  {
   "cell_type": "code",
   "execution_count": 38,
   "metadata": {},
   "outputs": [
    {
     "name": "stdout",
     "output_type": "stream",
     "text": [
      "Ingrese un numero: 8\n",
      "8\n",
      "Ingrese un numero: 6\n",
      "6\n",
      "Ingrese un numero: 10\n",
      "10\n",
      "Ingrese un numero: 12\n",
      "12\n",
      "Ingrese un numero: 13\n"
     ]
    }
   ],
   "source": [
    "while True:\n",
    "    numero=int(input(\"Ingrese un numero: \"))\n",
    "    if numero%2==0:\n",
    "        print(numero)\n",
    "    else:\n",
    "        break"
   ]
  },
  {
   "cell_type": "code",
   "execution_count": 39,
   "metadata": {},
   "outputs": [
    {
     "name": "stdout",
     "output_type": "stream",
     "text": [
      "Introduce un número: 2\n",
      "Introduce un número: 4\n",
      "Introduce un número: 6\n",
      "Introduce un número: 7\n"
     ]
    }
   ],
   "source": [
    "while( ( (int(input(\"Introduce un número: \")) )) % 2 == 0):\n",
    "    pass"
   ]
  },
  {
   "cell_type": "code",
   "execution_count": null,
   "metadata": {},
   "outputs": [],
   "source": []
  },
  {
   "cell_type": "code",
   "execution_count": null,
   "metadata": {},
   "outputs": [],
   "source": []
  },
  {
   "cell_type": "markdown",
   "metadata": {},
   "source": [
    "#### Ejercicio 13"
   ]
  },
  {
   "cell_type": "markdown",
   "metadata": {},
   "source": [
    "- Crea un programa que cuenta las letras que contiene una frase"
   ]
  },
  {
   "cell_type": "code",
   "execution_count": 8,
   "metadata": {},
   "outputs": [
    {
     "name": "stdout",
     "output_type": "stream",
     "text": [
      "['U', 'n', 'a', ' ', 'g', 'l', 'x', 'i', 'm', 'u', 'y', 'e', 'j']\n",
      "U 1\n",
      "n 2\n",
      "a 6\n",
      "  3\n",
      "g 1\n",
      "l 2\n",
      "x 1\n",
      "i 1\n",
      "m 1\n",
      "u 1\n",
      "y 1\n",
      "e 1\n",
      "j 1\n"
     ]
    }
   ],
   "source": [
    "frase = \"Una galaxia muy lejana\"\n",
    "\n",
    "letras = []\n",
    "numero = 0\n",
    "\n",
    "for letter in frase:\n",
    "    if letter not in letras:\n",
    "        letras.append(letter)\n",
    "\n",
    "print(letras)\n",
    "\n",
    "for letter in letras:\n",
    "    numero = frase.count(letter)\n",
    "    print(letter,numero)"
   ]
  },
  {
   "cell_type": "code",
   "execution_count": 42,
   "metadata": {},
   "outputs": [
    {
     "name": "stdout",
     "output_type": "stream",
     "text": [
      "Introduce tu frase: hola hola hola\n",
      "La letra h aparece 3 veces.\n",
      "La letra o aparece 3 veces.\n",
      "La letra l aparece 3 veces.\n",
      "La letra a aparece 3 veces.\n",
      "La letra   aparece 2 veces.\n"
     ]
    }
   ],
   "source": [
    "frase= input('Introduce tu frase: ')\n",
    "letras = []\n",
    "for letra in frase:\n",
    "    if letra not in letras:\n",
    "        letras.append(letra)\n",
    "for i in letras:\n",
    "    print(f'La letra {i} aparece {frase.count(i)} veces.')"
   ]
  },
  {
   "cell_type": "code",
   "execution_count": 43,
   "metadata": {},
   "outputs": [
    {
     "name": "stdout",
     "output_type": "stream",
     "text": [
      "Introduzca una frase:hola hola hola\n",
      "Número de apariciones de cada letra\n",
      "La letra a aparece 3 veces\n",
      "La letra b aparece 0 veces\n",
      "La letra c aparece 0 veces\n",
      "La letra d aparece 0 veces\n",
      "La letra e aparece 0 veces\n",
      "La letra f aparece 0 veces\n",
      "La letra g aparece 0 veces\n",
      "La letra h aparece 3 veces\n",
      "La letra i aparece 0 veces\n",
      "La letra j aparece 0 veces\n",
      "La letra k aparece 0 veces\n",
      "La letra l aparece 3 veces\n",
      "La letra m aparece 0 veces\n",
      "La letra n aparece 0 veces\n",
      "La letra ñ aparece 0 veces\n",
      "La letra o aparece 3 veces\n",
      "La letra p aparece 0 veces\n",
      "La letra q aparece 0 veces\n",
      "La letra r aparece 0 veces\n",
      "La letra s aparece 0 veces\n",
      "La letra t aparece 0 veces\n",
      "La letra u aparece 0 veces\n",
      "La letra v aparece 0 veces\n",
      "La letra w aparece 0 veces\n",
      "La letra x aparece 0 veces\n",
      "La letra y aparece 0 veces\n",
      "La letra z aparece 0 veces\n",
      "La letra   aparece 2 veces\n",
      "La letra á aparece 0 veces\n",
      "La letra é aparece 0 veces\n",
      "La letra í aparece 0 veces\n",
      "La letra ó aparece 0 veces\n",
      "La letra ú aparece 0 veces\n"
     ]
    }
   ],
   "source": [
    "frase = input(\"Introduzca una frase:\")\n",
    "abecedario =[\"a\",\"b\",\"c\",\"d\",\"e\",\"f\",\"g\",\"h\",\"i\",\"j\",\"k\",\"l\",\"m\",\"n\",\"ñ\",\"o\",\"p\",\"q\",\"r\",\"s\",\"t\",\"u\",\"v\",\"w\",\"x\",\"y\",\"z\",\" \",\"á\",\"é\",\"í\",\"ó\",\"ú\"]\n",
    "apariciones=[0,0,0,0,0,0,0,0,0,0,0,0,0,0,0,0,0,0,0,0,0,0,0,0,0,0,0,0,0,0,0,0,0]\n",
    "for indice,letra in enumerate(abecedario):\n",
    "    apariciones[indice]= frase.count(letra)\n",
    "print(\"Número de apariciones de cada letra\")\n",
    "for indice,letra in enumerate (abecedario):\n",
    "    print(\"La letra\", letra, \"aparece\",apariciones[indice],\"veces\")\n"
   ]
  },
  {
   "cell_type": "code",
   "execution_count": null,
   "metadata": {},
   "outputs": [],
   "source": []
  }
 ],
 "metadata": {
  "kernelspec": {
   "display_name": "Python 3",
   "language": "python",
   "name": "python3"
  },
  "language_info": {
   "codemirror_mode": {
    "name": "ipython",
    "version": 3
   },
   "file_extension": ".py",
   "mimetype": "text/x-python",
   "name": "python",
   "nbconvert_exporter": "python",
   "pygments_lexer": "ipython3",
   "version": "3.7.4"
  }
 },
 "nbformat": 4,
 "nbformat_minor": 2
}
