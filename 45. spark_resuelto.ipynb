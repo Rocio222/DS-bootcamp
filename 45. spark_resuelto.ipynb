{
 "cells": [
  {
   "cell_type": "markdown",
   "metadata": {
    "collapsed": true
   },
   "source": [
    "### Cargar dataframe de Canada"
   ]
  },
  {
   "cell_type": "code",
   "execution_count": 16,
   "metadata": {},
   "outputs": [
    {
     "name": "stdout",
     "output_type": "stream",
     "text": [
      "Requirement already satisfied: pyspark==2.4.5 in /Users/rociocuestapedraz/opt/anaconda3/lib/python3.7/site-packages (2.4.5)\r\n",
      "Requirement already satisfied: py4j==0.10.7 in /Users/rociocuestapedraz/opt/anaconda3/lib/python3.7/site-packages (from pyspark==2.4.5) (0.10.7)\r\n"
     ]
    },
    {
     "ename": "Exception",
     "evalue": "Java gateway process exited before sending its port number",
     "output_type": "error",
     "traceback": [
      "\u001b[0;31m---------------------------------------------------------------------------\u001b[0m",
      "\u001b[0;31mException\u001b[0m                                 Traceback (most recent call last)",
      "\u001b[0;32m<ipython-input-16-657e1c6d6065>\u001b[0m in \u001b[0;36m<module>\u001b[0;34m\u001b[0m\n\u001b[1;32m      4\u001b[0m \u001b[0;31m#import pyspark\u001b[0m\u001b[0;34m\u001b[0m\u001b[0;34m\u001b[0m\u001b[0;34m\u001b[0m\u001b[0m\n\u001b[1;32m      5\u001b[0m \u001b[0;31m#from pyspark import SparkContext, SparkConf\u001b[0m\u001b[0;34m\u001b[0m\u001b[0;34m\u001b[0m\u001b[0;34m\u001b[0m\u001b[0m\n\u001b[0;32m----> 6\u001b[0;31m \u001b[0msc\u001b[0m \u001b[0;34m=\u001b[0m \u001b[0mSparkContext\u001b[0m\u001b[0;34m.\u001b[0m\u001b[0mgetOrCreate\u001b[0m\u001b[0;34m(\u001b[0m\u001b[0mSparkConf\u001b[0m\u001b[0;34m(\u001b[0m\u001b[0;34m)\u001b[0m\u001b[0;34m.\u001b[0m\u001b[0msetMaster\u001b[0m\u001b[0;34m(\u001b[0m\u001b[0;34m\"local[*]\"\u001b[0m\u001b[0;34m)\u001b[0m\u001b[0;34m)\u001b[0m \u001b[0;31m# Se va a ejecutar en el cluster de IBM\u001b[0m\u001b[0;34m\u001b[0m\u001b[0;34m\u001b[0m\u001b[0m\n\u001b[0m\u001b[1;32m      7\u001b[0m \u001b[0mspark\u001b[0m \u001b[0;34m=\u001b[0m \u001b[0mSparkSession\u001b[0m\u001b[0;34m.\u001b[0m\u001b[0mbuilder\u001b[0m\u001b[0;34m.\u001b[0m\u001b[0mgetOrCreate\u001b[0m\u001b[0;34m(\u001b[0m\u001b[0;34m)\u001b[0m\u001b[0;34m\u001b[0m\u001b[0;34m\u001b[0m\u001b[0m\n",
      "\u001b[0;32m~/opt/anaconda3/lib/python3.7/site-packages/pyspark/context.py\u001b[0m in \u001b[0;36mgetOrCreate\u001b[0;34m(cls, conf)\u001b[0m\n\u001b[1;32m    365\u001b[0m         \u001b[0;32mwith\u001b[0m \u001b[0mSparkContext\u001b[0m\u001b[0;34m.\u001b[0m\u001b[0m_lock\u001b[0m\u001b[0;34m:\u001b[0m\u001b[0;34m\u001b[0m\u001b[0;34m\u001b[0m\u001b[0m\n\u001b[1;32m    366\u001b[0m             \u001b[0;32mif\u001b[0m \u001b[0mSparkContext\u001b[0m\u001b[0;34m.\u001b[0m\u001b[0m_active_spark_context\u001b[0m \u001b[0;32mis\u001b[0m \u001b[0;32mNone\u001b[0m\u001b[0;34m:\u001b[0m\u001b[0;34m\u001b[0m\u001b[0;34m\u001b[0m\u001b[0m\n\u001b[0;32m--> 367\u001b[0;31m                 \u001b[0mSparkContext\u001b[0m\u001b[0;34m(\u001b[0m\u001b[0mconf\u001b[0m\u001b[0;34m=\u001b[0m\u001b[0mconf\u001b[0m \u001b[0;32mor\u001b[0m \u001b[0mSparkConf\u001b[0m\u001b[0;34m(\u001b[0m\u001b[0;34m)\u001b[0m\u001b[0;34m)\u001b[0m\u001b[0;34m\u001b[0m\u001b[0;34m\u001b[0m\u001b[0m\n\u001b[0m\u001b[1;32m    368\u001b[0m             \u001b[0;32mreturn\u001b[0m \u001b[0mSparkContext\u001b[0m\u001b[0;34m.\u001b[0m\u001b[0m_active_spark_context\u001b[0m\u001b[0;34m\u001b[0m\u001b[0;34m\u001b[0m\u001b[0m\n\u001b[1;32m    369\u001b[0m \u001b[0;34m\u001b[0m\u001b[0m\n",
      "\u001b[0;32m~/opt/anaconda3/lib/python3.7/site-packages/pyspark/context.py\u001b[0m in \u001b[0;36m__init__\u001b[0;34m(self, master, appName, sparkHome, pyFiles, environment, batchSize, serializer, conf, gateway, jsc, profiler_cls)\u001b[0m\n\u001b[1;32m    131\u001b[0m                     \" note this option will be removed in Spark 3.0\")\n\u001b[1;32m    132\u001b[0m \u001b[0;34m\u001b[0m\u001b[0m\n\u001b[0;32m--> 133\u001b[0;31m         \u001b[0mSparkContext\u001b[0m\u001b[0;34m.\u001b[0m\u001b[0m_ensure_initialized\u001b[0m\u001b[0;34m(\u001b[0m\u001b[0mself\u001b[0m\u001b[0;34m,\u001b[0m \u001b[0mgateway\u001b[0m\u001b[0;34m=\u001b[0m\u001b[0mgateway\u001b[0m\u001b[0;34m,\u001b[0m \u001b[0mconf\u001b[0m\u001b[0;34m=\u001b[0m\u001b[0mconf\u001b[0m\u001b[0;34m)\u001b[0m\u001b[0;34m\u001b[0m\u001b[0;34m\u001b[0m\u001b[0m\n\u001b[0m\u001b[1;32m    134\u001b[0m         \u001b[0;32mtry\u001b[0m\u001b[0;34m:\u001b[0m\u001b[0;34m\u001b[0m\u001b[0;34m\u001b[0m\u001b[0m\n\u001b[1;32m    135\u001b[0m             self._do_init(master, appName, sparkHome, pyFiles, environment, batchSize, serializer,\n",
      "\u001b[0;32m~/opt/anaconda3/lib/python3.7/site-packages/pyspark/context.py\u001b[0m in \u001b[0;36m_ensure_initialized\u001b[0;34m(cls, instance, gateway, conf)\u001b[0m\n\u001b[1;32m    314\u001b[0m         \u001b[0;32mwith\u001b[0m \u001b[0mSparkContext\u001b[0m\u001b[0;34m.\u001b[0m\u001b[0m_lock\u001b[0m\u001b[0;34m:\u001b[0m\u001b[0;34m\u001b[0m\u001b[0;34m\u001b[0m\u001b[0m\n\u001b[1;32m    315\u001b[0m             \u001b[0;32mif\u001b[0m \u001b[0;32mnot\u001b[0m \u001b[0mSparkContext\u001b[0m\u001b[0;34m.\u001b[0m\u001b[0m_gateway\u001b[0m\u001b[0;34m:\u001b[0m\u001b[0;34m\u001b[0m\u001b[0;34m\u001b[0m\u001b[0m\n\u001b[0;32m--> 316\u001b[0;31m                 \u001b[0mSparkContext\u001b[0m\u001b[0;34m.\u001b[0m\u001b[0m_gateway\u001b[0m \u001b[0;34m=\u001b[0m \u001b[0mgateway\u001b[0m \u001b[0;32mor\u001b[0m \u001b[0mlaunch_gateway\u001b[0m\u001b[0;34m(\u001b[0m\u001b[0mconf\u001b[0m\u001b[0;34m)\u001b[0m\u001b[0;34m\u001b[0m\u001b[0;34m\u001b[0m\u001b[0m\n\u001b[0m\u001b[1;32m    317\u001b[0m                 \u001b[0mSparkContext\u001b[0m\u001b[0;34m.\u001b[0m\u001b[0m_jvm\u001b[0m \u001b[0;34m=\u001b[0m \u001b[0mSparkContext\u001b[0m\u001b[0;34m.\u001b[0m\u001b[0m_gateway\u001b[0m\u001b[0;34m.\u001b[0m\u001b[0mjvm\u001b[0m\u001b[0;34m\u001b[0m\u001b[0;34m\u001b[0m\u001b[0m\n\u001b[1;32m    318\u001b[0m \u001b[0;34m\u001b[0m\u001b[0m\n",
      "\u001b[0;32m~/opt/anaconda3/lib/python3.7/site-packages/pyspark/java_gateway.py\u001b[0m in \u001b[0;36mlaunch_gateway\u001b[0;34m(conf)\u001b[0m\n\u001b[1;32m     44\u001b[0m     \u001b[0;34m:\u001b[0m\u001b[0;32mreturn\u001b[0m\u001b[0;34m:\u001b[0m \u001b[0ma\u001b[0m \u001b[0mJVM\u001b[0m \u001b[0mgateway\u001b[0m\u001b[0;34m\u001b[0m\u001b[0;34m\u001b[0m\u001b[0m\n\u001b[1;32m     45\u001b[0m     \"\"\"\n\u001b[0;32m---> 46\u001b[0;31m     \u001b[0;32mreturn\u001b[0m \u001b[0m_launch_gateway\u001b[0m\u001b[0;34m(\u001b[0m\u001b[0mconf\u001b[0m\u001b[0;34m)\u001b[0m\u001b[0;34m\u001b[0m\u001b[0;34m\u001b[0m\u001b[0m\n\u001b[0m\u001b[1;32m     47\u001b[0m \u001b[0;34m\u001b[0m\u001b[0m\n\u001b[1;32m     48\u001b[0m \u001b[0;34m\u001b[0m\u001b[0m\n",
      "\u001b[0;32m~/opt/anaconda3/lib/python3.7/site-packages/pyspark/java_gateway.py\u001b[0m in \u001b[0;36m_launch_gateway\u001b[0;34m(conf, insecure)\u001b[0m\n\u001b[1;32m    106\u001b[0m \u001b[0;34m\u001b[0m\u001b[0m\n\u001b[1;32m    107\u001b[0m             \u001b[0;32mif\u001b[0m \u001b[0;32mnot\u001b[0m \u001b[0mos\u001b[0m\u001b[0;34m.\u001b[0m\u001b[0mpath\u001b[0m\u001b[0;34m.\u001b[0m\u001b[0misfile\u001b[0m\u001b[0;34m(\u001b[0m\u001b[0mconn_info_file\u001b[0m\u001b[0;34m)\u001b[0m\u001b[0;34m:\u001b[0m\u001b[0;34m\u001b[0m\u001b[0;34m\u001b[0m\u001b[0m\n\u001b[0;32m--> 108\u001b[0;31m                 \u001b[0;32mraise\u001b[0m \u001b[0mException\u001b[0m\u001b[0;34m(\u001b[0m\u001b[0;34m\"Java gateway process exited before sending its port number\"\u001b[0m\u001b[0;34m)\u001b[0m\u001b[0;34m\u001b[0m\u001b[0;34m\u001b[0m\u001b[0m\n\u001b[0m\u001b[1;32m    109\u001b[0m \u001b[0;34m\u001b[0m\u001b[0m\n\u001b[1;32m    110\u001b[0m             \u001b[0;32mwith\u001b[0m \u001b[0mopen\u001b[0m\u001b[0;34m(\u001b[0m\u001b[0mconn_info_file\u001b[0m\u001b[0;34m,\u001b[0m \u001b[0;34m\"rb\"\u001b[0m\u001b[0;34m)\u001b[0m \u001b[0;32mas\u001b[0m \u001b[0minfo\u001b[0m\u001b[0;34m:\u001b[0m\u001b[0;34m\u001b[0m\u001b[0;34m\u001b[0m\u001b[0m\n",
      "\u001b[0;31mException\u001b[0m: Java gateway process exited before sending its port number"
     ]
    }
   ],
   "source": [
    "!pip install pyspark==2.4.5\n",
    "\n",
    "#Crear una sesión en Spark, Creamos los objetos spark y sc\n",
    "#import pyspark\n",
    "#from pyspark import SparkContext, SparkConf\n",
    "sc = SparkContext.getOrCreate(SparkConf().setMaster(\"local[*]\")) # Se va a ejecutar en el cluster de IBM\n",
    "spark = SparkSession.builder.getOrCreate()"
   ]
  },
  {
   "cell_type": "code",
   "execution_count": 9,
   "metadata": {},
   "outputs": [
    {
     "ename": "ModuleNotFoundError",
     "evalue": "No module named 'ibm_boto3'",
     "output_type": "error",
     "traceback": [
      "\u001b[0;31m---------------------------------------------------------------------------\u001b[0m",
      "\u001b[0;31mModuleNotFoundError\u001b[0m                       Traceback (most recent call last)",
      "\u001b[0;32m<ipython-input-9-8fccd2118f06>\u001b[0m in \u001b[0;36m<module>\u001b[0;34m\u001b[0m\n\u001b[1;32m      2\u001b[0m \u001b[0;32mimport\u001b[0m \u001b[0mpandas\u001b[0m \u001b[0;32mas\u001b[0m \u001b[0mpd\u001b[0m\u001b[0;34m\u001b[0m\u001b[0;34m\u001b[0m\u001b[0m\n\u001b[1;32m      3\u001b[0m \u001b[0;32mfrom\u001b[0m \u001b[0mbotocore\u001b[0m\u001b[0;34m.\u001b[0m\u001b[0mclient\u001b[0m \u001b[0;32mimport\u001b[0m \u001b[0mConfig\u001b[0m\u001b[0;34m\u001b[0m\u001b[0;34m\u001b[0m\u001b[0m\n\u001b[0;32m----> 4\u001b[0;31m \u001b[0;32mimport\u001b[0m \u001b[0mibm_boto3\u001b[0m\u001b[0;34m\u001b[0m\u001b[0;34m\u001b[0m\u001b[0m\n\u001b[0m\u001b[1;32m      5\u001b[0m \u001b[0;34m\u001b[0m\u001b[0m\n\u001b[1;32m      6\u001b[0m \u001b[0;32mdef\u001b[0m \u001b[0m__iter__\u001b[0m\u001b[0;34m(\u001b[0m\u001b[0mself\u001b[0m\u001b[0;34m)\u001b[0m\u001b[0;34m:\u001b[0m \u001b[0;32mreturn\u001b[0m \u001b[0;36m0\u001b[0m\u001b[0;34m\u001b[0m\u001b[0;34m\u001b[0m\u001b[0m\n",
      "\u001b[0;31mModuleNotFoundError\u001b[0m: No module named 'ibm_boto3'"
     ]
    }
   ],
   "source": [
    "import types\n",
    "import pandas as pd\n",
    "from botocore.client import Config\n",
    "\n",
    "\n",
    "def __iter__(self): return 0\n",
    "\n",
    "# @hidden_cell\n",
    "# The following code accesses a file in your IBM Cloud Object Storage. It includes your credentials.\n",
    "# You might want to remove those credentials before you share the notebook.\n",
    "client_81aeda152d764e759c8cab4dcaba9ea4 = ibm_boto3.client(service_name='s3',\n",
    "    ibm_api_key_id='3dMpQkiyzYR2o0cb79RJB7xDNIbefMotJIQsHTV0cIha',\n",
    "    ibm_auth_endpoint=\"https://iam.cloud.ibm.com/oidc/token\",\n",
    "    config=Config(signature_version='oauth'),\n",
    "    endpoint_url='https://s3.eu-geo.objectstorage.service.networklayer.com')\n",
    "\n",
    "body = client_81aeda152d764e759c8cab4dcaba9ea4.get_object(Bucket='proyecto1-donotdelete-pr-wypoxecy0ajcet',Key='Canada.xlsx')['Body']\n",
    "# add missing __iter__ method, so pandas accepts body as file-like object\n",
    "if not hasattr(body, \"__iter__\"): body.__iter__ = types.MethodType( __iter__, body )\n",
    "\n",
    "df_data_0 = pd.read_excel(body)\n",
    "df_data_0.head()"
   ]
  },
  {
   "cell_type": "markdown",
   "metadata": {},
   "source": [
    "### 1. Agregar las siguientes columnas al dataframe: migración 80s, migración 90s, migracion 2000s, migración 2010s y total migración"
   ]
  },
  {
   "cell_type": "code",
   "execution_count": 10,
   "metadata": {},
   "outputs": [
    {
     "ename": "NameError",
     "evalue": "name 'df_data_0' is not defined",
     "output_type": "error",
     "traceback": [
      "\u001b[0;31m---------------------------------------------------------------------------\u001b[0m",
      "\u001b[0;31mNameError\u001b[0m                                 Traceback (most recent call last)",
      "\u001b[0;32m<ipython-input-10-1fb02596e603>\u001b[0m in \u001b[0;36m<module>\u001b[0;34m\u001b[0m\n\u001b[0;32m----> 1\u001b[0;31m \u001b[0mdf_data_0\u001b[0m\u001b[0;34m[\u001b[0m\u001b[0;34m\"80s\"\u001b[0m\u001b[0;34m]\u001b[0m \u001b[0;34m=\u001b[0m \u001b[0mdf_data_0\u001b[0m\u001b[0;34m[\u001b[0m\u001b[0mrange\u001b[0m\u001b[0;34m(\u001b[0m\u001b[0;36m1980\u001b[0m\u001b[0;34m,\u001b[0m\u001b[0;36m1990\u001b[0m\u001b[0;34m)\u001b[0m\u001b[0;34m]\u001b[0m\u001b[0;34m.\u001b[0m\u001b[0msum\u001b[0m\u001b[0;34m(\u001b[0m\u001b[0maxis\u001b[0m\u001b[0;34m=\u001b[0m\u001b[0;36m1\u001b[0m\u001b[0;34m)\u001b[0m\u001b[0;34m\u001b[0m\u001b[0;34m\u001b[0m\u001b[0m\n\u001b[0m\u001b[1;32m      2\u001b[0m \u001b[0mdf_data_0\u001b[0m\u001b[0;34m[\u001b[0m\u001b[0;34m\"90s\"\u001b[0m\u001b[0;34m]\u001b[0m \u001b[0;34m=\u001b[0m \u001b[0mdf_data_0\u001b[0m\u001b[0;34m[\u001b[0m\u001b[0mrange\u001b[0m\u001b[0;34m(\u001b[0m\u001b[0;36m1990\u001b[0m\u001b[0;34m,\u001b[0m\u001b[0;36m2000\u001b[0m\u001b[0;34m)\u001b[0m\u001b[0;34m]\u001b[0m\u001b[0;34m.\u001b[0m\u001b[0msum\u001b[0m\u001b[0;34m(\u001b[0m\u001b[0maxis\u001b[0m\u001b[0;34m=\u001b[0m\u001b[0;36m1\u001b[0m\u001b[0;34m)\u001b[0m\u001b[0;34m\u001b[0m\u001b[0;34m\u001b[0m\u001b[0m\n\u001b[1;32m      3\u001b[0m \u001b[0mdf_data_0\u001b[0m\u001b[0;34m[\u001b[0m\u001b[0;34m\"2000s\"\u001b[0m\u001b[0;34m]\u001b[0m \u001b[0;34m=\u001b[0m\u001b[0mdf_data_0\u001b[0m\u001b[0;34m[\u001b[0m\u001b[0mrange\u001b[0m\u001b[0;34m(\u001b[0m\u001b[0;36m2000\u001b[0m\u001b[0;34m,\u001b[0m\u001b[0;36m2010\u001b[0m\u001b[0;34m)\u001b[0m\u001b[0;34m]\u001b[0m\u001b[0;34m.\u001b[0m\u001b[0msum\u001b[0m\u001b[0;34m(\u001b[0m\u001b[0maxis\u001b[0m\u001b[0;34m=\u001b[0m\u001b[0;36m1\u001b[0m\u001b[0;34m)\u001b[0m\u001b[0;34m\u001b[0m\u001b[0;34m\u001b[0m\u001b[0m\n\u001b[1;32m      4\u001b[0m \u001b[0mdf_data_0\u001b[0m\u001b[0;34m[\u001b[0m\u001b[0;34m\"2010s\"\u001b[0m\u001b[0;34m]\u001b[0m \u001b[0;34m=\u001b[0m \u001b[0mdf_data_0\u001b[0m\u001b[0;34m[\u001b[0m\u001b[0mrange\u001b[0m\u001b[0;34m(\u001b[0m\u001b[0;36m2010\u001b[0m\u001b[0;34m,\u001b[0m\u001b[0;36m2014\u001b[0m\u001b[0;34m)\u001b[0m\u001b[0;34m]\u001b[0m\u001b[0;34m.\u001b[0m\u001b[0msum\u001b[0m\u001b[0;34m(\u001b[0m\u001b[0maxis\u001b[0m\u001b[0;34m=\u001b[0m\u001b[0;36m1\u001b[0m\u001b[0;34m)\u001b[0m\u001b[0;34m\u001b[0m\u001b[0;34m\u001b[0m\u001b[0m\n\u001b[1;32m      5\u001b[0m \u001b[0mdf_data_0\u001b[0m\u001b[0;34m[\u001b[0m\u001b[0;34m\"Total migración\"\u001b[0m\u001b[0;34m]\u001b[0m \u001b[0;34m=\u001b[0m \u001b[0mdf_data_0\u001b[0m\u001b[0;34m[\u001b[0m\u001b[0mrange\u001b[0m\u001b[0;34m(\u001b[0m\u001b[0;36m1980\u001b[0m\u001b[0;34m,\u001b[0m\u001b[0;36m2014\u001b[0m\u001b[0;34m)\u001b[0m\u001b[0;34m]\u001b[0m\u001b[0;34m.\u001b[0m\u001b[0msum\u001b[0m\u001b[0;34m(\u001b[0m\u001b[0maxis\u001b[0m\u001b[0;34m=\u001b[0m\u001b[0;36m1\u001b[0m\u001b[0;34m)\u001b[0m\u001b[0;34m\u001b[0m\u001b[0;34m\u001b[0m\u001b[0m\n",
      "\u001b[0;31mNameError\u001b[0m: name 'df_data_0' is not defined"
     ]
    }
   ],
   "source": [
    "df_data_0[\"80s\"] = df_data_0[range(1980,1990)].sum(axis=1)\n",
    "df_data_0[\"90s\"] = df_data_0[range(1990,2000)].sum(axis=1)\n",
    "df_data_0[\"2000s\"] =df_data_0[range(2000,2010)].sum(axis=1)\n",
    "df_data_0[\"2010s\"] = df_data_0[range(2010,2014)].sum(axis=1)\n",
    "df_data_0[\"Total migración\"] = df_data_0[range(1980,2014)].sum(axis=1)\n",
    "df_data_0.head()"
   ]
  },
  {
   "cell_type": "markdown",
   "metadata": {},
   "source": [
    "### 2. Crear un nuevo df con la migración total por cada continente (solo 5 continentes) y convertirlo a Schema"
   ]
  },
  {
   "cell_type": "code",
   "execution_count": 10,
   "metadata": {},
   "outputs": [
    {
     "data": {
      "text/plain": [
       "array(['Asia', 'Europe', 'Africa', 'Oceania', 'America'], dtype=object)"
      ]
     },
     "execution_count": 10,
     "metadata": {},
     "output_type": "execute_result"
    }
   ],
   "source": [
    "df_data_0[\"Continente\"]=df_data_0[\"Continente\"].replace({'Latin America and the Caribbean':\"America\", 'Northern America':\"America\"})\n",
    "df_data_0.Continente.unique()"
   ]
  },
  {
   "cell_type": "code",
   "execution_count": 13,
   "metadata": {},
   "outputs": [
    {
     "data": {
      "text/html": [
       "<div>\n",
       "<style scoped>\n",
       "    .dataframe tbody tr th:only-of-type {\n",
       "        vertical-align: middle;\n",
       "    }\n",
       "\n",
       "    .dataframe tbody tr th {\n",
       "        vertical-align: top;\n",
       "    }\n",
       "\n",
       "    .dataframe thead th {\n",
       "        text-align: right;\n",
       "    }\n",
       "</style>\n",
       "<table border=\"1\" class=\"dataframe\">\n",
       "  <thead>\n",
       "    <tr style=\"text-align: right;\">\n",
       "      <th></th>\n",
       "      <th>Continente</th>\n",
       "      <th>Total migración</th>\n",
       "    </tr>\n",
       "  </thead>\n",
       "  <tbody>\n",
       "    <tr>\n",
       "      <th>0</th>\n",
       "      <td>Africa</td>\n",
       "      <td>618948</td>\n",
       "    </tr>\n",
       "    <tr>\n",
       "      <th>1</th>\n",
       "      <td>America</td>\n",
       "      <td>1006290</td>\n",
       "    </tr>\n",
       "    <tr>\n",
       "      <th>2</th>\n",
       "      <td>Asia</td>\n",
       "      <td>3317794</td>\n",
       "    </tr>\n",
       "    <tr>\n",
       "      <th>3</th>\n",
       "      <td>Europe</td>\n",
       "      <td>1410947</td>\n",
       "    </tr>\n",
       "    <tr>\n",
       "      <th>4</th>\n",
       "      <td>Oceania</td>\n",
       "      <td>55174</td>\n",
       "    </tr>\n",
       "  </tbody>\n",
       "</table>\n",
       "</div>"
      ],
      "text/plain": [
       "  Continente  Total migración\n",
       "0     Africa           618948\n",
       "1    America          1006290\n",
       "2       Asia          3317794\n",
       "3     Europe          1410947\n",
       "4    Oceania            55174"
      ]
     },
     "execution_count": 13,
     "metadata": {},
     "output_type": "execute_result"
    }
   ],
   "source": [
    "group = df_data_0.groupby(\"Continente\", as_index=False)[\"Total migración\"].sum()\n",
    "group"
   ]
  },
  {
   "cell_type": "code",
   "execution_count": 36,
   "metadata": {},
   "outputs": [
    {
     "data": {
      "text/html": [
       "<div>\n",
       "<style scoped>\n",
       "    .dataframe tbody tr th:only-of-type {\n",
       "        vertical-align: middle;\n",
       "    }\n",
       "\n",
       "    .dataframe tbody tr th {\n",
       "        vertical-align: top;\n",
       "    }\n",
       "\n",
       "    .dataframe thead th {\n",
       "        text-align: right;\n",
       "    }\n",
       "</style>\n",
       "<table border=\"1\" class=\"dataframe\">\n",
       "  <thead>\n",
       "    <tr style=\"text-align: right;\">\n",
       "      <th></th>\n",
       "      <th>Continente</th>\n",
       "      <th>Migracion</th>\n",
       "    </tr>\n",
       "  </thead>\n",
       "  <tbody>\n",
       "    <tr>\n",
       "      <th>0</th>\n",
       "      <td>Africa</td>\n",
       "      <td>618948</td>\n",
       "    </tr>\n",
       "    <tr>\n",
       "      <th>1</th>\n",
       "      <td>America</td>\n",
       "      <td>1006290</td>\n",
       "    </tr>\n",
       "    <tr>\n",
       "      <th>2</th>\n",
       "      <td>Asia</td>\n",
       "      <td>3317794</td>\n",
       "    </tr>\n",
       "    <tr>\n",
       "      <th>3</th>\n",
       "      <td>Europe</td>\n",
       "      <td>1410947</td>\n",
       "    </tr>\n",
       "    <tr>\n",
       "      <th>4</th>\n",
       "      <td>Oceania</td>\n",
       "      <td>55174</td>\n",
       "    </tr>\n",
       "  </tbody>\n",
       "</table>\n",
       "</div>"
      ],
      "text/plain": [
       "  Continente  Migracion\n",
       "0     Africa     618948\n",
       "1    America    1006290\n",
       "2       Asia    3317794\n",
       "3     Europe    1410947\n",
       "4    Oceania      55174"
      ]
     },
     "execution_count": 36,
     "metadata": {},
     "output_type": "execute_result"
    }
   ],
   "source": [
    "df=pd.DataFrame()\n",
    "df[\"Continente\"]= group.index\n",
    "df[\"Migracion\"]= group.values\n",
    "df.head()"
   ]
  },
  {
   "cell_type": "markdown",
   "metadata": {},
   "source": [
    "### 3. Crear un schema con los paises de oceania y las columnas de migración 80s, migración 90s, migracion 2000s, migración 2010s y total migración"
   ]
  },
  {
   "cell_type": "code",
   "execution_count": 38,
   "metadata": {},
   "outputs": [
    {
     "data": {
      "text/html": [
       "<div>\n",
       "<style scoped>\n",
       "    .dataframe tbody tr th:only-of-type {\n",
       "        vertical-align: middle;\n",
       "    }\n",
       "\n",
       "    .dataframe tbody tr th {\n",
       "        vertical-align: top;\n",
       "    }\n",
       "\n",
       "    .dataframe thead th {\n",
       "        text-align: right;\n",
       "    }\n",
       "</style>\n",
       "<table border=\"1\" class=\"dataframe\">\n",
       "  <thead>\n",
       "    <tr style=\"text-align: right;\">\n",
       "      <th></th>\n",
       "      <th>Pais</th>\n",
       "      <th>80s</th>\n",
       "      <th>90s</th>\n",
       "      <th>2000s</th>\n",
       "      <th>Total migración</th>\n",
       "    </tr>\n",
       "  </thead>\n",
       "  <tbody>\n",
       "    <tr>\n",
       "      <th>3</th>\n",
       "      <td>American Samoa</td>\n",
       "      <td>3</td>\n",
       "      <td>2</td>\n",
       "      <td>1</td>\n",
       "      <td>6</td>\n",
       "    </tr>\n",
       "    <tr>\n",
       "      <th>9</th>\n",
       "      <td>Australia</td>\n",
       "      <td>4564</td>\n",
       "      <td>6574</td>\n",
       "      <td>8804</td>\n",
       "      <td>23829</td>\n",
       "    </tr>\n",
       "    <tr>\n",
       "      <th>61</th>\n",
       "      <td>Fiji</td>\n",
       "      <td>5721</td>\n",
       "      <td>9397</td>\n",
       "      <td>4279</td>\n",
       "      <td>20609</td>\n",
       "    </tr>\n",
       "    <tr>\n",
       "      <th>91</th>\n",
       "      <td>Kiribati</td>\n",
       "      <td>3</td>\n",
       "      <td>5</td>\n",
       "      <td>5</td>\n",
       "      <td>15</td>\n",
       "    </tr>\n",
       "    <tr>\n",
       "      <th>109</th>\n",
       "      <td>Marshall Islands</td>\n",
       "      <td>0</td>\n",
       "      <td>0</td>\n",
       "      <td>2</td>\n",
       "      <td>2</td>\n",
       "    </tr>\n",
       "    <tr>\n",
       "      <th>120</th>\n",
       "      <td>Nauru</td>\n",
       "      <td>2</td>\n",
       "      <td>1</td>\n",
       "      <td>14</td>\n",
       "      <td>18</td>\n",
       "    </tr>\n",
       "    <tr>\n",
       "      <th>123</th>\n",
       "      <td>New Caledonia</td>\n",
       "      <td>0</td>\n",
       "      <td>0</td>\n",
       "      <td>3</td>\n",
       "      <td>5</td>\n",
       "    </tr>\n",
       "    <tr>\n",
       "      <th>124</th>\n",
       "      <td>New Zealand</td>\n",
       "      <td>2719</td>\n",
       "      <td>2344</td>\n",
       "      <td>3626</td>\n",
       "      <td>10386</td>\n",
       "    </tr>\n",
       "    <tr>\n",
       "      <th>131</th>\n",
       "      <td>Palau</td>\n",
       "      <td>0</td>\n",
       "      <td>0</td>\n",
       "      <td>1</td>\n",
       "      <td>1</td>\n",
       "    </tr>\n",
       "    <tr>\n",
       "      <th>133</th>\n",
       "      <td>Papua New Guinea</td>\n",
       "      <td>17</td>\n",
       "      <td>16</td>\n",
       "      <td>22</td>\n",
       "      <td>64</td>\n",
       "    </tr>\n",
       "    <tr>\n",
       "      <th>148</th>\n",
       "      <td>Samoa</td>\n",
       "      <td>23</td>\n",
       "      <td>25</td>\n",
       "      <td>20</td>\n",
       "      <td>78</td>\n",
       "    </tr>\n",
       "    <tr>\n",
       "      <th>174</th>\n",
       "      <td>Tonga</td>\n",
       "      <td>41</td>\n",
       "      <td>60</td>\n",
       "      <td>26</td>\n",
       "      <td>142</td>\n",
       "    </tr>\n",
       "    <tr>\n",
       "      <th>179</th>\n",
       "      <td>Tuvalu</td>\n",
       "      <td>3</td>\n",
       "      <td>1</td>\n",
       "      <td>3</td>\n",
       "      <td>8</td>\n",
       "    </tr>\n",
       "    <tr>\n",
       "      <th>188</th>\n",
       "      <td>Vanuatu</td>\n",
       "      <td>0</td>\n",
       "      <td>5</td>\n",
       "      <td>6</td>\n",
       "      <td>11</td>\n",
       "    </tr>\n",
       "  </tbody>\n",
       "</table>\n",
       "</div>"
      ],
      "text/plain": [
       "                 Pais   80s   90s  2000s  Total migración\n",
       "3      American Samoa     3     2      1                6\n",
       "9           Australia  4564  6574   8804            23829\n",
       "61               Fiji  5721  9397   4279            20609\n",
       "91           Kiribati     3     5      5               15\n",
       "109  Marshall Islands     0     0      2                2\n",
       "120             Nauru     2     1     14               18\n",
       "123     New Caledonia     0     0      3                5\n",
       "124       New Zealand  2719  2344   3626            10386\n",
       "131             Palau     0     0      1                1\n",
       "133  Papua New Guinea    17    16     22               64\n",
       "148             Samoa    23    25     20               78\n",
       "174             Tonga    41    60     26              142\n",
       "179            Tuvalu     3     1      3                8\n",
       "188           Vanuatu     0     5      6               11"
      ]
     },
     "execution_count": 38,
     "metadata": {},
     "output_type": "execute_result"
    }
   ],
   "source": [
    "df2 = df_data_0[df_data_0[\"Continente\"]==\"Oceania\"][[\"Pais\",\"80s\",\"90s\",\"2000s\",\"Total migración\"]]\n",
    "df2"
   ]
  },
  {
   "cell_type": "code",
   "execution_count": 39,
   "metadata": {},
   "outputs": [],
   "source": [
    "from pyspark.sql.types import *\n",
    "mySchema = StructType([ StructField(\"Pais\", StringType(), True)\\\n",
    "                       ,StructField(\"80s\", IntegerType(), True)\\\n",
    "                       ,StructField(\"90s\", IntegerType(), True)\\\n",
    "                       ,StructField(\"2000s\", IntegerType(), True)\\\n",
    "                       ,StructField(\"Total migración\", IntegerType(), True)])"
   ]
  },
  {
   "cell_type": "code",
   "execution_count": 41,
   "metadata": {},
   "outputs": [
    {
     "name": "stdout",
     "output_type": "stream",
     "text": [
      "+----------------+----+----+-----+---------------+\n",
      "|            Pais| 80s| 90s|2000s|Total migración|\n",
      "+----------------+----+----+-----+---------------+\n",
      "|  American Samoa|   3|   2|    1|              6|\n",
      "|       Australia|4564|6574| 8804|          23829|\n",
      "|            Fiji|5721|9397| 4279|          20609|\n",
      "|        Kiribati|   3|   5|    5|             15|\n",
      "|Marshall Islands|   0|   0|    2|              2|\n",
      "|           Nauru|   2|   1|   14|             18|\n",
      "|   New Caledonia|   0|   0|    3|              5|\n",
      "|     New Zealand|2719|2344| 3626|          10386|\n",
      "|           Palau|   0|   0|    1|              1|\n",
      "|Papua New Guinea|  17|  16|   22|             64|\n",
      "|           Samoa|  23|  25|   20|             78|\n",
      "|           Tonga|  41|  60|   26|            142|\n",
      "|          Tuvalu|   3|   1|    3|              8|\n",
      "|         Vanuatu|   0|   5|    6|             11|\n",
      "+----------------+----+----+-----+---------------+\n",
      "\n"
     ]
    }
   ],
   "source": [
    "schema = spark.createDataFrame(df2,schema=mySchema) \n",
    "schema.show()"
   ]
  },
  {
   "cell_type": "markdown",
   "metadata": {},
   "source": [
    "### 4. Mostrar las estadisticas del Schema"
   ]
  },
  {
   "cell_type": "code",
   "execution_count": 46,
   "metadata": {},
   "outputs": [
    {
     "name": "stdout",
     "output_type": "stream",
     "text": [
      "+-------+------------------+\n",
      "|summary|               80s|\n",
      "+-------+------------------+\n",
      "|  count|                14|\n",
      "|   mean| 935.4285714285714|\n",
      "| stddev|1935.5988027674346|\n",
      "|    min|                 0|\n",
      "|    max|              5721|\n",
      "+-------+------------------+\n",
      "\n"
     ]
    }
   ],
   "source": [
    "schema.describe(\"80s\").show()"
   ]
  },
  {
   "cell_type": "code",
   "execution_count": 47,
   "metadata": {},
   "outputs": [
    {
     "name": "stdout",
     "output_type": "stream",
     "text": [
      "+-------+------------------+\n",
      "|summary|               90s|\n",
      "+-------+------------------+\n",
      "|  count|                14|\n",
      "|   mean|1316.4285714285713|\n",
      "| stddev| 2945.115636081224|\n",
      "|    min|                 0|\n",
      "|    max|              9397|\n",
      "+-------+------------------+\n",
      "\n"
     ]
    }
   ],
   "source": [
    "schema.describe(\"90s\").show()"
   ]
  },
  {
   "cell_type": "code",
   "execution_count": 48,
   "metadata": {},
   "outputs": [
    {
     "name": "stdout",
     "output_type": "stream",
     "text": [
      "+-------+------------------+\n",
      "|summary|             2000s|\n",
      "+-------+------------------+\n",
      "|  count|                14|\n",
      "|   mean| 1200.857142857143|\n",
      "| stddev|2613.2968231171685|\n",
      "|    min|                 1|\n",
      "|    max|              8804|\n",
      "+-------+------------------+\n",
      "\n"
     ]
    }
   ],
   "source": [
    "schema.describe(\"2000s\").show()"
   ]
  },
  {
   "cell_type": "code",
   "execution_count": 49,
   "metadata": {},
   "outputs": [
    {
     "name": "stdout",
     "output_type": "stream",
     "text": [
      "+-------+-----------------+\n",
      "|summary|  Total migración|\n",
      "+-------+-----------------+\n",
      "|  count|               14|\n",
      "|   mean|           3941.0|\n",
      "| stddev|8241.599583351988|\n",
      "|    min|                1|\n",
      "|    max|            23829|\n",
      "+-------+-----------------+\n",
      "\n"
     ]
    }
   ],
   "source": [
    "schema.describe(\"Total migración\").show()"
   ]
  },
  {
   "cell_type": "markdown",
   "metadata": {},
   "source": [
    "### 5. Mostar las columnas del Schema en una lista"
   ]
  },
  {
   "cell_type": "code",
   "execution_count": 50,
   "metadata": {},
   "outputs": [
    {
     "data": {
      "text/plain": [
       "['Pais', '80s', '90s', '2000s', 'Total migración']"
      ]
     },
     "execution_count": 50,
     "metadata": {},
     "output_type": "execute_result"
    }
   ],
   "source": [
    "schema.columns"
   ]
  },
  {
   "cell_type": "markdown",
   "metadata": {},
   "source": [
    "### 6. Encontrar el promedio, la desviación estandard, el skewnesss y kurtosis de las columnas: migración 80s, migración 90s, migracion 2000s, migración 2010s y total migración"
   ]
  },
  {
   "cell_type": "code",
   "execution_count": 14,
   "metadata": {},
   "outputs": [
    {
     "data": {
      "text/html": [
       "<div>\n",
       "<style scoped>\n",
       "    .dataframe tbody tr th:only-of-type {\n",
       "        vertical-align: middle;\n",
       "    }\n",
       "\n",
       "    .dataframe tbody tr th {\n",
       "        vertical-align: top;\n",
       "    }\n",
       "\n",
       "    .dataframe thead th {\n",
       "        text-align: right;\n",
       "    }\n",
       "</style>\n",
       "<table border=\"1\" class=\"dataframe\">\n",
       "  <thead>\n",
       "    <tr style=\"text-align: right;\">\n",
       "      <th></th>\n",
       "      <th>Pais</th>\n",
       "      <th>80s</th>\n",
       "      <th>90s</th>\n",
       "      <th>2000s</th>\n",
       "      <th>2010s</th>\n",
       "      <th>Total migración</th>\n",
       "    </tr>\n",
       "  </thead>\n",
       "  <tbody>\n",
       "    <tr>\n",
       "      <th>0</th>\n",
       "      <td>Afghanistan</td>\n",
       "      <td>3693</td>\n",
       "      <td>15845</td>\n",
       "      <td>30501</td>\n",
       "      <td>8600</td>\n",
       "      <td>58639</td>\n",
       "    </tr>\n",
       "    <tr>\n",
       "      <th>1</th>\n",
       "      <td>Albania</td>\n",
       "      <td>9</td>\n",
       "      <td>2568</td>\n",
       "      <td>10799</td>\n",
       "      <td>2323</td>\n",
       "      <td>15699</td>\n",
       "    </tr>\n",
       "    <tr>\n",
       "      <th>2</th>\n",
       "      <td>Algeria</td>\n",
       "      <td>1271</td>\n",
       "      <td>13153</td>\n",
       "      <td>37833</td>\n",
       "      <td>17182</td>\n",
       "      <td>69439</td>\n",
       "    </tr>\n",
       "    <tr>\n",
       "      <th>3</th>\n",
       "      <td>American Samoa</td>\n",
       "      <td>3</td>\n",
       "      <td>2</td>\n",
       "      <td>1</td>\n",
       "      <td>0</td>\n",
       "      <td>6</td>\n",
       "    </tr>\n",
       "    <tr>\n",
       "      <th>4</th>\n",
       "      <td>Andorra</td>\n",
       "      <td>2</td>\n",
       "      <td>6</td>\n",
       "      <td>5</td>\n",
       "      <td>2</td>\n",
       "      <td>15</td>\n",
       "    </tr>\n",
       "  </tbody>\n",
       "</table>\n",
       "</div>"
      ],
      "text/plain": [
       "             Pais   80s    90s  2000s  2010s  Total migración\n",
       "0     Afghanistan  3693  15845  30501   8600            58639\n",
       "1         Albania     9   2568  10799   2323            15699\n",
       "2         Algeria  1271  13153  37833  17182            69439\n",
       "3  American Samoa     3      2      1      0                6\n",
       "4         Andorra     2      6      5      2               15"
      ]
     },
     "execution_count": 14,
     "metadata": {},
     "output_type": "execute_result"
    }
   ],
   "source": [
    "df3  = df_data_0[[\"Pais\",\"80s\",\"90s\",\"2000s\",\"2010s\",\"Total migración\"]]\n",
    "df3.head()"
   ]
  },
  {
   "cell_type": "code",
   "execution_count": 15,
   "metadata": {},
   "outputs": [],
   "source": [
    "from pyspark.sql.types import *\n",
    "mySchema2 = StructType([ StructField(\"Pais\", StringType(), True)\\\n",
    "                       ,StructField(\"80s\", IntegerType(), True)\\\n",
    "                       ,StructField(\"90s\", IntegerType(), True)\\\n",
    "                       ,StructField(\"2000s\", IntegerType(), True)\\\n",
    "                       ,StructField(\"2010s\", IntegerType(), True)\\\n",
    "                       ,StructField(\"Total migración\", IntegerType(), True)])"
   ]
  },
  {
   "cell_type": "code",
   "execution_count": 16,
   "metadata": {},
   "outputs": [
    {
     "name": "stdout",
     "output_type": "stream",
     "text": [
      "+-------------------+----+-----+-----+-----+---------------+\n",
      "|               Pais| 80s|  90s|2000s|2010s|Total migración|\n",
      "+-------------------+----+-----+-----+-----+---------------+\n",
      "|        Afghanistan|3693|15845|30501| 8600|          58639|\n",
      "|            Albania|   9| 2568|10799| 2323|          15699|\n",
      "|            Algeria|1271|13153|37833|17182|          69439|\n",
      "|     American Samoa|   3|    2|    1|    0|              6|\n",
      "|            Andorra|   2|    6|    5|    2|             15|\n",
      "|             Angola|  50|  285| 1563|  215|           2113|\n",
      "|Antigua and Barbuda| 291|  315|  235|  140|            981|\n",
      "|          Argentina|3738| 5686| 8890| 1282|          19596|\n",
      "|            Armenia|   0|  602| 1755|  953|           3310|\n",
      "|          Australia|4564| 6574| 8804| 3887|          23829|\n",
      "|            Austria|1968| 1546| 1071|  400|           4985|\n",
      "|         Azerbaijan|   0|  238| 1846|  565|           2649|\n",
      "|            Bahamas| 243|  195|  190|  180|            808|\n",
      "|            Bahrain|  29|  145|  181|  120|            475|\n",
      "|         Bangladesh|2376|18532|30816|13844|          65568|\n",
      "|           Barbados|2935| 2388| 1153|  447|           6923|\n",
      "|            Belarus|   0| 1755| 4901| 1319|           7975|\n",
      "|            Belgium|3351| 2430| 3505| 1476|          10762|\n",
      "|             Belize| 274|  344|  303|  162|           1083|\n",
      "|              Benin|  65|  226| 1199| 1362|           2852|\n",
      "+-------------------+----+-----+-----+-----+---------------+\n",
      "only showing top 20 rows\n",
      "\n"
     ]
    }
   ],
   "source": [
    "schema2 = spark.createDataFrame(df3,schema=mySchema2) \n",
    "schema2.show()"
   ]
  },
  {
   "cell_type": "code",
   "execution_count": null,
   "metadata": {},
   "outputs": [],
   "source": []
  },
  {
   "cell_type": "code",
   "execution_count": 22,
   "metadata": {},
   "outputs": [
    {
     "name": "stdout",
     "output_type": "stream",
     "text": [
      "promedio:  12105.538461538461\n",
      "std:  37351.27146117611\n",
      "skewness:  6.578321694945052\n",
      "kurtosis:  52.03153229639145\n"
     ]
    }
   ],
   "source": [
    "from math import sqrt\n",
    "\n",
    "prerdd = schema2.select(\"2000s\").rdd\n",
    "rdd = prerdd.map(lambda x : x[0])\n",
    "#Promedio\n",
    "promedio  = rdd.sum()/rdd.count()\n",
    "print(\"promedio: \",promedio)\n",
    "#std\n",
    "std = sqrt(rdd.map(lambda x:pow(x-promedio,2)).sum()/rdd.count())\n",
    "print(\"std: \",std)\n",
    "#skewness\n",
    "n = float(rdd.count())\n",
    "skewness = 1/n*(rdd.map(lambda x : pow(x-promedio,3)).sum()/pow(std,3))\n",
    "print(\"skewness: \",skewness)\n",
    "#kurtosis\n",
    "kurtosis = 1/n*(rdd.map(lambda x : pow(x-promedio,4)).sum()/pow(std,4))\n",
    "print(\"kurtosis: \",kurtosis)"
   ]
  },
  {
   "cell_type": "code",
   "execution_count": 23,
   "metadata": {},
   "outputs": [
    {
     "name": "stdout",
     "output_type": "stream",
     "text": [
      "****80s*****\n",
      "promedio:  5422.9384615384615\n",
      "std:  17056.038556996504\n",
      "skewness:  6.720388357767422\n",
      "kurtosis:  60.169261567078756\n",
      "****90s*****\n",
      "promedio:  10021.492307692308\n",
      "std:  29054.457718685164\n",
      "skewness:  5.718993636936428\n",
      "kurtosis:  41.14800742628708\n",
      "****2000s*****\n",
      "promedio:  12105.538461538461\n",
      "std:  37351.27146117611\n",
      "skewness:  6.578321694945052\n",
      "kurtosis:  52.03153229639145\n",
      "****2010s*****\n",
      "promedio:  5317.4820512820515\n",
      "std:  16844.100211096844\n",
      "skewness:  6.447762724875128\n",
      "kurtosis:  47.62528117989149\n",
      "****Total migración*****\n",
      "promedio:  32867.45128205128\n",
      "std:  91549.84874981658\n",
      "skewness:  5.387819718160344\n",
      "kurtosis:  34.52967059529177\n"
     ]
    }
   ],
   "source": [
    "from math import sqrt\n",
    "\n",
    "for i in [\"80s\",\"90s\",\"2000s\",\"2010s\",\"Total migración\"]:\n",
    "    print(\"****\"+i+\"*****\")\n",
    "    prerdd = schema2.select(i).rdd\n",
    "    rdd = prerdd.map(lambda x : x[0])\n",
    "    #Promedio\n",
    "    promedio  = rdd.sum()/rdd.count()\n",
    "    print(\"promedio: \",promedio)\n",
    "    #std\n",
    "    std = sqrt(rdd.map(lambda x:pow(x-promedio,2)).sum()/rdd.count())\n",
    "    print(\"std: \",std)\n",
    "    #skewness\n",
    "    n = float(rdd.count())\n",
    "    skewness = 1/n*(rdd.map(lambda x : pow(x-promedio,3)).sum()/pow(std,3))\n",
    "    print(\"skewness: \",skewness)\n",
    "    #kurtosis\n",
    "    kurtosis = 1/n*(rdd.map(lambda x : pow(x-promedio,4)).sum()/pow(std,4))\n",
    "    print(\"kurtosis: \",kurtosis)"
   ]
  },
  {
   "cell_type": "markdown",
   "metadata": {},
   "source": [
    "### 7. Obtener los valores maximos de las columnas"
   ]
  },
  {
   "cell_type": "code",
   "execution_count": 28,
   "metadata": {},
   "outputs": [
    {
     "name": "stdout",
     "output_type": "stream",
     "text": [
      "max 80s 179171\n",
      "max 90s 261966\n",
      "max 2000s 340385\n",
      "max 2010s 139241\n",
      "max Total migración 691904\n"
     ]
    }
   ],
   "source": [
    "for i in [\"80s\",\"90s\",\"2000s\",\"2010s\",\"Total migración\"]:\n",
    "    maxi = schema2.agg({i: \"max\"}).collect()[0][0]\n",
    "    print(\"max \"+ i,maxi)\n"
   ]
  },
  {
   "cell_type": "markdown",
   "metadata": {},
   "source": [
    "### 8. Cambiar el nombre de los paises a mayusculas"
   ]
  },
  {
   "cell_type": "code",
   "execution_count": 35,
   "metadata": {},
   "outputs": [
    {
     "data": {
      "text/plain": [
       "['AFGHANISTAN',\n",
       " 'ALBANIA',\n",
       " 'ALGERIA',\n",
       " 'AMERICAN SAMOA',\n",
       " 'ANDORRA',\n",
       " 'ANGOLA',\n",
       " 'ANTIGUA AND BARBUDA',\n",
       " 'ARGENTINA',\n",
       " 'ARMENIA',\n",
       " 'AUSTRALIA',\n",
       " 'AUSTRIA',\n",
       " 'AZERBAIJAN',\n",
       " 'BAHAMAS',\n",
       " 'BAHRAIN',\n",
       " 'BANGLADESH',\n",
       " 'BARBADOS',\n",
       " 'BELARUS',\n",
       " 'BELGIUM',\n",
       " 'BELIZE',\n",
       " 'BENIN',\n",
       " 'BHUTAN',\n",
       " 'BOLIVIA (PLURINATIONAL STATE OF)',\n",
       " 'BOSNIA AND HERZEGOVINA',\n",
       " 'BOTSWANA',\n",
       " 'BRAZIL',\n",
       " 'BRUNEI DARUSSALAM',\n",
       " 'BULGARIA',\n",
       " 'BURKINA FASO',\n",
       " 'BURUNDI',\n",
       " 'CABO VERDE',\n",
       " 'CAMBODIA',\n",
       " 'CAMEROON',\n",
       " 'CANADA',\n",
       " 'CENTRAL AFRICAN REPUBLIC',\n",
       " 'CHAD',\n",
       " 'CHILE',\n",
       " 'CHINA',\n",
       " 'CHINA, HONG KONG SPECIAL ADMINISTRATIVE REGION',\n",
       " 'CHINA, MACAO SPECIAL ADMINISTRATIVE REGION',\n",
       " 'COLOMBIA',\n",
       " 'COMOROS',\n",
       " 'CONGO',\n",
       " 'COSTA RICA',\n",
       " \"CÔTE D'IVOIRE\",\n",
       " 'CROATIA',\n",
       " 'CUBA',\n",
       " 'CYPRUS',\n",
       " 'CZECH REPUBLIC',\n",
       " \"DEMOCRATIC PEOPLE'S REPUBLIC OF KOREA\",\n",
       " 'DEMOCRATIC REPUBLIC OF THE CONGO',\n",
       " 'DENMARK',\n",
       " 'DJIBOUTI',\n",
       " 'DOMINICA',\n",
       " 'DOMINICAN REPUBLIC',\n",
       " 'ECUADOR',\n",
       " 'EGYPT',\n",
       " 'EL SALVADOR',\n",
       " 'EQUATORIAL GUINEA',\n",
       " 'ERITREA',\n",
       " 'ESTONIA',\n",
       " 'ETHIOPIA',\n",
       " 'FIJI',\n",
       " 'FINLAND',\n",
       " 'FRANCE',\n",
       " 'GABON',\n",
       " 'GAMBIA',\n",
       " 'GEORGIA',\n",
       " 'GERMANY',\n",
       " 'GHANA',\n",
       " 'GREECE',\n",
       " 'GRENADA',\n",
       " 'GUATEMALA',\n",
       " 'GUINEA',\n",
       " 'GUINEA-BISSAU',\n",
       " 'GUYANA',\n",
       " 'HAITI',\n",
       " 'HONDURAS',\n",
       " 'HUNGARY',\n",
       " 'ICELAND',\n",
       " 'INDIA',\n",
       " 'INDONESIA',\n",
       " 'IRAN (ISLAMIC REPUBLIC OF)',\n",
       " 'IRAQ',\n",
       " 'IRELAND',\n",
       " 'ISRAEL',\n",
       " 'ITALY',\n",
       " 'JAMAICA',\n",
       " 'JAPAN',\n",
       " 'JORDAN',\n",
       " 'KAZAKHSTAN',\n",
       " 'KENYA',\n",
       " 'KIRIBATI',\n",
       " 'KUWAIT',\n",
       " 'KYRGYZSTAN',\n",
       " \"LAO PEOPLE'S DEMOCRATIC REPUBLIC\",\n",
       " 'LATVIA',\n",
       " 'LEBANON',\n",
       " 'LESOTHO',\n",
       " 'LIBERIA',\n",
       " 'LIBYA',\n",
       " 'LIECHTENSTEIN',\n",
       " 'LITHUANIA',\n",
       " 'LUXEMBOURG',\n",
       " 'MADAGASCAR',\n",
       " 'MALAWI',\n",
       " 'MALAYSIA',\n",
       " 'MALDIVES',\n",
       " 'MALI',\n",
       " 'MALTA',\n",
       " 'MARSHALL ISLANDS',\n",
       " 'MAURITANIA',\n",
       " 'MAURITIUS',\n",
       " 'MEXICO',\n",
       " 'MONACO',\n",
       " 'MONGOLIA',\n",
       " 'MONTENEGRO',\n",
       " 'MOROCCO',\n",
       " 'MOZAMBIQUE',\n",
       " 'MYANMAR',\n",
       " 'NAMIBIA',\n",
       " 'NAURU',\n",
       " 'NEPAL',\n",
       " 'NETHERLANDS',\n",
       " 'NEW CALEDONIA',\n",
       " 'NEW ZEALAND',\n",
       " 'NICARAGUA',\n",
       " 'NIGER',\n",
       " 'NIGERIA',\n",
       " 'NORWAY',\n",
       " 'OMAN',\n",
       " 'PAKISTAN',\n",
       " 'PALAU',\n",
       " 'PANAMA',\n",
       " 'PAPUA NEW GUINEA',\n",
       " 'PARAGUAY',\n",
       " 'PERU',\n",
       " 'PHILIPPINES',\n",
       " 'POLAND',\n",
       " 'PORTUGAL',\n",
       " 'QATAR',\n",
       " 'REPUBLIC OF KOREA',\n",
       " 'REPUBLIC OF MOLDOVA',\n",
       " 'ROMANIA',\n",
       " 'RUSSIAN FEDERATION',\n",
       " 'RWANDA',\n",
       " 'SAINT KITTS AND NEVIS',\n",
       " 'SAINT LUCIA',\n",
       " 'SAINT VINCENT AND THE GRENADINES',\n",
       " 'SAMOA',\n",
       " 'SAN MARINO',\n",
       " 'SAO TOME AND PRINCIPE',\n",
       " 'SAUDI ARABIA',\n",
       " 'SENEGAL',\n",
       " 'SERBIA',\n",
       " 'SEYCHELLES',\n",
       " 'SIERRA LEONE',\n",
       " 'SINGAPORE',\n",
       " 'SLOVAKIA',\n",
       " 'SLOVENIA',\n",
       " 'SOMALIA',\n",
       " 'SOUTH AFRICA',\n",
       " 'SPAIN',\n",
       " 'SRI LANKA',\n",
       " 'STATE OF PALESTINE',\n",
       " 'SUDAN',\n",
       " 'SURINAME',\n",
       " 'SWAZILAND',\n",
       " 'SWEDEN',\n",
       " 'SWITZERLAND',\n",
       " 'SYRIAN ARAB REPUBLIC',\n",
       " 'TAJIKISTAN',\n",
       " 'THAILAND',\n",
       " 'THE FORMER YUGOSLAV REPUBLIC OF MACEDONIA',\n",
       " 'TOGO',\n",
       " 'TONGA',\n",
       " 'TRINIDAD AND TOBAGO',\n",
       " 'TUNISIA',\n",
       " 'TURKEY',\n",
       " 'TURKMENISTAN',\n",
       " 'TUVALU',\n",
       " 'UGANDA',\n",
       " 'UKRAINE',\n",
       " 'UNITED ARAB EMIRATES',\n",
       " 'UNITED KINGDOM OF GREAT BRITAIN AND NORTHERN IRELAND',\n",
       " 'UNITED REPUBLIC OF TANZANIA',\n",
       " 'UNITED STATES OF AMERICA',\n",
       " 'URUGUAY',\n",
       " 'UZBEKISTAN',\n",
       " 'VANUATU',\n",
       " 'VENEZUELA (BOLIVARIAN REPUBLIC OF)',\n",
       " 'VIET NAM',\n",
       " 'WESTERN SAHARA',\n",
       " 'YEMEN',\n",
       " 'ZAMBIA',\n",
       " 'ZIMBABWE']"
      ]
     },
     "execution_count": 35,
     "metadata": {},
     "output_type": "execute_result"
    }
   ],
   "source": [
    "schema2.select(\"Pais\").rdd.map(lambda x:x[0].upper()).collect()"
   ]
  },
  {
   "cell_type": "code",
   "execution_count": 36,
   "metadata": {},
   "outputs": [
    {
     "name": "stdout",
     "output_type": "stream",
     "text": [
      "+-------------------+----+-----+-----+-----+---------------+\n",
      "|               Pais| 80s|  90s|2000s|2010s|Total migración|\n",
      "+-------------------+----+-----+-----+-----+---------------+\n",
      "|        Afghanistan|3693|15845|30501| 8600|          58639|\n",
      "|            Albania|   9| 2568|10799| 2323|          15699|\n",
      "|            Algeria|1271|13153|37833|17182|          69439|\n",
      "|     American Samoa|   3|    2|    1|    0|              6|\n",
      "|            Andorra|   2|    6|    5|    2|             15|\n",
      "|             Angola|  50|  285| 1563|  215|           2113|\n",
      "|Antigua and Barbuda| 291|  315|  235|  140|            981|\n",
      "|          Argentina|3738| 5686| 8890| 1282|          19596|\n",
      "|            Armenia|   0|  602| 1755|  953|           3310|\n",
      "|          Australia|4564| 6574| 8804| 3887|          23829|\n",
      "|            Austria|1968| 1546| 1071|  400|           4985|\n",
      "|         Azerbaijan|   0|  238| 1846|  565|           2649|\n",
      "|            Bahamas| 243|  195|  190|  180|            808|\n",
      "|            Bahrain|  29|  145|  181|  120|            475|\n",
      "|         Bangladesh|2376|18532|30816|13844|          65568|\n",
      "|           Barbados|2935| 2388| 1153|  447|           6923|\n",
      "|            Belarus|   0| 1755| 4901| 1319|           7975|\n",
      "|            Belgium|3351| 2430| 3505| 1476|          10762|\n",
      "|             Belize| 274|  344|  303|  162|           1083|\n",
      "|              Benin|  65|  226| 1199| 1362|           2852|\n",
      "+-------------------+----+-----+-----+-----+---------------+\n",
      "only showing top 20 rows\n",
      "\n"
     ]
    }
   ],
   "source": [
    "schema2.show()"
   ]
  },
  {
   "cell_type": "markdown",
   "metadata": {},
   "source": [
    "### 9. Encontrar el pais con más migración en los 90s"
   ]
  },
  {
   "cell_type": "code",
   "execution_count": 49,
   "metadata": {},
   "outputs": [
    {
     "data": {
      "text/plain": [
       "'United Kingdom of Great Britain and Northern Ireland'"
      ]
     },
     "execution_count": 49,
     "metadata": {},
     "output_type": "execute_result"
    }
   ],
   "source": [
    "schema2.orderBy(\"90s\", ascending=False).select(\"Pais\",\"90s\").take(1)[0][0]"
   ]
  },
  {
   "cell_type": "code",
   "execution_count": 50,
   "metadata": {},
   "outputs": [
    {
     "data": {
      "text/plain": [
       "261966"
      ]
     },
     "execution_count": 50,
     "metadata": {},
     "output_type": "execute_result"
    }
   ],
   "source": [
    "schema2.orderBy(\"90s\", ascending=False).select(\"Pais\",\"90s\").take(1)[0][1]"
   ]
  },
  {
   "cell_type": "code",
   "execution_count": 52,
   "metadata": {},
   "outputs": [
    {
     "name": "stdout",
     "output_type": "stream",
     "text": [
      "+--------------------+------+------+-----+-----+---------------+\n",
      "|                Pais|   80s|   90s|2000s|2010s|Total migración|\n",
      "+--------------------+------+------+-----+-----+---------------+\n",
      "|United Kingdom of...|179171|261966|83413|26950|         551500|\n",
      "+--------------------+------+------+-----+-----+---------------+\n",
      "\n"
     ]
    }
   ],
   "source": [
    "maximo=schema2.agg({\"90s\": \"max\"}).collect()\n",
    "schema2.filter(schema2[\"90s\"]==maximo[0][0]).show()"
   ]
  },
  {
   "cell_type": "code",
   "execution_count": null,
   "metadata": {},
   "outputs": [],
   "source": []
  }
 ],
 "metadata": {
  "kernelspec": {
   "display_name": "Python 3",
   "language": "python",
   "name": "python3"
  },
  "language_info": {
   "codemirror_mode": {
    "name": "ipython",
    "version": 3
   },
   "file_extension": ".py",
   "mimetype": "text/x-python",
   "name": "python",
   "nbconvert_exporter": "python",
   "pygments_lexer": "ipython3",
   "version": "3.7.4"
  }
 },
 "nbformat": 4,
 "nbformat_minor": 1
}
