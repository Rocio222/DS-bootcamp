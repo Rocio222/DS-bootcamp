{
 "cells": [
  {
   "cell_type": "markdown",
   "metadata": {},
   "source": [
    "## Funciones unicas"
   ]
  },
  {
   "cell_type": "code",
   "execution_count": 1,
   "metadata": {},
   "outputs": [],
   "source": [
    "import random\n",
    "import math\n",
    "import time"
   ]
  },
  {
   "cell_type": "markdown",
   "metadata": {},
   "source": [
    "### Ejercicio 1\n",
    "- Crea una lista de 15 números enteros aleatorios entre 0 y 10 utilizando la función: random.randint() y un bucle for, después repite el ejercicio utilizando list comprehension"
   ]
  },
  {
   "cell_type": "code",
   "execution_count": 2,
   "metadata": {},
   "outputs": [
    {
     "data": {
      "text/plain": [
       "[9, 2, 2, 10, 0, 0, 3, 8, 5, 6, 10, 0, 4, 2, 8]"
      ]
     },
     "execution_count": 2,
     "metadata": {},
     "output_type": "execute_result"
    }
   ],
   "source": [
    "lista=[]\n",
    "for i in range(15):\n",
    "    numero=random.randint(0,10)\n",
    "    lista.append(numero)\n",
    "lista"
   ]
  },
  {
   "cell_type": "code",
   "execution_count": 3,
   "metadata": {},
   "outputs": [
    {
     "data": {
      "text/plain": [
       "[4, 9, 5, 8, 2, 8, 10, 4, 10, 4, 3, 5, 6, 0, 5]"
      ]
     },
     "execution_count": 3,
     "metadata": {},
     "output_type": "execute_result"
    }
   ],
   "source": [
    "lista2=[random.randint(0,10) for i in range(15)]\n",
    "lista2"
   ]
  },
  {
   "cell_type": "markdown",
   "metadata": {},
   "source": [
    "### Ejercicio 2\n",
    "- Crea una lista de 15 números aleatorios entre 1 y 100 utilizando list comprehension y después haz un filtrado eliminando los que no sean pares utilizando list comprehension. Repite el ejercicio utilizando un bucle y condicional"
   ]
  },
  {
   "cell_type": "code",
   "execution_count": 4,
   "metadata": {},
   "outputs": [
    {
     "data": {
      "text/plain": [
       "[25, 21, 17, 37, 47, 31, 5, 27, 90, 80, 67, 81, 21, 63, 58]"
      ]
     },
     "execution_count": 4,
     "metadata": {},
     "output_type": "execute_result"
    }
   ],
   "source": [
    "lista=[random.randint(1,100) for i in range(15)]\n",
    "lista"
   ]
  },
  {
   "cell_type": "code",
   "execution_count": 5,
   "metadata": {},
   "outputs": [
    {
     "data": {
      "text/plain": [
       "[25, 21, 17, 37, 47, 31, 5, 27, 67, 81, 21, 63]"
      ]
     },
     "execution_count": 5,
     "metadata": {},
     "output_type": "execute_result"
    }
   ],
   "source": [
    "lista_filtrada=[i for i in lista if i%2!=0]\n",
    "lista_filtrada"
   ]
  },
  {
   "cell_type": "code",
   "execution_count": 6,
   "metadata": {},
   "outputs": [
    {
     "data": {
      "text/plain": [
       "[60, 87, 61, 22, 51, 36, 25, 78, 83, 63, 35, 35, 21, 59, 5]"
      ]
     },
     "execution_count": 6,
     "metadata": {},
     "output_type": "execute_result"
    }
   ],
   "source": [
    "lista=[]\n",
    "for i in range (15):\n",
    "    numero=random.randint(1,100)\n",
    "    lista.append(numero)\n",
    "lista"
   ]
  },
  {
   "cell_type": "code",
   "execution_count": 7,
   "metadata": {},
   "outputs": [
    {
     "data": {
      "text/plain": [
       "[87, 61, 51, 25, 83, 63, 35, 35, 21, 59, 5]"
      ]
     },
     "execution_count": 7,
     "metadata": {},
     "output_type": "execute_result"
    }
   ],
   "source": [
    "lista_filtrada=[]\n",
    "for i in lista:\n",
    "    if i%2!=0:\n",
    "        lista_filtrada.append(i)\n",
    "lista_filtrada"
   ]
  },
  {
   "cell_type": "code",
   "execution_count": null,
   "metadata": {},
   "outputs": [],
   "source": []
  },
  {
   "cell_type": "markdown",
   "metadata": {},
   "source": [
    "### Ejercicio 3\n",
    "- A partir de la siguiente lista: [\"1\",\"2\",\"3\",\"4\",\"5\",\"6\"], se obtiene el siguiente resultado aplicando list comprehension: [11, 22, 33, 44, 55, 66], encuentra esa list comprehension que genera el resultado anterior. "
   ]
  },
  {
   "cell_type": "code",
   "execution_count": 8,
   "metadata": {},
   "outputs": [
    {
     "data": {
      "text/plain": [
       "[11, 22, 33, 44, 55, 66]"
      ]
     },
     "execution_count": 8,
     "metadata": {},
     "output_type": "execute_result"
    }
   ],
   "source": [
    "lista=[\"1\",\"2\",\"3\",\"4\",\"5\",\"6\"]\n",
    "lista=[int(i) for i in lista]\n",
    "lista2=[i*11 for i in lista]\n",
    "lista2"
   ]
  },
  {
   "cell_type": "code",
   "execution_count": null,
   "metadata": {},
   "outputs": [],
   "source": []
  },
  {
   "cell_type": "markdown",
   "metadata": {},
   "source": [
    "### Ejercicio 4\n",
    "- Al inicio de la celda escribe %%time para conocer el tiempo de ejecución de la celda. Comprueba cuanto tiempo tarda en crearse la siente lista lista = [i*i for i in range(9000000)], y después crea la mismalista utilizando un generetor expression, "
   ]
  },
  {
   "cell_type": "code",
   "execution_count": 11,
   "metadata": {},
   "outputs": [
    {
     "name": "stdout",
     "output_type": "stream",
     "text": [
      "CPU times: user 1.25 s, sys: 348 ms, total: 1.6 s\n",
      "Wall time: 1.83 s\n"
     ]
    }
   ],
   "source": [
    "%%time\n",
    "lista1 = [i*i for i in range(9000000)]"
   ]
  },
  {
   "cell_type": "code",
   "execution_count": 10,
   "metadata": {},
   "outputs": [
    {
     "name": "stdout",
     "output_type": "stream",
     "text": [
      "CPU times: user 8 µs, sys: 1e+03 ns, total: 9 µs\n",
      "Wall time: 14.1 µs\n"
     ]
    }
   ],
   "source": [
    "%%time\n",
    "lista2 = (i*i for i in range(9000000))"
   ]
  },
  {
   "cell_type": "markdown",
   "metadata": {},
   "source": [
    "### Ejercicio 5\n",
    "- Utiliza las dos listas anteriores e itera sobre cada una utilizando un bucle for, dentro del bucle for vas a imprimir el porciento de avance de la iteración. Ejemplo: 10%...20%... 30%.... 90%... 100% Termino de iterar"
   ]
  },
  {
   "cell_type": "code",
   "execution_count": 12,
   "metadata": {},
   "outputs": [
    {
     "name": "stdout",
     "output_type": "stream",
     "text": [
      "Se ha completado:  10.0 %\n",
      "Se ha completado:  20.0 %\n",
      "Se ha completado:  30.0 %\n",
      "Se ha completado:  40.0 %\n",
      "Se ha completado:  50.0 %\n",
      "Se ha completado:  60.0 %\n",
      "Se ha completado:  70.0 %\n",
      "Se ha completado:  80.0 %\n",
      "Se ha completado:  90.0 %\n",
      "100 % Completado\n"
     ]
    }
   ],
   "source": [
    "lista1 = [i*i for i in range(9000000)]\n",
    "a=10\n",
    "for i in range(len(lista1)):\n",
    "    it=(i/len(lista1))*100\n",
    "    if it==a:\n",
    "        print(\"Se ha completado: \",it,\"%\")\n",
    "        a+=10\n",
    "print(100,\"%\",\"Completado\")"
   ]
  },
  {
   "cell_type": "code",
   "execution_count": 3,
   "metadata": {},
   "outputs": [
    {
     "name": "stdout",
     "output_type": "stream",
     "text": [
      "Se ha completado:  10.0 %\n",
      "Se ha completado:  20.0 %\n",
      "Se ha completado:  30.0 %\n",
      "Se ha completado:  40.0 %\n",
      "Se ha completado:  50.0 %\n",
      "Se ha completado:  60.0 %\n",
      "Se ha completado:  70.0 %\n",
      "Se ha completado:  80.0 %\n",
      "Se ha completado:  90.0 %\n",
      "100 % Completado\n"
     ]
    }
   ],
   "source": [
    "lista2 = [i*i for i in range(9000000)]\n",
    "a=10\n",
    "porcentaje100=(a/len(lista1))*100\n",
    "for i in range(len(lista1)):\n",
    "    it=(i/len(lista1))*100\n",
    "    if it==a:\n",
    "        print(\"Se ha completado: \",it,\"%\")\n",
    "        a+=10\n",
    "print(100,\"%\",\"Completado\")"
   ]
  },
  {
   "cell_type": "code",
   "execution_count": null,
   "metadata": {},
   "outputs": [],
   "source": []
  },
  {
   "cell_type": "code",
   "execution_count": null,
   "metadata": {},
   "outputs": [],
   "source": []
  },
  {
   "cell_type": "code",
   "execution_count": null,
   "metadata": {},
   "outputs": [],
   "source": []
  },
  {
   "cell_type": "code",
   "execution_count": null,
   "metadata": {},
   "outputs": [],
   "source": []
  },
  {
   "cell_type": "code",
   "execution_count": null,
   "metadata": {},
   "outputs": [],
   "source": []
  },
  {
   "cell_type": "code",
   "execution_count": null,
   "metadata": {},
   "outputs": [],
   "source": []
  },
  {
   "cell_type": "code",
   "execution_count": null,
   "metadata": {},
   "outputs": [],
   "source": []
  },
  {
   "cell_type": "code",
   "execution_count": null,
   "metadata": {},
   "outputs": [],
   "source": []
  },
  {
   "cell_type": "code",
   "execution_count": null,
   "metadata": {},
   "outputs": [],
   "source": []
  },
  {
   "cell_type": "code",
   "execution_count": null,
   "metadata": {},
   "outputs": [],
   "source": []
  },
  {
   "cell_type": "code",
   "execution_count": null,
   "metadata": {},
   "outputs": [],
   "source": []
  },
  {
   "cell_type": "code",
   "execution_count": null,
   "metadata": {},
   "outputs": [],
   "source": []
  },
  {
   "cell_type": "code",
   "execution_count": null,
   "metadata": {},
   "outputs": [],
   "source": []
  },
  {
   "cell_type": "code",
   "execution_count": null,
   "metadata": {},
   "outputs": [],
   "source": []
  },
  {
   "cell_type": "code",
   "execution_count": null,
   "metadata": {},
   "outputs": [],
   "source": []
  },
  {
   "cell_type": "code",
   "execution_count": null,
   "metadata": {},
   "outputs": [],
   "source": []
  }
 ],
 "metadata": {
  "kernelspec": {
   "display_name": "Python 3",
   "language": "python",
   "name": "python3"
  },
  "language_info": {
   "codemirror_mode": {
    "name": "ipython",
    "version": 3
   },
   "file_extension": ".py",
   "mimetype": "text/x-python",
   "name": "python",
   "nbconvert_exporter": "python",
   "pygments_lexer": "ipython3",
   "version": "3.7.4"
  }
 },
 "nbformat": 4,
 "nbformat_minor": 2
}
